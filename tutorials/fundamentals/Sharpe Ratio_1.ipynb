{
 "cells": [
  {
   "cell_type": "markdown",
   "id": "25413c13",
   "metadata": {
    "toc": true
   },
   "source": [
    "<h1>Table of Contents<span class=\"tocSkip\"></span></h1>\n",
    "<div class=\"toc\"><ul class=\"toc-item\"><li><span><a href=\"#Introduction\" data-toc-modified-id=\"Introduction-1\"><span class=\"toc-item-num\">1&nbsp;&nbsp;</span>Introduction</a></span></li><li><span><a href=\"#Definition\" data-toc-modified-id=\"Definition-2\"><span class=\"toc-item-num\">2&nbsp;&nbsp;</span>Definition</a></span></li><li><span><a href=\"#Imports\" data-toc-modified-id=\"Imports-3\"><span class=\"toc-item-num\">3&nbsp;&nbsp;</span>Imports</a></span></li><li><span><a href=\"#Import-data\" data-toc-modified-id=\"Import-data-4\"><span class=\"toc-item-num\">4&nbsp;&nbsp;</span>Import data</a></span></li><li><span><a href=\"#Defining-a-portfoilio\" data-toc-modified-id=\"Defining-a-portfoilio-5\"><span class=\"toc-item-num\">5&nbsp;&nbsp;</span>Defining a portfoilio</a></span></li><li><span><a href=\"#Capturing-trade-off-in-a-single-number\" data-toc-modified-id=\"Capturing-trade-off-in-a-single-number-6\"><span class=\"toc-item-num\">6&nbsp;&nbsp;</span>Capturing trade-off in a single number</a></span></li><li><span><a href=\"#Sharpe-Ratio\" data-toc-modified-id=\"Sharpe-Ratio-7\"><span class=\"toc-item-num\">7&nbsp;&nbsp;</span>Sharpe Ratio</a></span></li><li><span><a href=\"#References\" data-toc-modified-id=\"References-8\"><span class=\"toc-item-num\">8&nbsp;&nbsp;</span>References</a></span></li></ul></div>"
   ]
  },
  {
   "cell_type": "markdown",
   "id": "847648a3",
   "metadata": {},
   "source": [
    "# Introduction\n",
    "<hr style = \"border:2px solid black\" ></hr>"
   ]
  },
  {
   "cell_type": "markdown",
   "id": "2b9b9cb4",
   "metadata": {},
   "source": [
    "<div class=\"alert alert-warning\">\n",
    "<font color=black>\n",
    "\n",
    "**What?** Sharpe Ratio\n",
    "\n",
    "</font>\n",
    "</div>"
   ]
  },
  {
   "cell_type": "markdown",
   "id": "dcc4eb4a",
   "metadata": {},
   "source": [
    "# Definition\n",
    "<hr style = \"border:2px solid black\" ></hr>"
   ]
  },
  {
   "cell_type": "markdown",
   "id": "58953546",
   "metadata": {},
   "source": [
    "<div class=\"alert alert-info\">\n",
    "<font color=black>\n",
    "\n",
    "- Represents both the risk and return\n",
    "- Developed by Nobel laureate William F. Sharpe and is used to help investors understand the return of an investment compared to its ris\n",
    "- Goal is to get high $SR$. \n",
    "\n",
    "$SR = \\frac{R_p - R_f}{\\sigma_p}$\n",
    "\n",
    "\n",
    "- $SR$: Sharpe ratio\n",
    "- $R_p$: return of portfolio\n",
    "- $R_f$: risk free return\n",
    "- $\\sigma_p$: standard deviation of portfolio\n",
    "\n",
    "</font>\n",
    "</div>"
   ]
  },
  {
   "cell_type": "markdown",
   "id": "712c1ac2",
   "metadata": {},
   "source": [
    "# Imports\n",
    "<hr style = \"border:2px solid black\" ></hr>"
   ]
  },
  {
   "cell_type": "code",
   "execution_count": 1,
   "id": "9676a771",
   "metadata": {
    "ExecuteTime": {
     "end_time": "2022-08-30T06:54:31.252363Z",
     "start_time": "2022-08-30T06:54:30.307493Z"
    }
   },
   "outputs": [],
   "source": [
    "import numpy as np\n",
    "import pandas_datareader as pdr\n",
    "import datetime as dt\n",
    "import pandas as pd\n",
    "import matplotlib.pyplot as plt"
   ]
  },
  {
   "cell_type": "markdown",
   "id": "10e5656d",
   "metadata": {},
   "source": [
    "# Import data\n",
    "<hr style = \"border:2px solid black\" ></hr>"
   ]
  },
  {
   "cell_type": "markdown",
   "id": "847037df",
   "metadata": {},
   "source": [
    "<div class=\"alert alert-info\">\n",
    "<font color=black>\n",
    "\n",
    "- Where our portfolio will consist of the tickers for Apple, Microsoft, Twitter and IBM (AAPL, MSFT, TWTR, IBM). We read the data from start 2020 from the Yahoo! Finance API using Pandas Datareader.\n",
    "\n",
    "- Finally, we only keep the Adjusted Close price.\n",
    "\n",
    "</font>\n",
    "</div>"
   ]
  },
  {
   "cell_type": "code",
   "execution_count": 2,
   "id": "ec9d19c5",
   "metadata": {
    "ExecuteTime": {
     "end_time": "2022-08-30T06:54:33.804994Z",
     "start_time": "2022-08-30T06:54:31.254061Z"
    }
   },
   "outputs": [],
   "source": [
    "tickers = ['AAPL', 'MSFT', 'TWTR', 'IBM']\n",
    "start = dt.datetime(2020, 1, 1)\n",
    "\n",
    "data = pdr.get_data_yahoo(tickers, start)\n"
   ]
  },
  {
   "cell_type": "code",
   "execution_count": 3,
   "id": "d61cd93f",
   "metadata": {
    "ExecuteTime": {
     "end_time": "2022-08-30T06:54:33.835958Z",
     "start_time": "2022-08-30T06:54:33.808056Z"
    }
   },
   "outputs": [
    {
     "data": {
      "text/html": [
       "<div>\n",
       "<style scoped>\n",
       "    .dataframe tbody tr th:only-of-type {\n",
       "        vertical-align: middle;\n",
       "    }\n",
       "\n",
       "    .dataframe tbody tr th {\n",
       "        vertical-align: top;\n",
       "    }\n",
       "\n",
       "    .dataframe thead tr th {\n",
       "        text-align: left;\n",
       "    }\n",
       "\n",
       "    .dataframe thead tr:last-of-type th {\n",
       "        text-align: right;\n",
       "    }\n",
       "</style>\n",
       "<table border=\"1\" class=\"dataframe\">\n",
       "  <thead>\n",
       "    <tr>\n",
       "      <th>Attributes</th>\n",
       "      <th colspan=\"4\" halign=\"left\">Adj Close</th>\n",
       "      <th colspan=\"4\" halign=\"left\">Close</th>\n",
       "      <th colspan=\"2\" halign=\"left\">High</th>\n",
       "      <th>...</th>\n",
       "      <th colspan=\"2\" halign=\"left\">Low</th>\n",
       "      <th colspan=\"4\" halign=\"left\">Open</th>\n",
       "      <th colspan=\"4\" halign=\"left\">Volume</th>\n",
       "    </tr>\n",
       "    <tr>\n",
       "      <th>Symbols</th>\n",
       "      <th>AAPL</th>\n",
       "      <th>MSFT</th>\n",
       "      <th>TWTR</th>\n",
       "      <th>IBM</th>\n",
       "      <th>AAPL</th>\n",
       "      <th>MSFT</th>\n",
       "      <th>TWTR</th>\n",
       "      <th>IBM</th>\n",
       "      <th>AAPL</th>\n",
       "      <th>MSFT</th>\n",
       "      <th>...</th>\n",
       "      <th>TWTR</th>\n",
       "      <th>IBM</th>\n",
       "      <th>AAPL</th>\n",
       "      <th>MSFT</th>\n",
       "      <th>TWTR</th>\n",
       "      <th>IBM</th>\n",
       "      <th>AAPL</th>\n",
       "      <th>MSFT</th>\n",
       "      <th>TWTR</th>\n",
       "      <th>IBM</th>\n",
       "    </tr>\n",
       "    <tr>\n",
       "      <th>Date</th>\n",
       "      <th></th>\n",
       "      <th></th>\n",
       "      <th></th>\n",
       "      <th></th>\n",
       "      <th></th>\n",
       "      <th></th>\n",
       "      <th></th>\n",
       "      <th></th>\n",
       "      <th></th>\n",
       "      <th></th>\n",
       "      <th></th>\n",
       "      <th></th>\n",
       "      <th></th>\n",
       "      <th></th>\n",
       "      <th></th>\n",
       "      <th></th>\n",
       "      <th></th>\n",
       "      <th></th>\n",
       "      <th></th>\n",
       "      <th></th>\n",
       "      <th></th>\n",
       "    </tr>\n",
       "  </thead>\n",
       "  <tbody>\n",
       "    <tr>\n",
       "      <th>2020-01-02</th>\n",
       "      <td>73.683571</td>\n",
       "      <td>156.592010</td>\n",
       "      <td>32.299999</td>\n",
       "      <td>112.916931</td>\n",
       "      <td>75.087502</td>\n",
       "      <td>160.619995</td>\n",
       "      <td>32.299999</td>\n",
       "      <td>129.464630</td>\n",
       "      <td>75.150002</td>\n",
       "      <td>160.729996</td>\n",
       "      <td>...</td>\n",
       "      <td>31.959999</td>\n",
       "      <td>128.843216</td>\n",
       "      <td>74.059998</td>\n",
       "      <td>158.779999</td>\n",
       "      <td>32.310001</td>\n",
       "      <td>129.063095</td>\n",
       "      <td>135480400.0</td>\n",
       "      <td>22622100.0</td>\n",
       "      <td>10721100.0</td>\n",
       "      <td>3293436.0</td>\n",
       "    </tr>\n",
       "    <tr>\n",
       "      <th>2020-01-03</th>\n",
       "      <td>72.967216</td>\n",
       "      <td>154.642166</td>\n",
       "      <td>31.520000</td>\n",
       "      <td>112.016403</td>\n",
       "      <td>74.357498</td>\n",
       "      <td>158.619995</td>\n",
       "      <td>31.520000</td>\n",
       "      <td>128.432129</td>\n",
       "      <td>75.144997</td>\n",
       "      <td>159.949997</td>\n",
       "      <td>...</td>\n",
       "      <td>31.260000</td>\n",
       "      <td>127.686424</td>\n",
       "      <td>74.287498</td>\n",
       "      <td>158.320007</td>\n",
       "      <td>31.709999</td>\n",
       "      <td>127.695984</td>\n",
       "      <td>146322800.0</td>\n",
       "      <td>21116200.0</td>\n",
       "      <td>14429500.0</td>\n",
       "      <td>2482890.0</td>\n",
       "    </tr>\n",
       "    <tr>\n",
       "      <th>2020-01-06</th>\n",
       "      <td>73.548630</td>\n",
       "      <td>155.041855</td>\n",
       "      <td>31.639999</td>\n",
       "      <td>111.816292</td>\n",
       "      <td>74.949997</td>\n",
       "      <td>159.029999</td>\n",
       "      <td>31.639999</td>\n",
       "      <td>128.202682</td>\n",
       "      <td>74.989998</td>\n",
       "      <td>159.100006</td>\n",
       "      <td>...</td>\n",
       "      <td>31.160000</td>\n",
       "      <td>127.342255</td>\n",
       "      <td>73.447502</td>\n",
       "      <td>157.080002</td>\n",
       "      <td>31.230000</td>\n",
       "      <td>127.552582</td>\n",
       "      <td>118387200.0</td>\n",
       "      <td>20813700.0</td>\n",
       "      <td>12582500.0</td>\n",
       "      <td>2537073.0</td>\n",
       "    </tr>\n",
       "    <tr>\n",
       "      <th>2020-01-07</th>\n",
       "      <td>73.202736</td>\n",
       "      <td>153.628235</td>\n",
       "      <td>32.540001</td>\n",
       "      <td>111.891319</td>\n",
       "      <td>74.597504</td>\n",
       "      <td>157.580002</td>\n",
       "      <td>32.540001</td>\n",
       "      <td>128.288712</td>\n",
       "      <td>75.224998</td>\n",
       "      <td>159.669998</td>\n",
       "      <td>...</td>\n",
       "      <td>31.719999</td>\n",
       "      <td>127.533463</td>\n",
       "      <td>74.959999</td>\n",
       "      <td>159.320007</td>\n",
       "      <td>31.799999</td>\n",
       "      <td>127.810707</td>\n",
       "      <td>108872000.0</td>\n",
       "      <td>21634100.0</td>\n",
       "      <td>13712900.0</td>\n",
       "      <td>3232977.0</td>\n",
       "    </tr>\n",
       "    <tr>\n",
       "      <th>2020-01-08</th>\n",
       "      <td>74.380287</td>\n",
       "      <td>156.075287</td>\n",
       "      <td>33.049999</td>\n",
       "      <td>112.825211</td>\n",
       "      <td>75.797501</td>\n",
       "      <td>160.089996</td>\n",
       "      <td>33.049999</td>\n",
       "      <td>129.359467</td>\n",
       "      <td>76.110001</td>\n",
       "      <td>160.800003</td>\n",
       "      <td>...</td>\n",
       "      <td>32.349998</td>\n",
       "      <td>128.030594</td>\n",
       "      <td>74.290001</td>\n",
       "      <td>158.929993</td>\n",
       "      <td>32.349998</td>\n",
       "      <td>128.594650</td>\n",
       "      <td>132079200.0</td>\n",
       "      <td>27746500.0</td>\n",
       "      <td>14632400.0</td>\n",
       "      <td>4545916.0</td>\n",
       "    </tr>\n",
       "  </tbody>\n",
       "</table>\n",
       "<p>5 rows × 24 columns</p>\n",
       "</div>"
      ],
      "text/plain": [
       "Attributes  Adj Close                                         Close  \\\n",
       "Symbols          AAPL        MSFT       TWTR         IBM       AAPL   \n",
       "Date                                                                  \n",
       "2020-01-02  73.683571  156.592010  32.299999  112.916931  75.087502   \n",
       "2020-01-03  72.967216  154.642166  31.520000  112.016403  74.357498   \n",
       "2020-01-06  73.548630  155.041855  31.639999  111.816292  74.949997   \n",
       "2020-01-07  73.202736  153.628235  32.540001  111.891319  74.597504   \n",
       "2020-01-08  74.380287  156.075287  33.049999  112.825211  75.797501   \n",
       "\n",
       "Attributes                                          High              ...  \\\n",
       "Symbols           MSFT       TWTR         IBM       AAPL        MSFT  ...   \n",
       "Date                                                                  ...   \n",
       "2020-01-02  160.619995  32.299999  129.464630  75.150002  160.729996  ...   \n",
       "2020-01-03  158.619995  31.520000  128.432129  75.144997  159.949997  ...   \n",
       "2020-01-06  159.029999  31.639999  128.202682  74.989998  159.100006  ...   \n",
       "2020-01-07  157.580002  32.540001  128.288712  75.224998  159.669998  ...   \n",
       "2020-01-08  160.089996  33.049999  129.359467  76.110001  160.800003  ...   \n",
       "\n",
       "Attributes        Low                   Open                         \\\n",
       "Symbols          TWTR         IBM       AAPL        MSFT       TWTR   \n",
       "Date                                                                  \n",
       "2020-01-02  31.959999  128.843216  74.059998  158.779999  32.310001   \n",
       "2020-01-03  31.260000  127.686424  74.287498  158.320007  31.709999   \n",
       "2020-01-06  31.160000  127.342255  73.447502  157.080002  31.230000   \n",
       "2020-01-07  31.719999  127.533463  74.959999  159.320007  31.799999   \n",
       "2020-01-08  32.349998  128.030594  74.290001  158.929993  32.349998   \n",
       "\n",
       "Attributes                   Volume                                     \n",
       "Symbols            IBM         AAPL        MSFT        TWTR        IBM  \n",
       "Date                                                                    \n",
       "2020-01-02  129.063095  135480400.0  22622100.0  10721100.0  3293436.0  \n",
       "2020-01-03  127.695984  146322800.0  21116200.0  14429500.0  2482890.0  \n",
       "2020-01-06  127.552582  118387200.0  20813700.0  12582500.0  2537073.0  \n",
       "2020-01-07  127.810707  108872000.0  21634100.0  13712900.0  3232977.0  \n",
       "2020-01-08  128.594650  132079200.0  27746500.0  14632400.0  4545916.0  \n",
       "\n",
       "[5 rows x 24 columns]"
      ]
     },
     "execution_count": 3,
     "metadata": {},
     "output_type": "execute_result"
    }
   ],
   "source": [
    "data.head()"
   ]
  },
  {
   "cell_type": "code",
   "execution_count": 4,
   "id": "a09bcc91",
   "metadata": {
    "ExecuteTime": {
     "end_time": "2022-08-30T06:54:33.840993Z",
     "start_time": "2022-08-30T06:54:33.837668Z"
    }
   },
   "outputs": [],
   "source": [
    "data = data['Adj Close']"
   ]
  },
  {
   "cell_type": "code",
   "execution_count": 5,
   "id": "68374006",
   "metadata": {
    "ExecuteTime": {
     "end_time": "2022-08-30T06:54:33.852766Z",
     "start_time": "2022-08-30T06:54:33.843079Z"
    }
   },
   "outputs": [
    {
     "data": {
      "text/html": [
       "<div>\n",
       "<style scoped>\n",
       "    .dataframe tbody tr th:only-of-type {\n",
       "        vertical-align: middle;\n",
       "    }\n",
       "\n",
       "    .dataframe tbody tr th {\n",
       "        vertical-align: top;\n",
       "    }\n",
       "\n",
       "    .dataframe thead th {\n",
       "        text-align: right;\n",
       "    }\n",
       "</style>\n",
       "<table border=\"1\" class=\"dataframe\">\n",
       "  <thead>\n",
       "    <tr style=\"text-align: right;\">\n",
       "      <th>Symbols</th>\n",
       "      <th>AAPL</th>\n",
       "      <th>MSFT</th>\n",
       "      <th>TWTR</th>\n",
       "      <th>IBM</th>\n",
       "    </tr>\n",
       "    <tr>\n",
       "      <th>Date</th>\n",
       "      <th></th>\n",
       "      <th></th>\n",
       "      <th></th>\n",
       "      <th></th>\n",
       "    </tr>\n",
       "  </thead>\n",
       "  <tbody>\n",
       "    <tr>\n",
       "      <th>2020-01-02</th>\n",
       "      <td>73.683571</td>\n",
       "      <td>156.592010</td>\n",
       "      <td>32.299999</td>\n",
       "      <td>112.916931</td>\n",
       "    </tr>\n",
       "    <tr>\n",
       "      <th>2020-01-03</th>\n",
       "      <td>72.967216</td>\n",
       "      <td>154.642166</td>\n",
       "      <td>31.520000</td>\n",
       "      <td>112.016403</td>\n",
       "    </tr>\n",
       "    <tr>\n",
       "      <th>2020-01-06</th>\n",
       "      <td>73.548630</td>\n",
       "      <td>155.041855</td>\n",
       "      <td>31.639999</td>\n",
       "      <td>111.816292</td>\n",
       "    </tr>\n",
       "    <tr>\n",
       "      <th>2020-01-07</th>\n",
       "      <td>73.202736</td>\n",
       "      <td>153.628235</td>\n",
       "      <td>32.540001</td>\n",
       "      <td>111.891319</td>\n",
       "    </tr>\n",
       "    <tr>\n",
       "      <th>2020-01-08</th>\n",
       "      <td>74.380287</td>\n",
       "      <td>156.075287</td>\n",
       "      <td>33.049999</td>\n",
       "      <td>112.825211</td>\n",
       "    </tr>\n",
       "    <tr>\n",
       "      <th>...</th>\n",
       "      <td>...</td>\n",
       "      <td>...</td>\n",
       "      <td>...</td>\n",
       "      <td>...</td>\n",
       "    </tr>\n",
       "    <tr>\n",
       "      <th>2022-08-23</th>\n",
       "      <td>167.229996</td>\n",
       "      <td>276.440002</td>\n",
       "      <td>39.860001</td>\n",
       "      <td>134.740005</td>\n",
       "    </tr>\n",
       "    <tr>\n",
       "      <th>2022-08-24</th>\n",
       "      <td>167.529999</td>\n",
       "      <td>275.790009</td>\n",
       "      <td>40.790001</td>\n",
       "      <td>133.229996</td>\n",
       "    </tr>\n",
       "    <tr>\n",
       "      <th>2022-08-25</th>\n",
       "      <td>170.029999</td>\n",
       "      <td>278.850006</td>\n",
       "      <td>41.049999</td>\n",
       "      <td>133.979996</td>\n",
       "    </tr>\n",
       "    <tr>\n",
       "      <th>2022-08-26</th>\n",
       "      <td>163.619995</td>\n",
       "      <td>268.089996</td>\n",
       "      <td>40.459999</td>\n",
       "      <td>130.380005</td>\n",
       "    </tr>\n",
       "    <tr>\n",
       "      <th>2022-08-29</th>\n",
       "      <td>161.380005</td>\n",
       "      <td>265.230011</td>\n",
       "      <td>40.040001</td>\n",
       "      <td>130.309998</td>\n",
       "    </tr>\n",
       "  </tbody>\n",
       "</table>\n",
       "<p>670 rows × 4 columns</p>\n",
       "</div>"
      ],
      "text/plain": [
       "Symbols           AAPL        MSFT       TWTR         IBM\n",
       "Date                                                     \n",
       "2020-01-02   73.683571  156.592010  32.299999  112.916931\n",
       "2020-01-03   72.967216  154.642166  31.520000  112.016403\n",
       "2020-01-06   73.548630  155.041855  31.639999  111.816292\n",
       "2020-01-07   73.202736  153.628235  32.540001  111.891319\n",
       "2020-01-08   74.380287  156.075287  33.049999  112.825211\n",
       "...                ...         ...        ...         ...\n",
       "2022-08-23  167.229996  276.440002  39.860001  134.740005\n",
       "2022-08-24  167.529999  275.790009  40.790001  133.229996\n",
       "2022-08-25  170.029999  278.850006  41.049999  133.979996\n",
       "2022-08-26  163.619995  268.089996  40.459999  130.380005\n",
       "2022-08-29  161.380005  265.230011  40.040001  130.309998\n",
       "\n",
       "[670 rows x 4 columns]"
      ]
     },
     "execution_count": 5,
     "metadata": {},
     "output_type": "execute_result"
    }
   ],
   "source": [
    "data"
   ]
  },
  {
   "cell_type": "markdown",
   "id": "fd388c50",
   "metadata": {},
   "source": [
    "#  Defining a portfoilio\n",
    "<hr style = \"border:2px solid black\" ></hr>"
   ]
  },
  {
   "cell_type": "markdown",
   "id": "e85c8fc6",
   "metadata": {},
   "source": [
    "<div class=\"alert alert-info\">\n",
    "<font color=black>\n",
    "\n",
    "- Let’s assume our portfolio is balanced as follows, 25%, 15%, 40%, and 20% to AAPL, MSFT, TWTR, IBM, respectively.\n",
    "\n",
    "- Then we can calculate the daily log return of the portfolio.\n",
    "    \n",
    "- This gives an impression of how volatile the portfolio is. The more data is centered around 0.0, the less volatile and risky.\n",
    "    \n",
    "</font>\n",
    "</div>"
   ]
  },
  {
   "cell_type": "code",
   "execution_count": 6,
   "id": "0bfc4f70",
   "metadata": {
    "ExecuteTime": {
     "end_time": "2022-08-30T06:54:33.859093Z",
     "start_time": "2022-08-30T06:54:33.854471Z"
    }
   },
   "outputs": [],
   "source": [
    "portfolio = [.25, .15, .40, .20]\n",
    "log_return = np.sum(np.log(data/data.shift())*portfolio, axis=1)"
   ]
  },
  {
   "cell_type": "code",
   "execution_count": 7,
   "id": "a15f0f50",
   "metadata": {
    "ExecuteTime": {
     "end_time": "2022-08-30T06:54:33.866279Z",
     "start_time": "2022-08-30T06:54:33.861465Z"
    }
   },
   "outputs": [
    {
     "data": {
      "text/plain": [
       "Date\n",
       "2020-01-02    0.000000\n",
       "2020-01-03   -0.015701\n",
       "2020-01-06    0.003534\n",
       "2020-01-07    0.008801\n",
       "2020-01-08    0.014243\n",
       "                ...   \n",
       "2022-08-23   -0.032839\n",
       "2022-08-24    0.007066\n",
       "2022-08-25    0.009023\n",
       "2022-08-26   -0.026748\n",
       "2022-08-29   -0.009336\n",
       "Length: 670, dtype: float64"
      ]
     },
     "execution_count": 7,
     "metadata": {},
     "output_type": "execute_result"
    }
   ],
   "source": [
    "log_return"
   ]
  },
  {
   "cell_type": "code",
   "execution_count": 9,
   "id": "4d71e3d3",
   "metadata": {
    "ExecuteTime": {
     "end_time": "2022-08-30T06:54:39.707825Z",
     "start_time": "2022-08-30T06:54:39.559339Z"
    }
   },
   "outputs": [
    {
     "data": {
      "image/png": "[encoded data removed]",
      "text/plain": [
       "<Figure size 432x288 with 1 Axes>"
      ]
     },
     "metadata": {
      "needs_background": "light"
     },
     "output_type": "display_data"
    }
   ],
   "source": [
    "fig, ax = plt.subplots()\n",
    "log_return.hist(bins=50, ax=ax);"
   ]
  },
  {
   "cell_type": "markdown",
   "id": "030d238c",
   "metadata": {},
   "source": [
    "# Capturing trade-off in a single number\n",
    "<hr style = \"border:2px solid black\" ></hr>"
   ]
  },
  {
   "cell_type": "markdown",
   "id": "1fe24317",
   "metadata": {},
   "source": [
    "<div class=\"alert alert-info\">\n",
    "<font color=black>\n",
    "\n",
    "- The return and risk objectives imply a trade-off: taking more risk may yield higher returns in some circumstances, but also implies greater downside. \n",
    "\n",
    "- To compare how different strategies navigate this trade-off, ratios that compute a measure of return per unit of risk are very popular. \n",
    "\n",
    "- Two of the most popular are: \n",
    "    - Sharpe ratio (SR)\n",
    "    - Information ratio (IR)\n",
    "\n",
    "</font>\n",
    "</div>"
   ]
  },
  {
   "cell_type": "markdown",
   "id": "0a0d3f9d",
   "metadata": {},
   "source": [
    "# Sharpe Ratio\n",
    "<hr style = \"border:2px solid black\" ></hr>"
   ]
  },
  {
   "cell_type": "markdown",
   "id": "c192dc91",
   "metadata": {},
   "source": [
    "<div class=\"alert alert-info\">\n",
    "<font color=black>\n",
    "\n",
    "- This gives a daily Sharpe Ratio, where we have the return to be the mean value. That is, the average return of the investment. And divided by the standard deviation.\n",
    "\n",
    "- The greater is the standard deviation the greater the magnitude of the deviation from the mean value can be expected.\n",
    "\n",
    "</font>\n",
    "</div>"
   ]
  },
  {
   "cell_type": "code",
   "execution_count": 12,
   "id": "272b6eab",
   "metadata": {
    "ExecuteTime": {
     "end_time": "2022-08-30T06:55:54.308958Z",
     "start_time": "2022-08-30T06:55:54.304891Z"
    }
   },
   "outputs": [
    {
     "data": {
      "text/plain": [
       "0.02698159347400582"
      ]
     },
     "execution_count": 12,
     "metadata": {},
     "output_type": "execute_result"
    }
   ],
   "source": [
    "sharpe_ratio = log_return.mean()/log_return.std()\n",
    "sharpe_ratio"
   ]
  },
  {
   "cell_type": "code",
   "execution_count": 13,
   "id": "9b1e151c",
   "metadata": {
    "ExecuteTime": {
     "end_time": "2022-08-30T06:56:22.432610Z",
     "start_time": "2022-08-30T06:56:22.429093Z"
    }
   },
   "outputs": [
    {
     "data": {
      "text/plain": [
       "0.4283195178507762"
      ]
     },
     "execution_count": 13,
     "metadata": {},
     "output_type": "execute_result"
    }
   ],
   "source": [
    "# To get an annualized Sharpe Ratio\n",
    "sharpe_ratio_annual = sharpe_ratio*252**.5\n",
    "sharpe_ratio_annual"
   ]
  },
  {
   "cell_type": "code",
   "execution_count": 1,
   "id": "3058598f",
   "metadata": {
    "ExecuteTime": {
     "end_time": "2022-08-31T06:43:29.804519Z",
     "start_time": "2022-08-31T06:43:29.795108Z"
    }
   },
   "outputs": [
    {
     "data": {
      "text/plain": [
       "15.874507866387544"
      ]
     },
     "execution_count": 1,
     "metadata": {},
     "output_type": "execute_result"
    }
   ],
   "source": [
    "252**.5"
   ]
  },
  {
   "cell_type": "markdown",
   "id": "2992d076",
   "metadata": {},
   "source": [
    "# References\n",
    "<hr style = \"border:2px solid black\" ></hr>"
   ]
  },
  {
   "cell_type": "markdown",
   "id": "69a6ae24",
   "metadata": {},
   "source": [
    "<div class=\"alert alert-warning\">\n",
    "<font color=black>\n",
    "\n",
    "- [GitHub code](https://github.com/LearnPythonWithRune/PythonForFinanceRiskAndReturn/blob/main/03%20-%20Sharpe%20Ratio.ipynb)\n",
    "- https://www.learnpythonwithrune.org/python-for-finance-risk-and-return/#lesson-3\n",
    "- https://www.investopedia.com/terms/s/sharperatio.asp\n",
    "- Jansen, Stefan. Hands-On Machine Learning for Algorithmic Trading: Design and implement investment strategies based on smart algorithms that learn from data using Python. Packt Publishing Ltd, 2018.\n",
    "\n",
    "</font>\n",
    "</div>"
   ]
  },
  {
   "cell_type": "code",
   "execution_count": null,
   "id": "20e80d8b",
   "metadata": {},
   "outputs": [],
   "source": []
  }
 ],
 "metadata": {
  "kernelspec": {
   "display_name": "trainingAI",
   "language": "python",
   "name": "trainingai"
  },
  "language_info": {
   "codemirror_mode": {
    "name": "ipython",
    "version": 3
   },
   "file_extension": ".py",
   "mimetype": "text/x-python",
   "name": "python",
   "nbconvert_exporter": "python",
   "pygments_lexer": "ipython3",
   "version": "3.9.7"
  },
  "toc": {
   "base_numbering": 1,
   "nav_menu": {},
   "number_sections": true,
   "sideBar": true,
   "skip_h1_title": false,
   "title_cell": "Table of Contents",
   "title_sidebar": "Contents",
   "toc_cell": true,
   "toc_position": {},
   "toc_section_display": true,
   "toc_window_display": true
  },
  "varInspector": {
   "cols": {
    "lenName": 16,
    "lenType": 16,
    "lenVar": 40
   },
   "kernels_config": {
    "python": {
     "delete_cmd_postfix": "",
     "delete_cmd_prefix": "del ",
     "library": "var_list.py",
     "varRefreshCmd": "print(var_dic_list())"
    },
    "r": {
     "delete_cmd_postfix": ") ",
     "delete_cmd_prefix": "rm(",
     "library": "var_list.r",
     "varRefreshCmd": "cat(var_dic_list()) "
    }
   },
   "types_to_exclude": [
    "module",
    "function",
    "builtin_function_or_method",
    "instance",
    "_Feature"
   ],
   "window_display": false
  }
 },
 "nbformat": 4,
 "nbformat_minor": 5
}
