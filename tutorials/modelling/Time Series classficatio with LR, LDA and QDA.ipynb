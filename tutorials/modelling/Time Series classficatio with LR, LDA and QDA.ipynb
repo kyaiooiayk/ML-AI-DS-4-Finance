{
 "cells": [
  {
   "cell_type": "markdown",
   "id": "2a4fcd63",
   "metadata": {
    "toc": true
   },
   "source": [
    "<h1>Table of Contents<span class=\"tocSkip\"></span></h1>\n",
    "<div class=\"toc\"><ul class=\"toc-item\"><li><span><a href=\"#Introduction\" data-toc-modified-id=\"Introduction-1\"><span class=\"toc-item-num\">1&nbsp;&nbsp;</span>Introduction</a></span></li><li><span><a href=\"#Imports\" data-toc-modified-id=\"Imports-2\"><span class=\"toc-item-num\">2&nbsp;&nbsp;</span>Imports</a></span></li><li><span><a href=\"#Project-goal\" data-toc-modified-id=\"Project-goal-3\"><span class=\"toc-item-num\">3&nbsp;&nbsp;</span>Project goal</a></span></li></ul></div>"
   ]
  },
  {
   "cell_type": "markdown",
   "id": "e9f9ecc1",
   "metadata": {},
   "source": [
    "# Introduction\n",
    "<hr style = \"border:2px solid black\" ></hr>"
   ]
  },
  {
   "cell_type": "markdown",
   "id": "551cb2ed",
   "metadata": {},
   "source": [
    "<div class=\"alert alert-warning\">\n",
    "<font color=black>\n",
    "\n",
    "**What?** Time Series classficatio with LR, LDA and QDA\n",
    "\n",
    "</font>\n",
    "</div>"
   ]
  },
  {
   "cell_type": "markdown",
   "id": "4e64ea39",
   "metadata": {},
   "source": [
    "# Imports\n",
    "<hr style = \"border:2px solid black\" ></hr>"
   ]
  },
  {
   "cell_type": "code",
   "execution_count": 29,
   "id": "c3c02e01",
   "metadata": {
    "ExecuteTime": {
     "end_time": "2022-09-17T09:25:19.922238Z",
     "start_time": "2022-09-17T09:25:19.919023Z"
    }
   },
   "outputs": [],
   "source": [
    "import datetime\n",
    "import numpy as np\n",
    "import pandas as pd\n",
    "import sklearn\n",
    "\n",
    "#from pandas.io.data import DataReader\n",
    "#from pandas_datareader import data as DataReader\n",
    "import pandas_datareader.data as web\n",
    "from sklearn.linear_model import LogisticRegression\n",
    "#from sklearn.lda import LDA\n",
    "#from sklearn.qda import QDA\n",
    "\n",
    "from sklearn.discriminant_analysis import LinearDiscriminantAnalysis as LDA\n",
    "from sklearn.discriminant_analysis import QuadraticDiscriminantAnalysis as QDA"
   ]
  },
  {
   "cell_type": "code",
   "execution_count": 30,
   "id": "2ba98918",
   "metadata": {
    "ExecuteTime": {
     "end_time": "2022-09-17T09:25:20.111726Z",
     "start_time": "2022-09-17T09:25:20.109182Z"
    }
   },
   "outputs": [],
   "source": [
    "# Getting rid of the warning messages\n",
    "import warnings\n",
    "warnings.filterwarnings(\"ignore\")"
   ]
  },
  {
   "cell_type": "markdown",
   "id": "95cc3c5f",
   "metadata": {},
   "source": [
    "# Project goal\n",
    "<hr style = \"border:2px solid black\" ></hr>"
   ]
  },
  {
   "cell_type": "markdown",
   "id": "568cf7e1",
   "metadata": {},
   "source": [
    "<div class=\"alert alert-info\">\n",
    "<font color=black>\n",
    "\n",
    "- Build a classifiers to predict the direction of the closing price at day based solely on price information known at day . An upward directional move means that the closing price at is higher than the price at opening, while a downward move implies a closing price at lower than at opening.\n",
    "\n",
    "- If we can determine the direction of movement in a manner that significantly exceeds a 50% hit rate, with low error and a good statistical significance, then we are on the road to forming a basic systematic trading strategy based on our forecasts. \n",
    "\n",
    "- At this stage we're not concerned with the most up to date machine learning classification algorithms.\n",
    "\n",
    "</font>\n",
    "</div>"
   ]
  },
  {
   "cell_type": "code",
   "execution_count": 31,
   "id": "f973db7e",
   "metadata": {
    "ExecuteTime": {
     "end_time": "2022-09-17T09:25:20.257616Z",
     "start_time": "2022-09-17T09:25:20.251435Z"
    }
   },
   "outputs": [],
   "source": [
    "def create_lagged_series(symbol, start_date, end_date, lags=5):\n",
    "    \"\"\"This creates a pandas DataFrame that stores the percentage returns of the \n",
    "    adjusted closing value of a stock obtained from Yahoo Finance, along with \n",
    "    a number of lagged returns from the prior trading days (lags defaults to 5 days).\n",
    "    Trading volume, as well as the Direction from the previous day, are also included.\"\"\"\n",
    "\n",
    "    # Obtain stock information from Yahoo Finance\n",
    "    ts = web.DataReader(symbol, \"yahoo\", start_date -\n",
    "                    datetime.timedelta(days=365), end_date)\n",
    "\n",
    "    # Create the new lagged DataFrame\n",
    "    tslag = pd.DataFrame(index=ts.index)\n",
    "    tslag[\"Today\"] = ts[\"Adj Close\"]\n",
    "    tslag[\"Volume\"] = ts[\"Volume\"]\n",
    "\n",
    "    # Create the shifted lag series of prior trading period close values\n",
    "    for i in range(0, lags):\n",
    "        tslag[\"Lag%s\" % str(i+1)] = ts[\"Adj Close\"].shift(i+1)\n",
    "\n",
    "    # Create the returns DataFrame\n",
    "    tsret = pd.DataFrame(index=tslag.index)\n",
    "    tsret[\"Volume\"] = tslag[\"Volume\"]\n",
    "    tsret[\"Today\"] = tslag[\"Today\"].pct_change()*100.0\n",
    "\n",
    "    # If any of the values of percentage returns equal zero, set them to\n",
    "    # a small number (stops issues with QDA model in scikit-learn)\n",
    "    for i, x in enumerate(tsret[\"Today\"]):\n",
    "        if (abs(x) < 0.0001):\n",
    "            tsret[\"Today\"][i] = 0.0001\n",
    "\n",
    "    # Create the lagged percentage returns columns\n",
    "    for i in range(0, lags):\n",
    "        tsret[\"Lag%s\" % str(i+1)] = tslag[\"Lag%s\" %\n",
    "                                          str(i+1)].pct_change()*100.0\n",
    "\n",
    "    # Create the \"Direction\" column (+1 or -1) indicating an up/down day\n",
    "    tsret[\"Direction\"] = np.sign(tsret[\"Today\"])\n",
    "    tsret = tsret[tsret.index >= start_date]\n",
    "\n",
    "    return tsret"
   ]
  },
  {
   "cell_type": "code",
   "execution_count": 32,
   "id": "4fc9ab02",
   "metadata": {
    "ExecuteTime": {
     "end_time": "2022-09-17T09:25:20.404144Z",
     "start_time": "2022-09-17T09:25:20.400401Z"
    }
   },
   "outputs": [],
   "source": [
    "def fit_model(name, model, X_train, y_train, X_test, pred):\n",
    "    \"\"\"Fits a classification model (for our purposes this is LR, LDA and QDA)\n",
    "    using the training data, then makes a prediction and subsequent \"hit rate\"\n",
    "    for the test data.\"\"\"\n",
    "\n",
    "    # Fit and predict the model on the training, and then test, data\n",
    "    model.fit(X_train, y_train)\n",
    "    pred[name] = model.predict(X_test)\n",
    "\n",
    "    # Create a series with 1 being correct direction, 0 being wrong\n",
    "    # and then calculate the hit rate based on the actual direction\n",
    "    pred[\"%s_Correct\" % name] = (1.0+pred[name]*pred[\"Actual\"])/2.0\n",
    "    hit_rate = np.mean(pred[\"%s_Correct\" % name])\n",
    "    print(\"%s: %.3f\" % (name, hit_rate))"
   ]
  },
  {
   "cell_type": "code",
   "execution_count": 33,
   "id": "784ff780",
   "metadata": {
    "ExecuteTime": {
     "end_time": "2022-09-17T09:25:21.304053Z",
     "start_time": "2022-09-17T09:25:20.561460Z"
    }
   },
   "outputs": [
    {
     "name": "stdout",
     "output_type": "stream",
     "text": [
      "Hit Rates:\n",
      "LR: 0.560\n",
      "LDA: 0.560\n",
      "QDA: 0.599\n"
     ]
    }
   ],
   "source": [
    "# Create a lagged series of the S&P500 US stock market index\n",
    "snpret = create_lagged_series(\"^GSPC\", datetime.datetime(2001,1,10), datetime.datetime(2005,12,31), lags=5)\n",
    "\n",
    "# Use the prior two days of returns as predictor values, with direction as the response\n",
    "X = snpret[[\"Lag1\",\"Lag2\"]]\n",
    "y = snpret[\"Direction\"]\n",
    "\n",
    "# The test data is split into two parts: Before and after 1st Jan 2005.\n",
    "start_test = datetime.datetime(2005,1,1)\n",
    "\n",
    "# Create training and test sets\n",
    "X_train = X[X.index < start_test]\n",
    "X_test = X[X.index >= start_test]\n",
    "y_train = y[y.index < start_test]\n",
    "y_test = y[y.index >= start_test]\n",
    "\n",
    "# Create prediction DataFrame\n",
    "pred = pd.DataFrame(index=y_test.index)\n",
    "pred[\"Actual\"] = y_test\n",
    "\n",
    "# Create and fit the three models    \n",
    "print(\"Hit Rates:\")\n",
    "models = [(\"LR\", LogisticRegression()), (\"LDA\", LDA()), (\"QDA\", QDA())]\n",
    "for m in models:\n",
    "    fit_model(m[0], m[1], X_train, y_train, X_test, pred)"
   ]
  },
  {
   "cell_type": "markdown",
   "id": "f5f18285",
   "metadata": {},
   "source": [
    "- https://www.quantstart.com/articles/Forecasting-Financial-Time-Series-Part-1/"
   ]
  },
  {
   "cell_type": "code",
   "execution_count": null,
   "id": "bc4b2725",
   "metadata": {},
   "outputs": [],
   "source": []
  }
 ],
 "metadata": {
  "kernelspec": {
   "display_name": "ML4T",
   "language": "python",
   "name": "ml4t"
  },
  "language_info": {
   "codemirror_mode": {
    "name": "ipython",
    "version": 3
   },
   "file_extension": ".py",
   "mimetype": "text/x-python",
   "name": "python",
   "nbconvert_exporter": "python",
   "pygments_lexer": "ipython3",
   "version": "3.10.4"
  },
  "toc": {
   "base_numbering": 1,
   "nav_menu": {},
   "number_sections": true,
   "sideBar": true,
   "skip_h1_title": false,
   "title_cell": "Table of Contents",
   "title_sidebar": "Contents",
   "toc_cell": true,
   "toc_position": {},
   "toc_section_display": true,
   "toc_window_display": true
  },
  "varInspector": {
   "cols": {
    "lenName": 16,
    "lenType": 16,
    "lenVar": 40
   },
   "kernels_config": {
    "python": {
     "delete_cmd_postfix": "",
     "delete_cmd_prefix": "del ",
     "library": "var_list.py",
     "varRefreshCmd": "print(var_dic_list())"
    },
    "r": {
     "delete_cmd_postfix": ") ",
     "delete_cmd_prefix": "rm(",
     "library": "var_list.r",
     "varRefreshCmd": "cat(var_dic_list()) "
    }
   },
   "types_to_exclude": [
    "module",
    "function",
    "builtin_function_or_method",
    "instance",
    "_Feature"
   ],
   "window_display": false
  }
 },
 "nbformat": 4,
 "nbformat_minor": 5
}
