{
 "cells": [
  {
   "cell_type": "markdown",
   "id": "6037efe0",
   "metadata": {
    "toc": true
   },
   "source": [
    "<h1>Table of Contents<span class=\"tocSkip\"></span></h1>\n",
    "<div class=\"toc\"><ul class=\"toc-item\"><li><span><a href=\"#Introduction\" data-toc-modified-id=\"Introduction-1\"><span class=\"toc-item-num\">1&nbsp;&nbsp;</span>Introduction</a></span></li><li><span><a href=\"#Imports\" data-toc-modified-id=\"Imports-2\"><span class=\"toc-item-num\">2&nbsp;&nbsp;</span>Imports</a></span></li><li><span><a href=\"#Get-the-data\" data-toc-modified-id=\"Get-the-data-3\"><span class=\"toc-item-num\">3&nbsp;&nbsp;</span>Get the data</a></span></li><li><span><a href=\"#Compute-volatility\" data-toc-modified-id=\"Compute-volatility-4\"><span class=\"toc-item-num\">4&nbsp;&nbsp;</span>Compute volatility</a></span></li><li><span><a href=\"#References\" data-toc-modified-id=\"References-5\"><span class=\"toc-item-num\">5&nbsp;&nbsp;</span>References</a></span></li></ul></div>"
   ]
  },
  {
   "cell_type": "markdown",
   "id": "7aa33385",
   "metadata": {},
   "source": [
    "# Introduction\n",
    "<hr style = \"border:2px solid black\" ></hr>"
   ]
  },
  {
   "cell_type": "markdown",
   "id": "774aa557",
   "metadata": {},
   "source": [
    "<div class=\"alert alert-warning\">\n",
    "<font color=black>\n",
    "\n",
    "**What?** Volatily\n",
    "\n",
    "</font>\n",
    "</div>"
   ]
  },
  {
   "cell_type": "markdown",
   "id": "bb378700",
   "metadata": {},
   "source": [
    "# Imports\n",
    "<hr style = \"border:2px solid black\" ></hr>"
   ]
  },
  {
   "cell_type": "code",
   "execution_count": 1,
   "id": "813b5628",
   "metadata": {
    "ExecuteTime": {
     "end_time": "2022-09-11T07:12:58.400590Z",
     "start_time": "2022-09-11T07:12:56.997954Z"
    }
   },
   "outputs": [],
   "source": [
    "import pandas_datareader as pdr\n",
    "import datetime as dt\n",
    "import pandas as pd\n",
    "import numpy as np\n",
    "import matplotlib.pyplot as plt"
   ]
  },
  {
   "cell_type": "markdown",
   "id": "ff5cef60",
   "metadata": {},
   "source": [
    "# Get the data\n",
    "<hr style = \"border:2px solid black\" ></hr>"
   ]
  },
  {
   "cell_type": "code",
   "execution_count": 2,
   "id": "36a7d694",
   "metadata": {
    "ExecuteTime": {
     "end_time": "2022-09-11T07:12:59.133857Z",
     "start_time": "2022-09-11T07:12:58.402736Z"
    }
   },
   "outputs": [],
   "source": [
    "start = dt.datetime(1999, 1, 1)\n",
    "end = dt.datetime(2008, 12, 31)\n",
    "\n",
    "data = pdr.get_data_yahoo(\"^GSPC\", start, end)"
   ]
  },
  {
   "cell_type": "code",
   "execution_count": 3,
   "id": "2670ce1e",
   "metadata": {
    "ExecuteTime": {
     "end_time": "2022-09-11T07:12:59.154316Z",
     "start_time": "2022-09-11T07:12:59.137509Z"
    }
   },
   "outputs": [
    {
     "data": {
      "text/html": [
       "<div>\n",
       "<style scoped>\n",
       "    .dataframe tbody tr th:only-of-type {\n",
       "        vertical-align: middle;\n",
       "    }\n",
       "\n",
       "    .dataframe tbody tr th {\n",
       "        vertical-align: top;\n",
       "    }\n",
       "\n",
       "    .dataframe thead th {\n",
       "        text-align: right;\n",
       "    }\n",
       "</style>\n",
       "<table border=\"1\" class=\"dataframe\">\n",
       "  <thead>\n",
       "    <tr style=\"text-align: right;\">\n",
       "      <th></th>\n",
       "      <th>High</th>\n",
       "      <th>Low</th>\n",
       "      <th>Open</th>\n",
       "      <th>Close</th>\n",
       "      <th>Volume</th>\n",
       "      <th>Adj Close</th>\n",
       "    </tr>\n",
       "    <tr>\n",
       "      <th>Date</th>\n",
       "      <th></th>\n",
       "      <th></th>\n",
       "      <th></th>\n",
       "      <th></th>\n",
       "      <th></th>\n",
       "      <th></th>\n",
       "    </tr>\n",
       "  </thead>\n",
       "  <tbody>\n",
       "    <tr>\n",
       "      <th>1999-01-04</th>\n",
       "      <td>1248.810059</td>\n",
       "      <td>1219.099976</td>\n",
       "      <td>1229.229980</td>\n",
       "      <td>1228.099976</td>\n",
       "      <td>877000000</td>\n",
       "      <td>1228.099976</td>\n",
       "    </tr>\n",
       "    <tr>\n",
       "      <th>1999-01-05</th>\n",
       "      <td>1246.109985</td>\n",
       "      <td>1228.099976</td>\n",
       "      <td>1228.099976</td>\n",
       "      <td>1244.780029</td>\n",
       "      <td>775000000</td>\n",
       "      <td>1244.780029</td>\n",
       "    </tr>\n",
       "    <tr>\n",
       "      <th>1999-01-06</th>\n",
       "      <td>1272.500000</td>\n",
       "      <td>1244.780029</td>\n",
       "      <td>1244.780029</td>\n",
       "      <td>1272.339966</td>\n",
       "      <td>986900000</td>\n",
       "      <td>1272.339966</td>\n",
       "    </tr>\n",
       "    <tr>\n",
       "      <th>1999-01-07</th>\n",
       "      <td>1272.339966</td>\n",
       "      <td>1257.680054</td>\n",
       "      <td>1272.339966</td>\n",
       "      <td>1269.729980</td>\n",
       "      <td>863000000</td>\n",
       "      <td>1269.729980</td>\n",
       "    </tr>\n",
       "    <tr>\n",
       "      <th>1999-01-08</th>\n",
       "      <td>1278.239990</td>\n",
       "      <td>1261.819946</td>\n",
       "      <td>1269.729980</td>\n",
       "      <td>1275.089966</td>\n",
       "      <td>937800000</td>\n",
       "      <td>1275.089966</td>\n",
       "    </tr>\n",
       "    <tr>\n",
       "      <th>...</th>\n",
       "      <td>...</td>\n",
       "      <td>...</td>\n",
       "      <td>...</td>\n",
       "      <td>...</td>\n",
       "      <td>...</td>\n",
       "      <td>...</td>\n",
       "    </tr>\n",
       "    <tr>\n",
       "      <th>2008-12-24</th>\n",
       "      <td>869.789978</td>\n",
       "      <td>861.440002</td>\n",
       "      <td>863.869995</td>\n",
       "      <td>868.150024</td>\n",
       "      <td>1546550000</td>\n",
       "      <td>868.150024</td>\n",
       "    </tr>\n",
       "    <tr>\n",
       "      <th>2008-12-26</th>\n",
       "      <td>873.739990</td>\n",
       "      <td>866.520020</td>\n",
       "      <td>869.510010</td>\n",
       "      <td>872.799988</td>\n",
       "      <td>1880050000</td>\n",
       "      <td>872.799988</td>\n",
       "    </tr>\n",
       "    <tr>\n",
       "      <th>2008-12-29</th>\n",
       "      <td>873.700012</td>\n",
       "      <td>857.070007</td>\n",
       "      <td>872.369995</td>\n",
       "      <td>869.419983</td>\n",
       "      <td>3323430000</td>\n",
       "      <td>869.419983</td>\n",
       "    </tr>\n",
       "    <tr>\n",
       "      <th>2008-12-30</th>\n",
       "      <td>891.119995</td>\n",
       "      <td>870.580017</td>\n",
       "      <td>870.580017</td>\n",
       "      <td>890.640015</td>\n",
       "      <td>3627800000</td>\n",
       "      <td>890.640015</td>\n",
       "    </tr>\n",
       "    <tr>\n",
       "      <th>2008-12-31</th>\n",
       "      <td>910.320007</td>\n",
       "      <td>889.669983</td>\n",
       "      <td>890.590027</td>\n",
       "      <td>903.250000</td>\n",
       "      <td>4172940000</td>\n",
       "      <td>903.250000</td>\n",
       "    </tr>\n",
       "  </tbody>\n",
       "</table>\n",
       "<p>2515 rows × 6 columns</p>\n",
       "</div>"
      ],
      "text/plain": [
       "                   High          Low         Open        Close      Volume  \\\n",
       "Date                                                                         \n",
       "1999-01-04  1248.810059  1219.099976  1229.229980  1228.099976   877000000   \n",
       "1999-01-05  1246.109985  1228.099976  1228.099976  1244.780029   775000000   \n",
       "1999-01-06  1272.500000  1244.780029  1244.780029  1272.339966   986900000   \n",
       "1999-01-07  1272.339966  1257.680054  1272.339966  1269.729980   863000000   \n",
       "1999-01-08  1278.239990  1261.819946  1269.729980  1275.089966   937800000   \n",
       "...                 ...          ...          ...          ...         ...   \n",
       "2008-12-24   869.789978   861.440002   863.869995   868.150024  1546550000   \n",
       "2008-12-26   873.739990   866.520020   869.510010   872.799988  1880050000   \n",
       "2008-12-29   873.700012   857.070007   872.369995   869.419983  3323430000   \n",
       "2008-12-30   891.119995   870.580017   870.580017   890.640015  3627800000   \n",
       "2008-12-31   910.320007   889.669983   890.590027   903.250000  4172940000   \n",
       "\n",
       "              Adj Close  \n",
       "Date                     \n",
       "1999-01-04  1228.099976  \n",
       "1999-01-05  1244.780029  \n",
       "1999-01-06  1272.339966  \n",
       "1999-01-07  1269.729980  \n",
       "1999-01-08  1275.089966  \n",
       "...                 ...  \n",
       "2008-12-24   868.150024  \n",
       "2008-12-26   872.799988  \n",
       "2008-12-29   869.419983  \n",
       "2008-12-30   890.640015  \n",
       "2008-12-31   903.250000  \n",
       "\n",
       "[2515 rows x 6 columns]"
      ]
     },
     "execution_count": 3,
     "metadata": {},
     "output_type": "execute_result"
    }
   ],
   "source": [
    "data"
   ]
  },
  {
   "cell_type": "code",
   "execution_count": 4,
   "id": "a45f0188",
   "metadata": {
    "ExecuteTime": {
     "end_time": "2022-09-11T07:12:59.162493Z",
     "start_time": "2022-09-11T07:12:59.156476Z"
    }
   },
   "outputs": [],
   "source": [
    "data['Log returns'] = np.log(data['Adj Close']/data['Adj Close'].shift())"
   ]
  },
  {
   "cell_type": "code",
   "execution_count": 5,
   "id": "c75da817",
   "metadata": {
    "ExecuteTime": {
     "end_time": "2022-09-11T07:12:59.168896Z",
     "start_time": "2022-09-11T07:12:59.164678Z"
    }
   },
   "outputs": [
    {
     "data": {
      "text/plain": [
       "0.7354857242538836"
      ]
     },
     "execution_count": 5,
     "metadata": {},
     "output_type": "execute_result"
    }
   ],
   "source": [
    "data['Adj Close'].iloc[-1]/data['Adj Close'].iloc[0]"
   ]
  },
  {
   "cell_type": "code",
   "execution_count": 6,
   "id": "0747114e",
   "metadata": {
    "ExecuteTime": {
     "end_time": "2022-09-11T07:12:59.175576Z",
     "start_time": "2022-09-11T07:12:59.171232Z"
    }
   },
   "outputs": [
    {
     "data": {
      "text/plain": [
       "-0.3072241487090497"
      ]
     },
     "execution_count": 6,
     "metadata": {},
     "output_type": "execute_result"
    }
   ],
   "source": [
    "data['Log returns'].sum()"
   ]
  },
  {
   "cell_type": "code",
   "execution_count": 7,
   "id": "25a63461",
   "metadata": {
    "ExecuteTime": {
     "end_time": "2022-09-11T07:12:59.181712Z",
     "start_time": "2022-09-11T07:12:59.177738Z"
    }
   },
   "outputs": [
    {
     "data": {
      "text/plain": [
       "0.7354857242538831"
      ]
     },
     "execution_count": 7,
     "metadata": {},
     "output_type": "execute_result"
    }
   ],
   "source": [
    "np.exp(data['Log returns'].sum())"
   ]
  },
  {
   "cell_type": "code",
   "execution_count": 8,
   "id": "74240f23",
   "metadata": {
    "ExecuteTime": {
     "end_time": "2022-09-11T07:12:59.187544Z",
     "start_time": "2022-09-11T07:12:59.183776Z"
    }
   },
   "outputs": [],
   "source": [
    "data['Normalize'] = data['Adj Close']/data['Adj Close'].iloc[0]"
   ]
  },
  {
   "cell_type": "code",
   "execution_count": 9,
   "id": "541b0381",
   "metadata": {
    "ExecuteTime": {
     "end_time": "2022-09-11T07:12:59.197202Z",
     "start_time": "2022-09-11T07:12:59.193205Z"
    }
   },
   "outputs": [],
   "source": [
    "data['Exp sum'] = data['Log returns'].cumsum().apply(np.exp)"
   ]
  },
  {
   "cell_type": "code",
   "execution_count": 10,
   "id": "a0f732c6",
   "metadata": {
    "ExecuteTime": {
     "end_time": "2022-09-11T07:12:59.208594Z",
     "start_time": "2022-09-11T07:12:59.199346Z"
    }
   },
   "outputs": [
    {
     "data": {
      "text/html": [
       "<div>\n",
       "<style scoped>\n",
       "    .dataframe tbody tr th:only-of-type {\n",
       "        vertical-align: middle;\n",
       "    }\n",
       "\n",
       "    .dataframe tbody tr th {\n",
       "        vertical-align: top;\n",
       "    }\n",
       "\n",
       "    .dataframe thead th {\n",
       "        text-align: right;\n",
       "    }\n",
       "</style>\n",
       "<table border=\"1\" class=\"dataframe\">\n",
       "  <thead>\n",
       "    <tr style=\"text-align: right;\">\n",
       "      <th></th>\n",
       "      <th>Normalize</th>\n",
       "      <th>Exp sum</th>\n",
       "    </tr>\n",
       "    <tr>\n",
       "      <th>Date</th>\n",
       "      <th></th>\n",
       "      <th></th>\n",
       "    </tr>\n",
       "  </thead>\n",
       "  <tbody>\n",
       "    <tr>\n",
       "      <th>2008-12-24</th>\n",
       "      <td>0.706905</td>\n",
       "      <td>0.706905</td>\n",
       "    </tr>\n",
       "    <tr>\n",
       "      <th>2008-12-26</th>\n",
       "      <td>0.710691</td>\n",
       "      <td>0.710691</td>\n",
       "    </tr>\n",
       "    <tr>\n",
       "      <th>2008-12-29</th>\n",
       "      <td>0.707939</td>\n",
       "      <td>0.707939</td>\n",
       "    </tr>\n",
       "    <tr>\n",
       "      <th>2008-12-30</th>\n",
       "      <td>0.725218</td>\n",
       "      <td>0.725218</td>\n",
       "    </tr>\n",
       "    <tr>\n",
       "      <th>2008-12-31</th>\n",
       "      <td>0.735486</td>\n",
       "      <td>0.735486</td>\n",
       "    </tr>\n",
       "  </tbody>\n",
       "</table>\n",
       "</div>"
      ],
      "text/plain": [
       "            Normalize   Exp sum\n",
       "Date                           \n",
       "2008-12-24   0.706905  0.706905\n",
       "2008-12-26   0.710691  0.710691\n",
       "2008-12-29   0.707939  0.707939\n",
       "2008-12-30   0.725218  0.725218\n",
       "2008-12-31   0.735486  0.735486"
      ]
     },
     "execution_count": 10,
     "metadata": {},
     "output_type": "execute_result"
    }
   ],
   "source": [
    "data[['Normalize', 'Exp sum']].tail()"
   ]
  },
  {
   "cell_type": "markdown",
   "id": "ac01f40a",
   "metadata": {},
   "source": [
    "# Compute volatility\n",
    "<hr style = \"border:2px solid black\" ></hr>"
   ]
  },
  {
   "attachments": {
    "image.png": {
     "image/png": "[encoded data removed]"
    }
   },
   "cell_type": "markdown",
   "id": "d6689899",
   "metadata": {},
   "source": [
    "![image.png](attachment:image.png)"
   ]
  },
  {
   "cell_type": "code",
   "execution_count": 11,
   "id": "822acb6d",
   "metadata": {
    "ExecuteTime": {
     "end_time": "2022-09-11T07:12:59.215642Z",
     "start_time": "2022-09-11T07:12:59.211345Z"
    }
   },
   "outputs": [],
   "source": [
    "volatility = data['Log returns'].std()*(252**0.5)"
   ]
  },
  {
   "cell_type": "code",
   "execution_count": 12,
   "id": "ad908fd4",
   "metadata": {
    "ExecuteTime": {
     "end_time": "2022-09-11T07:12:59.221882Z",
     "start_time": "2022-09-11T07:12:59.217966Z"
    }
   },
   "outputs": [
    {
     "data": {
      "text/plain": [
       "0.21278321702789801"
      ]
     },
     "execution_count": 12,
     "metadata": {},
     "output_type": "execute_result"
    }
   ],
   "source": [
    "volatility"
   ]
  },
  {
   "cell_type": "code",
   "execution_count": 13,
   "id": "3477393a",
   "metadata": {
    "ExecuteTime": {
     "end_time": "2022-09-11T07:12:59.228175Z",
     "start_time": "2022-09-11T07:12:59.224704Z"
    }
   },
   "outputs": [],
   "source": [
    "str_vol = str(round(volatility, 3)*100)"
   ]
  },
  {
   "cell_type": "code",
   "execution_count": 14,
   "id": "1be606c9",
   "metadata": {
    "ExecuteTime": {
     "end_time": "2022-09-11T07:12:59.524711Z",
     "start_time": "2022-09-11T07:12:59.230669Z"
    }
   },
   "outputs": [
    {
     "data": {
      "text/plain": [
       "Text(0.5, 1.0, 'Historic Volatility for S&P 500 (21.3%)')"
      ]
     },
     "execution_count": 14,
     "metadata": {},
     "output_type": "execute_result"
    },
    {
     "data": {
      "image/png": "[encoded data removed]",
      "text/plain": [
       "<Figure size 432x288 with 1 Axes>"
      ]
     },
     "metadata": {
      "needs_background": "light"
     },
     "output_type": "display_data"
    }
   ],
   "source": [
    "fig, ax = plt.subplots()\n",
    "data['Log returns'].hist(ax=ax, bins=50, alpha=0.6, color='b')\n",
    "ax.set_xlabel(\"Log returns of stock price\")\n",
    "ax.set_ylabel(\"Frequencey of log returns\")\n",
    "ax.set_title(\"Historic Volatility for S&P 500 (\" + str_vol +\"%)\")"
   ]
  },
  {
   "cell_type": "code",
   "execution_count": 15,
   "id": "352ef5c7",
   "metadata": {
    "ExecuteTime": {
     "end_time": "2022-09-11T07:12:59.530972Z",
     "start_time": "2022-09-11T07:12:59.526998Z"
    }
   },
   "outputs": [
    {
     "data": {
      "text/plain": [
       "0.6797579434409292"
      ]
     },
     "execution_count": 15,
     "metadata": {},
     "output_type": "execute_result"
    }
   ],
   "source": [
    "np.log(1.2)+np.log(1.15)+np.log(1.1)+np.log(1.3)"
   ]
  },
  {
   "cell_type": "code",
   "execution_count": 16,
   "id": "eced5bf7",
   "metadata": {
    "ExecuteTime": {
     "end_time": "2022-09-11T07:12:59.537148Z",
     "start_time": "2022-09-11T07:12:59.533080Z"
    }
   },
   "outputs": [
    {
     "data": {
      "text/plain": [
       "1.9734"
      ]
     },
     "execution_count": 16,
     "metadata": {},
     "output_type": "execute_result"
    }
   ],
   "source": [
    "np.exp(0.6797579434409292)"
   ]
  },
  {
   "cell_type": "markdown",
   "id": "2bab47cc",
   "metadata": {},
   "source": [
    "# References\n",
    "<hr style = \"border:2px solid black\" ></hr>"
   ]
  },
  {
   "cell_type": "markdown",
   "id": "8123656c",
   "metadata": {},
   "source": [
    "<div class=\"alert alert-warning\">\n",
    "<font color=black>\n",
    "\n",
    "- https://github.com/LearnPythonWithRune/PythonForFinancialAnalysis/blob/main/04%20-%20Volatility.ipynb\n",
    "- https://www.learnpythonwithrune.org/start-python-with-pandas-for-financial-analysis/#lesson-6\n",
    "\n",
    "</font>\n",
    "</div>"
   ]
  },
  {
   "cell_type": "code",
   "execution_count": null,
   "id": "c0a0bab7",
   "metadata": {},
   "outputs": [],
   "source": []
  }
 ],
 "metadata": {
  "kernelspec": {
   "display_name": "ML4T",
   "language": "python",
   "name": "ml4t"
  },
  "language_info": {
   "codemirror_mode": {
    "name": "ipython",
    "version": 3
   },
   "file_extension": ".py",
   "mimetype": "text/x-python",
   "name": "python",
   "nbconvert_exporter": "python",
   "pygments_lexer": "ipython3",
   "version": "3.10.4"
  },
  "toc": {
   "base_numbering": 1,
   "nav_menu": {},
   "number_sections": true,
   "sideBar": true,
   "skip_h1_title": false,
   "title_cell": "Table of Contents",
   "title_sidebar": "Contents",
   "toc_cell": true,
   "toc_position": {},
   "toc_section_display": true,
   "toc_window_display": true
  },
  "varInspector": {
   "cols": {
    "lenName": 16,
    "lenType": 16,
    "lenVar": 40
   },
   "kernels_config": {
    "python": {
     "delete_cmd_postfix": "",
     "delete_cmd_prefix": "del ",
     "library": "var_list.py",
     "varRefreshCmd": "print(var_dic_list())"
    },
    "r": {
     "delete_cmd_postfix": ") ",
     "delete_cmd_prefix": "rm(",
     "library": "var_list.r",
     "varRefreshCmd": "cat(var_dic_list()) "
    }
   },
   "types_to_exclude": [
    "module",
    "function",
    "builtin_function_or_method",
    "instance",
    "_Feature"
   ],
   "window_display": false
  }
 },
 "nbformat": 4,
 "nbformat_minor": 5
}
