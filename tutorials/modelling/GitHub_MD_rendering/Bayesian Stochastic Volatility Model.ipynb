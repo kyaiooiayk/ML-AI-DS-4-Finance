{
 "cells": [
  {
   "cell_type": "markdown",
   "id": "a6451e81",
   "metadata": {
    "toc": true
   },
   "source": [
    "<h1>Table of Contents<span class=\"tocSkip\"></span></h1>\n",
""   ]
  },
  {
   "cell_type": "markdown",
   "id": "96f718b5",
   "metadata": {},
   "source": [
    "# Introduction\n",
    "<hr style = \"border:2px solid black\" ></hr>"
   ]
  },
  {
   "cell_type": "markdown",
   "id": "055bcacd",
   "metadata": {},
   "source": [
    "\n",
    "**What?** Bayesian Stochastic Volatility Model\n",
    "\n",
""   ]
  },
  {
   "cell_type": "markdown",
   "id": "7f91dc20",
   "metadata": {},
   "source": [
    "# Objective\n",
    "<hr style = \"border:2px solid black\" ></hr>"
   ]
  },
  {
   "cell_type": "markdown",
   "id": "65eb30d4",
   "metadata": {},
   "source": [
    " \n",
    "- A Bayesian stochastic volatility model provides a full posterior probability distribution of volatility at each time point t, as opposed to a single \"point estimate\" often provided by other models. \n",
    "\n",
    "- This posterior encapsulates the uncertainty in the parameters and can be used to obtain credible intervals (analogous to confidence intervals) and other statistics about the volatility.\n",
    "\n",
""   ]
  },
  {
   "cell_type": "markdown",
   "id": "556c03cd",
   "metadata": {},
   "source": [
    "# Volatility\n",
    "<hr style = \"border:2px solid black\" ></hr>"
   ]
  },
  {
   "cell_type": "markdown",
   "id": "13dcc7db",
   "metadata": {},
   "source": [
    "\n",
    "- **Markowitz** proposed his celebrated portfolio theory in which he defined volatility as standard deviation so that from then onward, finance became more intertwined with mathematics.\n",
    "\n",
    "- Modeling volatility amounts to modeling uncertainty so that we better understand and approach uncertainty, enabling us to have good enough approximations of the real world. \n",
    "    \n",
    "- To gauge the extent to which proposed models account for the real-world situation, we need to calculate the **return volatility**, which is also known as **realised volatility**.\n",
    "\n",
""   ]
  },
  {
   "cell_type": "markdown",
   "id": "cb6cb11a",
   "metadata": {},
   "source": [
    "# Imports\n",
    "<hr style = \"border:2px solid black\" ></hr>"
   ]
  },
  {
   "cell_type": "code",
   "execution_count": 5,
   "id": "c238e321",
   "metadata": {
    "ExecuteTime": {
     "end_time": "2022-09-18T09:33:37.016145Z",
     "start_time": "2022-09-18T09:33:37.012411Z"
    }
   },
   "outputs": [],
   "source": [
    "import datetime \n",
    "import pprint\n",
    "import matplotlib.pyplot as plt \n",
    "import numpy as np\n",
    "import pandas as pd\n",
    "import pandas_datareader as pdr \n",
    "import pymc3 as pm\n",
    "from pymc3.distributions.timeseries import GaussianRandomWalk \n",
    "import seaborn as sns\n",
    "import pandas as pd\n",
    "import pandas_datareader as pdr"
   ]
  },
  {
   "cell_type": "markdown",
   "id": "177c3c70",
   "metadata": {},
   "source": [
    "# Get the data\n",
    "<hr style = \"border:2px solid black\" ></hr>"
   ]
  },
  {
   "cell_type": "code",
   "execution_count": 10,
   "id": "11ae9719",
   "metadata": {
    "ExecuteTime": {
     "end_time": "2022-09-18T09:37:13.556840Z",
     "start_time": "2022-09-18T09:37:12.796255Z"
    }
   },
   "outputs": [],
   "source": [
    "# year-month-day format\n",
    "\n",
    "# State the starting and ending dates of the AMZN returns \n",
    "start_date = datetime.datetime(2006, 1, 1)\n",
    "end_date = datetime.datetime(2015, 12, 31)\n",
    "# Obtain and plot the logarithmic returns of Amazon prices\n",
    "amzn_df = pdr.get_data_yahoo(\"AMZN\", start_date, end_date)\n",
    "\n",
    "amzn_df[\"returns\"] = amzn_df[\"Adj Close\"]/amzn_df[\"Adj Close\"].shift(1) \n",
    "amzn_df.dropna(inplace=True)\n",
    "amzn_df[\"log_returns\"] = np.log(amzn_df[\"returns\"]) \n",
    "\n",
    "log_returns = np.array(amzn_df[\"log_returns\"])\n"
   ]
  },
  {
   "cell_type": "code",
   "execution_count": 11,
   "id": "e2d9dcd2",
   "metadata": {
    "ExecuteTime": {
     "end_time": "2022-09-18T09:37:14.262519Z",
     "start_time": "2022-09-18T09:37:14.059845Z"
    }
   },
   "outputs": [
    {
     "data": {
      "text/plain": [
       "<AxesSubplot:xlabel='Date'>"
      ]
     },
     "execution_count": 11,
     "metadata": {},
     "output_type": "execute_result"
    },
    {
     "data": {
      "image/png": "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\n",
      "text/plain": [
       "<Figure size 432x288 with 1 Axes>"
      ]
     },
     "metadata": {
      "needs_background": "light"
     },
     "output_type": "display_data"
    }
   ],
   "source": [
    "amzn_df[\"log_returns\"].plot(linewidth=0.5, figsize =(8,5))"
   ]
  },
  {
   "cell_type": "markdown",
   "id": "69b46e26",
   "metadata": {},
   "source": [
    " \n",
    "- Bayesian formulation of a stochastic volatility model, the sampling of which is carried out using the presented NUTS technique.\n",
    "- No-U-Turn Sampler (NUTS) is a highly efficient form of Markov Chain Monte Carlo.\n",
    "\n",
    "- To define the prior we need to define \n",
    "    - sigma $σ$, which represents the scale of the volatility\n",
    "    - nu $ν$ which represents the degrees of freedom of the Student’s t-distribution. \n",
    "    \n",
    "- Priors must also be selected for the latent volatility process and subsequently the asset returns distribution.\n",
    "At this stage the uncertainty on the parameter values is large and so the selected priors must reflect that. In addition σ and ν must be real-valued positive numbers, so we need to use a probability distribution that has positive support. As an initial choice the exponential distribution will be chosen for σ and ν.\n",
    "\n",
    "- A much larger parameter value is chosen for σ than ν because there is a lot of initial uncertainty associated with the scale of the volatility generating process. As more data is provided to the model the Bayesian updating process will reduce the spread of the posterior distribution reflecting an increased certainty in the scale factor of volatility.\n",
    "    \n",
    "- This stochastic volatility model makes use of a random walk model for the latent volatility variable. Random walk models are discussed in significant depth within the subsequent time series chapter on White Noise and Random Walks.\n",
    "    \n",
    "- It remains only to assign a prior to the logarithmic returns of the asset price series being modelled. The point of a stochastic volatility model is that these returns are related to the underlying latent volatility variable. Hence any prior that is assigned to the log returns must have a variance that involves s. One approach (is to assume that the log returns are distributed as a Student’s t-distribution.\n",
    "    \n",
""   ]
  },
  {
   "cell_type": "code",
   "execution_count": 22,
   "id": "dc4d2389",
   "metadata": {
    "ExecuteTime": {
     "end_time": "2022-09-18T10:21:37.095188Z",
     "start_time": "2022-09-18T10:21:36.662826Z"
    }
   },
   "outputs": [],
   "source": [
    "samples = 2000 \n",
    "model = pm.Model()\n",
    "with model:\n",
    "\n",
    "    sigma = pm.Exponential(\"sigma\", 50.0, testval=0.1)\n",
    "\n",
    "    nu = pm.Exponential(\"nu\", 0.1)\n",
    "\n",
    "    s = GaussianRandomWalk(\"s\", sigma**-2, shape=len(log_returns))\n",
    "\n",
    "    logrets = pm.StudentT(\"logrets\", nu,\n",
    "                          lam=pm.math.exp(\n",
    "                              -2.0*s),\n",
    "                          observed=log_returns\n",
    "                          )"
   ]
  },
  {
   "cell_type": "code",
   "execution_count": null,
   "id": "1c14c3ff",
   "metadata": {},
   "outputs": [],
   "source": []
  },
  {
   "cell_type": "code",
   "execution_count": 23,
   "id": "ed5815a6",
   "metadata": {
    "ExecuteTime": {
     "end_time": "2022-09-18T11:45:36.708554Z",
     "start_time": "2022-09-18T10:21:37.191107Z"
    }
   },
   "outputs": [
    {
     "name": "stderr",
     "output_type": "stream",
     "text": [
      "/opt/anaconda3/envs/trainingAI/lib/python3.9/site-packages/deprecat/classic.py:215: FutureWarning: In v4.0, pm.sample will return an `arviz.InferenceData` object instead of a `MultiTrace` by default. You can pass return_inferencedata=True or return_inferencedata=False to be safe and silence this warning.\n",
      "  return wrapped_(*args_, **kwargs_)\n",
      "Auto-assigning NUTS sampler...\n",
      "Initializing NUTS using jitter+adapt_diag...\n",
      "Multiprocess sampling (4 chains in 4 jobs)\n",
      "NUTS: [s, nu, sigma]\n"
     ]
    },
    {
     "data": {
      "text/html": [
       "\n",
       "<style>\n",
       "    /* Turns off some styling */\n",
       "    progress {\n",
       "        /* gets rid of default border in Firefox and Opera. */\n",
       "        border: none;\n",
       "        /* Needs to be in here for Safari polyfill so background images work as expected. */\n",
       "        background-size: auto;\n",
       "    }\n",
       "    .progress-bar-interrupted, .progress-bar-interrupted::-webkit-progress-bar {\n",
       "        background: #F44336;\n",
       "    }\n",
       "</style>\n"
      ],
      "text/plain": [
       "<IPython.core.display.HTML object>"
      ]
     },
     "metadata": {},
     "output_type": "display_data"
    },
    {
     "data": {
      "text/html": [
       "\n",
       "    <div>\n",
       "      <progress value='12000' class='' max='12000' style='width:300px; height:20px; vertical-align: middle;'></progress>\n",
       "      100.00% [12000/12000 1:23:19<00:00 Sampling 4 chains, 0 divergences]\n",
""       "    "
      ],
      "text/plain": [
       "<IPython.core.display.HTML object>"
      ]
     },
     "metadata": {},
     "output_type": "display_data"
    },
    {
     "name": "stderr",
     "output_type": "stream",
     "text": [
      "Sampling 4 chains for 1_000 tune and 2_000 draw iterations (4_000 + 8_000 draws total) took 5016 seconds.\n",
      "The rhat statistic is larger than 1.05 for some parameters. This indicates slight problems during sampling.\n",
      "The estimated number of effective samples is smaller than 200 for some parameters.\n"
     ]
    }
   ],
   "source": [
    "# print(\"Fitting the stochastic volatility model...\")\n",
    "with model:\n",
    "    trace = pm.sample(samples)"
   ]
  },
  {
   "cell_type": "code",
   "execution_count": null,
   "id": "f7005bcc",
   "metadata": {},
   "outputs": [],
   "source": [
    "pm.traceplot(trace, model.vars[:-1])\n",
    "plt.show()"
   ]
  },
  {
   "cell_type": "code",
   "execution_count": null,
   "id": "a430374e",
   "metadata": {},
   "outputs": [],
   "source": [
    "print(\"Plotting the log volatility...\")\n",
    "k = 10\n",
    "opacity = 0.03\n",
    "plt.plot(trace[s][::k].T, \"b\", alpha=opacity)\n",
    "plt.xlabel(\"Time\")\n",
    "plt.ylabel(\"Log Volatility\")\n",
    "plt.show()"
   ]
  },
  {
   "cell_type": "code",
   "execution_count": 19,
   "id": "48d6577c",
   "metadata": {
    "ExecuteTime": {
     "end_time": "2022-09-18T09:47:18.235131Z",
     "start_time": "2022-09-18T09:47:18.226784Z"
    }
   },
   "outputs": [],
   "source": [
    "print(\"Plotting the absolute returns overlaid with vol...\")\n",
    "plt.plot(np.abs(np.exp(log_returns))-1.0, linewidth=0.5)\n",
    "plt.plot(np.exp(trace[s][::k].T), \"r\", alpha=opacity)\n",
    "plt.xlabel(\"Trading Days\")\n",
    "plt.ylabel(\"Absolute Returns/Volatility\")\n",
    "plt.show()"
   ]
  },
  {
   "cell_type": "code",
   "execution_count": 20,
   "id": "b59f8c50",
   "metadata": {
    "ExecuteTime": {
     "end_time": "2022-09-18T10:11:06.078344Z",
     "start_time": "2022-09-18T09:47:45.202503Z"
    }
   },
   "outputs": [
    {
     "name": "stdout",
     "output_type": "stream",
     "text": [
      "Configuring stochastic volatility with PyMC3...\n",
      "Fitting the stochastic volatility model...\n"
     ]
    },
    {
     "name": "stderr",
     "output_type": "stream",
     "text": [
      "/opt/anaconda3/envs/trainingAI/lib/python3.9/site-packages/deprecat/classic.py:215: FutureWarning: In v4.0, pm.sample will return an `arviz.InferenceData` object instead of a `MultiTrace` by default. You can pass return_inferencedata=True or return_inferencedata=False to be safe and silence this warning.\n",
      "  return wrapped_(*args_, **kwargs_)\n",
      "Auto-assigning NUTS sampler...\n",
      "Initializing NUTS using jitter+adapt_diag...\n",
      "Multiprocess sampling (4 chains in 4 jobs)\n",
      "NUTS: [s, nu, sigma]\n"
     ]
    },
    {
     "data": {
      "text/html": [
       "\n",
       "<style>\n",
       "    /* Turns off some styling */\n",
       "    progress {\n",
       "        /* gets rid of default border in Firefox and Opera. */\n",
       "        border: none;\n",
       "        /* Needs to be in here for Safari polyfill so background images work as expected. */\n",
       "        background-size: auto;\n",
       "    }\n",
       "    .progress-bar-interrupted, .progress-bar-interrupted::-webkit-progress-bar {\n",
       "        background: #F44336;\n",
       "    }\n",
       "</style>\n"
      ],
      "text/plain": [
       "<IPython.core.display.HTML object>"
      ]
     },
     "metadata": {},
     "output_type": "display_data"
    },
    {
     "data": {
      "text/html": [
       "\n",
       "    <div>\n",
       "      <progress value='12000' class='' max='12000' style='width:300px; height:20px; vertical-align: middle;'></progress>\n",
       "      100.00% [12000/12000 20:05<00:00 Sampling 4 chains, 0 divergences]\n",
""       "    "
      ],
      "text/plain": [
       "<IPython.core.display.HTML object>"
      ]
     },
     "metadata": {},
     "output_type": "display_data"
    },
    {
     "name": "stderr",
     "output_type": "stream",
     "text": [
      "Sampling 4 chains for 1_000 tune and 2_000 draw iterations (4_000 + 8_000 draws total) took 1223 seconds.\n",
      "The acceptance probability does not match the target. It is 0.6965713732906581, but should be close to 0.8. Try to increase the number of tuning steps.\n",
      "The rhat statistic is larger than 1.05 for some parameters. This indicates slight problems during sampling.\n",
      "The estimated number of effective samples is smaller than 200 for some parameters.\n",
      "/var/folders/5x/lyqr8wv507n43bnwpsz4dq_c0000gn/T/ipykernel_31661/1917878836.py:23: DeprecationWarning: The function `traceplot` from PyMC3 is just an alias for `plot_trace` from ArviZ. Please switch to `pymc3.plot_trace` or `arviz.plot_trace`.\n",
      "  pm.traceplot(trace, model.vars[:-1])\n",
      "Got error No model on context stack. trying to find log_likelihood in translation.\n",
      "/opt/anaconda3/envs/trainingAI/lib/python3.9/site-packages/arviz/data/io_pymc3_3x.py:98: FutureWarning: Using `from_pymc3` without the model will be deprecated in a future release. Not using the model will return less accurate and less useful results. Make sure you use the model argument or call from_pymc3 within a model context.\n",
      "  warnings.warn(\n",
      "Got error No model on context stack. trying to find log_likelihood in translation.\n"
     ]
    },
    {
     "ename": "AttributeError",
     "evalue": "'FreeRV' object has no attribute 'startswith'",
     "output_type": "error",
     "traceback": [
      "\u001b[0;31m---------------------------------------------------------------------------\u001b[0m",
      "\u001b[0;31mAttributeError\u001b[0m                            Traceback (most recent call last)",
      "\u001b[0;32m/var/folders/5x/lyqr8wv507n43bnwpsz4dq_c0000gn/T/ipykernel_31661/791167787.py\u001b[0m in \u001b[0;36m<module>\u001b[0;34m\u001b[0m\n\u001b[1;32m      1\u001b[0m \u001b[0;31m# Configure the stochastic volatility model and carry out # MCMC sampling using NUTS, plotting the trace\u001b[0m\u001b[0;34m\u001b[0m\u001b[0;34m\u001b[0m\u001b[0m\n\u001b[1;32m      2\u001b[0m \u001b[0msamples\u001b[0m \u001b[0;34m=\u001b[0m \u001b[0;36m2000\u001b[0m\u001b[0;34m\u001b[0m\u001b[0;34m\u001b[0m\u001b[0m\n\u001b[0;32m----> 3\u001b[0;31m \u001b[0mconfigure_sample_stoch_vol_model\u001b[0m\u001b[0;34m(\u001b[0m\u001b[0mlog_returns\u001b[0m\u001b[0;34m,\u001b[0m \u001b[0msamples\u001b[0m\u001b[0;34m)\u001b[0m\u001b[0;34m\u001b[0m\u001b[0;34m\u001b[0m\u001b[0m\n\u001b[0m",
      "\u001b[0;32m/var/folders/5x/lyqr8wv507n43bnwpsz4dq_c0000gn/T/ipykernel_31661/1917878836.py\u001b[0m in \u001b[0;36mconfigure_sample_stoch_vol_model\u001b[0;34m(log_returns, samples)\u001b[0m\n\u001b[1;32m     21\u001b[0m     \u001b[0;32mwith\u001b[0m \u001b[0mmodel\u001b[0m\u001b[0;34m:\u001b[0m\u001b[0;34m\u001b[0m\u001b[0;34m\u001b[0m\u001b[0m\n\u001b[1;32m     22\u001b[0m         \u001b[0mtrace\u001b[0m \u001b[0;34m=\u001b[0m \u001b[0mpm\u001b[0m\u001b[0;34m.\u001b[0m\u001b[0msample\u001b[0m\u001b[0;34m(\u001b[0m\u001b[0msamples\u001b[0m\u001b[0;34m)\u001b[0m\u001b[0;34m\u001b[0m\u001b[0;34m\u001b[0m\u001b[0m\n\u001b[0;32m---> 23\u001b[0;31m     \u001b[0mpm\u001b[0m\u001b[0;34m.\u001b[0m\u001b[0mtraceplot\u001b[0m\u001b[0;34m(\u001b[0m\u001b[0mtrace\u001b[0m\u001b[0;34m,\u001b[0m \u001b[0mmodel\u001b[0m\u001b[0;34m.\u001b[0m\u001b[0mvars\u001b[0m\u001b[0;34m[\u001b[0m\u001b[0;34m:\u001b[0m\u001b[0;34m-\u001b[0m\u001b[0;36m1\u001b[0m\u001b[0;34m]\u001b[0m\u001b[0;34m)\u001b[0m\u001b[0;34m\u001b[0m\u001b[0;34m\u001b[0m\u001b[0m\n\u001b[0m\u001b[1;32m     24\u001b[0m     \u001b[0mplt\u001b[0m\u001b[0;34m.\u001b[0m\u001b[0mshow\u001b[0m\u001b[0;34m(\u001b[0m\u001b[0;34m)\u001b[0m\u001b[0;34m\u001b[0m\u001b[0;34m\u001b[0m\u001b[0m\n\u001b[1;32m     25\u001b[0m \u001b[0;34m\u001b[0m\u001b[0m\n",
      "\u001b[0;32m/opt/anaconda3/envs/trainingAI/lib/python3.9/site-packages/pymc3/plots/__init__.py\u001b[0m in \u001b[0;36mwrapped\u001b[0;34m(*args, **kwargs)\u001b[0m\n\u001b[1;32m     46\u001b[0m             \u001b[0mstacklevel\u001b[0m\u001b[0;34m=\u001b[0m\u001b[0;36m2\u001b[0m\u001b[0;34m,\u001b[0m\u001b[0;34m\u001b[0m\u001b[0;34m\u001b[0m\u001b[0m\n\u001b[1;32m     47\u001b[0m         )\n\u001b[0;32m---> 48\u001b[0;31m         \u001b[0;32mreturn\u001b[0m \u001b[0mfunc\u001b[0m\u001b[0;34m(\u001b[0m\u001b[0;34m*\u001b[0m\u001b[0margs\u001b[0m\u001b[0;34m,\u001b[0m \u001b[0;34m**\u001b[0m\u001b[0mkwargs\u001b[0m\u001b[0;34m)\u001b[0m\u001b[0;34m\u001b[0m\u001b[0;34m\u001b[0m\u001b[0m\n\u001b[0m\u001b[1;32m     49\u001b[0m \u001b[0;34m\u001b[0m\u001b[0m\n\u001b[1;32m     50\u001b[0m     \u001b[0;32mreturn\u001b[0m \u001b[0mwrapped\u001b[0m\u001b[0;34m\u001b[0m\u001b[0;34m\u001b[0m\u001b[0m\n",
      "\u001b[0;32m/opt/anaconda3/envs/trainingAI/lib/python3.9/site-packages/arviz/plots/traceplot.py\u001b[0m in \u001b[0;36mplot_trace\u001b[0;34m(data, var_names, filter_vars, transform, coords, divergences, kind, figsize, rug, lines, circ_var_names, circ_var_units, compact, compact_prop, combined, chain_prop, legend, plot_kwargs, fill_kwargs, rug_kwargs, hist_kwargs, trace_kwargs, rank_kwargs, labeller, axes, backend, backend_config, backend_kwargs, show)\u001b[0m\n\u001b[1;32m    197\u001b[0m         \u001b[0mcoords_data\u001b[0m \u001b[0;34m=\u001b[0m \u001b[0mtransform\u001b[0m\u001b[0;34m(\u001b[0m\u001b[0mcoords_data\u001b[0m\u001b[0;34m)\u001b[0m\u001b[0;34m\u001b[0m\u001b[0;34m\u001b[0m\u001b[0m\n\u001b[1;32m    198\u001b[0m \u001b[0;34m\u001b[0m\u001b[0m\n\u001b[0;32m--> 199\u001b[0;31m     \u001b[0mvar_names\u001b[0m \u001b[0;34m=\u001b[0m \u001b[0m_var_names\u001b[0m\u001b[0;34m(\u001b[0m\u001b[0mvar_names\u001b[0m\u001b[0;34m,\u001b[0m \u001b[0mcoords_data\u001b[0m\u001b[0;34m,\u001b[0m \u001b[0mfilter_vars\u001b[0m\u001b[0;34m)\u001b[0m\u001b[0;34m\u001b[0m\u001b[0;34m\u001b[0m\u001b[0m\n\u001b[0m\u001b[1;32m    200\u001b[0m \u001b[0;34m\u001b[0m\u001b[0m\n\u001b[1;32m    201\u001b[0m     \u001b[0;32mif\u001b[0m \u001b[0mcompact\u001b[0m\u001b[0;34m:\u001b[0m\u001b[0;34m\u001b[0m\u001b[0;34m\u001b[0m\u001b[0m\n",
      "\u001b[0;32m/opt/anaconda3/envs/trainingAI/lib/python3.9/site-packages/arviz/utils.py\u001b[0m in \u001b[0;36m_var_names\u001b[0;34m(var_names, data, filter_vars)\u001b[0m\n\u001b[1;32m     63\u001b[0m \u001b[0;34m\u001b[0m\u001b[0m\n\u001b[1;32m     64\u001b[0m         \u001b[0;32mtry\u001b[0m\u001b[0;34m:\u001b[0m\u001b[0;34m\u001b[0m\u001b[0;34m\u001b[0m\u001b[0m\n\u001b[0;32m---> 65\u001b[0;31m             \u001b[0mvar_names\u001b[0m \u001b[0;34m=\u001b[0m \u001b[0m_subset_list\u001b[0m\u001b[0;34m(\u001b[0m\u001b[0mvar_names\u001b[0m\u001b[0;34m,\u001b[0m \u001b[0mall_vars\u001b[0m\u001b[0;34m,\u001b[0m \u001b[0mfilter_items\u001b[0m\u001b[0;34m=\u001b[0m\u001b[0mfilter_vars\u001b[0m\u001b[0;34m,\u001b[0m \u001b[0mwarn\u001b[0m\u001b[0;34m=\u001b[0m\u001b[0;32mFalse\u001b[0m\u001b[0;34m)\u001b[0m\u001b[0;34m\u001b[0m\u001b[0;34m\u001b[0m\u001b[0m\n\u001b[0m\u001b[1;32m     66\u001b[0m         \u001b[0;32mexcept\u001b[0m \u001b[0mKeyError\u001b[0m \u001b[0;32mas\u001b[0m \u001b[0merr\u001b[0m\u001b[0;34m:\u001b[0m\u001b[0;34m\u001b[0m\u001b[0;34m\u001b[0m\u001b[0m\n\u001b[1;32m     67\u001b[0m             \u001b[0mmsg\u001b[0m \u001b[0;34m=\u001b[0m \u001b[0;34m\" \"\u001b[0m\u001b[0;34m.\u001b[0m\u001b[0mjoin\u001b[0m\u001b[0;34m(\u001b[0m\u001b[0;34m(\u001b[0m\u001b[0;34m\"var names:\"\u001b[0m\u001b[0;34m,\u001b[0m \u001b[0;34mf\"{err}\"\u001b[0m\u001b[0;34m,\u001b[0m \u001b[0;34m\"in dataset\"\u001b[0m\u001b[0;34m)\u001b[0m\u001b[0;34m)\u001b[0m\u001b[0;34m\u001b[0m\u001b[0;34m\u001b[0m\u001b[0m\n",
      "\u001b[0;32m/opt/anaconda3/envs/trainingAI/lib/python3.9/site-packages/arviz/utils.py\u001b[0m in \u001b[0;36m_subset_list\u001b[0;34m(subset, whole_list, filter_items, warn)\u001b[0m\n\u001b[1;32m    106\u001b[0m             )\n\u001b[1;32m    107\u001b[0m \u001b[0;34m\u001b[0m\u001b[0m\n\u001b[0;32m--> 108\u001b[0;31m         excluded_items = [\n\u001b[0m\u001b[1;32m    109\u001b[0m             \u001b[0mitem\u001b[0m\u001b[0;34m[\u001b[0m\u001b[0;36m1\u001b[0m\u001b[0;34m:\u001b[0m\u001b[0;34m]\u001b[0m \u001b[0;32mfor\u001b[0m \u001b[0mitem\u001b[0m \u001b[0;32min\u001b[0m \u001b[0msubset\u001b[0m \u001b[0;32mif\u001b[0m \u001b[0mitem\u001b[0m\u001b[0;34m.\u001b[0m\u001b[0mstartswith\u001b[0m\u001b[0;34m(\u001b[0m\u001b[0;34m\"~\"\u001b[0m\u001b[0;34m)\u001b[0m \u001b[0;32mand\u001b[0m \u001b[0mitem\u001b[0m \u001b[0;32mnot\u001b[0m \u001b[0;32min\u001b[0m \u001b[0mwhole_list\u001b[0m\u001b[0;34m\u001b[0m\u001b[0;34m\u001b[0m\u001b[0m\n\u001b[1;32m    110\u001b[0m         ]\n",
      "\u001b[0;32m/opt/anaconda3/envs/trainingAI/lib/python3.9/site-packages/arviz/utils.py\u001b[0m in \u001b[0;36m<listcomp>\u001b[0;34m(.0)\u001b[0m\n\u001b[1;32m    107\u001b[0m \u001b[0;34m\u001b[0m\u001b[0m\n\u001b[1;32m    108\u001b[0m         excluded_items = [\n\u001b[0;32m--> 109\u001b[0;31m             \u001b[0mitem\u001b[0m\u001b[0;34m[\u001b[0m\u001b[0;36m1\u001b[0m\u001b[0;34m:\u001b[0m\u001b[0;34m]\u001b[0m \u001b[0;32mfor\u001b[0m \u001b[0mitem\u001b[0m \u001b[0;32min\u001b[0m \u001b[0msubset\u001b[0m \u001b[0;32mif\u001b[0m \u001b[0mitem\u001b[0m\u001b[0;34m.\u001b[0m\u001b[0mstartswith\u001b[0m\u001b[0;34m(\u001b[0m\u001b[0;34m\"~\"\u001b[0m\u001b[0;34m)\u001b[0m \u001b[0;32mand\u001b[0m \u001b[0mitem\u001b[0m \u001b[0;32mnot\u001b[0m \u001b[0;32min\u001b[0m \u001b[0mwhole_list\u001b[0m\u001b[0;34m\u001b[0m\u001b[0;34m\u001b[0m\u001b[0m\n\u001b[0m\u001b[1;32m    110\u001b[0m         ]\n\u001b[1;32m    111\u001b[0m         \u001b[0mfilter_items\u001b[0m \u001b[0;34m=\u001b[0m \u001b[0mstr\u001b[0m\u001b[0;34m(\u001b[0m\u001b[0mfilter_items\u001b[0m\u001b[0;34m)\u001b[0m\u001b[0;34m.\u001b[0m\u001b[0mlower\u001b[0m\u001b[0;34m(\u001b[0m\u001b[0;34m)\u001b[0m\u001b[0;34m\u001b[0m\u001b[0;34m\u001b[0m\u001b[0m\n",
      "\u001b[0;31mAttributeError\u001b[0m: 'FreeRV' object has no attribute 'startswith'"
     ]
    }
   ],
   "source": [
    "# Configure the stochastic volatility model and carry out # MCMC sampling using NUTS, plotting the trace\n",
    "\n",
    "configure_sample_stoch_vol_model(log_returns, samples)"
   ]
  },
  {
   "cell_type": "markdown",
   "id": "7369e716",
   "metadata": {},
   "source": [
    "# References\n",
    "<hr style = \"border:2px solid black\" ></hr>"
   ]
  },
  {
   "cell_type": "markdown",
   "id": "b9c70468",
   "metadata": {},
   "source": [
    "\n",
    "- https://www.quantstart.com/advanced-algorithmic-trading-ebook/ \n",
    "\n",
""   ]
  },
  {
   "cell_type": "code",
   "execution_count": null,
   "id": "7c01a6dc",
   "metadata": {},
   "outputs": [],
   "source": []
  }
 ],
 "metadata": {
  "kernelspec": {
   "display_name": "trainingAI",
   "language": "python",
   "name": "trainingai"
  },
  "language_info": {
   "codemirror_mode": {
    "name": "ipython",
    "version": 3
   },
   "file_extension": ".py",
   "mimetype": "text/x-python",
   "name": "python",
   "nbconvert_exporter": "python",
   "pygments_lexer": "ipython3",
   "version": "3.9.7"
  },
  "toc": {
   "base_numbering": 1,
   "nav_menu": {},
   "number_sections": true,
   "sideBar": true,
   "skip_h1_title": false,
   "title_cell": "Table of Contents",
   "title_sidebar": "Contents",
   "toc_cell": true,
   "toc_position": {},
   "toc_section_display": true,
   "toc_window_display": true
  },
  "varInspector": {
   "cols": {
    "lenName": 16,
    "lenType": 16,
    "lenVar": 40
   },
   "kernels_config": {
    "python": {
     "delete_cmd_postfix": "",
     "delete_cmd_prefix": "del ",
     "library": "var_list.py",
     "varRefreshCmd": "print(var_dic_list())"
    },
    "r": {
     "delete_cmd_postfix": ") ",
     "delete_cmd_prefix": "rm(",
     "library": "var_list.r",
     "varRefreshCmd": "cat(var_dic_list()) "
    }
   },
   "types_to_exclude": [
    "module",
    "function",
    "builtin_function_or_method",
    "instance",
    "_Feature"
   ],
   "window_display": false
  }
 },
 "nbformat": 4,
 "nbformat_minor": 5
}
