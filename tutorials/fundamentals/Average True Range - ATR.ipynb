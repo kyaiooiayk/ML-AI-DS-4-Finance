{
 "cells": [
  {
   "cell_type": "markdown",
   "id": "847648a3",
   "metadata": {},
   "source": [
    "# Introduction\n",
    "<hr style = \"border:2px solid black\" ></hr>"
   ]
  },
  {
   "cell_type": "markdown",
   "id": "95f5fc09",
   "metadata": {},
   "source": [
    "<div class=\"alert alert-warning\">\n",
    "<font color=black>\n",
    "\n",
    "**What?** Average True Range (ATR)\n",
    "\n",
    "</font>\n",
    "</div>"
   ]
  },
  {
   "cell_type": "markdown",
   "id": "dcc4eb4a",
   "metadata": {},
   "source": [
    "# Definition\n",
    "<hr style = \"border:2px solid black\" ></hr>"
   ]
  },
  {
   "cell_type": "markdown",
   "id": "0534a688",
   "metadata": {},
   "source": [
    "<div class=\"alert alert-info\">\n",
    "<font color=black>\n",
    "\n",
    "- Volatility can be thought as the equivalent as risk.\n",
    "- The Average True Range (ATR) is a moving average of the True Range (TR). And the TR is given by the maximum of the current high (H) minus current low (L), the absolute value of current high (H) minus previous close (Cp), and the absolute value of current low (L) and previous close (Cp).\n",
    "\n",
    "</font>\n",
    "</div>"
   ]
  },
  {
   "cell_type": "markdown",
   "id": "d5523c3b",
   "metadata": {},
   "source": [
    "$TR = \\max[H − L, |H − C_P|, |L − C_P|]$\n",
    "\n",
    "$ATR = \\frac{1}{n}\\sum_{i=1}^{n} TR_i$\n",
    "\n",
    "- $TR_i$: A particular True Range\n",
    "- $n$: The time period employed\n",
    "- $H$: Current High\n",
    "- $L$: Current Low\n",
    "- $C_P$: Previous Close"
   ]
  },
  {
   "cell_type": "markdown",
   "id": "712c1ac2",
   "metadata": {},
   "source": [
    "# Imports\n",
    "<hr style = \"border:2px solid black\" ></hr>"
   ]
  },
  {
   "cell_type": "code",
   "execution_count": 19,
   "id": "9676a771",
   "metadata": {
    "ExecuteTime": {
     "end_time": "2022-08-28T10:11:53.693665Z",
     "start_time": "2022-08-28T10:11:53.691089Z"
    }
   },
   "outputs": [],
   "source": [
    "import numpy as np\n",
    "import pandas_datareader as pdr\n",
    "import datetime as dt\n",
    "import pandas as pd\n",
    "import matplotlib.pyplot as plt"
   ]
  },
  {
   "cell_type": "markdown",
   "id": "10e5656d",
   "metadata": {},
   "source": [
    "# Import data\n",
    "<hr style = \"border:2px solid black\" ></hr>"
   ]
  },
  {
   "cell_type": "code",
   "execution_count": 2,
   "id": "ec9d19c5",
   "metadata": {
    "ExecuteTime": {
     "end_time": "2022-08-28T10:08:15.515221Z",
     "start_time": "2022-08-28T10:08:14.866647Z"
    }
   },
   "outputs": [],
   "source": [
    "# NLFLX is the netflix stock price\n",
    "start = dt.datetime(2020, 1, 1)\n",
    "data = pdr.get_data_yahoo(\"NFLX\", start)"
   ]
  },
  {
   "cell_type": "code",
   "execution_count": 3,
   "id": "d61cd93f",
   "metadata": {
    "ExecuteTime": {
     "end_time": "2022-08-28T10:08:15.534050Z",
     "start_time": "2022-08-28T10:08:15.518085Z"
    }
   },
   "outputs": [
    {
     "data": {
      "text/html": [
       "<div>\n",
       "<style scoped>\n",
       "    .dataframe tbody tr th:only-of-type {\n",
       "        vertical-align: middle;\n",
       "    }\n",
       "\n",
       "    .dataframe tbody tr th {\n",
       "        vertical-align: top;\n",
       "    }\n",
       "\n",
       "    .dataframe thead th {\n",
       "        text-align: right;\n",
       "    }\n",
       "</style>\n",
       "<table border=\"1\" class=\"dataframe\">\n",
       "  <thead>\n",
       "    <tr style=\"text-align: right;\">\n",
       "      <th></th>\n",
       "      <th>High</th>\n",
       "      <th>Low</th>\n",
       "      <th>Open</th>\n",
       "      <th>Close</th>\n",
       "      <th>Volume</th>\n",
       "      <th>Adj Close</th>\n",
       "    </tr>\n",
       "    <tr>\n",
       "      <th>Date</th>\n",
       "      <th></th>\n",
       "      <th></th>\n",
       "      <th></th>\n",
       "      <th></th>\n",
       "      <th></th>\n",
       "      <th></th>\n",
       "    </tr>\n",
       "  </thead>\n",
       "  <tbody>\n",
       "    <tr>\n",
       "      <th>2020-01-02</th>\n",
       "      <td>329.980011</td>\n",
       "      <td>324.779999</td>\n",
       "      <td>326.100006</td>\n",
       "      <td>329.809998</td>\n",
       "      <td>4485800</td>\n",
       "      <td>329.809998</td>\n",
       "    </tr>\n",
       "    <tr>\n",
       "      <th>2020-01-03</th>\n",
       "      <td>329.859985</td>\n",
       "      <td>325.529999</td>\n",
       "      <td>326.779999</td>\n",
       "      <td>325.899994</td>\n",
       "      <td>3806900</td>\n",
       "      <td>325.899994</td>\n",
       "    </tr>\n",
       "    <tr>\n",
       "      <th>2020-01-06</th>\n",
       "      <td>336.359985</td>\n",
       "      <td>321.200012</td>\n",
       "      <td>323.119995</td>\n",
       "      <td>335.829987</td>\n",
       "      <td>5663100</td>\n",
       "      <td>335.829987</td>\n",
       "    </tr>\n",
       "    <tr>\n",
       "      <th>2020-01-07</th>\n",
       "      <td>336.700012</td>\n",
       "      <td>330.299988</td>\n",
       "      <td>336.470001</td>\n",
       "      <td>330.750000</td>\n",
       "      <td>4703200</td>\n",
       "      <td>330.750000</td>\n",
       "    </tr>\n",
       "    <tr>\n",
       "      <th>2020-01-08</th>\n",
       "      <td>342.700012</td>\n",
       "      <td>331.049988</td>\n",
       "      <td>331.489990</td>\n",
       "      <td>339.260010</td>\n",
       "      <td>7104500</td>\n",
       "      <td>339.260010</td>\n",
       "    </tr>\n",
       "  </tbody>\n",
       "</table>\n",
       "</div>"
      ],
      "text/plain": [
       "                  High         Low        Open       Close   Volume  \\\n",
       "Date                                                                  \n",
       "2020-01-02  329.980011  324.779999  326.100006  329.809998  4485800   \n",
       "2020-01-03  329.859985  325.529999  326.779999  325.899994  3806900   \n",
       "2020-01-06  336.359985  321.200012  323.119995  335.829987  5663100   \n",
       "2020-01-07  336.700012  330.299988  336.470001  330.750000  4703200   \n",
       "2020-01-08  342.700012  331.049988  331.489990  339.260010  7104500   \n",
       "\n",
       "             Adj Close  \n",
       "Date                    \n",
       "2020-01-02  329.809998  \n",
       "2020-01-03  325.899994  \n",
       "2020-01-06  335.829987  \n",
       "2020-01-07  330.750000  \n",
       "2020-01-08  339.260010  "
      ]
     },
     "execution_count": 3,
     "metadata": {},
     "output_type": "execute_result"
    }
   ],
   "source": [
    "data.head()"
   ]
  },
  {
   "cell_type": "markdown",
   "id": "55c866d8",
   "metadata": {},
   "source": [
    "# ATR\n",
    "<hr style = \"border:2px solid black\" ></hr>"
   ]
  },
  {
   "cell_type": "code",
   "execution_count": 4,
   "id": "88bc1265",
   "metadata": {
    "ExecuteTime": {
     "end_time": "2022-08-28T10:08:15.540829Z",
     "start_time": "2022-08-28T10:08:15.536581Z"
    }
   },
   "outputs": [],
   "source": [
    "high_low = data['High'] - data['Low']\n",
    "high_cp = np.abs(data['High'] - data['Close'].shift())\n",
    "low_cp = np.abs(data['Low'] - data['Close'].shift())"
   ]
  },
  {
   "cell_type": "code",
   "execution_count": 5,
   "id": "a1c50abe",
   "metadata": {
    "ExecuteTime": {
     "end_time": "2022-08-28T10:08:15.546085Z",
     "start_time": "2022-08-28T10:08:15.542626Z"
    }
   },
   "outputs": [],
   "source": [
    "df = pd.concat([high_low, high_cp, low_cp], axis=1)"
   ]
  },
  {
   "cell_type": "code",
   "execution_count": 6,
   "id": "efac6ff0",
   "metadata": {
    "ExecuteTime": {
     "end_time": "2022-08-28T10:08:15.551294Z",
     "start_time": "2022-08-28T10:08:15.548225Z"
    }
   },
   "outputs": [],
   "source": [
    "true_range = np.max(df, axis=1)"
   ]
  },
  {
   "cell_type": "code",
   "execution_count": 7,
   "id": "dc8788ee",
   "metadata": {
    "ExecuteTime": {
     "end_time": "2022-08-28T10:08:15.556132Z",
     "start_time": "2022-08-28T10:08:15.553258Z"
    }
   },
   "outputs": [],
   "source": [
    "average_true_range = true_range.rolling(14).mean()"
   ]
  },
  {
   "cell_type": "code",
   "execution_count": 8,
   "id": "f9b3767c",
   "metadata": {
    "ExecuteTime": {
     "end_time": "2022-08-28T10:08:15.563346Z",
     "start_time": "2022-08-28T10:08:15.557856Z"
    }
   },
   "outputs": [
    {
     "data": {
      "text/plain": [
       "Date\n",
       "2020-01-02         NaN\n",
       "2020-01-03         NaN\n",
       "2020-01-06         NaN\n",
       "2020-01-07         NaN\n",
       "2020-01-08         NaN\n",
       "                ...   \n",
       "2022-08-22    9.120004\n",
       "2022-08-23    9.042860\n",
       "2022-08-24    9.267145\n",
       "2022-08-25    9.132859\n",
       "2022-08-26    9.007859\n",
       "Length: 669, dtype: float64"
      ]
     },
     "execution_count": 8,
     "metadata": {},
     "output_type": "execute_result"
    }
   ],
   "source": [
    "average_true_range"
   ]
  },
  {
   "cell_type": "code",
   "execution_count": 9,
   "id": "ec647279",
   "metadata": {
    "ExecuteTime": {
     "end_time": "2022-08-28T10:08:15.573363Z",
     "start_time": "2022-08-28T10:08:15.567837Z"
    }
   },
   "outputs": [
    {
     "data": {
      "text/plain": [
       "Date\n",
       "2020-01-02         NaN\n",
       "2020-01-03         NaN\n",
       "2020-01-06         NaN\n",
       "2020-01-07         NaN\n",
       "2020-01-08         NaN\n",
       "                ...   \n",
       "2022-08-22    9.120004\n",
       "2022-08-23    9.042860\n",
       "2022-08-24    9.267145\n",
       "2022-08-25    9.132859\n",
       "2022-08-26    9.007859\n",
       "Length: 669, dtype: float64"
      ]
     },
     "execution_count": 9,
     "metadata": {},
     "output_type": "execute_result"
    }
   ],
   "source": [
    "true_range.rolling(14).sum()/14"
   ]
  },
  {
   "cell_type": "markdown",
   "id": "c893abfa",
   "metadata": {},
   "source": [
    "# Visualisation against stock price\n",
    "<hr style = \"border:2px solid black\" ></hr>"
   ]
  },
  {
   "cell_type": "markdown",
   "id": "629e51f7",
   "metadata": {},
   "source": [
    "<div class=\"alert alert-info\">\n",
    "<font color=black>\n",
    "\n",
    "- In periods with **big** changes in price, the ATR moves **up**. \n",
    "- In periods with **small** changes in price, the ATR moves **down**. \n",
    "\n",
    "</font>\n",
    "</div>"
   ]
  },
  {
   "cell_type": "code",
   "execution_count": 18,
   "id": "290b2afa",
   "metadata": {
    "ExecuteTime": {
     "end_time": "2022-08-28T10:10:15.114459Z",
     "start_time": "2022-08-28T10:10:14.891981Z"
    }
   },
   "outputs": [
    {
     "data": {
      "image/png": "[encoded data removed]",
      "text/plain": [
       "<Figure size 432x288 with 2 Axes>"
      ]
     },
     "metadata": {
      "needs_background": "light"
     },
     "output_type": "display_data"
    }
   ],
   "source": [
    "fig, ax = plt.subplots()\n",
    "average_true_range.plot(ax=ax)\n",
    "ax2 = data['Close'].plot(ax=ax, secondary_y=True, alpha=.3)\n",
    "ax.set_ylabel(\"ATR\")\n",
    "ax2.set_ylabel(\"Price\")\n",
    "ax.legend()\n",
    "ax2.legend()"
   ]
  },
  {
   "cell_type": "markdown",
   "id": "2992d076",
   "metadata": {},
   "source": [
    "# References\n",
    "<hr style = \"border:2px solid black\" ></hr>"
   ]
  },
  {
   "cell_type": "markdown",
   "id": "55bf238e",
   "metadata": {},
   "source": [
    "<div class=\"alert alert-warning\">\n",
    "<font color=black>\n",
    "\n",
    "- [GitHub code](https://github.com/LearnPythonWithRune/PythonForFinanceRiskAndReturn/blob/main/02%20-%20Volatitlity.ipynb)\n",
    "- [Volatility](https://www.investopedia.com/terms/v/volatility.asp)\n",
    "- [Average True Range](https://www.investopedia.com/terms/a/atr.asp)\n",
    "\n",
    "</font>\n",
    "</div>"
   ]
  },
  {
   "cell_type": "code",
   "execution_count": null,
   "id": "20e80d8b",
   "metadata": {},
   "outputs": [],
   "source": []
  }
 ],
 "metadata": {
  "kernelspec": {
   "display_name": "trainingAI",
   "language": "python",
   "name": "trainingai"
  },
  "language_info": {
   "codemirror_mode": {
    "name": "ipython",
    "version": 3
   },
   "file_extension": ".py",
   "mimetype": "text/x-python",
   "name": "python",
   "nbconvert_exporter": "python",
   "pygments_lexer": "ipython3",
   "version": "3.9.7"
  },
  "toc": {
   "base_numbering": 1,
   "nav_menu": {},
   "number_sections": true,
   "sideBar": true,
   "skip_h1_title": false,
   "title_cell": "Table of Contents",
   "title_sidebar": "Contents",
   "toc_cell": false,
   "toc_position": {},
   "toc_section_display": true,
   "toc_window_display": true
  },
  "varInspector": {
   "cols": {
    "lenName": 16,
    "lenType": 16,
    "lenVar": 40
   },
   "kernels_config": {
    "python": {
     "delete_cmd_postfix": "",
     "delete_cmd_prefix": "del ",
     "library": "var_list.py",
     "varRefreshCmd": "print(var_dic_list())"
    },
    "r": {
     "delete_cmd_postfix": ") ",
     "delete_cmd_prefix": "rm(",
     "library": "var_list.r",
     "varRefreshCmd": "cat(var_dic_list()) "
    }
   },
   "types_to_exclude": [
    "module",
    "function",
    "builtin_function_or_method",
    "instance",
    "_Feature"
   ],
   "window_display": false
  }
 },
 "nbformat": 4,
 "nbformat_minor": 5
}
