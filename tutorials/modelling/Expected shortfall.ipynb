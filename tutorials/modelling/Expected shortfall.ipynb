{
 "cells": [
  {
   "cell_type": "markdown",
   "metadata": {
    "toc": true
   },
   "source": [
    "<h1>Table of Contents<span class=\"tocSkip\"></span></h1>\n",
    "<div class=\"toc\"><ul class=\"toc-item\"><li><span><a href=\"#Introduction\" data-toc-modified-id=\"Introduction-1\">Introduction</a></span></li><li><span><a href=\"#Expected-shortfall\" data-toc-modified-id=\"Expected-shortfall-2\">Expected shortfall</a></span></li><li><span><a href=\"#Imports\" data-toc-modified-id=\"Imports-3\">Imports</a></span></li><li><span><a href=\"#Loading-the-data\" data-toc-modified-id=\"Loading-the-data-4\">Loading the data</a></span></li><li><span><a href=\"#Modelling\" data-toc-modified-id=\"Modelling-5\">Modelling</a></span></li><li><span><a href=\"#References\" data-toc-modified-id=\"References-6\">References</a></span></li></ul></div>"
   ]
  },
  {
   "cell_type": "markdown",
   "metadata": {},
   "source": [
    "# Introduction\n",
    "<hr style = \"border:2px solid black\" ></hr>"
   ]
  },
  {
   "cell_type": "markdown",
   "metadata": {},
   "source": [
    "<div class=\"alert alert-warning\">\n",
    "<font color=black>\n",
    "\n",
    "**What?** Expected shortfall\n",
    "\n",
    "</font>\n",
    "</div>"
   ]
  },
  {
   "cell_type": "markdown",
   "metadata": {},
   "source": [
    "# Expected shortfall\n",
    "<hr style = \"border:2px solid black\" ></hr>"
   ]
  },
  {
   "cell_type": "markdown",
   "metadata": {},
   "source": [
    "<div class=\"alert alert-info\">\n",
    "<font color=bla ck>\n",
    "\n",
    "- Unlike VaR (Value at risk), ES (Expected Shortfall) focuses on the tail of the distribution. More specifically, ES enables us to take into account unexpected risks in the market. However, this doesn’t mean that ES and VaR are two entirely different concepts. Rather, they are related—that is, it is possible to express ES using VaR.\n",
    "\n",
    "</font>\n",
    "</div>"
   ]
  },
  {
   "cell_type": "markdown",
   "metadata": {},
   "source": [
    "# Imports\n",
    "<hr style = \"border:2px solid black\" ></hr>"
   ]
  },
  {
   "cell_type": "code",
   "execution_count": 1,
   "metadata": {
    "ExecuteTime": {
     "end_time": "2022-09-13T13:16:58.697118Z",
     "start_time": "2022-09-13T13:16:57.601264Z"
    }
   },
   "outputs": [],
   "source": [
    "import pandas_datareader as pdr\n",
    "import pandas as pd\n",
    "import numpy as np\n",
    "import matplotlib.pyplot as plt\n",
    "import datetime\n",
    "import yfinance as yf\n",
    "from scipy.stats import norm\n",
    "import requests\n",
    "from io import StringIO\n",
    "import seaborn as sns; sns.set()\n",
    "import warnings\n",
    "warnings.filterwarnings('ignore')\n",
    "plt.rcParams['figure.figsize'] = (10,6)\n",
    "plt.rcParams['figure.dpi'] = 300\n",
    "plt.rcParams['savefig.dpi'] = 300"
   ]
  },
  {
   "cell_type": "markdown",
   "metadata": {},
   "source": [
    "# Loading the data\n",
    "<hr style = \"border:2px solid black\" ></hr>"
   ]
  },
  {
   "cell_type": "code",
   "execution_count": 2,
   "metadata": {
    "ExecuteTime": {
     "end_time": "2022-09-13T13:16:58.701997Z",
     "start_time": "2022-09-13T13:16:58.699039Z"
    }
   },
   "outputs": [],
   "source": [
    "def getDailyData(symbol, start, end):\n",
    "    pd = pdr.get_data_yahoo(symbol, start, end)\n",
    "    return pd"
   ]
  },
  {
   "cell_type": "code",
   "execution_count": 3,
   "metadata": {
    "ExecuteTime": {
     "end_time": "2022-09-13T13:17:01.041477Z",
     "start_time": "2022-09-13T13:16:58.704851Z"
    },
    "scrolled": true
   },
   "outputs": [
    {
     "data": {
      "text/html": [
       "<div>\n",
       "<style scoped>\n",
       "    .dataframe tbody tr th:only-of-type {\n",
       "        vertical-align: middle;\n",
       "    }\n",
       "\n",
       "    .dataframe tbody tr th {\n",
       "        vertical-align: top;\n",
       "    }\n",
       "\n",
       "    .dataframe thead tr th {\n",
       "        text-align: left;\n",
       "    }\n",
       "\n",
       "    .dataframe thead tr:last-of-type th {\n",
       "        text-align: right;\n",
       "    }\n",
       "</style>\n",
       "<table border=\"1\" class=\"dataframe\">\n",
       "  <thead>\n",
       "    <tr>\n",
       "      <th>Attributes</th>\n",
       "      <th colspan=\"3\" halign=\"left\">Adj Close</th>\n",
       "      <th colspan=\"3\" halign=\"left\">Close</th>\n",
       "      <th colspan=\"3\" halign=\"left\">High</th>\n",
       "      <th colspan=\"3\" halign=\"left\">Low</th>\n",
       "      <th colspan=\"3\" halign=\"left\">Open</th>\n",
       "      <th colspan=\"3\" halign=\"left\">Volume</th>\n",
       "    </tr>\n",
       "    <tr>\n",
       "      <th>Symbols</th>\n",
       "      <th>IBM</th>\n",
       "      <th>MSFT</th>\n",
       "      <th>INTC</th>\n",
       "      <th>IBM</th>\n",
       "      <th>MSFT</th>\n",
       "      <th>INTC</th>\n",
       "      <th>IBM</th>\n",
       "      <th>MSFT</th>\n",
       "      <th>INTC</th>\n",
       "      <th>IBM</th>\n",
       "      <th>MSFT</th>\n",
       "      <th>INTC</th>\n",
       "      <th>IBM</th>\n",
       "      <th>MSFT</th>\n",
       "      <th>INTC</th>\n",
       "      <th>IBM</th>\n",
       "      <th>MSFT</th>\n",
       "      <th>INTC</th>\n",
       "    </tr>\n",
       "    <tr>\n",
       "      <th>Date</th>\n",
       "      <th></th>\n",
       "      <th></th>\n",
       "      <th></th>\n",
       "      <th></th>\n",
       "      <th></th>\n",
       "      <th></th>\n",
       "      <th></th>\n",
       "      <th></th>\n",
       "      <th></th>\n",
       "      <th></th>\n",
       "      <th></th>\n",
       "      <th></th>\n",
       "      <th></th>\n",
       "      <th></th>\n",
       "      <th></th>\n",
       "      <th></th>\n",
       "      <th></th>\n",
       "      <th></th>\n",
       "    </tr>\n",
       "  </thead>\n",
       "  <tbody>\n",
       "    <tr>\n",
       "      <th>2020-01-02</th>\n",
       "      <td>112.916939</td>\n",
       "      <td>156.592010</td>\n",
       "      <td>56.406250</td>\n",
       "      <td>129.464630</td>\n",
       "      <td>160.619995</td>\n",
       "      <td>60.840000</td>\n",
       "      <td>129.942642</td>\n",
       "      <td>160.729996</td>\n",
       "      <td>60.970001</td>\n",
       "      <td>128.843216</td>\n",
       "      <td>158.330002</td>\n",
       "      <td>60.220001</td>\n",
       "      <td>129.063095</td>\n",
       "      <td>158.779999</td>\n",
       "      <td>60.240002</td>\n",
       "      <td>3293436.0</td>\n",
       "      <td>22622100.0</td>\n",
       "      <td>18056000.0</td>\n",
       "    </tr>\n",
       "    <tr>\n",
       "      <th>2020-01-03</th>\n",
       "      <td>112.016403</td>\n",
       "      <td>154.642151</td>\n",
       "      <td>55.720169</td>\n",
       "      <td>128.432129</td>\n",
       "      <td>158.619995</td>\n",
       "      <td>60.099998</td>\n",
       "      <td>128.929260</td>\n",
       "      <td>159.949997</td>\n",
       "      <td>60.700001</td>\n",
       "      <td>127.686424</td>\n",
       "      <td>158.059998</td>\n",
       "      <td>59.810001</td>\n",
       "      <td>127.695984</td>\n",
       "      <td>158.320007</td>\n",
       "      <td>59.810001</td>\n",
       "      <td>2482890.0</td>\n",
       "      <td>21116200.0</td>\n",
       "      <td>15293900.0</td>\n",
       "    </tr>\n",
       "    <tr>\n",
       "      <th>2020-01-06</th>\n",
       "      <td>111.816284</td>\n",
       "      <td>155.041916</td>\n",
       "      <td>55.562557</td>\n",
       "      <td>128.202682</td>\n",
       "      <td>159.029999</td>\n",
       "      <td>59.930000</td>\n",
       "      <td>128.336517</td>\n",
       "      <td>159.100006</td>\n",
       "      <td>60.200001</td>\n",
       "      <td>127.342255</td>\n",
       "      <td>156.509995</td>\n",
       "      <td>59.330002</td>\n",
       "      <td>127.552582</td>\n",
       "      <td>157.080002</td>\n",
       "      <td>59.590000</td>\n",
       "      <td>2537073.0</td>\n",
       "      <td>20813700.0</td>\n",
       "      <td>17755200.0</td>\n",
       "    </tr>\n",
       "    <tr>\n",
       "      <th>2020-01-07</th>\n",
       "      <td>111.891319</td>\n",
       "      <td>153.628220</td>\n",
       "      <td>54.635437</td>\n",
       "      <td>128.288712</td>\n",
       "      <td>157.580002</td>\n",
       "      <td>58.930000</td>\n",
       "      <td>129.024857</td>\n",
       "      <td>159.669998</td>\n",
       "      <td>59.799999</td>\n",
       "      <td>127.533463</td>\n",
       "      <td>157.320007</td>\n",
       "      <td>58.889999</td>\n",
       "      <td>127.810707</td>\n",
       "      <td>159.320007</td>\n",
       "      <td>59.779999</td>\n",
       "      <td>3232977.0</td>\n",
       "      <td>21634100.0</td>\n",
       "      <td>21876100.0</td>\n",
       "    </tr>\n",
       "    <tr>\n",
       "      <th>2020-01-08</th>\n",
       "      <td>112.825218</td>\n",
       "      <td>156.075287</td>\n",
       "      <td>54.672523</td>\n",
       "      <td>129.359467</td>\n",
       "      <td>160.089996</td>\n",
       "      <td>58.970001</td>\n",
       "      <td>129.885284</td>\n",
       "      <td>160.800003</td>\n",
       "      <td>59.320000</td>\n",
       "      <td>128.030594</td>\n",
       "      <td>157.949997</td>\n",
       "      <td>58.520000</td>\n",
       "      <td>128.594650</td>\n",
       "      <td>158.929993</td>\n",
       "      <td>58.889999</td>\n",
       "      <td>4545916.0</td>\n",
       "      <td>27746500.0</td>\n",
       "      <td>23133500.0</td>\n",
       "    </tr>\n",
       "    <tr>\n",
       "      <th>...</th>\n",
       "      <td>...</td>\n",
       "      <td>...</td>\n",
       "      <td>...</td>\n",
       "      <td>...</td>\n",
       "      <td>...</td>\n",
       "      <td>...</td>\n",
       "      <td>...</td>\n",
       "      <td>...</td>\n",
       "      <td>...</td>\n",
       "      <td>...</td>\n",
       "      <td>...</td>\n",
       "      <td>...</td>\n",
       "      <td>...</td>\n",
       "      <td>...</td>\n",
       "      <td>...</td>\n",
       "      <td>...</td>\n",
       "      <td>...</td>\n",
       "      <td>...</td>\n",
       "    </tr>\n",
       "    <tr>\n",
       "      <th>2020-12-15</th>\n",
       "      <td>110.510712</td>\n",
       "      <td>210.971619</td>\n",
       "      <td>48.145493</td>\n",
       "      <td>120.391968</td>\n",
       "      <td>214.130005</td>\n",
       "      <td>50.669998</td>\n",
       "      <td>120.391968</td>\n",
       "      <td>215.419998</td>\n",
       "      <td>51.009998</td>\n",
       "      <td>118.011475</td>\n",
       "      <td>212.240005</td>\n",
       "      <td>50.209999</td>\n",
       "      <td>118.919693</td>\n",
       "      <td>215.169998</td>\n",
       "      <td>50.980000</td>\n",
       "      <td>4556585.0</td>\n",
       "      <td>27000600.0</td>\n",
       "      <td>25465600.0</td>\n",
       "    </tr>\n",
       "    <tr>\n",
       "      <th>2020-12-16</th>\n",
       "      <td>110.177246</td>\n",
       "      <td>216.045654</td>\n",
       "      <td>48.573078</td>\n",
       "      <td>120.028679</td>\n",
       "      <td>219.279999</td>\n",
       "      <td>51.119999</td>\n",
       "      <td>121.003822</td>\n",
       "      <td>220.110001</td>\n",
       "      <td>51.459999</td>\n",
       "      <td>119.780113</td>\n",
       "      <td>214.720001</td>\n",
       "      <td>50.680000</td>\n",
       "      <td>120.391968</td>\n",
       "      <td>214.750000</td>\n",
       "      <td>50.709999</td>\n",
       "      <td>4738485.0</td>\n",
       "      <td>35023300.0</td>\n",
       "      <td>28351000.0</td>\n",
       "    </tr>\n",
       "    <tr>\n",
       "      <th>2020-12-17</th>\n",
       "      <td>110.177246</td>\n",
       "      <td>216.183594</td>\n",
       "      <td>48.126495</td>\n",
       "      <td>120.028679</td>\n",
       "      <td>219.419998</td>\n",
       "      <td>50.650002</td>\n",
       "      <td>120.544930</td>\n",
       "      <td>220.889999</td>\n",
       "      <td>51.320000</td>\n",
       "      <td>119.416824</td>\n",
       "      <td>217.919998</td>\n",
       "      <td>50.220001</td>\n",
       "      <td>120.535370</td>\n",
       "      <td>219.869995</td>\n",
       "      <td>51.150002</td>\n",
       "      <td>3962248.0</td>\n",
       "      <td>32515800.0</td>\n",
       "      <td>26399000.0</td>\n",
       "    </tr>\n",
       "    <tr>\n",
       "      <th>2020-12-18</th>\n",
       "      <td>110.440521</td>\n",
       "      <td>215.365829</td>\n",
       "      <td>45.095421</td>\n",
       "      <td>120.315491</td>\n",
       "      <td>218.589996</td>\n",
       "      <td>47.459999</td>\n",
       "      <td>120.841301</td>\n",
       "      <td>219.690002</td>\n",
       "      <td>50.680000</td>\n",
       "      <td>119.474190</td>\n",
       "      <td>216.020004</td>\n",
       "      <td>47.110001</td>\n",
       "      <td>120.066925</td>\n",
       "      <td>218.589996</td>\n",
       "      <td>50.570000</td>\n",
       "      <td>7900229.0</td>\n",
       "      <td>63354900.0</td>\n",
       "      <td>119298400.0</td>\n",
       "    </tr>\n",
       "    <tr>\n",
       "      <th>2020-12-21</th>\n",
       "      <td>108.281723</td>\n",
       "      <td>219.306839</td>\n",
       "      <td>44.050240</td>\n",
       "      <td>117.963669</td>\n",
       "      <td>222.589996</td>\n",
       "      <td>46.360001</td>\n",
       "      <td>118.718925</td>\n",
       "      <td>224.000000</td>\n",
       "      <td>46.450001</td>\n",
       "      <td>116.367111</td>\n",
       "      <td>217.279999</td>\n",
       "      <td>45.240002</td>\n",
       "      <td>118.518166</td>\n",
       "      <td>217.550003</td>\n",
       "      <td>46.320000</td>\n",
       "      <td>6397022.0</td>\n",
       "      <td>37181900.0</td>\n",
       "      <td>53775700.0</td>\n",
       "    </tr>\n",
       "  </tbody>\n",
       "</table>\n",
       "<p>246 rows × 18 columns</p>\n",
       "</div>"
      ],
      "text/plain": [
       "Attributes   Adj Close                              Close              \\\n",
       "Symbols            IBM        MSFT       INTC         IBM        MSFT   \n",
       "Date                                                                    \n",
       "2020-01-02  112.916939  156.592010  56.406250  129.464630  160.619995   \n",
       "2020-01-03  112.016403  154.642151  55.720169  128.432129  158.619995   \n",
       "2020-01-06  111.816284  155.041916  55.562557  128.202682  159.029999   \n",
       "2020-01-07  111.891319  153.628220  54.635437  128.288712  157.580002   \n",
       "2020-01-08  112.825218  156.075287  54.672523  129.359467  160.089996   \n",
       "...                ...         ...        ...         ...         ...   \n",
       "2020-12-15  110.510712  210.971619  48.145493  120.391968  214.130005   \n",
       "2020-12-16  110.177246  216.045654  48.573078  120.028679  219.279999   \n",
       "2020-12-17  110.177246  216.183594  48.126495  120.028679  219.419998   \n",
       "2020-12-18  110.440521  215.365829  45.095421  120.315491  218.589996   \n",
       "2020-12-21  108.281723  219.306839  44.050240  117.963669  222.589996   \n",
       "\n",
       "Attributes                   High                                Low  \\\n",
       "Symbols          INTC         IBM        MSFT       INTC         IBM   \n",
       "Date                                                                   \n",
       "2020-01-02  60.840000  129.942642  160.729996  60.970001  128.843216   \n",
       "2020-01-03  60.099998  128.929260  159.949997  60.700001  127.686424   \n",
       "2020-01-06  59.930000  128.336517  159.100006  60.200001  127.342255   \n",
       "2020-01-07  58.930000  129.024857  159.669998  59.799999  127.533463   \n",
       "2020-01-08  58.970001  129.885284  160.800003  59.320000  128.030594   \n",
       "...               ...         ...         ...        ...         ...   \n",
       "2020-12-15  50.669998  120.391968  215.419998  51.009998  118.011475   \n",
       "2020-12-16  51.119999  121.003822  220.110001  51.459999  119.780113   \n",
       "2020-12-17  50.650002  120.544930  220.889999  51.320000  119.416824   \n",
       "2020-12-18  47.459999  120.841301  219.690002  50.680000  119.474190   \n",
       "2020-12-21  46.360001  118.718925  224.000000  46.450001  116.367111   \n",
       "\n",
       "Attributes                               Open                         \\\n",
       "Symbols           MSFT       INTC         IBM        MSFT       INTC   \n",
       "Date                                                                   \n",
       "2020-01-02  158.330002  60.220001  129.063095  158.779999  60.240002   \n",
       "2020-01-03  158.059998  59.810001  127.695984  158.320007  59.810001   \n",
       "2020-01-06  156.509995  59.330002  127.552582  157.080002  59.590000   \n",
       "2020-01-07  157.320007  58.889999  127.810707  159.320007  59.779999   \n",
       "2020-01-08  157.949997  58.520000  128.594650  158.929993  58.889999   \n",
       "...                ...        ...         ...         ...        ...   \n",
       "2020-12-15  212.240005  50.209999  118.919693  215.169998  50.980000   \n",
       "2020-12-16  214.720001  50.680000  120.391968  214.750000  50.709999   \n",
       "2020-12-17  217.919998  50.220001  120.535370  219.869995  51.150002   \n",
       "2020-12-18  216.020004  47.110001  120.066925  218.589996  50.570000   \n",
       "2020-12-21  217.279999  45.240002  118.518166  217.550003  46.320000   \n",
       "\n",
       "Attributes     Volume                           \n",
       "Symbols           IBM        MSFT         INTC  \n",
       "Date                                            \n",
       "2020-01-02  3293436.0  22622100.0   18056000.0  \n",
       "2020-01-03  2482890.0  21116200.0   15293900.0  \n",
       "2020-01-06  2537073.0  20813700.0   17755200.0  \n",
       "2020-01-07  3232977.0  21634100.0   21876100.0  \n",
       "2020-01-08  4545916.0  27746500.0   23133500.0  \n",
       "...               ...         ...          ...  \n",
       "2020-12-15  4556585.0  27000600.0   25465600.0  \n",
       "2020-12-16  4738485.0  35023300.0   28351000.0  \n",
       "2020-12-17  3962248.0  32515800.0   26399000.0  \n",
       "2020-12-18  7900229.0  63354900.0  119298400.0  \n",
       "2020-12-21  6397022.0  37181900.0   53775700.0  \n",
       "\n",
       "[246 rows x 18 columns]"
      ]
     },
     "execution_count": 3,
     "metadata": {},
     "output_type": "execute_result"
    }
   ],
   "source": [
    "getDailyData([\"IBM\", \"MSFT\", \"INTC\"], '2020-01-01', '2020-12-21')"
   ]
  },
  {
   "cell_type": "code",
   "execution_count": 4,
   "metadata": {
    "ExecuteTime": {
     "end_time": "2022-09-13T13:17:03.416385Z",
     "start_time": "2022-09-13T13:17:01.042911Z"
    }
   },
   "outputs": [],
   "source": [
    "stocks = getDailyData([\"IBM\", \"MSFT\", \"INTC\"], '2020-01-01', '2020-12-31')[\"Close\"]"
   ]
  },
  {
   "cell_type": "code",
   "execution_count": 5,
   "metadata": {
    "ExecuteTime": {
     "end_time": "2022-09-13T13:17:03.422295Z",
     "start_time": "2022-09-13T13:17:03.418315Z"
    }
   },
   "outputs": [],
   "source": [
    "# Calculating logarithmic return; normalising data so they are comparable\n",
    "stocks_returns = (np.log(stocks) - np.log(stocks.shift(1))).dropna()"
   ]
  },
  {
   "cell_type": "code",
   "execution_count": 6,
   "metadata": {
    "ExecuteTime": {
     "end_time": "2022-09-13T13:17:03.434197Z",
     "start_time": "2022-09-13T13:17:03.424478Z"
    },
    "cell_style": "split"
   },
   "outputs": [
    {
     "data": {
      "text/html": [
       "<div>\n",
       "<style scoped>\n",
       "    .dataframe tbody tr th:only-of-type {\n",
       "        vertical-align: middle;\n",
       "    }\n",
       "\n",
       "    .dataframe tbody tr th {\n",
       "        vertical-align: top;\n",
       "    }\n",
       "\n",
       "    .dataframe thead th {\n",
       "        text-align: right;\n",
       "    }\n",
       "</style>\n",
       "<table border=\"1\" class=\"dataframe\">\n",
       "  <thead>\n",
       "    <tr style=\"text-align: right;\">\n",
       "      <th>Symbols</th>\n",
       "      <th>IBM</th>\n",
       "      <th>MSFT</th>\n",
       "      <th>INTC</th>\n",
       "    </tr>\n",
       "    <tr>\n",
       "      <th>Date</th>\n",
       "      <th></th>\n",
       "      <th></th>\n",
       "      <th></th>\n",
       "    </tr>\n",
       "  </thead>\n",
       "  <tbody>\n",
       "    <tr>\n",
       "      <th>2020-01-02</th>\n",
       "      <td>129.464630</td>\n",
       "      <td>160.619995</td>\n",
       "      <td>60.840000</td>\n",
       "    </tr>\n",
       "    <tr>\n",
       "      <th>2020-01-03</th>\n",
       "      <td>128.432129</td>\n",
       "      <td>158.619995</td>\n",
       "      <td>60.099998</td>\n",
       "    </tr>\n",
       "    <tr>\n",
       "      <th>2020-01-06</th>\n",
       "      <td>128.202682</td>\n",
       "      <td>159.029999</td>\n",
       "      <td>59.930000</td>\n",
       "    </tr>\n",
       "    <tr>\n",
       "      <th>2020-01-07</th>\n",
       "      <td>128.288712</td>\n",
       "      <td>157.580002</td>\n",
       "      <td>58.930000</td>\n",
       "    </tr>\n",
       "    <tr>\n",
       "      <th>2020-01-08</th>\n",
       "      <td>129.359467</td>\n",
       "      <td>160.089996</td>\n",
       "      <td>58.970001</td>\n",
       "    </tr>\n",
       "    <tr>\n",
       "      <th>...</th>\n",
       "      <td>...</td>\n",
       "      <td>...</td>\n",
       "      <td>...</td>\n",
       "    </tr>\n",
       "    <tr>\n",
       "      <th>2020-12-24</th>\n",
       "      <td>119.206497</td>\n",
       "      <td>222.750000</td>\n",
       "      <td>47.070000</td>\n",
       "    </tr>\n",
       "    <tr>\n",
       "      <th>2020-12-28</th>\n",
       "      <td>119.330788</td>\n",
       "      <td>224.960007</td>\n",
       "      <td>47.070000</td>\n",
       "    </tr>\n",
       "    <tr>\n",
       "      <th>2020-12-29</th>\n",
       "      <td>118.355644</td>\n",
       "      <td>224.149994</td>\n",
       "      <td>49.389999</td>\n",
       "    </tr>\n",
       "    <tr>\n",
       "      <th>2020-12-30</th>\n",
       "      <td>118.871895</td>\n",
       "      <td>221.679993</td>\n",
       "      <td>48.750000</td>\n",
       "    </tr>\n",
       "    <tr>\n",
       "      <th>2020-12-31</th>\n",
       "      <td>120.344170</td>\n",
       "      <td>222.419998</td>\n",
       "      <td>49.820000</td>\n",
       "    </tr>\n",
       "  </tbody>\n",
       "</table>\n",
       "<p>253 rows × 3 columns</p>\n",
       "</div>"
      ],
      "text/plain": [
       "Symbols            IBM        MSFT       INTC\n",
       "Date                                         \n",
       "2020-01-02  129.464630  160.619995  60.840000\n",
       "2020-01-03  128.432129  158.619995  60.099998\n",
       "2020-01-06  128.202682  159.029999  59.930000\n",
       "2020-01-07  128.288712  157.580002  58.930000\n",
       "2020-01-08  129.359467  160.089996  58.970001\n",
       "...                ...         ...        ...\n",
       "2020-12-24  119.206497  222.750000  47.070000\n",
       "2020-12-28  119.330788  224.960007  47.070000\n",
       "2020-12-29  118.355644  224.149994  49.389999\n",
       "2020-12-30  118.871895  221.679993  48.750000\n",
       "2020-12-31  120.344170  222.419998  49.820000\n",
       "\n",
       "[253 rows x 3 columns]"
      ]
     },
     "execution_count": 6,
     "metadata": {},
     "output_type": "execute_result"
    }
   ],
   "source": [
    "stocks"
   ]
  },
  {
   "cell_type": "code",
   "execution_count": 7,
   "metadata": {
    "ExecuteTime": {
     "end_time": "2022-09-13T13:17:03.445666Z",
     "start_time": "2022-09-13T13:17:03.436213Z"
    },
    "cell_style": "split"
   },
   "outputs": [
    {
     "data": {
      "text/html": [
       "<div>\n",
       "<style scoped>\n",
       "    .dataframe tbody tr th:only-of-type {\n",
       "        vertical-align: middle;\n",
       "    }\n",
       "\n",
       "    .dataframe tbody tr th {\n",
       "        vertical-align: top;\n",
       "    }\n",
       "\n",
       "    .dataframe thead th {\n",
       "        text-align: right;\n",
       "    }\n",
       "</style>\n",
       "<table border=\"1\" class=\"dataframe\">\n",
       "  <thead>\n",
       "    <tr style=\"text-align: right;\">\n",
       "      <th>Symbols</th>\n",
       "      <th>IBM</th>\n",
       "      <th>MSFT</th>\n",
       "      <th>INTC</th>\n",
       "    </tr>\n",
       "    <tr>\n",
       "      <th>Date</th>\n",
       "      <th></th>\n",
       "      <th></th>\n",
       "      <th></th>\n",
       "    </tr>\n",
       "  </thead>\n",
       "  <tbody>\n",
       "    <tr>\n",
       "      <th>2020-01-03</th>\n",
       "      <td>-0.008007</td>\n",
       "      <td>-0.012530</td>\n",
       "      <td>-0.012238</td>\n",
       "    </tr>\n",
       "    <tr>\n",
       "      <th>2020-01-06</th>\n",
       "      <td>-0.001788</td>\n",
       "      <td>0.002581</td>\n",
       "      <td>-0.002833</td>\n",
       "    </tr>\n",
       "    <tr>\n",
       "      <th>2020-01-07</th>\n",
       "      <td>0.000671</td>\n",
       "      <td>-0.009160</td>\n",
       "      <td>-0.016827</td>\n",
       "    </tr>\n",
       "    <tr>\n",
       "      <th>2020-01-08</th>\n",
       "      <td>0.008312</td>\n",
       "      <td>0.015803</td>\n",
       "      <td>0.000679</td>\n",
       "    </tr>\n",
       "    <tr>\n",
       "      <th>2020-01-09</th>\n",
       "      <td>0.010513</td>\n",
       "      <td>0.012416</td>\n",
       "      <td>0.005580</td>\n",
       "    </tr>\n",
       "    <tr>\n",
       "      <th>...</th>\n",
       "      <td>...</td>\n",
       "      <td>...</td>\n",
       "      <td>...</td>\n",
       "    </tr>\n",
       "    <tr>\n",
       "      <th>2020-12-24</th>\n",
       "      <td>0.006356</td>\n",
       "      <td>0.007797</td>\n",
       "      <td>0.010679</td>\n",
       "    </tr>\n",
       "    <tr>\n",
       "      <th>2020-12-28</th>\n",
       "      <td>0.001042</td>\n",
       "      <td>0.009873</td>\n",
       "      <td>0.000000</td>\n",
       "    </tr>\n",
       "    <tr>\n",
       "      <th>2020-12-29</th>\n",
       "      <td>-0.008205</td>\n",
       "      <td>-0.003607</td>\n",
       "      <td>0.048112</td>\n",
       "    </tr>\n",
       "    <tr>\n",
       "      <th>2020-12-30</th>\n",
       "      <td>0.004352</td>\n",
       "      <td>-0.011081</td>\n",
       "      <td>-0.013043</td>\n",
       "    </tr>\n",
       "    <tr>\n",
       "      <th>2020-12-31</th>\n",
       "      <td>0.012309</td>\n",
       "      <td>0.003333</td>\n",
       "      <td>0.021711</td>\n",
       "    </tr>\n",
       "  </tbody>\n",
       "</table>\n",
       "<p>252 rows × 3 columns</p>\n",
       "</div>"
      ],
      "text/plain": [
       "Symbols          IBM      MSFT      INTC\n",
       "Date                                    \n",
       "2020-01-03 -0.008007 -0.012530 -0.012238\n",
       "2020-01-06 -0.001788  0.002581 -0.002833\n",
       "2020-01-07  0.000671 -0.009160 -0.016827\n",
       "2020-01-08  0.008312  0.015803  0.000679\n",
       "2020-01-09  0.010513  0.012416  0.005580\n",
       "...              ...       ...       ...\n",
       "2020-12-24  0.006356  0.007797  0.010679\n",
       "2020-12-28  0.001042  0.009873  0.000000\n",
       "2020-12-29 -0.008205 -0.003607  0.048112\n",
       "2020-12-30  0.004352 -0.011081 -0.013043\n",
       "2020-12-31  0.012309  0.003333  0.021711\n",
       "\n",
       "[252 rows x 3 columns]"
      ]
     },
     "execution_count": 7,
     "metadata": {},
     "output_type": "execute_result"
    }
   ],
   "source": [
    "stocks_returns"
   ]
  },
  {
   "cell_type": "markdown",
   "metadata": {},
   "source": [
    "# Modelling\n",
    "<hr style = \"border:2px solid black\" ></hr>"
   ]
  },
  {
   "cell_type": "code",
   "execution_count": 8,
   "metadata": {
    "ExecuteTime": {
     "end_time": "2022-09-13T13:17:03.451959Z",
     "start_time": "2022-09-13T13:17:03.447474Z"
    }
   },
   "outputs": [],
   "source": [
    "stocks_returns_mean = stocks_returns.mean()\n",
    "# Drawing random numbers for weights\n",
    "weights  = np.random.random(len(stocks_returns.columns))\n",
    "# Generating weights\n",
    "weights /= np.sum(weights)\n",
    "# Calculating covariance matrix\n",
    "cov_var = stocks_returns.cov()\n",
    "# Finding the portfolio standard deviation\n",
    "port_std = np.sqrt(weights.T.dot(cov_var).dot(weights))"
   ]
  },
  {
   "cell_type": "code",
   "execution_count": 9,
   "metadata": {
    "ExecuteTime": {
     "end_time": "2022-09-13T13:17:03.459612Z",
     "start_time": "2022-09-13T13:17:03.456173Z"
    }
   },
   "outputs": [
    {
     "data": {
      "text/plain": [
       "array([0.43101341, 0.41792623, 0.15106036])"
      ]
     },
     "execution_count": 9,
     "metadata": {},
     "output_type": "execute_result"
    }
   ],
   "source": [
    "weights"
   ]
  },
  {
   "cell_type": "code",
   "execution_count": 10,
   "metadata": {
    "ExecuteTime": {
     "end_time": "2022-09-13T13:17:03.463838Z",
     "start_time": "2022-09-13T13:17:03.461711Z"
    }
   },
   "outputs": [],
   "source": [
    "initial_investment = 1e6\n",
    "conf_level = 0.95"
   ]
  },
  {
   "cell_type": "code",
   "execution_count": 11,
   "metadata": {
    "ExecuteTime": {
     "end_time": "2022-09-13T13:17:03.470351Z",
     "start_time": "2022-09-13T13:17:03.465767Z"
    }
   },
   "outputs": [],
   "source": [
    "def ES_parametric(initial_investment, conf_level):\n",
    "\n",
    "    alpha = - norm.ppf(1 - conf_level, stocks_returns_mean, port_std) \n",
    "    for i, j in zip(stocks.columns, range(len(stocks.columns))):\n",
    "        VaR_param = (initial_investment * alpha)[j]\n",
    "        ES_param = (1 / (1 - conf_level)) \\\n",
    "            * initial_investment \\\n",
    "            * norm.expect(lambda x: x,\n",
    "                          lb=norm.ppf(conf_level,\n",
    "                                      stocks_returns_mean[j],\n",
    "                                      port_std),\n",
    "                          loc=stocks_returns_mean[j],\n",
    "                          scale=port_std) \n",
    "        print(f\"Parametric ES result for {i} is {ES_param}\")"
   ]
  },
  {
   "cell_type": "code",
   "execution_count": 12,
   "metadata": {
    "ExecuteTime": {
     "end_time": "2022-09-13T13:17:03.549118Z",
     "start_time": "2022-09-13T13:17:03.472602Z"
    }
   },
   "outputs": [
    {
     "name": "stdout",
     "output_type": "stream",
     "text": [
      "Parametric ES result for IBM is 50793.18872278611\n",
      "Parametric ES result for MSFT is 52374.84817267527\n",
      "Parametric ES result for INTC is 50290.09758541978\n"
     ]
    }
   ],
   "source": [
    "ES_parametric(initial_investment, conf_level)"
   ]
  },
  {
   "cell_type": "markdown",
   "metadata": {},
   "source": [
    "<div class=\"alert alert-info\">\n",
    "<font color=bla ck>\n",
    "\n",
    "- ES can also be computed based on the historical observations. \n",
    "- Like the historical simulation VaR method, parametric assumption can be relaxed.\n",
    "- To do that, the first return (or loss) corresponding to the 95% is found, and then the mean of the observations greater than the 95% gives us the result.\n",
    "\n",
    "</font>\n",
    "</div>"
   ]
  },
  {
   "cell_type": "code",
   "execution_count": 13,
   "metadata": {
    "ExecuteTime": {
     "end_time": "2022-09-13T13:17:03.554938Z",
     "start_time": "2022-09-13T13:17:03.551187Z"
    }
   },
   "outputs": [],
   "source": [
    "def VaR_historical(initial_investment, conf_level):\n",
    "    Hist_percentile95 = []\n",
    "    for i, j in zip(stocks_returns.columns,\n",
    "                    range(len(stocks_returns.columns))):\n",
    "        Hist_percentile95.append(np.percentile(stocks_returns.loc[:, i],\n",
    "                                               5))\n",
    "        print(\"Based on historical values 95% of {}'s return is {:.4f}\"\n",
    "              .format(i, Hist_percentile95[j]))\n",
    "        VaR_historical = (initial_investment - initial_investment *\n",
    "                          (1 + Hist_percentile95[j]))\n",
    "        print(\"Historical VaR result for {} is {:.2f} \"\n",
    "              .format(i, VaR_historical))\n",
    "        print('--' * 35)"
   ]
  },
  {
   "cell_type": "code",
   "execution_count": 14,
   "metadata": {
    "ExecuteTime": {
     "end_time": "2022-09-13T13:17:03.560735Z",
     "start_time": "2022-09-13T13:17:03.556654Z"
    }
   },
   "outputs": [
    {
     "name": "stdout",
     "output_type": "stream",
     "text": [
      "Based on historical values 95% of IBM's return is -0.0371\n",
      "Historical VaR result for IBM is 37081.56 \n",
      "----------------------------------------------------------------------\n",
      "Based on historical values 95% of MSFT's return is -0.0426\n",
      "Historical VaR result for MSFT is 42583.69 \n",
      "----------------------------------------------------------------------\n",
      "Based on historical values 95% of INTC's return is -0.0425\n",
      "Historical VaR result for INTC is 42485.35 \n",
      "----------------------------------------------------------------------\n"
     ]
    }
   ],
   "source": [
    "VaR_historical(initial_investment, conf_level)"
   ]
  },
  {
   "cell_type": "markdown",
   "metadata": {},
   "source": [
    "# References\n",
    "<hr style = \"border:2px solid black\" ></hr>"
   ]
  },
  {
   "cell_type": "markdown",
   "metadata": {},
   "source": [
    "<div class=\"alert alert-warning\">\n",
    "<font color=black>\n",
    "\n",
    "- https://github.com/abdullahkarasan/mlfrm/blob/main/codes/chp_5.ipynb\n",
    "- Machine Learning for Financial Risk Management with Python Abdullah Karasan\n",
    "\n",
    "</font>\n",
    "</div>"
   ]
  },
  {
   "cell_type": "code",
   "execution_count": null,
   "metadata": {},
   "outputs": [],
   "source": []
  }
 ],
 "metadata": {
  "kernelspec": {
   "display_name": "ML4T",
   "language": "python",
   "name": "ml4t"
  },
  "language_info": {
   "codemirror_mode": {
    "name": "ipython",
    "version": 3
   },
   "file_extension": ".py",
   "mimetype": "text/x-python",
   "name": "python",
   "nbconvert_exporter": "python",
   "pygments_lexer": "ipython3",
   "version": "3.10.4"
  },
  "latex_envs": {
   "LaTeX_envs_menu_present": true,
   "autoclose": false,
   "autocomplete": true,
   "bibliofile": "biblio.bib",
   "cite_by": "apalike",
   "current_citInitial": 1,
   "eqLabelWithNumbers": true,
   "eqNumInitial": 1,
   "hotkeys": {
    "equation": "Ctrl-E",
    "itemize": "Ctrl-I"
   },
   "labels_anchors": false,
   "latex_user_defs": false,
   "report_style_numbering": false,
   "user_envs_cfg": false
  },
  "toc": {
   "base_numbering": 1,
   "nav_menu": {},
   "number_sections": false,
   "sideBar": true,
   "skip_h1_title": false,
   "title_cell": "Table of Contents",
   "title_sidebar": "Contents",
   "toc_cell": true,
   "toc_position": {},
   "toc_section_display": true,
   "toc_window_display": true
  },
  "varInspector": {
   "cols": {
    "lenName": 16,
    "lenType": 16,
    "lenVar": 40
   },
   "kernels_config": {
    "python": {
     "delete_cmd_postfix": "",
     "delete_cmd_prefix": "del ",
     "library": "var_list.py",
     "varRefreshCmd": "print(var_dic_list())"
    },
    "r": {
     "delete_cmd_postfix": ") ",
     "delete_cmd_prefix": "rm(",
     "library": "var_list.r",
     "varRefreshCmd": "cat(var_dic_list()) "
    }
   },
   "types_to_exclude": [
    "module",
    "function",
    "builtin_function_or_method",
    "instance",
    "_Feature"
   ],
   "window_display": false
  }
 },
 "nbformat": 4,
 "nbformat_minor": 4
}
