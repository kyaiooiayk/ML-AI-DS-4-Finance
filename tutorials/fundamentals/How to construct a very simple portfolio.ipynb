{
 "cells": [
  {
   "cell_type": "markdown",
   "id": "bb886dab",
   "metadata": {
    "toc": true
   },
   "source": [
    "<h1>Table of Contents<span class=\"tocSkip\"></span></h1>\n",
    "<div class=\"toc\"><ul class=\"toc-item\"><li><span><a href=\"#Introduction\" data-toc-modified-id=\"Introduction-1\"><span class=\"toc-item-num\">1&nbsp;&nbsp;</span>Introduction</a></span></li><li><span><a href=\"#Imports\" data-toc-modified-id=\"Imports-2\"><span class=\"toc-item-num\">2&nbsp;&nbsp;</span>Imports</a></span></li><li><span><a href=\"#Load-data\" data-toc-modified-id=\"Load-data-3\"><span class=\"toc-item-num\">3&nbsp;&nbsp;</span>Load data</a></span></li><li><span><a href=\"#Select-stocks\" data-toc-modified-id=\"Select-stocks-4\"><span class=\"toc-item-num\">4&nbsp;&nbsp;</span>Select stocks</a></span></li><li><span><a href=\"#Normalise-data\" data-toc-modified-id=\"Normalise-data-5\"><span class=\"toc-item-num\">5&nbsp;&nbsp;</span>Normalise data</a></span></li><li><span><a href=\"#Chose-portfolio-weights\" data-toc-modified-id=\"Chose-portfolio-weights-6\"><span class=\"toc-item-num\">6&nbsp;&nbsp;</span>Chose portfolio weights</a></span></li><li><span><a href=\"#Get-the-returns\" data-toc-modified-id=\"Get-the-returns-7\"><span class=\"toc-item-num\">7&nbsp;&nbsp;</span>Get the returns</a></span><ul class=\"toc-item\"><li><ul class=\"toc-item\"><li><ul class=\"toc-item\"><li><span><a href=\"#Step-5\" data-toc-modified-id=\"Step-5-7.0.0.1\"><span class=\"toc-item-num\">7.0.0.1&nbsp;&nbsp;</span>Step 5</a></span></li></ul></li></ul></li></ul></li><li><span><a href=\"#References\" data-toc-modified-id=\"References-8\"><span class=\"toc-item-num\">8&nbsp;&nbsp;</span>References</a></span></li></ul></div>"
   ]
  },
  {
   "cell_type": "markdown",
   "id": "1ac900df",
   "metadata": {},
   "source": [
    "# Introduction\n",
    "<hr style = \"border:2px solid black\" ></hr>"
   ]
  },
  {
   "cell_type": "markdown",
   "id": "bd36a844",
   "metadata": {},
   "source": [
    "<div class=\"alert alert-warning\">\n",
    "<font color=black>\n",
    "\n",
    "**What?** YAHOO finacial data API\n",
    "\n",
    "</font>\n",
    "</div>"
   ]
  },
  {
   "cell_type": "markdown",
   "id": "9e5ba1f0",
   "metadata": {},
   "source": [
    "# Imports\n",
    "<hr style = \"border:2px solid black\" ></hr>"
   ]
  },
  {
   "cell_type": "code",
   "execution_count": 1,
   "id": "b6606d7f",
   "metadata": {
    "ExecuteTime": {
     "end_time": "2022-09-10T07:08:34.047165Z",
     "start_time": "2022-09-10T07:08:33.164570Z"
    }
   },
   "outputs": [],
   "source": [
    "import pandas_datareader as pdr\n",
    "import datetime as dt"
   ]
  },
  {
   "cell_type": "markdown",
   "id": "4670f04f",
   "metadata": {},
   "source": [
    "# Load data\n",
    "<hr style = \"border:2px solid black\" ></hr>"
   ]
  },
  {
   "cell_type": "code",
   "execution_count": 2,
   "id": "3e72ceaa",
   "metadata": {
    "ExecuteTime": {
     "end_time": "2022-09-10T07:08:34.777609Z",
     "start_time": "2022-09-10T07:08:34.048898Z"
    }
   },
   "outputs": [],
   "source": [
    "start = dt.datetime(2010, 1, 1)\n",
    "\n",
    "aapl = pdr.get_data_yahoo(\"AAPL\", start)"
   ]
  },
  {
   "cell_type": "markdown",
   "id": "6f21a6a5",
   "metadata": {},
   "source": [
    "<div class=\"alert alert-info\">\n",
    "<font color=black>\n",
    "\n",
    "- `Open` - When the stock market opens in the morning for trading, what was the price of one share?\n",
    "- `High` - over the course of the trading day, what was the highest value for that day?\n",
    "- `Low` - over the course of the trading day, what was the lowest value for that day?\n",
    "- `Close` - When the trading day was over, what was the final price?\n",
    "- `Volume` - For that day, how many shares were traded?\n",
    "- `Adj Close` - Over time, companies may decide to do something called a stock split. For example, Apple did one once their stock price exceeded 1000USD. Since in most cases, people cannot buy fractions of shares, a stock price of 1,000 USD is fairly limiting to investors. Companies can do a stock split where they say every share is now 2 shares, and the price is half. Anyone who had 1 share of Apple for 1,000 USD, after a split where Apple doubled the shares, they would have 2 shares of Apple (AAPL), each worth 500 USD. Adj Close is helpful, since it accounts for future stock splits, and gives the relative price to splits. For this reason, the **adjusted** prices are the prices you're most likely to be dealing with.\n",
    "\n",
    "</font>\n",
    "</div>"
   ]
  },
  {
   "cell_type": "code",
   "execution_count": 3,
   "id": "d1cc26b7",
   "metadata": {
    "ExecuteTime": {
     "end_time": "2022-09-10T07:08:34.801186Z",
     "start_time": "2022-09-10T07:08:34.780900Z"
    }
   },
   "outputs": [
    {
     "data": {
      "text/html": [
       "<div>\n",
       "<style scoped>\n",
       "    .dataframe tbody tr th:only-of-type {\n",
       "        vertical-align: middle;\n",
       "    }\n",
       "\n",
       "    .dataframe tbody tr th {\n",
       "        vertical-align: top;\n",
       "    }\n",
       "\n",
       "    .dataframe thead th {\n",
       "        text-align: right;\n",
       "    }\n",
       "</style>\n",
       "<table border=\"1\" class=\"dataframe\">\n",
       "  <thead>\n",
       "    <tr style=\"text-align: right;\">\n",
       "      <th></th>\n",
       "      <th>High</th>\n",
       "      <th>Low</th>\n",
       "      <th>Open</th>\n",
       "      <th>Close</th>\n",
       "      <th>Volume</th>\n",
       "      <th>Adj Close</th>\n",
       "    </tr>\n",
       "    <tr>\n",
       "      <th>Date</th>\n",
       "      <th></th>\n",
       "      <th></th>\n",
       "      <th></th>\n",
       "      <th></th>\n",
       "      <th></th>\n",
       "      <th></th>\n",
       "    </tr>\n",
       "  </thead>\n",
       "  <tbody>\n",
       "    <tr>\n",
       "      <th>2010-01-04</th>\n",
       "      <td>7.660714</td>\n",
       "      <td>7.585000</td>\n",
       "      <td>7.622500</td>\n",
       "      <td>7.643214</td>\n",
       "      <td>493729600.0</td>\n",
       "      <td>6.526020</td>\n",
       "    </tr>\n",
       "    <tr>\n",
       "      <th>2010-01-05</th>\n",
       "      <td>7.699643</td>\n",
       "      <td>7.616071</td>\n",
       "      <td>7.664286</td>\n",
       "      <td>7.656429</td>\n",
       "      <td>601904800.0</td>\n",
       "      <td>6.537304</td>\n",
       "    </tr>\n",
       "    <tr>\n",
       "      <th>2010-01-06</th>\n",
       "      <td>7.686786</td>\n",
       "      <td>7.526786</td>\n",
       "      <td>7.656429</td>\n",
       "      <td>7.534643</td>\n",
       "      <td>552160000.0</td>\n",
       "      <td>6.433319</td>\n",
       "    </tr>\n",
       "    <tr>\n",
       "      <th>2010-01-07</th>\n",
       "      <td>7.571429</td>\n",
       "      <td>7.466071</td>\n",
       "      <td>7.562500</td>\n",
       "      <td>7.520714</td>\n",
       "      <td>477131200.0</td>\n",
       "      <td>6.421425</td>\n",
       "    </tr>\n",
       "    <tr>\n",
       "      <th>2010-01-08</th>\n",
       "      <td>7.571429</td>\n",
       "      <td>7.466429</td>\n",
       "      <td>7.510714</td>\n",
       "      <td>7.570714</td>\n",
       "      <td>447610800.0</td>\n",
       "      <td>6.464118</td>\n",
       "    </tr>\n",
       "  </tbody>\n",
       "</table>\n",
       "</div>"
      ],
      "text/plain": [
       "                High       Low      Open     Close       Volume  Adj Close\n",
       "Date                                                                      \n",
       "2010-01-04  7.660714  7.585000  7.622500  7.643214  493729600.0   6.526020\n",
       "2010-01-05  7.699643  7.616071  7.664286  7.656429  601904800.0   6.537304\n",
       "2010-01-06  7.686786  7.526786  7.656429  7.534643  552160000.0   6.433319\n",
       "2010-01-07  7.571429  7.466071  7.562500  7.520714  477131200.0   6.421425\n",
       "2010-01-08  7.571429  7.466429  7.510714  7.570714  447610800.0   6.464118"
      ]
     },
     "execution_count": 3,
     "metadata": {},
     "output_type": "execute_result"
    }
   ],
   "source": [
    "aapl.head()"
   ]
  },
  {
   "cell_type": "code",
   "execution_count": 4,
   "id": "9a4f843e",
   "metadata": {
    "ExecuteTime": {
     "end_time": "2022-09-10T07:08:35.484536Z",
     "start_time": "2022-09-10T07:08:34.803181Z"
    }
   },
   "outputs": [],
   "source": [
    "start = dt.datetime(2010, 1, 1)\n",
    "end = dt.datetime(2020, 1, 1)\n",
    "\n",
    "aapl = pdr.get_data_yahoo(\"AAPL\", start, end)"
   ]
  },
  {
   "cell_type": "code",
   "execution_count": 5,
   "id": "eff9ac68",
   "metadata": {
    "ExecuteTime": {
     "end_time": "2022-09-10T07:08:35.500859Z",
     "start_time": "2022-09-10T07:08:35.486795Z"
    }
   },
   "outputs": [
    {
     "data": {
      "text/html": [
       "<div>\n",
       "<style scoped>\n",
       "    .dataframe tbody tr th:only-of-type {\n",
       "        vertical-align: middle;\n",
       "    }\n",
       "\n",
       "    .dataframe tbody tr th {\n",
       "        vertical-align: top;\n",
       "    }\n",
       "\n",
       "    .dataframe thead th {\n",
       "        text-align: right;\n",
       "    }\n",
       "</style>\n",
       "<table border=\"1\" class=\"dataframe\">\n",
       "  <thead>\n",
       "    <tr style=\"text-align: right;\">\n",
       "      <th></th>\n",
       "      <th>High</th>\n",
       "      <th>Low</th>\n",
       "      <th>Open</th>\n",
       "      <th>Close</th>\n",
       "      <th>Volume</th>\n",
       "      <th>Adj Close</th>\n",
       "    </tr>\n",
       "    <tr>\n",
       "      <th>Date</th>\n",
       "      <th></th>\n",
       "      <th></th>\n",
       "      <th></th>\n",
       "      <th></th>\n",
       "      <th></th>\n",
       "      <th></th>\n",
       "    </tr>\n",
       "  </thead>\n",
       "  <tbody>\n",
       "    <tr>\n",
       "      <th>2010-01-04</th>\n",
       "      <td>7.660714</td>\n",
       "      <td>7.585000</td>\n",
       "      <td>7.622500</td>\n",
       "      <td>7.643214</td>\n",
       "      <td>493729600.0</td>\n",
       "      <td>6.526021</td>\n",
       "    </tr>\n",
       "    <tr>\n",
       "      <th>2010-01-05</th>\n",
       "      <td>7.699643</td>\n",
       "      <td>7.616071</td>\n",
       "      <td>7.664286</td>\n",
       "      <td>7.656429</td>\n",
       "      <td>601904800.0</td>\n",
       "      <td>6.537303</td>\n",
       "    </tr>\n",
       "    <tr>\n",
       "      <th>2010-01-06</th>\n",
       "      <td>7.686786</td>\n",
       "      <td>7.526786</td>\n",
       "      <td>7.656429</td>\n",
       "      <td>7.534643</td>\n",
       "      <td>552160000.0</td>\n",
       "      <td>6.433318</td>\n",
       "    </tr>\n",
       "    <tr>\n",
       "      <th>2010-01-07</th>\n",
       "      <td>7.571429</td>\n",
       "      <td>7.466071</td>\n",
       "      <td>7.562500</td>\n",
       "      <td>7.520714</td>\n",
       "      <td>477131200.0</td>\n",
       "      <td>6.421426</td>\n",
       "    </tr>\n",
       "    <tr>\n",
       "      <th>2010-01-08</th>\n",
       "      <td>7.571429</td>\n",
       "      <td>7.466429</td>\n",
       "      <td>7.510714</td>\n",
       "      <td>7.570714</td>\n",
       "      <td>447610800.0</td>\n",
       "      <td>6.464119</td>\n",
       "    </tr>\n",
       "    <tr>\n",
       "      <th>...</th>\n",
       "      <td>...</td>\n",
       "      <td>...</td>\n",
       "      <td>...</td>\n",
       "      <td>...</td>\n",
       "      <td>...</td>\n",
       "      <td>...</td>\n",
       "    </tr>\n",
       "    <tr>\n",
       "      <th>2019-12-24</th>\n",
       "      <td>71.222504</td>\n",
       "      <td>70.730003</td>\n",
       "      <td>71.172501</td>\n",
       "      <td>71.067497</td>\n",
       "      <td>48478800.0</td>\n",
       "      <td>69.738724</td>\n",
       "    </tr>\n",
       "    <tr>\n",
       "      <th>2019-12-26</th>\n",
       "      <td>72.495003</td>\n",
       "      <td>71.175003</td>\n",
       "      <td>71.205002</td>\n",
       "      <td>72.477501</td>\n",
       "      <td>93121200.0</td>\n",
       "      <td>71.122375</td>\n",
       "    </tr>\n",
       "    <tr>\n",
       "      <th>2019-12-27</th>\n",
       "      <td>73.492500</td>\n",
       "      <td>72.029999</td>\n",
       "      <td>72.779999</td>\n",
       "      <td>72.449997</td>\n",
       "      <td>146266000.0</td>\n",
       "      <td>71.095375</td>\n",
       "    </tr>\n",
       "    <tr>\n",
       "      <th>2019-12-30</th>\n",
       "      <td>73.172501</td>\n",
       "      <td>71.305000</td>\n",
       "      <td>72.364998</td>\n",
       "      <td>72.879997</td>\n",
       "      <td>144114400.0</td>\n",
       "      <td>71.517349</td>\n",
       "    </tr>\n",
       "    <tr>\n",
       "      <th>2019-12-31</th>\n",
       "      <td>73.419998</td>\n",
       "      <td>72.379997</td>\n",
       "      <td>72.482498</td>\n",
       "      <td>73.412498</td>\n",
       "      <td>100805600.0</td>\n",
       "      <td>72.039886</td>\n",
       "    </tr>\n",
       "  </tbody>\n",
       "</table>\n",
       "<p>2516 rows × 6 columns</p>\n",
       "</div>"
      ],
      "text/plain": [
       "                 High        Low       Open      Close       Volume  Adj Close\n",
       "Date                                                                          \n",
       "2010-01-04   7.660714   7.585000   7.622500   7.643214  493729600.0   6.526021\n",
       "2010-01-05   7.699643   7.616071   7.664286   7.656429  601904800.0   6.537303\n",
       "2010-01-06   7.686786   7.526786   7.656429   7.534643  552160000.0   6.433318\n",
       "2010-01-07   7.571429   7.466071   7.562500   7.520714  477131200.0   6.421426\n",
       "2010-01-08   7.571429   7.466429   7.510714   7.570714  447610800.0   6.464119\n",
       "...               ...        ...        ...        ...          ...        ...\n",
       "2019-12-24  71.222504  70.730003  71.172501  71.067497   48478800.0  69.738724\n",
       "2019-12-26  72.495003  71.175003  71.205002  72.477501   93121200.0  71.122375\n",
       "2019-12-27  73.492500  72.029999  72.779999  72.449997  146266000.0  71.095375\n",
       "2019-12-30  73.172501  71.305000  72.364998  72.879997  144114400.0  71.517349\n",
       "2019-12-31  73.419998  72.379997  72.482498  73.412498  100805600.0  72.039886\n",
       "\n",
       "[2516 rows x 6 columns]"
      ]
     },
     "execution_count": 5,
     "metadata": {},
     "output_type": "execute_result"
    }
   ],
   "source": [
    "aapl"
   ]
  },
  {
   "cell_type": "markdown",
   "id": "777cd1bd",
   "metadata": {},
   "source": [
    "# Select stocks\n",
    "<hr style = \"border:2px solid black\" ></hr>"
   ]
  },
  {
   "cell_type": "code",
   "execution_count": 6,
   "id": "920c62a6",
   "metadata": {
    "ExecuteTime": {
     "end_time": "2022-09-10T07:08:40.042257Z",
     "start_time": "2022-09-10T07:08:35.502683Z"
    }
   },
   "outputs": [],
   "source": [
    "tickers = ['AAPL', 'MSFT', 'NFLX', 'AMZN']\n",
    "\n",
    "start = dt.datetime(2010, 1, 1)\n",
    "\n",
    "data = pdr.get_data_yahoo(tickers, start)"
   ]
  },
  {
   "cell_type": "code",
   "execution_count": 7,
   "id": "71fed87d",
   "metadata": {
    "ExecuteTime": {
     "end_time": "2022-09-10T07:08:40.075495Z",
     "start_time": "2022-09-10T07:08:40.044707Z"
    }
   },
   "outputs": [
    {
     "data": {
      "text/html": [
       "<div>\n",
       "<style scoped>\n",
       "    .dataframe tbody tr th:only-of-type {\n",
       "        vertical-align: middle;\n",
       "    }\n",
       "\n",
       "    .dataframe tbody tr th {\n",
       "        vertical-align: top;\n",
       "    }\n",
       "\n",
       "    .dataframe thead tr th {\n",
       "        text-align: left;\n",
       "    }\n",
       "\n",
       "    .dataframe thead tr:last-of-type th {\n",
       "        text-align: right;\n",
       "    }\n",
       "</style>\n",
       "<table border=\"1\" class=\"dataframe\">\n",
       "  <thead>\n",
       "    <tr>\n",
       "      <th>Attributes</th>\n",
       "      <th colspan=\"4\" halign=\"left\">Adj Close</th>\n",
       "      <th colspan=\"4\" halign=\"left\">Close</th>\n",
       "      <th colspan=\"2\" halign=\"left\">High</th>\n",
       "      <th>...</th>\n",
       "      <th colspan=\"2\" halign=\"left\">Low</th>\n",
       "      <th colspan=\"4\" halign=\"left\">Open</th>\n",
       "      <th colspan=\"4\" halign=\"left\">Volume</th>\n",
       "    </tr>\n",
       "    <tr>\n",
       "      <th>Symbols</th>\n",
       "      <th>AAPL</th>\n",
       "      <th>MSFT</th>\n",
       "      <th>NFLX</th>\n",
       "      <th>AMZN</th>\n",
       "      <th>AAPL</th>\n",
       "      <th>MSFT</th>\n",
       "      <th>NFLX</th>\n",
       "      <th>AMZN</th>\n",
       "      <th>AAPL</th>\n",
       "      <th>MSFT</th>\n",
       "      <th>...</th>\n",
       "      <th>NFLX</th>\n",
       "      <th>AMZN</th>\n",
       "      <th>AAPL</th>\n",
       "      <th>MSFT</th>\n",
       "      <th>NFLX</th>\n",
       "      <th>AMZN</th>\n",
       "      <th>AAPL</th>\n",
       "      <th>MSFT</th>\n",
       "      <th>NFLX</th>\n",
       "      <th>AMZN</th>\n",
       "    </tr>\n",
       "    <tr>\n",
       "      <th>Date</th>\n",
       "      <th></th>\n",
       "      <th></th>\n",
       "      <th></th>\n",
       "      <th></th>\n",
       "      <th></th>\n",
       "      <th></th>\n",
       "      <th></th>\n",
       "      <th></th>\n",
       "      <th></th>\n",
       "      <th></th>\n",
       "      <th></th>\n",
       "      <th></th>\n",
       "      <th></th>\n",
       "      <th></th>\n",
       "      <th></th>\n",
       "      <th></th>\n",
       "      <th></th>\n",
       "      <th></th>\n",
       "      <th></th>\n",
       "      <th></th>\n",
       "      <th></th>\n",
       "    </tr>\n",
       "  </thead>\n",
       "  <tbody>\n",
       "    <tr>\n",
       "      <th>2010-01-04</th>\n",
       "      <td>6.526021</td>\n",
       "      <td>23.749819</td>\n",
       "      <td>7.640000</td>\n",
       "      <td>6.6950</td>\n",
       "      <td>7.643214</td>\n",
       "      <td>30.950001</td>\n",
       "      <td>7.640000</td>\n",
       "      <td>6.6950</td>\n",
       "      <td>7.660714</td>\n",
       "      <td>31.100000</td>\n",
       "      <td>...</td>\n",
       "      <td>7.565714</td>\n",
       "      <td>6.6570</td>\n",
       "      <td>7.622500</td>\n",
       "      <td>30.620001</td>\n",
       "      <td>7.931429</td>\n",
       "      <td>6.8125</td>\n",
       "      <td>493729600.0</td>\n",
       "      <td>38409100.0</td>\n",
       "      <td>17239600.0</td>\n",
       "      <td>151998000.0</td>\n",
       "    </tr>\n",
       "    <tr>\n",
       "      <th>2010-01-05</th>\n",
       "      <td>6.537303</td>\n",
       "      <td>23.757488</td>\n",
       "      <td>7.358571</td>\n",
       "      <td>6.7345</td>\n",
       "      <td>7.656429</td>\n",
       "      <td>30.959999</td>\n",
       "      <td>7.358571</td>\n",
       "      <td>6.7345</td>\n",
       "      <td>7.699643</td>\n",
       "      <td>31.100000</td>\n",
       "      <td>...</td>\n",
       "      <td>7.258571</td>\n",
       "      <td>6.5905</td>\n",
       "      <td>7.664286</td>\n",
       "      <td>30.850000</td>\n",
       "      <td>7.652857</td>\n",
       "      <td>6.6715</td>\n",
       "      <td>601904800.0</td>\n",
       "      <td>49749600.0</td>\n",
       "      <td>23753100.0</td>\n",
       "      <td>177038000.0</td>\n",
       "    </tr>\n",
       "    <tr>\n",
       "      <th>2010-01-06</th>\n",
       "      <td>6.433320</td>\n",
       "      <td>23.611687</td>\n",
       "      <td>7.617143</td>\n",
       "      <td>6.6125</td>\n",
       "      <td>7.534643</td>\n",
       "      <td>30.770000</td>\n",
       "      <td>7.617143</td>\n",
       "      <td>6.6125</td>\n",
       "      <td>7.686786</td>\n",
       "      <td>31.080000</td>\n",
       "      <td>...</td>\n",
       "      <td>7.197143</td>\n",
       "      <td>6.5825</td>\n",
       "      <td>7.656429</td>\n",
       "      <td>30.879999</td>\n",
       "      <td>7.361429</td>\n",
       "      <td>6.7300</td>\n",
       "      <td>552160000.0</td>\n",
       "      <td>58182400.0</td>\n",
       "      <td>23290400.0</td>\n",
       "      <td>143576000.0</td>\n",
       "    </tr>\n",
       "    <tr>\n",
       "      <th>2010-01-07</th>\n",
       "      <td>6.421426</td>\n",
       "      <td>23.366133</td>\n",
       "      <td>7.485714</td>\n",
       "      <td>6.5000</td>\n",
       "      <td>7.520714</td>\n",
       "      <td>30.450001</td>\n",
       "      <td>7.485714</td>\n",
       "      <td>6.5000</td>\n",
       "      <td>7.571429</td>\n",
       "      <td>30.700001</td>\n",
       "      <td>...</td>\n",
       "      <td>7.462857</td>\n",
       "      <td>6.4400</td>\n",
       "      <td>7.562500</td>\n",
       "      <td>30.629999</td>\n",
       "      <td>7.731429</td>\n",
       "      <td>6.6005</td>\n",
       "      <td>477131200.0</td>\n",
       "      <td>50559700.0</td>\n",
       "      <td>9955400.0</td>\n",
       "      <td>220604000.0</td>\n",
       "    </tr>\n",
       "    <tr>\n",
       "      <th>2010-01-08</th>\n",
       "      <td>6.464119</td>\n",
       "      <td>23.527283</td>\n",
       "      <td>7.614286</td>\n",
       "      <td>6.6760</td>\n",
       "      <td>7.570714</td>\n",
       "      <td>30.660000</td>\n",
       "      <td>7.614286</td>\n",
       "      <td>6.6760</td>\n",
       "      <td>7.571429</td>\n",
       "      <td>30.879999</td>\n",
       "      <td>...</td>\n",
       "      <td>7.465714</td>\n",
       "      <td>6.4515</td>\n",
       "      <td>7.510714</td>\n",
       "      <td>30.280001</td>\n",
       "      <td>7.498571</td>\n",
       "      <td>6.5280</td>\n",
       "      <td>447610800.0</td>\n",
       "      <td>51197400.0</td>\n",
       "      <td>8180900.0</td>\n",
       "      <td>196610000.0</td>\n",
       "    </tr>\n",
       "  </tbody>\n",
       "</table>\n",
       "<p>5 rows × 24 columns</p>\n",
       "</div>"
      ],
      "text/plain": [
       "Attributes Adj Close                                  Close             \\\n",
       "Symbols         AAPL       MSFT      NFLX    AMZN      AAPL       MSFT   \n",
       "Date                                                                     \n",
       "2010-01-04  6.526021  23.749819  7.640000  6.6950  7.643214  30.950001   \n",
       "2010-01-05  6.537303  23.757488  7.358571  6.7345  7.656429  30.959999   \n",
       "2010-01-06  6.433320  23.611687  7.617143  6.6125  7.534643  30.770000   \n",
       "2010-01-07  6.421426  23.366133  7.485714  6.5000  7.520714  30.450001   \n",
       "2010-01-08  6.464119  23.527283  7.614286  6.6760  7.570714  30.660000   \n",
       "\n",
       "Attributes                        High             ...       Low          \\\n",
       "Symbols         NFLX    AMZN      AAPL       MSFT  ...      NFLX    AMZN   \n",
       "Date                                               ...                     \n",
       "2010-01-04  7.640000  6.6950  7.660714  31.100000  ...  7.565714  6.6570   \n",
       "2010-01-05  7.358571  6.7345  7.699643  31.100000  ...  7.258571  6.5905   \n",
       "2010-01-06  7.617143  6.6125  7.686786  31.080000  ...  7.197143  6.5825   \n",
       "2010-01-07  7.485714  6.5000  7.571429  30.700001  ...  7.462857  6.4400   \n",
       "2010-01-08  7.614286  6.6760  7.571429  30.879999  ...  7.465714  6.4515   \n",
       "\n",
       "Attributes      Open                                    Volume              \\\n",
       "Symbols         AAPL       MSFT      NFLX    AMZN         AAPL        MSFT   \n",
       "Date                                                                         \n",
       "2010-01-04  7.622500  30.620001  7.931429  6.8125  493729600.0  38409100.0   \n",
       "2010-01-05  7.664286  30.850000  7.652857  6.6715  601904800.0  49749600.0   \n",
       "2010-01-06  7.656429  30.879999  7.361429  6.7300  552160000.0  58182400.0   \n",
       "2010-01-07  7.562500  30.629999  7.731429  6.6005  477131200.0  50559700.0   \n",
       "2010-01-08  7.510714  30.280001  7.498571  6.5280  447610800.0  51197400.0   \n",
       "\n",
       "Attributes                           \n",
       "Symbols           NFLX         AMZN  \n",
       "Date                                 \n",
       "2010-01-04  17239600.0  151998000.0  \n",
       "2010-01-05  23753100.0  177038000.0  \n",
       "2010-01-06  23290400.0  143576000.0  \n",
       "2010-01-07   9955400.0  220604000.0  \n",
       "2010-01-08   8180900.0  196610000.0  \n",
       "\n",
       "[5 rows x 24 columns]"
      ]
     },
     "execution_count": 7,
     "metadata": {},
     "output_type": "execute_result"
    }
   ],
   "source": [
    "data.head()"
   ]
  },
  {
   "cell_type": "markdown",
   "id": "5a4e1e09",
   "metadata": {},
   "source": [
    "# Normalise data\n",
    "<hr style = \"border:2px solid black\" ></hr>"
   ]
  },
  {
   "cell_type": "code",
   "execution_count": 8,
   "id": "fa83d2d4",
   "metadata": {
    "ExecuteTime": {
     "end_time": "2022-09-10T07:08:40.083153Z",
     "start_time": "2022-09-10T07:08:40.077584Z"
    }
   },
   "outputs": [],
   "source": [
    "data = data['Adj Close']"
   ]
  },
  {
   "cell_type": "code",
   "execution_count": 9,
   "id": "d9e11fc4",
   "metadata": {
    "ExecuteTime": {
     "end_time": "2022-09-10T07:08:40.096666Z",
     "start_time": "2022-09-10T07:08:40.087630Z"
    }
   },
   "outputs": [
    {
     "data": {
      "text/html": [
       "<div>\n",
       "<style scoped>\n",
       "    .dataframe tbody tr th:only-of-type {\n",
       "        vertical-align: middle;\n",
       "    }\n",
       "\n",
       "    .dataframe tbody tr th {\n",
       "        vertical-align: top;\n",
       "    }\n",
       "\n",
       "    .dataframe thead th {\n",
       "        text-align: right;\n",
       "    }\n",
       "</style>\n",
       "<table border=\"1\" class=\"dataframe\">\n",
       "  <thead>\n",
       "    <tr style=\"text-align: right;\">\n",
       "      <th>Symbols</th>\n",
       "      <th>AAPL</th>\n",
       "      <th>MSFT</th>\n",
       "      <th>NFLX</th>\n",
       "      <th>AMZN</th>\n",
       "    </tr>\n",
       "    <tr>\n",
       "      <th>Date</th>\n",
       "      <th></th>\n",
       "      <th></th>\n",
       "      <th></th>\n",
       "      <th></th>\n",
       "    </tr>\n",
       "  </thead>\n",
       "  <tbody>\n",
       "    <tr>\n",
       "      <th>2010-01-04</th>\n",
       "      <td>6.526021</td>\n",
       "      <td>23.749819</td>\n",
       "      <td>7.640000</td>\n",
       "      <td>6.6950</td>\n",
       "    </tr>\n",
       "    <tr>\n",
       "      <th>2010-01-05</th>\n",
       "      <td>6.537303</td>\n",
       "      <td>23.757488</td>\n",
       "      <td>7.358571</td>\n",
       "      <td>6.7345</td>\n",
       "    </tr>\n",
       "    <tr>\n",
       "      <th>2010-01-06</th>\n",
       "      <td>6.433320</td>\n",
       "      <td>23.611687</td>\n",
       "      <td>7.617143</td>\n",
       "      <td>6.6125</td>\n",
       "    </tr>\n",
       "    <tr>\n",
       "      <th>2010-01-07</th>\n",
       "      <td>6.421426</td>\n",
       "      <td>23.366133</td>\n",
       "      <td>7.485714</td>\n",
       "      <td>6.5000</td>\n",
       "    </tr>\n",
       "    <tr>\n",
       "      <th>2010-01-08</th>\n",
       "      <td>6.464119</td>\n",
       "      <td>23.527283</td>\n",
       "      <td>7.614286</td>\n",
       "      <td>6.6760</td>\n",
       "    </tr>\n",
       "  </tbody>\n",
       "</table>\n",
       "</div>"
      ],
      "text/plain": [
       "Symbols         AAPL       MSFT      NFLX    AMZN\n",
       "Date                                             \n",
       "2010-01-04  6.526021  23.749819  7.640000  6.6950\n",
       "2010-01-05  6.537303  23.757488  7.358571  6.7345\n",
       "2010-01-06  6.433320  23.611687  7.617143  6.6125\n",
       "2010-01-07  6.421426  23.366133  7.485714  6.5000\n",
       "2010-01-08  6.464119  23.527283  7.614286  6.6760"
      ]
     },
     "execution_count": 9,
     "metadata": {},
     "output_type": "execute_result"
    }
   ],
   "source": [
    "data.head()"
   ]
  },
  {
   "cell_type": "code",
   "execution_count": 10,
   "id": "54cb193e",
   "metadata": {
    "ExecuteTime": {
     "end_time": "2022-09-10T07:08:40.103386Z",
     "start_time": "2022-09-10T07:08:40.098610Z"
    }
   },
   "outputs": [
    {
     "data": {
      "text/plain": [
       "Symbols\n",
       "AAPL     6.526021\n",
       "MSFT    23.749819\n",
       "NFLX     7.640000\n",
       "AMZN     6.695000\n",
       "Name: 2010-01-04 00:00:00, dtype: float64"
      ]
     },
     "execution_count": 10,
     "metadata": {},
     "output_type": "execute_result"
    }
   ],
   "source": [
    "data.iloc[0]"
   ]
  },
  {
   "cell_type": "code",
   "execution_count": 11,
   "id": "66e6dee2",
   "metadata": {
    "ExecuteTime": {
     "end_time": "2022-09-10T07:08:40.109865Z",
     "start_time": "2022-09-10T07:08:40.105778Z"
    }
   },
   "outputs": [],
   "source": [
    "# normalisation wrt the first entry\n",
    "norm = data/data.iloc[0]"
   ]
  },
  {
   "cell_type": "code",
   "execution_count": 12,
   "id": "f1231649",
   "metadata": {
    "ExecuteTime": {
     "end_time": "2022-09-10T07:08:40.120721Z",
     "start_time": "2022-09-10T07:08:40.111905Z"
    }
   },
   "outputs": [
    {
     "data": {
      "text/html": [
       "<div>\n",
       "<style scoped>\n",
       "    .dataframe tbody tr th:only-of-type {\n",
       "        vertical-align: middle;\n",
       "    }\n",
       "\n",
       "    .dataframe tbody tr th {\n",
       "        vertical-align: top;\n",
       "    }\n",
       "\n",
       "    .dataframe thead th {\n",
       "        text-align: right;\n",
       "    }\n",
       "</style>\n",
       "<table border=\"1\" class=\"dataframe\">\n",
       "  <thead>\n",
       "    <tr style=\"text-align: right;\">\n",
       "      <th>Symbols</th>\n",
       "      <th>AAPL</th>\n",
       "      <th>MSFT</th>\n",
       "      <th>NFLX</th>\n",
       "      <th>AMZN</th>\n",
       "    </tr>\n",
       "    <tr>\n",
       "      <th>Date</th>\n",
       "      <th></th>\n",
       "      <th></th>\n",
       "      <th></th>\n",
       "      <th></th>\n",
       "    </tr>\n",
       "  </thead>\n",
       "  <tbody>\n",
       "    <tr>\n",
       "      <th>2010-01-04</th>\n",
       "      <td>1.000000</td>\n",
       "      <td>1.000000</td>\n",
       "      <td>1.000000</td>\n",
       "      <td>1.000000</td>\n",
       "    </tr>\n",
       "    <tr>\n",
       "      <th>2010-01-05</th>\n",
       "      <td>1.001729</td>\n",
       "      <td>1.000323</td>\n",
       "      <td>0.963164</td>\n",
       "      <td>1.005900</td>\n",
       "    </tr>\n",
       "    <tr>\n",
       "      <th>2010-01-06</th>\n",
       "      <td>0.985795</td>\n",
       "      <td>0.994184</td>\n",
       "      <td>0.997008</td>\n",
       "      <td>0.987677</td>\n",
       "    </tr>\n",
       "    <tr>\n",
       "      <th>2010-01-07</th>\n",
       "      <td>0.983973</td>\n",
       "      <td>0.983845</td>\n",
       "      <td>0.979806</td>\n",
       "      <td>0.970874</td>\n",
       "    </tr>\n",
       "    <tr>\n",
       "      <th>2010-01-08</th>\n",
       "      <td>0.990515</td>\n",
       "      <td>0.990630</td>\n",
       "      <td>0.996634</td>\n",
       "      <td>0.997162</td>\n",
       "    </tr>\n",
       "  </tbody>\n",
       "</table>\n",
       "</div>"
      ],
      "text/plain": [
       "Symbols         AAPL      MSFT      NFLX      AMZN\n",
       "Date                                              \n",
       "2010-01-04  1.000000  1.000000  1.000000  1.000000\n",
       "2010-01-05  1.001729  1.000323  0.963164  1.005900\n",
       "2010-01-06  0.985795  0.994184  0.997008  0.987677\n",
       "2010-01-07  0.983973  0.983845  0.979806  0.970874\n",
       "2010-01-08  0.990515  0.990630  0.996634  0.997162"
      ]
     },
     "execution_count": 12,
     "metadata": {},
     "output_type": "execute_result"
    }
   ],
   "source": [
    "norm.head()"
   ]
  },
  {
   "cell_type": "markdown",
   "id": "d5ffb3ef",
   "metadata": {},
   "source": [
    "# Chose portfolio weights\n",
    "<hr style = \"border:2px solid black\" ></hr>"
   ]
  },
  {
   "cell_type": "code",
   "execution_count": 13,
   "id": "9494b927",
   "metadata": {
    "ExecuteTime": {
     "end_time": "2022-09-10T07:08:40.125723Z",
     "start_time": "2022-09-10T07:08:40.123143Z"
    }
   },
   "outputs": [],
   "source": [
    "portfolio = [.25, .25, .25, .25]"
   ]
  },
  {
   "cell_type": "code",
   "execution_count": 21,
   "id": "592e14ba",
   "metadata": {
    "ExecuteTime": {
     "end_time": "2022-09-10T07:09:30.762599Z",
     "start_time": "2022-09-10T07:09:30.758839Z"
    },
    "scrolled": false
   },
   "outputs": [],
   "source": [
    "weights = norm*portfolio"
   ]
  },
  {
   "cell_type": "code",
   "execution_count": 22,
   "id": "3e7e009a",
   "metadata": {
    "ExecuteTime": {
     "end_time": "2022-09-10T07:09:31.326963Z",
     "start_time": "2022-09-10T07:09:31.318423Z"
    }
   },
   "outputs": [
    {
     "data": {
      "text/html": [
       "<div>\n",
       "<style scoped>\n",
       "    .dataframe tbody tr th:only-of-type {\n",
       "        vertical-align: middle;\n",
       "    }\n",
       "\n",
       "    .dataframe tbody tr th {\n",
       "        vertical-align: top;\n",
       "    }\n",
       "\n",
       "    .dataframe thead th {\n",
       "        text-align: right;\n",
       "    }\n",
       "</style>\n",
       "<table border=\"1\" class=\"dataframe\">\n",
       "  <thead>\n",
       "    <tr style=\"text-align: right;\">\n",
       "      <th>Symbols</th>\n",
       "      <th>AAPL</th>\n",
       "      <th>MSFT</th>\n",
       "      <th>NFLX</th>\n",
       "      <th>AMZN</th>\n",
       "    </tr>\n",
       "    <tr>\n",
       "      <th>Date</th>\n",
       "      <th></th>\n",
       "      <th></th>\n",
       "      <th></th>\n",
       "      <th></th>\n",
       "    </tr>\n",
       "  </thead>\n",
       "  <tbody>\n",
       "    <tr>\n",
       "      <th>2010-01-04</th>\n",
       "      <td>0.250000</td>\n",
       "      <td>0.250000</td>\n",
       "      <td>0.250000</td>\n",
       "      <td>0.250000</td>\n",
       "    </tr>\n",
       "    <tr>\n",
       "      <th>2010-01-05</th>\n",
       "      <td>0.250432</td>\n",
       "      <td>0.250081</td>\n",
       "      <td>0.240791</td>\n",
       "      <td>0.251475</td>\n",
       "    </tr>\n",
       "    <tr>\n",
       "      <th>2010-01-06</th>\n",
       "      <td>0.246449</td>\n",
       "      <td>0.248546</td>\n",
       "      <td>0.249252</td>\n",
       "      <td>0.246919</td>\n",
       "    </tr>\n",
       "    <tr>\n",
       "      <th>2010-01-07</th>\n",
       "      <td>0.245993</td>\n",
       "      <td>0.245961</td>\n",
       "      <td>0.244951</td>\n",
       "      <td>0.242718</td>\n",
       "    </tr>\n",
       "    <tr>\n",
       "      <th>2010-01-08</th>\n",
       "      <td>0.247629</td>\n",
       "      <td>0.247657</td>\n",
       "      <td>0.249159</td>\n",
       "      <td>0.249291</td>\n",
       "    </tr>\n",
       "  </tbody>\n",
       "</table>\n",
       "</div>"
      ],
      "text/plain": [
       "Symbols         AAPL      MSFT      NFLX      AMZN\n",
       "Date                                              \n",
       "2010-01-04  0.250000  0.250000  0.250000  0.250000\n",
       "2010-01-05  0.250432  0.250081  0.240791  0.251475\n",
       "2010-01-06  0.246449  0.248546  0.249252  0.246919\n",
       "2010-01-07  0.245993  0.245961  0.244951  0.242718\n",
       "2010-01-08  0.247629  0.247657  0.249159  0.249291"
      ]
     },
     "execution_count": 22,
     "metadata": {},
     "output_type": "execute_result"
    }
   ],
   "source": [
    "weights.head()"
   ]
  },
  {
   "cell_type": "code",
   "execution_count": 16,
   "id": "7fb93c19",
   "metadata": {
    "ExecuteTime": {
     "end_time": "2022-09-10T07:08:40.153146Z",
     "start_time": "2022-09-10T07:08:40.147521Z"
    }
   },
   "outputs": [],
   "source": [
    "# Calculate the sum and add index\n",
    "weights['Total'] = (norm*portfolio).sum(axis=1)"
   ]
  },
  {
   "cell_type": "code",
   "execution_count": 17,
   "id": "a7f27814",
   "metadata": {
    "ExecuteTime": {
     "end_time": "2022-09-10T07:08:40.165899Z",
     "start_time": "2022-09-10T07:08:40.155124Z"
    }
   },
   "outputs": [
    {
     "data": {
      "text/html": [
       "<div>\n",
       "<style scoped>\n",
       "    .dataframe tbody tr th:only-of-type {\n",
       "        vertical-align: middle;\n",
       "    }\n",
       "\n",
       "    .dataframe tbody tr th {\n",
       "        vertical-align: top;\n",
       "    }\n",
       "\n",
       "    .dataframe thead th {\n",
       "        text-align: right;\n",
       "    }\n",
       "</style>\n",
       "<table border=\"1\" class=\"dataframe\">\n",
       "  <thead>\n",
       "    <tr style=\"text-align: right;\">\n",
       "      <th>Symbols</th>\n",
       "      <th>AAPL</th>\n",
       "      <th>MSFT</th>\n",
       "      <th>NFLX</th>\n",
       "      <th>AMZN</th>\n",
       "      <th>Total</th>\n",
       "    </tr>\n",
       "    <tr>\n",
       "      <th>Date</th>\n",
       "      <th></th>\n",
       "      <th></th>\n",
       "      <th></th>\n",
       "      <th></th>\n",
       "      <th></th>\n",
       "    </tr>\n",
       "  </thead>\n",
       "  <tbody>\n",
       "    <tr>\n",
       "      <th>2010-01-04</th>\n",
       "      <td>0.250000</td>\n",
       "      <td>0.250000</td>\n",
       "      <td>0.250000</td>\n",
       "      <td>0.250000</td>\n",
       "      <td>1.000000</td>\n",
       "    </tr>\n",
       "    <tr>\n",
       "      <th>2010-01-05</th>\n",
       "      <td>0.250432</td>\n",
       "      <td>0.250081</td>\n",
       "      <td>0.240791</td>\n",
       "      <td>0.251475</td>\n",
       "      <td>0.992779</td>\n",
       "    </tr>\n",
       "    <tr>\n",
       "      <th>2010-01-06</th>\n",
       "      <td>0.246449</td>\n",
       "      <td>0.248546</td>\n",
       "      <td>0.249252</td>\n",
       "      <td>0.246919</td>\n",
       "      <td>0.991166</td>\n",
       "    </tr>\n",
       "    <tr>\n",
       "      <th>2010-01-07</th>\n",
       "      <td>0.245993</td>\n",
       "      <td>0.245961</td>\n",
       "      <td>0.244951</td>\n",
       "      <td>0.242718</td>\n",
       "      <td>0.979624</td>\n",
       "    </tr>\n",
       "    <tr>\n",
       "      <th>2010-01-08</th>\n",
       "      <td>0.247629</td>\n",
       "      <td>0.247657</td>\n",
       "      <td>0.249159</td>\n",
       "      <td>0.249291</td>\n",
       "      <td>0.993735</td>\n",
       "    </tr>\n",
       "  </tbody>\n",
       "</table>\n",
       "</div>"
      ],
      "text/plain": [
       "Symbols         AAPL      MSFT      NFLX      AMZN     Total\n",
       "Date                                                        \n",
       "2010-01-04  0.250000  0.250000  0.250000  0.250000  1.000000\n",
       "2010-01-05  0.250432  0.250081  0.240791  0.251475  0.992779\n",
       "2010-01-06  0.246449  0.248546  0.249252  0.246919  0.991166\n",
       "2010-01-07  0.245993  0.245961  0.244951  0.242718  0.979624\n",
       "2010-01-08  0.247629  0.247657  0.249159  0.249291  0.993735"
      ]
     },
     "execution_count": 17,
     "metadata": {},
     "output_type": "execute_result"
    }
   ],
   "source": [
    "weights.head()"
   ]
  },
  {
   "cell_type": "markdown",
   "id": "01d42e0e",
   "metadata": {},
   "source": [
    "# Get the returns\n",
    "<hr style = \"border:2px solid black\" ></hr>"
   ]
  },
  {
   "cell_type": "code",
   "execution_count": 18,
   "id": "842ccd53",
   "metadata": {
    "ExecuteTime": {
     "end_time": "2022-09-10T07:08:40.179014Z",
     "start_time": "2022-09-10T07:08:40.168102Z"
    }
   },
   "outputs": [
    {
     "data": {
      "text/html": [
       "<div>\n",
       "<style scoped>\n",
       "    .dataframe tbody tr th:only-of-type {\n",
       "        vertical-align: middle;\n",
       "    }\n",
       "\n",
       "    .dataframe tbody tr th {\n",
       "        vertical-align: top;\n",
       "    }\n",
       "\n",
       "    .dataframe thead th {\n",
       "        text-align: right;\n",
       "    }\n",
       "</style>\n",
       "<table border=\"1\" class=\"dataframe\">\n",
       "  <thead>\n",
       "    <tr style=\"text-align: right;\">\n",
       "      <th>Symbols</th>\n",
       "      <th>AAPL</th>\n",
       "      <th>MSFT</th>\n",
       "      <th>NFLX</th>\n",
       "      <th>AMZN</th>\n",
       "      <th>Total</th>\n",
       "    </tr>\n",
       "    <tr>\n",
       "      <th>Date</th>\n",
       "      <th></th>\n",
       "      <th></th>\n",
       "      <th></th>\n",
       "      <th></th>\n",
       "      <th></th>\n",
       "    </tr>\n",
       "  </thead>\n",
       "  <tbody>\n",
       "    <tr>\n",
       "      <th>2010-01-04</th>\n",
       "      <td>25000.000000</td>\n",
       "      <td>25000.000000</td>\n",
       "      <td>25000.000000</td>\n",
       "      <td>25000.000000</td>\n",
       "      <td>100000.000000</td>\n",
       "    </tr>\n",
       "    <tr>\n",
       "      <th>2010-01-05</th>\n",
       "      <td>25043.219165</td>\n",
       "      <td>25008.073166</td>\n",
       "      <td>24079.094179</td>\n",
       "      <td>25147.497232</td>\n",
       "      <td>99277.883742</td>\n",
       "    </tr>\n",
       "    <tr>\n",
       "      <th>2010-01-06</th>\n",
       "      <td>24644.877656</td>\n",
       "      <td>24854.596685</td>\n",
       "      <td>24925.207092</td>\n",
       "      <td>24691.934358</td>\n",
       "      <td>99116.615791</td>\n",
       "    </tr>\n",
       "    <tr>\n",
       "      <th>2010-01-07</th>\n",
       "      <td>24599.314865</td>\n",
       "      <td>24596.116849</td>\n",
       "      <td>24495.137728</td>\n",
       "      <td>24271.844038</td>\n",
       "      <td>97962.413480</td>\n",
       "    </tr>\n",
       "    <tr>\n",
       "      <th>2010-01-08</th>\n",
       "      <td>24762.864515</td>\n",
       "      <td>24765.749700</td>\n",
       "      <td>24915.857588</td>\n",
       "      <td>24929.051333</td>\n",
       "      <td>99373.523137</td>\n",
       "    </tr>\n",
       "  </tbody>\n",
       "</table>\n",
       "</div>"
      ],
      "text/plain": [
       "Symbols             AAPL          MSFT          NFLX          AMZN  \\\n",
       "Date                                                                 \n",
       "2010-01-04  25000.000000  25000.000000  25000.000000  25000.000000   \n",
       "2010-01-05  25043.219165  25008.073166  24079.094179  25147.497232   \n",
       "2010-01-06  24644.877656  24854.596685  24925.207092  24691.934358   \n",
       "2010-01-07  24599.314865  24596.116849  24495.137728  24271.844038   \n",
       "2010-01-08  24762.864515  24765.749700  24915.857588  24929.051333   \n",
       "\n",
       "Symbols             Total  \n",
       "Date                       \n",
       "2010-01-04  100000.000000  \n",
       "2010-01-05   99277.883742  \n",
       "2010-01-06   99116.615791  \n",
       "2010-01-07   97962.413480  \n",
       "2010-01-08   99373.523137  "
      ]
     },
     "execution_count": 18,
     "metadata": {},
     "output_type": "execute_result"
    }
   ],
   "source": [
    "(weights*100000).head()"
   ]
  },
  {
   "cell_type": "code",
   "execution_count": 19,
   "id": "3174a8cf",
   "metadata": {
    "ExecuteTime": {
     "end_time": "2022-09-10T07:08:40.192470Z",
     "start_time": "2022-09-10T07:08:40.181783Z"
    }
   },
   "outputs": [
    {
     "data": {
      "text/html": [
       "<div>\n",
       "<style scoped>\n",
       "    .dataframe tbody tr th:only-of-type {\n",
       "        vertical-align: middle;\n",
       "    }\n",
       "\n",
       "    .dataframe tbody tr th {\n",
       "        vertical-align: top;\n",
       "    }\n",
       "\n",
       "    .dataframe thead th {\n",
       "        text-align: right;\n",
       "    }\n",
       "</style>\n",
       "<table border=\"1\" class=\"dataframe\">\n",
       "  <thead>\n",
       "    <tr style=\"text-align: right;\">\n",
       "      <th>Symbols</th>\n",
       "      <th>AAPL</th>\n",
       "      <th>MSFT</th>\n",
       "      <th>NFLX</th>\n",
       "      <th>AMZN</th>\n",
       "      <th>Total</th>\n",
       "    </tr>\n",
       "    <tr>\n",
       "      <th>Date</th>\n",
       "      <th></th>\n",
       "      <th></th>\n",
       "      <th></th>\n",
       "      <th></th>\n",
       "      <th></th>\n",
       "    </tr>\n",
       "  </thead>\n",
       "  <tbody>\n",
       "    <tr>\n",
       "      <th>2022-09-02</th>\n",
       "      <td>596879.773562</td>\n",
       "      <td>269538.895954</td>\n",
       "      <td>739888.758383</td>\n",
       "      <td>476138.905403</td>\n",
       "      <td>2.082446e+06</td>\n",
       "    </tr>\n",
       "    <tr>\n",
       "      <th>2022-09-06</th>\n",
       "      <td>591976.330949</td>\n",
       "      <td>266580.981220</td>\n",
       "      <td>714626.973842</td>\n",
       "      <td>470911.117912</td>\n",
       "      <td>2.044095e+06</td>\n",
       "    </tr>\n",
       "    <tr>\n",
       "      <th>2022-09-07</th>\n",
       "      <td>597454.431364</td>\n",
       "      <td>271675.753077</td>\n",
       "      <td>749214.694748</td>\n",
       "      <td>483495.117280</td>\n",
       "      <td>2.101840e+06</td>\n",
       "    </tr>\n",
       "    <tr>\n",
       "      <th>2022-09-08</th>\n",
       "      <td>591708.204072</td>\n",
       "      <td>272128.380400</td>\n",
       "      <td>744240.858691</td>\n",
       "      <td>484764.764733</td>\n",
       "      <td>2.092842e+06</td>\n",
       "    </tr>\n",
       "    <tr>\n",
       "      <th>2022-09-09</th>\n",
       "      <td>602855.840593</td>\n",
       "      <td>278381.062253</td>\n",
       "      <td>764299.775543</td>\n",
       "      <td>497647.501327</td>\n",
       "      <td>2.143184e+06</td>\n",
       "    </tr>\n",
       "  </tbody>\n",
       "</table>\n",
       "</div>"
      ],
      "text/plain": [
       "Symbols              AAPL           MSFT           NFLX           AMZN  \\\n",
       "Date                                                                     \n",
       "2022-09-02  596879.773562  269538.895954  739888.758383  476138.905403   \n",
       "2022-09-06  591976.330949  266580.981220  714626.973842  470911.117912   \n",
       "2022-09-07  597454.431364  271675.753077  749214.694748  483495.117280   \n",
       "2022-09-08  591708.204072  272128.380400  744240.858691  484764.764733   \n",
       "2022-09-09  602855.840593  278381.062253  764299.775543  497647.501327   \n",
       "\n",
       "Symbols            Total  \n",
       "Date                      \n",
       "2022-09-02  2.082446e+06  \n",
       "2022-09-06  2.044095e+06  \n",
       "2022-09-07  2.101840e+06  \n",
       "2022-09-08  2.092842e+06  \n",
       "2022-09-09  2.143184e+06  "
      ]
     },
     "execution_count": 19,
     "metadata": {},
     "output_type": "execute_result"
    }
   ],
   "source": [
    "(weights*100000).tail()"
   ]
  },
  {
   "cell_type": "code",
   "execution_count": 20,
   "id": "fe9932c1",
   "metadata": {
    "ExecuteTime": {
     "end_time": "2022-09-10T07:08:40.201701Z",
     "start_time": "2022-09-10T07:08:40.195651Z"
    }
   },
   "outputs": [
    {
     "data": {
      "text/plain": [
       "2143184.1797164376"
      ]
     },
     "execution_count": 20,
     "metadata": {},
     "output_type": "execute_result"
    }
   ],
   "source": [
    "(weights['Total']*100000).iloc[-1]"
   ]
  },
  {
   "cell_type": "markdown",
   "id": "ae87ef56",
   "metadata": {},
   "source": [
    "# References\n",
    "<hr style = \"border:2px solid black\" ></hr>"
   ]
  },
  {
   "cell_type": "markdown",
   "id": "043350c0",
   "metadata": {},
   "source": [
    "<div class=\"alert alert-warning\">\n",
    "<font color=black>\n",
    "\n",
    "- https://github.com/LearnPythonWithRune/PythonForFinancialAnalysis/blob/main/01%20-%20Read%20from%20API.ipynb\n",
    "- https://www.learnpythonwithrune.org/start-python-with-pandas-for-financial-analysis/\n",
    "- https://pythonprogramming.net/getting-stock-prices-python-programming-for-finance/\n",
    "\n",
    "</font>\n",
    "</div>"
   ]
  }
 ],
 "metadata": {
  "kernelspec": {
   "display_name": "trainingAI",
   "language": "python",
   "name": "trainingai"
  },
  "language_info": {
   "codemirror_mode": {
    "name": "ipython",
    "version": 3
   },
   "file_extension": ".py",
   "mimetype": "text/x-python",
   "name": "python",
   "nbconvert_exporter": "python",
   "pygments_lexer": "ipython3",
   "version": "3.9.7"
  },
  "toc": {
   "base_numbering": 1,
   "nav_menu": {},
   "number_sections": true,
   "sideBar": true,
   "skip_h1_title": false,
   "title_cell": "Table of Contents",
   "title_sidebar": "Contents",
   "toc_cell": true,
   "toc_position": {},
   "toc_section_display": true,
   "toc_window_display": true
  },
  "varInspector": {
   "cols": {
    "lenName": 16,
    "lenType": 16,
    "lenVar": 40
   },
   "kernels_config": {
    "python": {
     "delete_cmd_postfix": "",
     "delete_cmd_prefix": "del ",
     "library": "var_list.py",
     "varRefreshCmd": "print(var_dic_list())"
    },
    "r": {
     "delete_cmd_postfix": ") ",
     "delete_cmd_prefix": "rm(",
     "library": "var_list.r",
     "varRefreshCmd": "cat(var_dic_list()) "
    }
   },
   "types_to_exclude": [
    "module",
    "function",
    "builtin_function_or_method",
    "instance",
    "_Feature"
   ],
   "window_display": false
  }
 },
 "nbformat": 4,
 "nbformat_minor": 5
}
