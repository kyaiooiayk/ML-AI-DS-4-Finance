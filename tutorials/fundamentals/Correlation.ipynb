{
 "cells": [
  {
   "cell_type": "markdown",
   "id": "992ab21a",
   "metadata": {
    "toc": true
   },
   "source": [
    "<h1>Table of Contents<span class=\"tocSkip\"></span></h1>\n",
    "<div class=\"toc\"><ul class=\"toc-item\"><li><span><a href=\"#Introduction\" data-toc-modified-id=\"Introduction-1\"><span class=\"toc-item-num\">1&nbsp;&nbsp;</span>Introduction</a></span></li><li><span><a href=\"#What-is-correlation?\" data-toc-modified-id=\"What-is-correlation?-2\"><span class=\"toc-item-num\">2&nbsp;&nbsp;</span>What is correlation?</a></span></li><li><span><a href=\"#Imports\" data-toc-modified-id=\"Imports-3\"><span class=\"toc-item-num\">3&nbsp;&nbsp;</span>Imports</a></span></li><li><span><a href=\"#Import-data\" data-toc-modified-id=\"Import-data-4\"><span class=\"toc-item-num\">4&nbsp;&nbsp;</span>Import data</a></span></li><li><span><a href=\"#Compute-correlation\" data-toc-modified-id=\"Compute-correlation-5\"><span class=\"toc-item-num\">5&nbsp;&nbsp;</span>Compute correlation</a></span></li><li><span><a href=\"#References\" data-toc-modified-id=\"References-6\"><span class=\"toc-item-num\">6&nbsp;&nbsp;</span>References</a></span></li></ul></div>"
   ]
  },
  {
   "cell_type": "markdown",
   "id": "33daf78f",
   "metadata": {},
   "source": [
    "# Introduction\n",
    "<hr style = \"border:2px solid black\" ></hr>"
   ]
  },
  {
   "cell_type": "markdown",
   "id": "6150694c",
   "metadata": {},
   "source": [
    "<div class=\"alert alert-warning\">\n",
    "<font color=black>\n",
    "\n",
    "**What?** Correlation\n",
    "\n",
    "</font>\n",
    "</div>"
   ]
  },
  {
   "cell_type": "markdown",
   "id": "2bb115be",
   "metadata": {},
   "source": [
    "# What is correlation?\n",
    "<hr style = \"border:2px solid black\" ></hr>"
   ]
  },
  {
   "cell_type": "markdown",
   "id": "965c1c26",
   "metadata": {},
   "source": [
    "<div class=\"alert alert-info\">\n",
    "<font color=black>\n",
    "\n",
    "- Correlation measures association, but doesn't show if x causes y or vice versa\n",
    "- Correlation is a statistic that measures the degree to which two variables move in relation to each other.\n",
    "- **How is it used in finance?** It is used to quantify the movement of a stock with that of a benchmark index, such as the S&P 500.\n",
    "\n",
    "</font>\n",
    "</div>"
   ]
  },
  {
   "cell_type": "markdown",
   "id": "6d6f9d75",
   "metadata": {},
   "source": [
    "# Imports\n",
    "<hr style = \"border:2px solid black\" ></hr>"
   ]
  },
  {
   "cell_type": "code",
   "execution_count": 1,
   "id": "995cd4aa",
   "metadata": {
    "ExecuteTime": {
     "end_time": "2022-08-31T18:23:19.215362Z",
     "start_time": "2022-08-31T18:23:18.300826Z"
    }
   },
   "outputs": [],
   "source": [
    "import pandas as pd\n",
    "import pandas_datareader as pdr\n",
    "import datetime as dt\n",
    "import numpy as np\n",
    "import matplotlib.pyplot as plt"
   ]
  },
  {
   "cell_type": "markdown",
   "id": "8f6e5801",
   "metadata": {},
   "source": [
    "# Import data\n",
    "<hr style = \"border:2px solid black\" ></hr>"
   ]
  },
  {
   "cell_type": "code",
   "execution_count": 2,
   "id": "c4022c2d",
   "metadata": {
    "ExecuteTime": {
     "end_time": "2022-08-31T18:23:21.554135Z",
     "start_time": "2022-08-31T18:23:19.218299Z"
    }
   },
   "outputs": [],
   "source": [
    "tickers = ['AAPL', 'TWTR', 'IBM', 'MSFT']\n",
    "start = dt.datetime(2020, 1, 1)\n",
    "\n",
    "data = pdr.get_data_yahoo(tickers, start)"
   ]
  },
  {
   "cell_type": "code",
   "execution_count": 3,
   "id": "2ca09f0e",
   "metadata": {
    "ExecuteTime": {
     "end_time": "2022-08-31T18:23:21.584117Z",
     "start_time": "2022-08-31T18:23:21.556195Z"
    }
   },
   "outputs": [
    {
     "data": {
      "text/html": [
       "<div>\n",
       "<style scoped>\n",
       "    .dataframe tbody tr th:only-of-type {\n",
       "        vertical-align: middle;\n",
       "    }\n",
       "\n",
       "    .dataframe tbody tr th {\n",
       "        vertical-align: top;\n",
       "    }\n",
       "\n",
       "    .dataframe thead tr th {\n",
       "        text-align: left;\n",
       "    }\n",
       "\n",
       "    .dataframe thead tr:last-of-type th {\n",
       "        text-align: right;\n",
       "    }\n",
       "</style>\n",
       "<table border=\"1\" class=\"dataframe\">\n",
       "  <thead>\n",
       "    <tr>\n",
       "      <th>Attributes</th>\n",
       "      <th colspan=\"4\" halign=\"left\">Adj Close</th>\n",
       "      <th colspan=\"4\" halign=\"left\">Close</th>\n",
       "      <th colspan=\"2\" halign=\"left\">High</th>\n",
       "      <th>...</th>\n",
       "      <th colspan=\"2\" halign=\"left\">Low</th>\n",
       "      <th colspan=\"4\" halign=\"left\">Open</th>\n",
       "      <th colspan=\"4\" halign=\"left\">Volume</th>\n",
       "    </tr>\n",
       "    <tr>\n",
       "      <th>Symbols</th>\n",
       "      <th>AAPL</th>\n",
       "      <th>TWTR</th>\n",
       "      <th>IBM</th>\n",
       "      <th>MSFT</th>\n",
       "      <th>AAPL</th>\n",
       "      <th>TWTR</th>\n",
       "      <th>IBM</th>\n",
       "      <th>MSFT</th>\n",
       "      <th>AAPL</th>\n",
       "      <th>TWTR</th>\n",
       "      <th>...</th>\n",
       "      <th>IBM</th>\n",
       "      <th>MSFT</th>\n",
       "      <th>AAPL</th>\n",
       "      <th>TWTR</th>\n",
       "      <th>IBM</th>\n",
       "      <th>MSFT</th>\n",
       "      <th>AAPL</th>\n",
       "      <th>TWTR</th>\n",
       "      <th>IBM</th>\n",
       "      <th>MSFT</th>\n",
       "    </tr>\n",
       "    <tr>\n",
       "      <th>Date</th>\n",
       "      <th></th>\n",
       "      <th></th>\n",
       "      <th></th>\n",
       "      <th></th>\n",
       "      <th></th>\n",
       "      <th></th>\n",
       "      <th></th>\n",
       "      <th></th>\n",
       "      <th></th>\n",
       "      <th></th>\n",
       "      <th></th>\n",
       "      <th></th>\n",
       "      <th></th>\n",
       "      <th></th>\n",
       "      <th></th>\n",
       "      <th></th>\n",
       "      <th></th>\n",
       "      <th></th>\n",
       "      <th></th>\n",
       "      <th></th>\n",
       "      <th></th>\n",
       "    </tr>\n",
       "  </thead>\n",
       "  <tbody>\n",
       "    <tr>\n",
       "      <th>2020-01-02</th>\n",
       "      <td>73.683563</td>\n",
       "      <td>32.299999</td>\n",
       "      <td>112.916931</td>\n",
       "      <td>156.591995</td>\n",
       "      <td>75.087502</td>\n",
       "      <td>32.299999</td>\n",
       "      <td>129.464630</td>\n",
       "      <td>160.619995</td>\n",
       "      <td>75.150002</td>\n",
       "      <td>32.500000</td>\n",
       "      <td>...</td>\n",
       "      <td>128.843216</td>\n",
       "      <td>158.330002</td>\n",
       "      <td>74.059998</td>\n",
       "      <td>32.310001</td>\n",
       "      <td>129.063095</td>\n",
       "      <td>158.779999</td>\n",
       "      <td>135480400.0</td>\n",
       "      <td>10721100.0</td>\n",
       "      <td>3293436.0</td>\n",
       "      <td>22622100.0</td>\n",
       "    </tr>\n",
       "    <tr>\n",
       "      <th>2020-01-03</th>\n",
       "      <td>72.967216</td>\n",
       "      <td>31.520000</td>\n",
       "      <td>112.016411</td>\n",
       "      <td>154.642151</td>\n",
       "      <td>74.357498</td>\n",
       "      <td>31.520000</td>\n",
       "      <td>128.432129</td>\n",
       "      <td>158.619995</td>\n",
       "      <td>75.144997</td>\n",
       "      <td>32.099998</td>\n",
       "      <td>...</td>\n",
       "      <td>127.686424</td>\n",
       "      <td>158.059998</td>\n",
       "      <td>74.287498</td>\n",
       "      <td>31.709999</td>\n",
       "      <td>127.695984</td>\n",
       "      <td>158.320007</td>\n",
       "      <td>146322800.0</td>\n",
       "      <td>14429500.0</td>\n",
       "      <td>2482890.0</td>\n",
       "      <td>21116200.0</td>\n",
       "    </tr>\n",
       "    <tr>\n",
       "      <th>2020-01-06</th>\n",
       "      <td>73.548622</td>\n",
       "      <td>31.639999</td>\n",
       "      <td>111.816284</td>\n",
       "      <td>155.041901</td>\n",
       "      <td>74.949997</td>\n",
       "      <td>31.639999</td>\n",
       "      <td>128.202682</td>\n",
       "      <td>159.029999</td>\n",
       "      <td>74.989998</td>\n",
       "      <td>31.709999</td>\n",
       "      <td>...</td>\n",
       "      <td>127.342255</td>\n",
       "      <td>156.509995</td>\n",
       "      <td>73.447502</td>\n",
       "      <td>31.230000</td>\n",
       "      <td>127.552582</td>\n",
       "      <td>157.080002</td>\n",
       "      <td>118387200.0</td>\n",
       "      <td>12582500.0</td>\n",
       "      <td>2537073.0</td>\n",
       "      <td>20813700.0</td>\n",
       "    </tr>\n",
       "    <tr>\n",
       "      <th>2020-01-07</th>\n",
       "      <td>73.202721</td>\n",
       "      <td>32.540001</td>\n",
       "      <td>111.891319</td>\n",
       "      <td>153.628250</td>\n",
       "      <td>74.597504</td>\n",
       "      <td>32.540001</td>\n",
       "      <td>128.288712</td>\n",
       "      <td>157.580002</td>\n",
       "      <td>75.224998</td>\n",
       "      <td>32.700001</td>\n",
       "      <td>...</td>\n",
       "      <td>127.533463</td>\n",
       "      <td>157.320007</td>\n",
       "      <td>74.959999</td>\n",
       "      <td>31.799999</td>\n",
       "      <td>127.810707</td>\n",
       "      <td>159.320007</td>\n",
       "      <td>108872000.0</td>\n",
       "      <td>13712900.0</td>\n",
       "      <td>3232977.0</td>\n",
       "      <td>21634100.0</td>\n",
       "    </tr>\n",
       "    <tr>\n",
       "      <th>2020-01-08</th>\n",
       "      <td>74.380295</td>\n",
       "      <td>33.049999</td>\n",
       "      <td>112.825203</td>\n",
       "      <td>156.075272</td>\n",
       "      <td>75.797501</td>\n",
       "      <td>33.049999</td>\n",
       "      <td>129.359467</td>\n",
       "      <td>160.089996</td>\n",
       "      <td>76.110001</td>\n",
       "      <td>33.400002</td>\n",
       "      <td>...</td>\n",
       "      <td>128.030594</td>\n",
       "      <td>157.949997</td>\n",
       "      <td>74.290001</td>\n",
       "      <td>32.349998</td>\n",
       "      <td>128.594650</td>\n",
       "      <td>158.929993</td>\n",
       "      <td>132079200.0</td>\n",
       "      <td>14632400.0</td>\n",
       "      <td>4545916.0</td>\n",
       "      <td>27746500.0</td>\n",
       "    </tr>\n",
       "  </tbody>\n",
       "</table>\n",
       "<p>5 rows × 24 columns</p>\n",
       "</div>"
      ],
      "text/plain": [
       "Attributes  Adj Close                                         Close  \\\n",
       "Symbols          AAPL       TWTR         IBM        MSFT       AAPL   \n",
       "Date                                                                  \n",
       "2020-01-02  73.683563  32.299999  112.916931  156.591995  75.087502   \n",
       "2020-01-03  72.967216  31.520000  112.016411  154.642151  74.357498   \n",
       "2020-01-06  73.548622  31.639999  111.816284  155.041901  74.949997   \n",
       "2020-01-07  73.202721  32.540001  111.891319  153.628250  74.597504   \n",
       "2020-01-08  74.380295  33.049999  112.825203  156.075272  75.797501   \n",
       "\n",
       "Attributes                                          High             ...  \\\n",
       "Symbols          TWTR         IBM        MSFT       AAPL       TWTR  ...   \n",
       "Date                                                                 ...   \n",
       "2020-01-02  32.299999  129.464630  160.619995  75.150002  32.500000  ...   \n",
       "2020-01-03  31.520000  128.432129  158.619995  75.144997  32.099998  ...   \n",
       "2020-01-06  31.639999  128.202682  159.029999  74.989998  31.709999  ...   \n",
       "2020-01-07  32.540001  128.288712  157.580002  75.224998  32.700001  ...   \n",
       "2020-01-08  33.049999  129.359467  160.089996  76.110001  33.400002  ...   \n",
       "\n",
       "Attributes         Low                   Open                         \\\n",
       "Symbols            IBM        MSFT       AAPL       TWTR         IBM   \n",
       "Date                                                                   \n",
       "2020-01-02  128.843216  158.330002  74.059998  32.310001  129.063095   \n",
       "2020-01-03  127.686424  158.059998  74.287498  31.709999  127.695984   \n",
       "2020-01-06  127.342255  156.509995  73.447502  31.230000  127.552582   \n",
       "2020-01-07  127.533463  157.320007  74.959999  31.799999  127.810707   \n",
       "2020-01-08  128.030594  157.949997  74.290001  32.349998  128.594650   \n",
       "\n",
       "Attributes                   Volume                                     \n",
       "Symbols           MSFT         AAPL        TWTR        IBM        MSFT  \n",
       "Date                                                                    \n",
       "2020-01-02  158.779999  135480400.0  10721100.0  3293436.0  22622100.0  \n",
       "2020-01-03  158.320007  146322800.0  14429500.0  2482890.0  21116200.0  \n",
       "2020-01-06  157.080002  118387200.0  12582500.0  2537073.0  20813700.0  \n",
       "2020-01-07  159.320007  108872000.0  13712900.0  3232977.0  21634100.0  \n",
       "2020-01-08  158.929993  132079200.0  14632400.0  4545916.0  27746500.0  \n",
       "\n",
       "[5 rows x 24 columns]"
      ]
     },
     "execution_count": 3,
     "metadata": {},
     "output_type": "execute_result"
    }
   ],
   "source": [
    "data.head()"
   ]
  },
  {
   "cell_type": "code",
   "execution_count": 4,
   "id": "6241ddaf",
   "metadata": {
    "ExecuteTime": {
     "end_time": "2022-08-31T18:23:21.590372Z",
     "start_time": "2022-08-31T18:23:21.585817Z"
    }
   },
   "outputs": [],
   "source": [
    "data = data['Adj Close']"
   ]
  },
  {
   "cell_type": "code",
   "execution_count": 5,
   "id": "9065afd1",
   "metadata": {
    "ExecuteTime": {
     "end_time": "2022-08-31T18:23:21.599839Z",
     "start_time": "2022-08-31T18:23:21.591998Z"
    }
   },
   "outputs": [
    {
     "data": {
      "text/html": [
       "<div>\n",
       "<style scoped>\n",
       "    .dataframe tbody tr th:only-of-type {\n",
       "        vertical-align: middle;\n",
       "    }\n",
       "\n",
       "    .dataframe tbody tr th {\n",
       "        vertical-align: top;\n",
       "    }\n",
       "\n",
       "    .dataframe thead th {\n",
       "        text-align: right;\n",
       "    }\n",
       "</style>\n",
       "<table border=\"1\" class=\"dataframe\">\n",
       "  <thead>\n",
       "    <tr style=\"text-align: right;\">\n",
       "      <th>Symbols</th>\n",
       "      <th>AAPL</th>\n",
       "      <th>TWTR</th>\n",
       "      <th>IBM</th>\n",
       "      <th>MSFT</th>\n",
       "    </tr>\n",
       "    <tr>\n",
       "      <th>Date</th>\n",
       "      <th></th>\n",
       "      <th></th>\n",
       "      <th></th>\n",
       "      <th></th>\n",
       "    </tr>\n",
       "  </thead>\n",
       "  <tbody>\n",
       "    <tr>\n",
       "      <th>2020-01-02</th>\n",
       "      <td>73.683563</td>\n",
       "      <td>32.299999</td>\n",
       "      <td>112.916931</td>\n",
       "      <td>156.591995</td>\n",
       "    </tr>\n",
       "    <tr>\n",
       "      <th>2020-01-03</th>\n",
       "      <td>72.967216</td>\n",
       "      <td>31.520000</td>\n",
       "      <td>112.016411</td>\n",
       "      <td>154.642151</td>\n",
       "    </tr>\n",
       "    <tr>\n",
       "      <th>2020-01-06</th>\n",
       "      <td>73.548622</td>\n",
       "      <td>31.639999</td>\n",
       "      <td>111.816284</td>\n",
       "      <td>155.041901</td>\n",
       "    </tr>\n",
       "    <tr>\n",
       "      <th>2020-01-07</th>\n",
       "      <td>73.202721</td>\n",
       "      <td>32.540001</td>\n",
       "      <td>111.891319</td>\n",
       "      <td>153.628250</td>\n",
       "    </tr>\n",
       "    <tr>\n",
       "      <th>2020-01-08</th>\n",
       "      <td>74.380295</td>\n",
       "      <td>33.049999</td>\n",
       "      <td>112.825203</td>\n",
       "      <td>156.075272</td>\n",
       "    </tr>\n",
       "  </tbody>\n",
       "</table>\n",
       "</div>"
      ],
      "text/plain": [
       "Symbols          AAPL       TWTR         IBM        MSFT\n",
       "Date                                                    \n",
       "2020-01-02  73.683563  32.299999  112.916931  156.591995\n",
       "2020-01-03  72.967216  31.520000  112.016411  154.642151\n",
       "2020-01-06  73.548622  31.639999  111.816284  155.041901\n",
       "2020-01-07  73.202721  32.540001  111.891319  153.628250\n",
       "2020-01-08  74.380295  33.049999  112.825203  156.075272"
      ]
     },
     "execution_count": 5,
     "metadata": {},
     "output_type": "execute_result"
    }
   ],
   "source": [
    "data.head()"
   ]
  },
  {
   "cell_type": "markdown",
   "id": "458d9e5d",
   "metadata": {
    "ExecuteTime": {
     "end_time": "2022-08-31T18:24:40.597122Z",
     "start_time": "2022-08-31T18:24:40.593472Z"
    }
   },
   "source": [
    "<div class=\"alert alert-info\">\n",
    "<font color=black>\n",
    "\n",
    "- Calculate the log returns.\n",
    "-  Remember we do it on the log returns to keep different stock index on the same range.\n",
    "\n",
    "</font>\n",
    "</div>"
   ]
  },
  {
   "cell_type": "code",
   "execution_count": 6,
   "id": "1bfa1659",
   "metadata": {
    "ExecuteTime": {
     "end_time": "2022-08-31T18:23:21.604875Z",
     "start_time": "2022-08-31T18:23:21.601685Z"
    }
   },
   "outputs": [],
   "source": [
    "log_returns = np.log(data/data.shift())"
   ]
  },
  {
   "cell_type": "code",
   "execution_count": 7,
   "id": "ed14892a",
   "metadata": {
    "ExecuteTime": {
     "end_time": "2022-08-31T18:23:21.616966Z",
     "start_time": "2022-08-31T18:23:21.606724Z"
    }
   },
   "outputs": [
    {
     "data": {
      "text/html": [
       "<div>\n",
       "<style scoped>\n",
       "    .dataframe tbody tr th:only-of-type {\n",
       "        vertical-align: middle;\n",
       "    }\n",
       "\n",
       "    .dataframe tbody tr th {\n",
       "        vertical-align: top;\n",
       "    }\n",
       "\n",
       "    .dataframe thead th {\n",
       "        text-align: right;\n",
       "    }\n",
       "</style>\n",
       "<table border=\"1\" class=\"dataframe\">\n",
       "  <thead>\n",
       "    <tr style=\"text-align: right;\">\n",
       "      <th>Symbols</th>\n",
       "      <th>AAPL</th>\n",
       "      <th>TWTR</th>\n",
       "      <th>IBM</th>\n",
       "      <th>MSFT</th>\n",
       "    </tr>\n",
       "    <tr>\n",
       "      <th>Date</th>\n",
       "      <th></th>\n",
       "      <th></th>\n",
       "      <th></th>\n",
       "      <th></th>\n",
       "    </tr>\n",
       "  </thead>\n",
       "  <tbody>\n",
       "    <tr>\n",
       "      <th>2020-01-02</th>\n",
       "      <td>NaN</td>\n",
       "      <td>NaN</td>\n",
       "      <td>NaN</td>\n",
       "      <td>NaN</td>\n",
       "    </tr>\n",
       "    <tr>\n",
       "      <th>2020-01-03</th>\n",
       "      <td>-0.009770</td>\n",
       "      <td>-0.024445</td>\n",
       "      <td>-0.008007</td>\n",
       "      <td>-0.012530</td>\n",
       "    </tr>\n",
       "    <tr>\n",
       "      <th>2020-01-06</th>\n",
       "      <td>0.007936</td>\n",
       "      <td>0.003800</td>\n",
       "      <td>-0.001788</td>\n",
       "      <td>0.002582</td>\n",
       "    </tr>\n",
       "    <tr>\n",
       "      <th>2020-01-07</th>\n",
       "      <td>-0.004714</td>\n",
       "      <td>0.028048</td>\n",
       "      <td>0.000671</td>\n",
       "      <td>-0.009160</td>\n",
       "    </tr>\n",
       "    <tr>\n",
       "      <th>2020-01-08</th>\n",
       "      <td>0.015958</td>\n",
       "      <td>0.015551</td>\n",
       "      <td>0.008312</td>\n",
       "      <td>0.015803</td>\n",
       "    </tr>\n",
       "    <tr>\n",
       "      <th>...</th>\n",
       "      <td>...</td>\n",
       "      <td>...</td>\n",
       "      <td>...</td>\n",
       "      <td>...</td>\n",
       "    </tr>\n",
       "    <tr>\n",
       "      <th>2022-08-25</th>\n",
       "      <td>0.014812</td>\n",
       "      <td>0.006354</td>\n",
       "      <td>0.005614</td>\n",
       "      <td>0.011034</td>\n",
       "    </tr>\n",
       "    <tr>\n",
       "      <th>2022-08-26</th>\n",
       "      <td>-0.038428</td>\n",
       "      <td>-0.014477</td>\n",
       "      <td>-0.027237</td>\n",
       "      <td>-0.039351</td>\n",
       "    </tr>\n",
       "    <tr>\n",
       "      <th>2022-08-29</th>\n",
       "      <td>-0.013785</td>\n",
       "      <td>-0.010435</td>\n",
       "      <td>-0.000537</td>\n",
       "      <td>-0.010725</td>\n",
       "    </tr>\n",
       "    <tr>\n",
       "      <th>2022-08-30</th>\n",
       "      <td>-0.015424</td>\n",
       "      <td>-0.018146</td>\n",
       "      <td>-0.005618</td>\n",
       "      <td>-0.008557</td>\n",
       "    </tr>\n",
       "    <tr>\n",
       "      <th>2022-08-31</th>\n",
       "      <td>-0.003246</td>\n",
       "      <td>-0.003822</td>\n",
       "      <td>-0.003811</td>\n",
       "      <td>0.000152</td>\n",
       "    </tr>\n",
       "  </tbody>\n",
       "</table>\n",
       "<p>672 rows × 4 columns</p>\n",
       "</div>"
      ],
      "text/plain": [
       "Symbols         AAPL      TWTR       IBM      MSFT\n",
       "Date                                              \n",
       "2020-01-02       NaN       NaN       NaN       NaN\n",
       "2020-01-03 -0.009770 -0.024445 -0.008007 -0.012530\n",
       "2020-01-06  0.007936  0.003800 -0.001788  0.002582\n",
       "2020-01-07 -0.004714  0.028048  0.000671 -0.009160\n",
       "2020-01-08  0.015958  0.015551  0.008312  0.015803\n",
       "...              ...       ...       ...       ...\n",
       "2022-08-25  0.014812  0.006354  0.005614  0.011034\n",
       "2022-08-26 -0.038428 -0.014477 -0.027237 -0.039351\n",
       "2022-08-29 -0.013785 -0.010435 -0.000537 -0.010725\n",
       "2022-08-30 -0.015424 -0.018146 -0.005618 -0.008557\n",
       "2022-08-31 -0.003246 -0.003822 -0.003811  0.000152\n",
       "\n",
       "[672 rows x 4 columns]"
      ]
     },
     "execution_count": 7,
     "metadata": {},
     "output_type": "execute_result"
    }
   ],
   "source": [
    "log_returns"
   ]
  },
  {
   "cell_type": "code",
   "execution_count": 8,
   "id": "c562675f",
   "metadata": {
    "ExecuteTime": {
     "end_time": "2022-08-31T18:23:21.626425Z",
     "start_time": "2022-08-31T18:23:21.618690Z"
    }
   },
   "outputs": [
    {
     "data": {
      "text/html": [
       "<div>\n",
       "<style scoped>\n",
       "    .dataframe tbody tr th:only-of-type {\n",
       "        vertical-align: middle;\n",
       "    }\n",
       "\n",
       "    .dataframe tbody tr th {\n",
       "        vertical-align: top;\n",
       "    }\n",
       "\n",
       "    .dataframe thead th {\n",
       "        text-align: right;\n",
       "    }\n",
       "</style>\n",
       "<table border=\"1\" class=\"dataframe\">\n",
       "  <thead>\n",
       "    <tr style=\"text-align: right;\">\n",
       "      <th>Symbols</th>\n",
       "      <th>AAPL</th>\n",
       "      <th>TWTR</th>\n",
       "      <th>IBM</th>\n",
       "      <th>MSFT</th>\n",
       "    </tr>\n",
       "    <tr>\n",
       "      <th>Symbols</th>\n",
       "      <th></th>\n",
       "      <th></th>\n",
       "      <th></th>\n",
       "      <th></th>\n",
       "    </tr>\n",
       "  </thead>\n",
       "  <tbody>\n",
       "    <tr>\n",
       "      <th>AAPL</th>\n",
       "      <td>1.000000</td>\n",
       "      <td>0.463551</td>\n",
       "      <td>0.442805</td>\n",
       "      <td>0.813311</td>\n",
       "    </tr>\n",
       "    <tr>\n",
       "      <th>TWTR</th>\n",
       "      <td>0.463551</td>\n",
       "      <td>1.000000</td>\n",
       "      <td>0.267531</td>\n",
       "      <td>0.475028</td>\n",
       "    </tr>\n",
       "    <tr>\n",
       "      <th>IBM</th>\n",
       "      <td>0.442805</td>\n",
       "      <td>0.267531</td>\n",
       "      <td>1.000000</td>\n",
       "      <td>0.464707</td>\n",
       "    </tr>\n",
       "    <tr>\n",
       "      <th>MSFT</th>\n",
       "      <td>0.813311</td>\n",
       "      <td>0.475028</td>\n",
       "      <td>0.464707</td>\n",
       "      <td>1.000000</td>\n",
       "    </tr>\n",
       "  </tbody>\n",
       "</table>\n",
       "</div>"
      ],
      "text/plain": [
       "Symbols      AAPL      TWTR       IBM      MSFT\n",
       "Symbols                                        \n",
       "AAPL     1.000000  0.463551  0.442805  0.813311\n",
       "TWTR     0.463551  1.000000  0.267531  0.475028\n",
       "IBM      0.442805  0.267531  1.000000  0.464707\n",
       "MSFT     0.813311  0.475028  0.464707  1.000000"
      ]
     },
     "execution_count": 8,
     "metadata": {},
     "output_type": "execute_result"
    }
   ],
   "source": [
    "log_returns.corr()"
   ]
  },
  {
   "cell_type": "markdown",
   "id": "7d393388",
   "metadata": {},
   "source": [
    "<div class=\"alert alert-info\">\n",
    "<font color=black>\n",
    "\n",
    "- Correlation on the diagonal is always1.0. This is obvious, since the diagonal shows the correlation between itself (AAPL and AAPL, and so forth).\n",
    "\n",
    "- Other than that, we can conclude that AAPL and MSFT are correlated the most.\n",
    "\n",
    "- Let’s add the S&P 500 to our DataFrame. This is done because the performance is generally benchmarked against this large agglomerate of best 500 performants.\n",
    "\n",
    "</font>\n",
    "</div>"
   ]
  },
  {
   "cell_type": "code",
   "execution_count": 9,
   "id": "02a8182f",
   "metadata": {
    "ExecuteTime": {
     "end_time": "2022-08-31T18:23:22.500662Z",
     "start_time": "2022-08-31T18:23:21.631073Z"
    }
   },
   "outputs": [],
   "source": [
    "sp500 = pdr.get_data_yahoo(\"^GSPC\", start)"
   ]
  },
  {
   "cell_type": "code",
   "execution_count": 10,
   "id": "887fa7f3",
   "metadata": {
    "ExecuteTime": {
     "end_time": "2022-08-31T18:23:22.507217Z",
     "start_time": "2022-08-31T18:23:22.502579Z"
    }
   },
   "outputs": [],
   "source": [
    "log_returns['SP500'] = np.log(sp500['Adj Close']/sp500['Adj Close'].shift())"
   ]
  },
  {
   "cell_type": "code",
   "execution_count": 11,
   "id": "8bc14fef",
   "metadata": {
    "ExecuteTime": {
     "end_time": "2022-08-31T18:23:22.518845Z",
     "start_time": "2022-08-31T18:23:22.509429Z"
    }
   },
   "outputs": [
    {
     "data": {
      "text/html": [
       "<div>\n",
       "<style scoped>\n",
       "    .dataframe tbody tr th:only-of-type {\n",
       "        vertical-align: middle;\n",
       "    }\n",
       "\n",
       "    .dataframe tbody tr th {\n",
       "        vertical-align: top;\n",
       "    }\n",
       "\n",
       "    .dataframe thead th {\n",
       "        text-align: right;\n",
       "    }\n",
       "</style>\n",
       "<table border=\"1\" class=\"dataframe\">\n",
       "  <thead>\n",
       "    <tr style=\"text-align: right;\">\n",
       "      <th>Symbols</th>\n",
       "      <th>AAPL</th>\n",
       "      <th>TWTR</th>\n",
       "      <th>IBM</th>\n",
       "      <th>MSFT</th>\n",
       "      <th>SP500</th>\n",
       "    </tr>\n",
       "    <tr>\n",
       "      <th>Symbols</th>\n",
       "      <th></th>\n",
       "      <th></th>\n",
       "      <th></th>\n",
       "      <th></th>\n",
       "      <th></th>\n",
       "    </tr>\n",
       "  </thead>\n",
       "  <tbody>\n",
       "    <tr>\n",
       "      <th>AAPL</th>\n",
       "      <td>1.000000</td>\n",
       "      <td>0.463551</td>\n",
       "      <td>0.442805</td>\n",
       "      <td>0.813311</td>\n",
       "      <td>0.821531</td>\n",
       "    </tr>\n",
       "    <tr>\n",
       "      <th>TWTR</th>\n",
       "      <td>0.463551</td>\n",
       "      <td>1.000000</td>\n",
       "      <td>0.267531</td>\n",
       "      <td>0.475028</td>\n",
       "      <td>0.525389</td>\n",
       "    </tr>\n",
       "    <tr>\n",
       "      <th>IBM</th>\n",
       "      <td>0.442805</td>\n",
       "      <td>0.267531</td>\n",
       "      <td>1.000000</td>\n",
       "      <td>0.464707</td>\n",
       "      <td>0.674009</td>\n",
       "    </tr>\n",
       "    <tr>\n",
       "      <th>MSFT</th>\n",
       "      <td>0.813311</td>\n",
       "      <td>0.475028</td>\n",
       "      <td>0.464707</td>\n",
       "      <td>1.000000</td>\n",
       "      <td>0.857431</td>\n",
       "    </tr>\n",
       "    <tr>\n",
       "      <th>SP500</th>\n",
       "      <td>0.821531</td>\n",
       "      <td>0.525389</td>\n",
       "      <td>0.674009</td>\n",
       "      <td>0.857431</td>\n",
       "      <td>1.000000</td>\n",
       "    </tr>\n",
       "  </tbody>\n",
       "</table>\n",
       "</div>"
      ],
      "text/plain": [
       "Symbols      AAPL      TWTR       IBM      MSFT     SP500\n",
       "Symbols                                                  \n",
       "AAPL     1.000000  0.463551  0.442805  0.813311  0.821531\n",
       "TWTR     0.463551  1.000000  0.267531  0.475028  0.525389\n",
       "IBM      0.442805  0.267531  1.000000  0.464707  0.674009\n",
       "MSFT     0.813311  0.475028  0.464707  1.000000  0.857431\n",
       "SP500    0.821531  0.525389  0.674009  0.857431  1.000000"
      ]
     },
     "execution_count": 11,
     "metadata": {},
     "output_type": "execute_result"
    }
   ],
   "source": [
    "log_returns.corr()"
   ]
  },
  {
   "cell_type": "markdown",
   "id": "21222a5c",
   "metadata": {},
   "source": [
    "<div class=\"alert alert-info\">\n",
    "<font color=black>\n",
    "\n",
    "- AAPL and MSFT are mostly correlated to S&P 500 index. \n",
    "- This is not surprising, as they are a big part of the weight of the market cap in the index.\n",
    "\n",
    "</font>\n",
    "</div>"
   ]
  },
  {
   "cell_type": "markdown",
   "id": "c8a44e3c",
   "metadata": {},
   "source": [
    "# Compute correlation\n",
    "<hr style = \"border:2px solid black\" ></hr>"
   ]
  },
  {
   "cell_type": "code",
   "execution_count": 12,
   "id": "e0049b2a",
   "metadata": {
    "ExecuteTime": {
     "end_time": "2022-08-31T18:23:22.523685Z",
     "start_time": "2022-08-31T18:23:22.520734Z"
    }
   },
   "outputs": [],
   "source": [
    "def test_correlation(ticker):\n",
    "    df = pdr.get_data_yahoo(ticker, start)\n",
    "    lr = log_returns.copy()\n",
    "    lr[ticker] = np.log(df['Adj Close']/df['Adj Close'].shift())\n",
    "    return lr.corr()"
   ]
  },
  {
   "cell_type": "code",
   "execution_count": 13,
   "id": "4995da9f",
   "metadata": {
    "ExecuteTime": {
     "end_time": "2022-08-31T18:23:22.528531Z",
     "start_time": "2022-08-31T18:23:22.525443Z"
    }
   },
   "outputs": [],
   "source": [
    "def visualize_correlation(ticker1, ticker2):\n",
    "    df = pdr.get_data_yahoo([ticker1, ticker2], start)\n",
    "    df = df['Adj Close']\n",
    "    df = df/df.iloc[0]\n",
    "    fig, ax = plt.subplots()\n",
    "    df.plot(ax=ax)"
   ]
  },
  {
   "cell_type": "code",
   "execution_count": 14,
   "id": "5eb62df4",
   "metadata": {
    "ExecuteTime": {
     "end_time": "2022-08-31T18:23:23.374640Z",
     "start_time": "2022-08-31T18:23:22.530573Z"
    }
   },
   "outputs": [
    {
     "data": {
      "text/html": [
       "<div>\n",
       "<style scoped>\n",
       "    .dataframe tbody tr th:only-of-type {\n",
       "        vertical-align: middle;\n",
       "    }\n",
       "\n",
       "    .dataframe tbody tr th {\n",
       "        vertical-align: top;\n",
       "    }\n",
       "\n",
       "    .dataframe thead th {\n",
       "        text-align: right;\n",
       "    }\n",
       "</style>\n",
       "<table border=\"1\" class=\"dataframe\">\n",
       "  <thead>\n",
       "    <tr style=\"text-align: right;\">\n",
       "      <th>Symbols</th>\n",
       "      <th>AAPL</th>\n",
       "      <th>TWTR</th>\n",
       "      <th>IBM</th>\n",
       "      <th>MSFT</th>\n",
       "      <th>SP500</th>\n",
       "      <th>LQD</th>\n",
       "    </tr>\n",
       "    <tr>\n",
       "      <th>Symbols</th>\n",
       "      <th></th>\n",
       "      <th></th>\n",
       "      <th></th>\n",
       "      <th></th>\n",
       "      <th></th>\n",
       "      <th></th>\n",
       "    </tr>\n",
       "  </thead>\n",
       "  <tbody>\n",
       "    <tr>\n",
       "      <th>AAPL</th>\n",
       "      <td>1.000000</td>\n",
       "      <td>0.463551</td>\n",
       "      <td>0.442805</td>\n",
       "      <td>0.813311</td>\n",
       "      <td>0.821531</td>\n",
       "      <td>0.273205</td>\n",
       "    </tr>\n",
       "    <tr>\n",
       "      <th>TWTR</th>\n",
       "      <td>0.463551</td>\n",
       "      <td>1.000000</td>\n",
       "      <td>0.267531</td>\n",
       "      <td>0.475028</td>\n",
       "      <td>0.525389</td>\n",
       "      <td>0.221194</td>\n",
       "    </tr>\n",
       "    <tr>\n",
       "      <th>IBM</th>\n",
       "      <td>0.442805</td>\n",
       "      <td>0.267531</td>\n",
       "      <td>1.000000</td>\n",
       "      <td>0.464707</td>\n",
       "      <td>0.674009</td>\n",
       "      <td>0.214463</td>\n",
       "    </tr>\n",
       "    <tr>\n",
       "      <th>MSFT</th>\n",
       "      <td>0.813311</td>\n",
       "      <td>0.475028</td>\n",
       "      <td>0.464707</td>\n",
       "      <td>1.000000</td>\n",
       "      <td>0.857431</td>\n",
       "      <td>0.294260</td>\n",
       "    </tr>\n",
       "    <tr>\n",
       "      <th>SP500</th>\n",
       "      <td>0.821531</td>\n",
       "      <td>0.525389</td>\n",
       "      <td>0.674009</td>\n",
       "      <td>0.857431</td>\n",
       "      <td>1.000000</td>\n",
       "      <td>0.326227</td>\n",
       "    </tr>\n",
       "    <tr>\n",
       "      <th>LQD</th>\n",
       "      <td>0.273205</td>\n",
       "      <td>0.221194</td>\n",
       "      <td>0.214463</td>\n",
       "      <td>0.294260</td>\n",
       "      <td>0.326227</td>\n",
       "      <td>1.000000</td>\n",
       "    </tr>\n",
       "  </tbody>\n",
       "</table>\n",
       "</div>"
      ],
      "text/plain": [
       "Symbols      AAPL      TWTR       IBM      MSFT     SP500       LQD\n",
       "Symbols                                                            \n",
       "AAPL     1.000000  0.463551  0.442805  0.813311  0.821531  0.273205\n",
       "TWTR     0.463551  1.000000  0.267531  0.475028  0.525389  0.221194\n",
       "IBM      0.442805  0.267531  1.000000  0.464707  0.674009  0.214463\n",
       "MSFT     0.813311  0.475028  0.464707  1.000000  0.857431  0.294260\n",
       "SP500    0.821531  0.525389  0.674009  0.857431  1.000000  0.326227\n",
       "LQD      0.273205  0.221194  0.214463  0.294260  0.326227  1.000000"
      ]
     },
     "execution_count": 14,
     "metadata": {},
     "output_type": "execute_result"
    }
   ],
   "source": [
    "test_correlation(\"LQD\")"
   ]
  },
  {
   "cell_type": "code",
   "execution_count": 15,
   "id": "e55941ca",
   "metadata": {
    "ExecuteTime": {
     "end_time": "2022-08-31T18:23:24.261365Z",
     "start_time": "2022-08-31T18:23:23.376484Z"
    },
    "scrolled": true
   },
   "outputs": [
    {
     "data": {
      "text/html": [
       "<div>\n",
       "<style scoped>\n",
       "    .dataframe tbody tr th:only-of-type {\n",
       "        vertical-align: middle;\n",
       "    }\n",
       "\n",
       "    .dataframe tbody tr th {\n",
       "        vertical-align: top;\n",
       "    }\n",
       "\n",
       "    .dataframe thead th {\n",
       "        text-align: right;\n",
       "    }\n",
       "</style>\n",
       "<table border=\"1\" class=\"dataframe\">\n",
       "  <thead>\n",
       "    <tr style=\"text-align: right;\">\n",
       "      <th>Symbols</th>\n",
       "      <th>AAPL</th>\n",
       "      <th>TWTR</th>\n",
       "      <th>IBM</th>\n",
       "      <th>MSFT</th>\n",
       "      <th>SP500</th>\n",
       "      <th>TLT</th>\n",
       "    </tr>\n",
       "    <tr>\n",
       "      <th>Symbols</th>\n",
       "      <th></th>\n",
       "      <th></th>\n",
       "      <th></th>\n",
       "      <th></th>\n",
       "      <th></th>\n",
       "      <th></th>\n",
       "    </tr>\n",
       "  </thead>\n",
       "  <tbody>\n",
       "    <tr>\n",
       "      <th>AAPL</th>\n",
       "      <td>1.000000</td>\n",
       "      <td>0.463551</td>\n",
       "      <td>0.442805</td>\n",
       "      <td>0.813311</td>\n",
       "      <td>0.821531</td>\n",
       "      <td>-0.206812</td>\n",
       "    </tr>\n",
       "    <tr>\n",
       "      <th>TWTR</th>\n",
       "      <td>0.463551</td>\n",
       "      <td>1.000000</td>\n",
       "      <td>0.267531</td>\n",
       "      <td>0.475028</td>\n",
       "      <td>0.525389</td>\n",
       "      <td>-0.111731</td>\n",
       "    </tr>\n",
       "    <tr>\n",
       "      <th>IBM</th>\n",
       "      <td>0.442805</td>\n",
       "      <td>0.267531</td>\n",
       "      <td>1.000000</td>\n",
       "      <td>0.464707</td>\n",
       "      <td>0.674009</td>\n",
       "      <td>-0.315395</td>\n",
       "    </tr>\n",
       "    <tr>\n",
       "      <th>MSFT</th>\n",
       "      <td>0.813311</td>\n",
       "      <td>0.475028</td>\n",
       "      <td>0.464707</td>\n",
       "      <td>1.000000</td>\n",
       "      <td>0.857431</td>\n",
       "      <td>-0.187286</td>\n",
       "    </tr>\n",
       "    <tr>\n",
       "      <th>SP500</th>\n",
       "      <td>0.821531</td>\n",
       "      <td>0.525389</td>\n",
       "      <td>0.674009</td>\n",
       "      <td>0.857431</td>\n",
       "      <td>1.000000</td>\n",
       "      <td>-0.306724</td>\n",
       "    </tr>\n",
       "    <tr>\n",
       "      <th>TLT</th>\n",
       "      <td>-0.206812</td>\n",
       "      <td>-0.111731</td>\n",
       "      <td>-0.315395</td>\n",
       "      <td>-0.187286</td>\n",
       "      <td>-0.306724</td>\n",
       "      <td>1.000000</td>\n",
       "    </tr>\n",
       "  </tbody>\n",
       "</table>\n",
       "</div>"
      ],
      "text/plain": [
       "Symbols      AAPL      TWTR       IBM      MSFT     SP500       TLT\n",
       "Symbols                                                            \n",
       "AAPL     1.000000  0.463551  0.442805  0.813311  0.821531 -0.206812\n",
       "TWTR     0.463551  1.000000  0.267531  0.475028  0.525389 -0.111731\n",
       "IBM      0.442805  0.267531  1.000000  0.464707  0.674009 -0.315395\n",
       "MSFT     0.813311  0.475028  0.464707  1.000000  0.857431 -0.187286\n",
       "SP500    0.821531  0.525389  0.674009  0.857431  1.000000 -0.306724\n",
       "TLT     -0.206812 -0.111731 -0.315395 -0.187286 -0.306724  1.000000"
      ]
     },
     "execution_count": 15,
     "metadata": {},
     "output_type": "execute_result"
    }
   ],
   "source": [
    "test_correlation(\"TLT\")"
   ]
  },
  {
   "cell_type": "code",
   "execution_count": 16,
   "id": "375a5fb0",
   "metadata": {
    "ExecuteTime": {
     "end_time": "2022-08-31T18:23:25.556886Z",
     "start_time": "2022-08-31T18:23:24.264905Z"
    }
   },
   "outputs": [
    {
     "data": {
      "image/png": "[encoded data removed]",
      "text/plain": [
       "<Figure size 432x288 with 1 Axes>"
      ]
     },
     "metadata": {
      "needs_background": "light"
     },
     "output_type": "display_data"
    }
   ],
   "source": [
    "visualize_correlation(\"AAPL\", \"TLT\")"
   ]
  },
  {
   "cell_type": "code",
   "execution_count": 17,
   "id": "8eee63df",
   "metadata": {
    "ExecuteTime": {
     "end_time": "2022-08-31T18:23:26.787545Z",
     "start_time": "2022-08-31T18:23:25.558793Z"
    }
   },
   "outputs": [
    {
     "data": {
      "image/png": "[encoded data removed]",
      "text/plain": [
       "<Figure size 432x288 with 1 Axes>"
      ]
     },
     "metadata": {
      "needs_background": "light"
     },
     "output_type": "display_data"
    }
   ],
   "source": [
    "visualize_correlation(\"^GSPC\", \"TLT\")"
   ]
  },
  {
   "cell_type": "markdown",
   "id": "b845bc6d",
   "metadata": {},
   "source": [
    "# References\n",
    "<hr style = \"border:2px solid black\" ></hr>"
   ]
  },
  {
   "cell_type": "markdown",
   "id": "24c0da24",
   "metadata": {},
   "source": [
    "<div class=\"alert alert-warning\">\n",
    "<font color=black>\n",
    "\n",
    "- [GitHub code](https://github.com/LearnPythonWithRune/PythonForFinanceRiskAndReturn/blob/main/05%20-%20Correlation.ipynb)\n",
    "- [Blog article](https://www.learnpythonwithrune.org/python-for-finance-risk-and-return/#lesson-5)\n",
    "- Correlation https://www.investopedia.com/terms/c/correlation.asp\n",
    "- SP500 by Market Cap https://www.slickcharts.com/sp500\n",
    "\n",
    "</font>\n",
    "</div>                 "
   ]
  },
  {
   "cell_type": "code",
   "execution_count": null,
   "id": "99aac796",
   "metadata": {},
   "outputs": [],
   "source": []
  }
 ],
 "metadata": {
  "kernelspec": {
   "display_name": "trainingAI",
   "language": "python",
   "name": "trainingai"
  },
  "language_info": {
   "codemirror_mode": {
    "name": "ipython",
    "version": 3
   },
   "file_extension": ".py",
   "mimetype": "text/x-python",
   "name": "python",
   "nbconvert_exporter": "python",
   "pygments_lexer": "ipython3",
   "version": "3.9.7"
  },
  "toc": {
   "base_numbering": 1,
   "nav_menu": {},
   "number_sections": true,
   "sideBar": true,
   "skip_h1_title": false,
   "title_cell": "Table of Contents",
   "title_sidebar": "Contents",
   "toc_cell": true,
   "toc_position": {},
   "toc_section_display": true,
   "toc_window_display": true
  },
  "varInspector": {
   "cols": {
    "lenName": 16,
    "lenType": 16,
    "lenVar": 40
   },
   "kernels_config": {
    "python": {
     "delete_cmd_postfix": "",
     "delete_cmd_prefix": "del ",
     "library": "var_list.py",
     "varRefreshCmd": "print(var_dic_list())"
    },
    "r": {
     "delete_cmd_postfix": ") ",
     "delete_cmd_prefix": "rm(",
     "library": "var_list.r",
     "varRefreshCmd": "cat(var_dic_list()) "
    }
   },
   "types_to_exclude": [
    "module",
    "function",
    "builtin_function_or_method",
    "instance",
    "_Feature"
   ],
   "window_display": false
  }
 },
 "nbformat": 4,
 "nbformat_minor": 5
}
