{
 "cells": [
  {
   "cell_type": "markdown",
   "id": "4f8351c6",
   "metadata": {
    "toc": true
   },
   "source": [
    "<h1>Table of Contents<span class=\"tocSkip\"></span></h1>\n",
""   ]
  },
  {
   "cell_type": "markdown",
   "id": "2a9767bc",
   "metadata": {},
   "source": [
    "# Introduction\n",
    "<hr style = \"border:2px solid black\" ></hr>"
   ]
  },
  {
   "cell_type": "code",
   "execution_count": 1,
   "id": "6b96a854",
   "metadata": {
    "ExecuteTime": {
     "end_time": "2022-09-17T15:06:36.685581Z",
     "start_time": "2022-09-17T15:06:35.814472Z"
    }
   },
   "outputs": [],
   "source": [
    "import os\n",
    "import random\n",
    "import string\n",
    "\n",
    "import click\n",
    "import numpy as np\n",
    "import pandas as pd\n",
    "\n",
    "import matplotlib.pyplot as plt\n",
    "import pandas as pd"
   ]
  },
  {
   "cell_type": "markdown",
   "id": "1d02e4db",
   "metadata": {},
   "source": [
    "# Main objective\n",
    "<hr style = \"border:2px solid black\" ></hr>"
   ]
  },
  {
   "cell_type": "markdown",
   "id": "ddd11e77",
   "metadata": {},
   "source": [
    " \n",
    "- Demonstrate how to generate multiple CSV files of synthetic daily stock pricing and volume data using the analytical solution to the Geometric Brownian Motion stochastic differential equation.\n",
    "\n",
    "- The purposes is to examine the 'what if?' scenarios in systematic trading.\n",
    "    \n",
""   ]
  },
  {
   "cell_type": "code",
   "execution_count": 2,
   "id": "9cb9631a",
   "metadata": {
    "ExecuteTime": {
     "end_time": "2022-09-17T15:06:36.700185Z",
     "start_time": "2022-09-17T15:06:36.687402Z"
    },
    "code_folding": [
     0
    ]
   },
   "outputs": [],
   "source": [
    "class GeometricBrownianMotionAssetSimulator:\n",
    "    \"\"\"\n",
    "    This callable class will generate a daily\n",
    "    open-high-low-close-volume (OHLCV) based DataFrame to simulate\n",
    "    asset pricing paths with Geometric Brownian Motion for pricing\n",
    "    and a Pareto distribution for volume.\n",
    "\n",
    "    It will output the results to a CSV with a randomly generated\n",
    "    ticker smbol.\n",
    "\n",
    "    For now the tool is hardcoded to generate business day daily\n",
    "    data between two dates, inclusive.\n",
    "\n",
    "    Note that the pricing and volume data is completely uncorrelated,\n",
    "    which is not likely to be the case in real asset paths.\n",
    "\n",
    "    Parameters\n",
    "    ----------\n",
    "    start_date : `str`\n",
    "        The starting date in YYYY-MM-DD format.\n",
    "    end_date : `str`\n",
    "        The ending date in YYYY-MM-DD format.\n",
    "    output_dir : `str`\n",
    "        The full path to the output directory for the CSV.\n",
    "    symbol_length : `int`\n",
    "        The length of the ticker symbol to use.\n",
    "    init_price : `float`\n",
    "        The initial price of the asset.\n",
    "    mu : `float`\n",
    "        The mean 'drift' of the asset.\n",
    "    sigma : `float`\n",
    "        The 'volatility' of the asset.\n",
    "    pareto_shape : `float`\n",
    "        The parameter used to govern the Pareto distribution\n",
    "        shape for the generation of volume data.\n",
    "    \"\"\"\n",
    "\n",
    "    def __init__(\n",
    "        self,\n",
    "        start_date,\n",
    "        end_date,\n",
    "        output_dir,\n",
    "        symbol_length,\n",
    "        init_price,\n",
    "        mu,\n",
    "        sigma,\n",
    "        pareto_shape\n",
    "    ):\n",
    "        self.start_date = start_date\n",
    "        self.end_date = end_date\n",
    "        self.output_dir = output_dir\n",
    "        self.symbol_length = symbol_length\n",
    "        self.init_price = init_price\n",
    "        self.mu = mu\n",
    "        self.sigma = sigma\n",
    "        self.pareto_shape = pareto_shape\n",
    "\n",
    "    def _generate_random_symbol(self):\n",
    "        \"\"\"\n",
    "        Generates a random ticker symbol string composed of\n",
    "        uppercase ASCII characters to use in the CSV output filename.\n",
    "\n",
    "        Returns\n",
    "        -------\n",
    "        `str`\n",
    "            The random ticker string composed of uppercase letters.\n",
    "        \"\"\"\n",
    "        return ''.join(\n",
    "            random.choices(\n",
    "                string.ascii_uppercase,\n",
    "                k=self.symbol_length\n",
    "            )\n",
    "        )\n",
    "\n",
    "    def _create_empty_frame(self):\n",
    "        \"\"\"\n",
    "        Creates the empty Pandas DataFrame with a date column using\n",
    "        business days between two dates. Each of the price/volume\n",
    "        columns are set to zero.\n",
    "\n",
    "        Returns\n",
    "        -------\n",
    "        `pd.DataFrame`\n",
    "            The empty OHLCV DataFrame for subsequent population.\n",
    "        \"\"\"\n",
    "        date_range = pd.date_range(\n",
    "            self.start_date,\n",
    "            self.end_date,\n",
    "            freq='B'\n",
    "        )\n",
    "\n",
    "        zeros = pd.Series(np.zeros(len(date_range)))\n",
    "\n",
    "        return pd.DataFrame(\n",
    "            {\n",
    "                'date': date_range,\n",
    "                'open': zeros,\n",
    "                'high': zeros,\n",
    "                'low': zeros,\n",
    "                'close': zeros,\n",
    "                'volume': zeros\n",
    "            }\n",
    "        )[['date', 'open', 'high', 'low', 'close', 'volume']]\n",
    "\n",
    "    def _create_geometric_brownian_motion(self, data):\n",
    "        \"\"\"\n",
    "        Calculates an asset price path using the analytical solution\n",
    "        to the Geometric Brownian Motion stochastic differential\n",
    "        equation (SDE).\n",
    "\n",
    "        This divides the usual timestep by four so that the pricing\n",
    "        series is four times as long, to account for the need to have\n",
    "        an open, high, low and close price for each day. These prices\n",
    "        are subsequently correctly bounded in a further method.\n",
    "\n",
    "        Parameters\n",
    "        ----------\n",
    "        data : `pd.DataFrame`\n",
    "            The DataFrame needed to calculate length of the time series.\n",
    "\n",
    "        Returns\n",
    "        -------\n",
    "        `np.ndarray`\n",
    "            The asset price path (four times as long to include OHLC).\n",
    "        \"\"\"\n",
    "        n = len(data)\n",
    "        T = n / 252.0  # Business days in a year\n",
    "        dt = T / (4.0 * n)  # 4.0 is needed as four prices per day are required\n",
    "\n",
    "        # Vectorised implementation of asset path generation\n",
    "        # including four prices per day, used to create OHLC\n",
    "        asset_path = np.exp(\n",
    "            (self.mu - self.sigma**2 / 2) * dt +\n",
    "            self.sigma * np.random.normal(0, np.sqrt(dt), size=(4 * n))\n",
    "        )\n",
    "\n",
    "        return self.init_price * asset_path.cumprod()\n",
    "\n",
    "    def _append_path_to_data(self, data, path):\n",
    "        \"\"\"\n",
    "        Correctly accounts for the max/min calculations required\n",
    "        to generate a correct high and low price for a particular\n",
    "        day's pricing.\n",
    "\n",
    "        The open price takes every fourth value, while the close\n",
    "        price takes every fourth value offset by 3 (last value in\n",
    "        every block of four).\n",
    "\n",
    "        The high and low prices are calculated by taking the max\n",
    "        (resp. min) of all four prices within a day and then\n",
    "        adjusting these values as necessary.\n",
    "\n",
    "        This is all carried out in place so the frame is not returned\n",
    "        via the method.\n",
    "\n",
    "        Parameters\n",
    "        ----------\n",
    "        data : `pd.DataFrame`\n",
    "            The price/volume DataFrame to modify in place.\n",
    "        path : `np.ndarray`\n",
    "            The original NumPy array of the asset price path.\n",
    "        \"\"\"\n",
    "        data['open'] = path[0::4]\n",
    "        data['close'] = path[3::4]\n",
    "\n",
    "        data['high'] = np.maximum(\n",
    "            np.maximum(path[0::4], path[1::4]),\n",
    "            np.maximum(path[2::4], path[3::4])\n",
    "        )\n",
    "\n",
    "        data['low'] = np.minimum(\n",
    "            np.minimum(path[0::4], path[1::4]),\n",
    "            np.minimum(path[2::4], path[3::4])\n",
    "        )\n",
    "\n",
    "    def _append_volume_to_data(self, data):\n",
    "        \"\"\"\n",
    "        Utilises a Pareto distribution to simulate non-negative\n",
    "        volume data. Note that this is not correlated to the\n",
    "        underlying asset price, as would likely be the case for\n",
    "        real data, but it is a reasonably effective approximation.\n",
    "\n",
    "        Parameters\n",
    "        ----------\n",
    "        data : `pd.DataFrame`\n",
    "            The DataFrame to append volume data to, in place.\n",
    "        \"\"\"\n",
    "        data['volume'] = np.array(\n",
    "            list(\n",
    "                map(\n",
    "                    int,\n",
    "                    np.random.pareto(\n",
    "                        self.pareto_shape,\n",
    "                        size=len(data)\n",
    "                    ) * 1000000.0\n",
    "                )\n",
    "            )\n",
    "        )\n",
    "\n",
    "    def _output_frame_to_dir(self, symbol, data):\n",
    "        \"\"\"\n",
    "        Output the fully-populated DataFrame to disk into the\n",
    "        desired output directory, ensuring to trim all pricing\n",
    "        values to two decimal places.\n",
    "\n",
    "        Parameters\n",
    "        ----------\n",
    "        symbol : `str`\n",
    "            The ticker symbol to name the file with.\n",
    "        data : `pd.DataFrame`\n",
    "            The DataFrame containing the generated OHLCV data.\n",
    "        \"\"\"\n",
    "        output_file = os.path.join(self.output_dir, '%s.csv' % symbol)\n",
    "        data.to_csv(output_file, index=False, float_format='%.2f')\n",
    "\n",
    "    def __call__(self):\n",
    "        \"\"\"\n",
    "        The entrypoint for generating the asset OHLCV frame. Firstly this\n",
    "        generates a symbol and an empty frame. It then populates this\n",
    "        frame with some simulated GBM data. The asset volume is then appended\n",
    "        to this data and finally it is saved to disk as a CSV.\n",
    "        \"\"\"\n",
    "        symbol = self._generate_random_symbol()\n",
    "        data = self._create_empty_frame()\n",
    "        path = self._create_geometric_brownian_motion(data)\n",
    "        self._append_path_to_data(data, path)\n",
    "        self._append_volume_to_data(data)\n",
    "        self._output_frame_to_dir(symbol, data)"
   ]
  },
  {
   "cell_type": "code",
   "execution_count": 3,
   "id": "33a98d4d",
   "metadata": {
    "ExecuteTime": {
     "end_time": "2022-09-17T15:06:36.706193Z",
     "start_time": "2022-09-17T15:06:36.704038Z"
    }
   },
   "outputs": [],
   "source": [
    "num_assets = 5\n",
    "random_seed = 41\n",
    "start_date = '1993-01-01'\n",
    "end_date = '2022-07-31'\n",
    "output_dir = './'\n",
    "symbol_length = 5\n",
    "init_price = 100.0\n",
    "mu = 0.1\n",
    "sigma = 0.3\n",
    "pareto_shape = 1.5"
   ]
  },
  {
   "cell_type": "code",
   "execution_count": 4,
   "id": "f0e8b125",
   "metadata": {
    "ExecuteTime": {
     "end_time": "2022-09-17T15:06:37.452369Z",
     "start_time": "2022-09-17T15:06:36.707748Z"
    },
    "code_folding": [
     3
    ]
   },
   "outputs": [
    {
     "name": "stdout",
     "output_type": "stream",
     "text": [
      "Generating asset path 1 of 5...\n",
      "Generating asset path 2 of 5...\n",
      "Generating asset path 3 of 5...\n",
      "Generating asset path 4 of 5...\n",
      "Generating asset path 5 of 5...\n"
     ]
    }
   ],
   "source": [
    "num_assets = int(num_assets)\n",
    "random_seed = int(random_seed)\n",
    "symbol_length = int(symbol_length)\n",
    "init_price = float(init_price)\n",
    "mu = float(mu)\n",
    "sigma = float(sigma)\n",
    "pareto_shape = float(pareto_shape)\n",
    "\n",
    "# Need to seed both Python and NumPy separately\n",
    "random.seed(random_seed)\n",
    "np.random.seed(seed=random_seed)\n",
    "\n",
    "gbmas = GeometricBrownianMotionAssetSimulator(\n",
    "    start_date,\n",
    "    end_date,\n",
    "    output_dir,\n",
    "    symbol_length,\n",
    "    init_price,\n",
    "    mu,\n",
    "    sigma,\n",
    "    pareto_shape\n",
    ")\n",
    "\n",
    "# Create num_assets files by repeatedly calling\n",
    "# the instantiated class\n",
    "for i in range(num_assets):\n",
    "    print('Generating asset path %d of %d...' % (i+1, num_assets))\n",
    "    gbmas()\n",
    "\n",
    "\n"
   ]
  },
  {
   "cell_type": "code",
   "execution_count": 5,
   "id": "30d0f949",
   "metadata": {
    "ExecuteTime": {
     "end_time": "2022-09-17T15:06:37.577946Z",
     "start_time": "2022-09-17T15:06:37.455225Z"
    }
   },
   "outputs": [
    {
     "name": "stdout",
     "output_type": "stream",
     "text": [
      "./BUAWV.csv                   ./URVLE.csv\r\n",
      "./DSERQ.csv                   ./wiki_prices.csv\r\n",
      "./JFEXP.csv                   ./wiki_prices_ticker_list.csv\r\n",
      "./ROJTO.csv\r\n"
     ]
    }
   ],
   "source": [
    "!ls ./*csv"
   ]
  },
  {
   "cell_type": "markdown",
   "id": "529cf33e",
   "metadata": {},
   "source": [
    "# Plotting\n",
    "<hr style = \"border:2px solid black\" ></hr>"
   ]
  },
  {
   "cell_type": "code",
   "execution_count": 6,
   "id": "9e903219",
   "metadata": {
    "ExecuteTime": {
     "end_time": "2022-09-17T15:06:37.761130Z",
     "start_time": "2022-09-17T15:06:37.580913Z"
    }
   },
   "outputs": [
    {
     "data": {
      "image/png": "[encoded data removed]",
      "text/plain": [
       "<Figure size 432x288 with 1 Axes>"
      ]
     },
     "metadata": {
      "needs_background": "light"
     },
     "output_type": "display_data"
    }
   ],
   "source": [
    "# Change BUAWV.csv to your preferred ticker symbol\n",
    "df = pd.read_csv('./BUAWV.csv').set_index('date')\n",
    "df[['open', 'high', 'low', 'close']].plot()\n",
    "plt.show()"
   ]
  },
  {
   "cell_type": "markdown",
   "id": "adad6a60",
   "metadata": {},
   "source": [
    "# Clean-up repository\n",
    "<hr style = \"border:2px solid black\" ></hr>"
   ]
  },
  {
   "cell_type": "code",
   "execution_count": 7,
   "id": "46f970a3",
   "metadata": {
    "ExecuteTime": {
     "end_time": "2022-09-17T15:06:38.378848Z",
     "start_time": "2022-09-17T15:06:37.762724Z"
    }
   },
   "outputs": [],
   "source": [
    "!rm ./DSERQ.csv\n",
    "!rm ./JFEXP.csv\n",
    "!rm ./ROJTO.csv\n",
    "!rm ./BUAWV.csv \n",
    "!rm ./URVLE.csv"
   ]
  },
  {
   "cell_type": "code",
   "execution_count": 8,
   "id": "52d8e036",
   "metadata": {
    "ExecuteTime": {
     "end_time": "2022-09-17T15:06:38.510917Z",
     "start_time": "2022-09-17T15:06:38.381963Z"
    }
   },
   "outputs": [
    {
     "name": "stdout",
     "output_type": "stream",
     "text": [
      "./wiki_prices.csv             ./wiki_prices_ticker_list.csv\r\n"
     ]
    }
   ],
   "source": [
    "!ls ./*csv"
   ]
  },
  {
   "cell_type": "markdown",
   "id": "2e8d2a67",
   "metadata": {},
   "source": [
    "# References\n",
    "<hr style = \"border:2px solid black\" ></hr>"
   ]
  },
  {
   "cell_type": "markdown",
   "id": "3aa15b1d",
   "metadata": {},
   "source": [
    "\n",
    "- https://www.quantstart.com/articles/geometric-brownian-motion-simulation-with-python/"
   ]
  },
  {
   "cell_type": "code",
   "execution_count": null,
   "id": "dfbe3ac7",
   "metadata": {},
   "outputs": [],
   "source": []
  }
 ],
 "metadata": {
  "kernelspec": {
   "display_name": "trainingAI",
   "language": "python",
   "name": "trainingai"
  },
  "language_info": {
   "codemirror_mode": {
    "name": "ipython",
    "version": 3
   },
   "file_extension": ".py",
   "mimetype": "text/x-python",
   "name": "python",
   "nbconvert_exporter": "python",
   "pygments_lexer": "ipython3",
   "version": "3.9.7"
  },
  "toc": {
   "base_numbering": 1,
   "nav_menu": {},
   "number_sections": true,
   "sideBar": true,
   "skip_h1_title": false,
   "title_cell": "Table of Contents",
   "title_sidebar": "Contents",
   "toc_cell": true,
   "toc_position": {},
   "toc_section_display": true,
   "toc_window_display": true
  },
  "varInspector": {
   "cols": {
    "lenName": 16,
    "lenType": 16,
    "lenVar": 40
   },
   "kernels_config": {
    "python": {
     "delete_cmd_postfix": "",
     "delete_cmd_prefix": "del ",
     "library": "var_list.py",
     "varRefreshCmd": "print(var_dic_list())"
    },
    "r": {
     "delete_cmd_postfix": ") ",
     "delete_cmd_prefix": "rm(",
     "library": "var_list.r",
     "varRefreshCmd": "cat(var_dic_list()) "
    }
   },
   "types_to_exclude": [
    "module",
    "function",
    "builtin_function_or_method",
    "instance",
    "_Feature"
   ],
   "window_display": false
  }
 },
 "nbformat": 4,
 "nbformat_minor": 5
}
