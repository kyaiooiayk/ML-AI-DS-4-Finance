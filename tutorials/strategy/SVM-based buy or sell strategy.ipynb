{
 "cells": [
  {
   "cell_type": "markdown",
   "metadata": {
    "toc": true
   },
   "source": [
    "<h1>Table of Contents<span class=\"tocSkip\"></span></h1>\n",
    "<div class=\"toc\"><ul class=\"toc-item\"><li><ul class=\"toc-item\"><li><span><a href=\"#Trading-Strategy-using-Classification---SVM\" data-toc-modified-id=\"Trading-Strategy-using-Classification---SVM-0.1\"><span class=\"toc-item-num\">0.1&nbsp;&nbsp;</span>Trading Strategy using Classification - SVM</a></span></li></ul></li><li><span><a href=\"#Imports\" data-toc-modified-id=\"Imports-1\"><span class=\"toc-item-num\">1&nbsp;&nbsp;</span>Imports</a></span></li><li><span><a href=\"#Load-data\" data-toc-modified-id=\"Load-data-2\"><span class=\"toc-item-num\">2&nbsp;&nbsp;</span>Load data</a></span></li><li><span><a href=\"#EDA\" data-toc-modified-id=\"EDA-3\"><span class=\"toc-item-num\">3&nbsp;&nbsp;</span>EDA</a></span></li><li><span><a href=\"#Features-engineering---indicators\" data-toc-modified-id=\"Features-engineering---indicators-4\"><span class=\"toc-item-num\">4&nbsp;&nbsp;</span>Features engineering - indicators</a></span></li><li><span><a href=\"#Clean/trim-the-data\" data-toc-modified-id=\"Clean/trim-the-data-5\"><span class=\"toc-item-num\">5&nbsp;&nbsp;</span>Clean/trim the data</a></span></li><li><span><a href=\"#Train-and-test-data\" data-toc-modified-id=\"Train-and-test-data-6\"><span class=\"toc-item-num\">6&nbsp;&nbsp;</span>Train and test data</a></span></li><li><span><a href=\"#Create-output-signals\" data-toc-modified-id=\"Create-output-signals-7\"><span class=\"toc-item-num\">7&nbsp;&nbsp;</span>Create output signals</a></span></li><li><span><a href=\"#Create-features-and-target\" data-toc-modified-id=\"Create-features-and-target-8\"><span class=\"toc-item-num\">8&nbsp;&nbsp;</span>Create features and target</a></span><ul class=\"toc-item\"><li><span><a href=\"#Find-best-parameters\" data-toc-modified-id=\"Find-best-parameters-8.1\"><span class=\"toc-item-num\">8.1&nbsp;&nbsp;</span>Find best parameters</a></span><ul class=\"toc-item\"><li><span><a href=\"#Pipeline-and-functions\" data-toc-modified-id=\"Pipeline-and-functions-8.1.1\"><span class=\"toc-item-num\">8.1.1&nbsp;&nbsp;</span>Pipeline and functions</a></span></li><li><span><a href=\"#Hyperparameters\" data-toc-modified-id=\"Hyperparameters-8.1.2\"><span class=\"toc-item-num\">8.1.2&nbsp;&nbsp;</span>Hyperparameters</a></span></li><li><span><a href=\"#Training-on-and-fetching-the-best-parameters\" data-toc-modified-id=\"Training-on-and-fetching-the-best-parameters-8.1.3\"><span class=\"toc-item-num\">8.1.3&nbsp;&nbsp;</span>Training on and fetching the best parameters</a></span></li></ul></li><li><span><a href=\"#Create-the-Support-Vector-Machine\" data-toc-modified-id=\"Create-the-Support-Vector-Machine-8.2\"><span class=\"toc-item-num\">8.2&nbsp;&nbsp;</span>Create the Support Vector Machine</a></span><ul class=\"toc-item\"><li><span><a href=\"#Create-the-new-SVC\" data-toc-modified-id=\"Create-the-new-SVC-8.2.1\"><span class=\"toc-item-num\">8.2.1&nbsp;&nbsp;</span>Create the new SVC</a></span></li><li><span><a href=\"#Train-the-data\" data-toc-modified-id=\"Train-the-data-8.2.2\"><span class=\"toc-item-num\">8.2.2&nbsp;&nbsp;</span>Train the data</a></span></li></ul></li><li><span><a href=\"#Predict-the-signals\" data-toc-modified-id=\"Predict-the-signals-8.3\"><span class=\"toc-item-num\">8.3&nbsp;&nbsp;</span>Predict the signals</a></span><ul class=\"toc-item\"><li><span><a href=\"#Save-the-predictions\" data-toc-modified-id=\"Save-the-predictions-8.3.1\"><span class=\"toc-item-num\">8.3.1&nbsp;&nbsp;</span>Save the predictions</a></span></li></ul></li><li><span><a href=\"#Use-the-model-for-trading-strategy\" data-toc-modified-id=\"Use-the-model-for-trading-strategy-8.4\"><span class=\"toc-item-num\">8.4&nbsp;&nbsp;</span>Use the model for trading strategy</a></span><ul class=\"toc-item\"><li><span><a href=\"#Trading-strategy\" data-toc-modified-id=\"Trading-strategy-8.4.1\"><span class=\"toc-item-num\">8.4.1&nbsp;&nbsp;</span>Trading strategy</a></span></li></ul></li><li><span><a href=\"#Analyze-the-performance\" data-toc-modified-id=\"Analyze-the-performance-8.5\"><span class=\"toc-item-num\">8.5&nbsp;&nbsp;</span>Analyze the performance</a></span></li><li><span><a href=\"#Plot-the-results\" data-toc-modified-id=\"Plot-the-results-8.6\"><span class=\"toc-item-num\">8.6&nbsp;&nbsp;</span>Plot the results</a></span></li></ul></li></ul></div>"
   ]
  },
  {
   "cell_type": "markdown",
   "metadata": {},
   "source": [
    "## Trading Strategy using Classification - SVM\n",
    "\n",
    "The key steps involved in creating the strategy are:\n",
    "1. Import data\n",
    "2. Create indicators\n",
    "3. Calculate returns\n",
    "4. Train and test data\n",
    "5. Create output signals\n",
    "6. Find the best parameters\n",
    "7. Create the Support Vector Machine\n",
    "8. Predict the signals\n",
    "9. Analyze the performance\n",
    "10. Plot the results"
   ]
  },
  {
   "cell_type": "markdown",
   "metadata": {},
   "source": [
    "# Imports\n",
    "<hr style=\"border:2px solid black\"> </hr>"
   ]
  },
  {
   "cell_type": "code",
   "execution_count": 2,
   "metadata": {
    "ExecuteTime": {
     "end_time": "2023-06-28T07:21:45.105420Z",
     "start_time": "2023-06-28T07:21:45.102152Z"
    }
   },
   "outputs": [],
   "source": [
    "# Import the libraries\n",
    "from sklearn.svm import SVC\n",
    "from sklearn.preprocessing import StandardScaler\n",
    "from sklearn.model_selection import RandomizedSearchCV\n",
    "from sklearn.pipeline import Pipeline\n",
    "import pandas as pd\n",
    "import numpy as np\n",
    "import matplotlib.pyplot as plt\n",
    "# pip install TA-lib\n",
    "import talib as ta"
   ]
  },
  {
   "cell_type": "markdown",
   "metadata": {},
   "source": [
    "# Load data\n",
    "<hr style=\"border:2px solid black\"> </hr>"
   ]
  },
  {
   "cell_type": "code",
   "execution_count": 3,
   "metadata": {
    "ExecuteTime": {
     "end_time": "2023-06-28T07:21:45.968807Z",
     "start_time": "2023-06-28T07:21:45.935115Z"
    },
    "scrolled": true
   },
   "outputs": [
    {
     "data": {
      "text/html": [
       "<div>\n",
       "<style scoped>\n",
       "    .dataframe tbody tr th:only-of-type {\n",
       "        vertical-align: middle;\n",
       "    }\n",
       "\n",
       "    .dataframe tbody tr th {\n",
       "        vertical-align: top;\n",
       "    }\n",
       "\n",
       "    .dataframe thead th {\n",
       "        text-align: right;\n",
       "    }\n",
       "</style>\n",
       "<table border=\"1\" class=\"dataframe\">\n",
       "  <thead>\n",
       "    <tr style=\"text-align: right;\">\n",
       "      <th></th>\n",
       "      <th>Time</th>\n",
       "      <th>Open</th>\n",
       "      <th>High</th>\n",
       "      <th>Low</th>\n",
       "      <th>Close</th>\n",
       "      <th>Volume</th>\n",
       "    </tr>\n",
       "  </thead>\n",
       "  <tbody>\n",
       "    <tr>\n",
       "      <th>0</th>\n",
       "      <td>09:15:59</td>\n",
       "      <td>319.25</td>\n",
       "      <td>319.40</td>\n",
       "      <td>316.05</td>\n",
       "      <td>317.70</td>\n",
       "      <td>143354</td>\n",
       "    </tr>\n",
       "    <tr>\n",
       "      <th>1</th>\n",
       "      <td>09:16:59</td>\n",
       "      <td>317.70</td>\n",
       "      <td>318.20</td>\n",
       "      <td>317.70</td>\n",
       "      <td>318.00</td>\n",
       "      <td>52695</td>\n",
       "    </tr>\n",
       "    <tr>\n",
       "      <th>2</th>\n",
       "      <td>09:17:59</td>\n",
       "      <td>318.00</td>\n",
       "      <td>318.85</td>\n",
       "      <td>318.00</td>\n",
       "      <td>318.55</td>\n",
       "      <td>47179</td>\n",
       "    </tr>\n",
       "    <tr>\n",
       "      <th>3</th>\n",
       "      <td>09:18:59</td>\n",
       "      <td>318.65</td>\n",
       "      <td>319.40</td>\n",
       "      <td>318.50</td>\n",
       "      <td>319.20</td>\n",
       "      <td>44745</td>\n",
       "    </tr>\n",
       "    <tr>\n",
       "      <th>4</th>\n",
       "      <td>09:19:59</td>\n",
       "      <td>319.30</td>\n",
       "      <td>319.85</td>\n",
       "      <td>319.20</td>\n",
       "      <td>319.65</td>\n",
       "      <td>57892</td>\n",
       "    </tr>\n",
       "    <tr>\n",
       "      <th>5</th>\n",
       "      <td>09:20:59</td>\n",
       "      <td>319.60</td>\n",
       "      <td>320.40</td>\n",
       "      <td>319.60</td>\n",
       "      <td>320.25</td>\n",
       "      <td>67482</td>\n",
       "    </tr>\n",
       "    <tr>\n",
       "      <th>6</th>\n",
       "      <td>09:21:59</td>\n",
       "      <td>320.25</td>\n",
       "      <td>320.30</td>\n",
       "      <td>319.95</td>\n",
       "      <td>320.05</td>\n",
       "      <td>56590</td>\n",
       "    </tr>\n",
       "    <tr>\n",
       "      <th>7</th>\n",
       "      <td>09:22:59</td>\n",
       "      <td>320.15</td>\n",
       "      <td>320.15</td>\n",
       "      <td>319.60</td>\n",
       "      <td>319.60</td>\n",
       "      <td>52413</td>\n",
       "    </tr>\n",
       "    <tr>\n",
       "      <th>8</th>\n",
       "      <td>09:23:59</td>\n",
       "      <td>319.65</td>\n",
       "      <td>319.65</td>\n",
       "      <td>319.15</td>\n",
       "      <td>319.40</td>\n",
       "      <td>56305</td>\n",
       "    </tr>\n",
       "    <tr>\n",
       "      <th>9</th>\n",
       "      <td>09:24:59</td>\n",
       "      <td>319.50</td>\n",
       "      <td>320.05</td>\n",
       "      <td>319.45</td>\n",
       "      <td>319.70</td>\n",
       "      <td>36525</td>\n",
       "    </tr>\n",
       "    <tr>\n",
       "      <th>10</th>\n",
       "      <td>09:25:59</td>\n",
       "      <td>319.70</td>\n",
       "      <td>319.70</td>\n",
       "      <td>318.30</td>\n",
       "      <td>318.35</td>\n",
       "      <td>50383</td>\n",
       "    </tr>\n",
       "    <tr>\n",
       "      <th>11</th>\n",
       "      <td>09:26:59</td>\n",
       "      <td>318.35</td>\n",
       "      <td>319.15</td>\n",
       "      <td>318.30</td>\n",
       "      <td>319.05</td>\n",
       "      <td>134400</td>\n",
       "    </tr>\n",
       "    <tr>\n",
       "      <th>12</th>\n",
       "      <td>09:27:59</td>\n",
       "      <td>319.05</td>\n",
       "      <td>319.70</td>\n",
       "      <td>318.95</td>\n",
       "      <td>319.65</td>\n",
       "      <td>60791</td>\n",
       "    </tr>\n",
       "    <tr>\n",
       "      <th>13</th>\n",
       "      <td>09:28:59</td>\n",
       "      <td>319.70</td>\n",
       "      <td>319.90</td>\n",
       "      <td>319.50</td>\n",
       "      <td>319.50</td>\n",
       "      <td>26732</td>\n",
       "    </tr>\n",
       "    <tr>\n",
       "      <th>14</th>\n",
       "      <td>09:29:59</td>\n",
       "      <td>319.45</td>\n",
       "      <td>319.45</td>\n",
       "      <td>318.75</td>\n",
       "      <td>319.00</td>\n",
       "      <td>43666</td>\n",
       "    </tr>\n",
       "    <tr>\n",
       "      <th>15</th>\n",
       "      <td>09:30:59</td>\n",
       "      <td>319.05</td>\n",
       "      <td>319.25</td>\n",
       "      <td>319.00</td>\n",
       "      <td>319.00</td>\n",
       "      <td>36599</td>\n",
       "    </tr>\n",
       "    <tr>\n",
       "      <th>16</th>\n",
       "      <td>09:31:59</td>\n",
       "      <td>319.00</td>\n",
       "      <td>319.15</td>\n",
       "      <td>318.70</td>\n",
       "      <td>318.95</td>\n",
       "      <td>23863</td>\n",
       "    </tr>\n",
       "    <tr>\n",
       "      <th>17</th>\n",
       "      <td>09:32:59</td>\n",
       "      <td>318.95</td>\n",
       "      <td>319.00</td>\n",
       "      <td>318.70</td>\n",
       "      <td>318.85</td>\n",
       "      <td>30321</td>\n",
       "    </tr>\n",
       "    <tr>\n",
       "      <th>18</th>\n",
       "      <td>09:33:59</td>\n",
       "      <td>318.85</td>\n",
       "      <td>318.85</td>\n",
       "      <td>318.05</td>\n",
       "      <td>318.25</td>\n",
       "      <td>33687</td>\n",
       "    </tr>\n",
       "    <tr>\n",
       "      <th>19</th>\n",
       "      <td>09:34:59</td>\n",
       "      <td>318.25</td>\n",
       "      <td>318.30</td>\n",
       "      <td>317.85</td>\n",
       "      <td>317.90</td>\n",
       "      <td>49110</td>\n",
       "    </tr>\n",
       "    <tr>\n",
       "      <th>20</th>\n",
       "      <td>09:35:59</td>\n",
       "      <td>317.90</td>\n",
       "      <td>318.20</td>\n",
       "      <td>317.60</td>\n",
       "      <td>317.80</td>\n",
       "      <td>29910</td>\n",
       "    </tr>\n",
       "    <tr>\n",
       "      <th>21</th>\n",
       "      <td>09:36:59</td>\n",
       "      <td>317.80</td>\n",
       "      <td>317.85</td>\n",
       "      <td>317.40</td>\n",
       "      <td>317.40</td>\n",
       "      <td>21161</td>\n",
       "    </tr>\n",
       "    <tr>\n",
       "      <th>22</th>\n",
       "      <td>09:37:59</td>\n",
       "      <td>317.40</td>\n",
       "      <td>318.15</td>\n",
       "      <td>317.25</td>\n",
       "      <td>318.00</td>\n",
       "      <td>20039</td>\n",
       "    </tr>\n",
       "    <tr>\n",
       "      <th>23</th>\n",
       "      <td>09:38:59</td>\n",
       "      <td>318.05</td>\n",
       "      <td>318.65</td>\n",
       "      <td>317.85</td>\n",
       "      <td>318.65</td>\n",
       "      <td>20345</td>\n",
       "    </tr>\n",
       "    <tr>\n",
       "      <th>24</th>\n",
       "      <td>09:39:59</td>\n",
       "      <td>318.65</td>\n",
       "      <td>319.00</td>\n",
       "      <td>318.10</td>\n",
       "      <td>318.25</td>\n",
       "      <td>86988</td>\n",
       "    </tr>\n",
       "    <tr>\n",
       "      <th>25</th>\n",
       "      <td>09:40:59</td>\n",
       "      <td>318.20</td>\n",
       "      <td>318.50</td>\n",
       "      <td>318.15</td>\n",
       "      <td>318.15</td>\n",
       "      <td>17476</td>\n",
       "    </tr>\n",
       "    <tr>\n",
       "      <th>26</th>\n",
       "      <td>09:41:59</td>\n",
       "      <td>318.15</td>\n",
       "      <td>318.55</td>\n",
       "      <td>318.10</td>\n",
       "      <td>318.45</td>\n",
       "      <td>17288</td>\n",
       "    </tr>\n",
       "    <tr>\n",
       "      <th>27</th>\n",
       "      <td>09:42:59</td>\n",
       "      <td>318.50</td>\n",
       "      <td>318.55</td>\n",
       "      <td>318.05</td>\n",
       "      <td>318.15</td>\n",
       "      <td>13382</td>\n",
       "    </tr>\n",
       "    <tr>\n",
       "      <th>28</th>\n",
       "      <td>09:43:59</td>\n",
       "      <td>318.15</td>\n",
       "      <td>318.65</td>\n",
       "      <td>318.10</td>\n",
       "      <td>318.65</td>\n",
       "      <td>15664</td>\n",
       "    </tr>\n",
       "    <tr>\n",
       "      <th>29</th>\n",
       "      <td>09:44:59</td>\n",
       "      <td>318.75</td>\n",
       "      <td>318.95</td>\n",
       "      <td>318.65</td>\n",
       "      <td>318.80</td>\n",
       "      <td>21699</td>\n",
       "    </tr>\n",
       "  </tbody>\n",
       "</table>\n",
       "</div>"
      ],
      "text/plain": [
       "        Time    Open    High     Low   Close  Volume\n",
       "0   09:15:59  319.25  319.40  316.05  317.70  143354\n",
       "1   09:16:59  317.70  318.20  317.70  318.00   52695\n",
       "2   09:17:59  318.00  318.85  318.00  318.55   47179\n",
       "3   09:18:59  318.65  319.40  318.50  319.20   44745\n",
       "4   09:19:59  319.30  319.85  319.20  319.65   57892\n",
       "5   09:20:59  319.60  320.40  319.60  320.25   67482\n",
       "6   09:21:59  320.25  320.30  319.95  320.05   56590\n",
       "7   09:22:59  320.15  320.15  319.60  319.60   52413\n",
       "8   09:23:59  319.65  319.65  319.15  319.40   56305\n",
       "9   09:24:59  319.50  320.05  319.45  319.70   36525\n",
       "10  09:25:59  319.70  319.70  318.30  318.35   50383\n",
       "11  09:26:59  318.35  319.15  318.30  319.05  134400\n",
       "12  09:27:59  319.05  319.70  318.95  319.65   60791\n",
       "13  09:28:59  319.70  319.90  319.50  319.50   26732\n",
       "14  09:29:59  319.45  319.45  318.75  319.00   43666\n",
       "15  09:30:59  319.05  319.25  319.00  319.00   36599\n",
       "16  09:31:59  319.00  319.15  318.70  318.95   23863\n",
       "17  09:32:59  318.95  319.00  318.70  318.85   30321\n",
       "18  09:33:59  318.85  318.85  318.05  318.25   33687\n",
       "19  09:34:59  318.25  318.30  317.85  317.90   49110\n",
       "20  09:35:59  317.90  318.20  317.60  317.80   29910\n",
       "21  09:36:59  317.80  317.85  317.40  317.40   21161\n",
       "22  09:37:59  317.40  318.15  317.25  318.00   20039\n",
       "23  09:38:59  318.05  318.65  317.85  318.65   20345\n",
       "24  09:39:59  318.65  319.00  318.10  318.25   86988\n",
       "25  09:40:59  318.20  318.50  318.15  318.15   17476\n",
       "26  09:41:59  318.15  318.55  318.10  318.45   17288\n",
       "27  09:42:59  318.50  318.55  318.05  318.15   13382\n",
       "28  09:43:59  318.15  318.65  318.10  318.65   15664\n",
       "29  09:44:59  318.75  318.95  318.65  318.80   21699"
      ]
     },
     "execution_count": 3,
     "metadata": {},
     "output_type": "execute_result"
    }
   ],
   "source": [
    "# Read the CSV file \n",
    "Df = pd.read_csv('../data/random_stock_data.csv')\n",
    "Df.head(30)"
   ]
  },
  {
   "cell_type": "markdown",
   "metadata": {},
   "source": [
    "# EDA\n",
    "<hr style=\"border:2px solid black\"> </hr>"
   ]
  },
  {
   "cell_type": "code",
   "execution_count": 4,
   "metadata": {
    "ExecuteTime": {
     "end_time": "2023-06-28T07:21:48.845168Z",
     "start_time": "2023-06-28T07:21:48.837574Z"
    }
   },
   "outputs": [],
   "source": [
    "# Drop the rows with 0 volume traded\n",
    "Df = Df.drop(Df[Df['Volume']==0].index)"
   ]
  },
  {
   "cell_type": "code",
   "execution_count": 5,
   "metadata": {
    "ExecuteTime": {
     "end_time": "2023-06-28T07:21:49.441303Z",
     "start_time": "2023-06-28T07:21:49.399169Z"
    }
   },
   "outputs": [],
   "source": [
    "# Convert the 'Time' column into pandas datetime format\n",
    "Df['Time'] = pd.to_datetime(Df['Time'])"
   ]
  },
  {
   "cell_type": "code",
   "execution_count": 7,
   "metadata": {
    "ExecuteTime": {
     "end_time": "2023-06-28T07:21:52.649801Z",
     "start_time": "2023-06-28T07:21:52.439110Z"
    }
   },
   "outputs": [
    {
     "data": {
      "image/png": "[encoded data removed]",
      "text/plain": [
       "<Figure size 720x360 with 1 Axes>"
      ]
     },
     "metadata": {
      "needs_background": "light"
     },
     "output_type": "display_data"
    }
   ],
   "source": [
    "Df['Close'].pct_change().plot(kind='hist', bins=100, figsize=(10, 5));"
   ]
  },
  {
   "cell_type": "markdown",
   "metadata": {},
   "source": [
    "# Features engineering - indicators\n",
    "<hr style=\"border:2px solid black\"> </hr>"
   ]
  },
  {
   "cell_type": "markdown",
   "metadata": {},
   "source": [
    "- **Relative Strength Index (RSI)** The RSI provides technical traders with signals about bullish and bearish price momentum, and it is often plotted beneath the graph of an asset’s price.\n",
    "- **Simple Moving Average (SMA)** s an arithmetic moving average calculated by adding recent prices and then dividing that figure by the number of time periods in the calculation average. \n",
    "- **The parabolic SAR (stop and reversal)** is a technical indicator used to determine the price direction of an asset, as well as draw attention to when the price direction is changing. Sometimes known as the \"stop and reversal system\". \n",
    "- **Average Directional Index (ADX)**  makes use of a positive (+DI) and negative (-DI) directional indicator in addition to the trendline. The trend has strength when ADX is above 25; the trend is weak or the price is trendless when ADX is below 20, \n"
   ]
  },
  {
   "cell_type": "code",
   "execution_count": 8,
   "metadata": {
    "ExecuteTime": {
     "end_time": "2023-06-28T07:21:55.817157Z",
     "start_time": "2023-06-28T07:21:55.814767Z"
    }
   },
   "outputs": [],
   "source": [
    "# Create a variable n with a value of 10 = 10 Minutes\n",
    "n = 10"
   ]
  },
  {
   "cell_type": "code",
   "execution_count": 9,
   "metadata": {
    "ExecuteTime": {
     "end_time": "2023-06-28T07:21:57.480808Z",
     "start_time": "2023-06-28T07:21:57.477224Z"
    }
   },
   "outputs": [],
   "source": [
    "# Create a column by name, RSI and assign the calculation of RSI to it\n",
    "Df['RSI'] = ta.RSI(np.array(Df['Close'].shift(1)), timeperiod=n)"
   ]
  },
  {
   "cell_type": "code",
   "execution_count": 10,
   "metadata": {
    "ExecuteTime": {
     "end_time": "2023-06-28T07:21:58.610997Z",
     "start_time": "2023-06-28T07:21:58.602571Z"
    }
   },
   "outputs": [],
   "source": [
    "# Create a column by name, SMA and assign the SMA calculation to it\n",
    "Df['SMA']= Df['Close'].shift(1).rolling(window=n).mean()\n",
    "\n",
    "# Create a column by name, Corr and assign the calculation of correlation to it\n",
    "Df['Corr']= Df['Close'].shift(1).rolling(window=n).corr(Df['SMA'].shift(1))"
   ]
  },
  {
   "cell_type": "code",
   "execution_count": 11,
   "metadata": {
    "ExecuteTime": {
     "end_time": "2023-06-28T07:22:01.104837Z",
     "start_time": "2023-06-28T07:22:01.099643Z"
    }
   },
   "outputs": [],
   "source": [
    "# Create a column by name, SAR and assign the SAR calculation to it\n",
    "Df['SAR']=ta.SAR(np.array(Df['High'].shift(1)),np.array(Df['Low'].shift(1)),\\\n",
    "                  0.2,0.2)\n",
    "\n",
    "# Create a column by name, ADX and assign the ADX calculation to it\n",
    "Df['ADX']=ta.ADX(np.array(Df['High'].shift(1)),np.array(Df['Low'].shift(1)),\\\n",
    "                  np.array(Df['Open']), timeperiod =n)"
   ]
  },
  {
   "cell_type": "markdown",
   "metadata": {},
   "source": [
    "We will pass yesterday's \"High\", \"Low\", and \"Open\" prices as input to the algorithm in variables named in lower cases. This will help the algorithm sense the volatility of the past time period."
   ]
  },
  {
   "cell_type": "code",
   "execution_count": 12,
   "metadata": {
    "ExecuteTime": {
     "end_time": "2023-06-28T07:22:06.707494Z",
     "start_time": "2023-06-28T07:22:06.703069Z"
    }
   },
   "outputs": [],
   "source": [
    "# Create columns 'high', 'low' and 'close' with previous day's OHLC data\n",
    "Df['high'] = Df['High'].shift(1)\n",
    "Df['low'] = Df['Low'].shift(1)\n",
    "Df['close'] = Df['Close'].shift(1)"
   ]
  },
  {
   "cell_type": "markdown",
   "metadata": {},
   "source": [
    "We will also create two more columns as features: the change in \"Open\" prices between yesterday and today & the difference between today's \"Open\" and yesterday's \"Close\" prices."
   ]
  },
  {
   "cell_type": "code",
   "execution_count": 13,
   "metadata": {
    "ExecuteTime": {
     "end_time": "2023-06-28T07:22:08.910788Z",
     "start_time": "2023-06-28T07:22:08.906921Z"
    }
   },
   "outputs": [],
   "source": [
    "# Create columns 'OO' with the difference between today's open and previous day's open \n",
    "Df['OO'] = Df['Open']-Df['Open'].shift(1)\n",
    "\n",
    "# Create columns 'OC' with the difference between today's open and previous day's close \n",
    "Df['OC'] = Df['Open']-Df['close']"
   ]
  },
  {
   "cell_type": "code",
   "execution_count": 15,
   "metadata": {
    "ExecuteTime": {
     "end_time": "2023-06-28T07:22:26.488454Z",
     "start_time": "2023-06-28T07:22:26.480306Z"
    }
   },
   "outputs": [],
   "source": [
    "# Create a column 'Ret' with calculation of returns\n",
    "Df['Ret'] = (Df['Open'].shift(-1)-Df['Open'])/Df['Open']\n",
    "\n",
    "# Create n columns and assign   \n",
    "for i in range(1,n):\n",
    "    Df['return%i'%i] = Df['Ret'].shift(i)"
   ]
  },
  {
   "cell_type": "markdown",
   "metadata": {},
   "source": [
    "# Clean/trim the data\n",
    "<hr style=\"border:2px solid black\"> </hr>"
   ]
  },
  {
   "cell_type": "markdown",
   "metadata": {},
   "source": [
    "You need to keep the values of indicator 'Corr' between -1 and 1, as the correlation coefficient is always between these values. This is done by changing all values less than -1 to -1, and all values greater than 1 to 1.\n",
    "\n",
    "This doesn't affect our calculations negatively because the extreme values are realised due to NAN values in the data, which need to be handled before training the algorithm. Then we drop all NANs from the entire dataframe."
   ]
  },
  {
   "cell_type": "code",
   "execution_count": 16,
   "metadata": {
    "ExecuteTime": {
     "end_time": "2023-06-28T07:22:29.863462Z",
     "start_time": "2023-06-28T07:22:29.854888Z"
    }
   },
   "outputs": [],
   "source": [
    "# Change the value of 'Corr' to -1 if it is less than -1\n",
    "Df.loc[Df['Corr']<-1,'Corr'] = -1\n",
    "\n",
    "# Change the value of 'Corr' to 1 if it is greater than 1\n",
    "Df.loc[Df['Corr']>1,'Corr'] = 1\n",
    "\n",
    "# Drop the NAN values\n",
    "Df=Df.dropna()"
   ]
  },
  {
   "cell_type": "code",
   "execution_count": 18,
   "metadata": {
    "ExecuteTime": {
     "end_time": "2023-06-28T07:22:38.882455Z",
     "start_time": "2023-06-28T07:22:38.855677Z"
    }
   },
   "outputs": [
    {
     "data": {
      "text/html": [
       "<div>\n",
       "<style scoped>\n",
       "    .dataframe tbody tr th:only-of-type {\n",
       "        vertical-align: middle;\n",
       "    }\n",
       "\n",
       "    .dataframe tbody tr th {\n",
       "        vertical-align: top;\n",
       "    }\n",
       "\n",
       "    .dataframe thead th {\n",
       "        text-align: right;\n",
       "    }\n",
       "</style>\n",
       "<table border=\"1\" class=\"dataframe\">\n",
       "  <thead>\n",
       "    <tr style=\"text-align: right;\">\n",
       "      <th></th>\n",
       "      <th>Time</th>\n",
       "      <th>Open</th>\n",
       "      <th>High</th>\n",
       "      <th>Low</th>\n",
       "      <th>Close</th>\n",
       "      <th>Volume</th>\n",
       "      <th>RSI</th>\n",
       "      <th>SMA</th>\n",
       "      <th>Corr</th>\n",
       "      <th>SAR</th>\n",
       "      <th>...</th>\n",
       "      <th>Ret</th>\n",
       "      <th>return1</th>\n",
       "      <th>return2</th>\n",
       "      <th>return3</th>\n",
       "      <th>return4</th>\n",
       "      <th>return5</th>\n",
       "      <th>return6</th>\n",
       "      <th>return7</th>\n",
       "      <th>return8</th>\n",
       "      <th>return9</th>\n",
       "    </tr>\n",
       "  </thead>\n",
       "  <tbody>\n",
       "    <tr>\n",
       "      <th>20</th>\n",
       "      <td>2023-06-28 09:35:59</td>\n",
       "      <td>317.90</td>\n",
       "      <td>318.20</td>\n",
       "      <td>317.60</td>\n",
       "      <td>317.80</td>\n",
       "      <td>29910</td>\n",
       "      <td>43.095793</td>\n",
       "      <td>318.850</td>\n",
       "      <td>0.816229</td>\n",
       "      <td>319.184400</td>\n",
       "      <td>...</td>\n",
       "      <td>-0.000315</td>\n",
       "      <td>-0.001100</td>\n",
       "      <td>-0.001882</td>\n",
       "      <td>-0.000314</td>\n",
       "      <td>-0.000157</td>\n",
       "      <td>-0.000157</td>\n",
       "      <td>-0.001252</td>\n",
       "      <td>-0.000782</td>\n",
       "      <td>0.002037</td>\n",
       "      <td>0.002199</td>\n",
       "    </tr>\n",
       "    <tr>\n",
       "      <th>21</th>\n",
       "      <td>2023-06-28 09:36:59</td>\n",
       "      <td>317.80</td>\n",
       "      <td>317.85</td>\n",
       "      <td>317.40</td>\n",
       "      <td>317.40</td>\n",
       "      <td>21161</td>\n",
       "      <td>41.910041</td>\n",
       "      <td>318.795</td>\n",
       "      <td>0.871812</td>\n",
       "      <td>318.917520</td>\n",
       "      <td>...</td>\n",
       "      <td>-0.001259</td>\n",
       "      <td>-0.000315</td>\n",
       "      <td>-0.001100</td>\n",
       "      <td>-0.001882</td>\n",
       "      <td>-0.000314</td>\n",
       "      <td>-0.000157</td>\n",
       "      <td>-0.000157</td>\n",
       "      <td>-0.001252</td>\n",
       "      <td>-0.000782</td>\n",
       "      <td>0.002037</td>\n",
       "    </tr>\n",
       "    <tr>\n",
       "      <th>22</th>\n",
       "      <td>2023-06-28 09:37:59</td>\n",
       "      <td>317.40</td>\n",
       "      <td>318.15</td>\n",
       "      <td>317.25</td>\n",
       "      <td>318.00</td>\n",
       "      <td>20039</td>\n",
       "      <td>37.343463</td>\n",
       "      <td>318.630</td>\n",
       "      <td>0.919286</td>\n",
       "      <td>318.654016</td>\n",
       "      <td>...</td>\n",
       "      <td>0.002048</td>\n",
       "      <td>-0.001259</td>\n",
       "      <td>-0.000315</td>\n",
       "      <td>-0.001100</td>\n",
       "      <td>-0.001882</td>\n",
       "      <td>-0.000314</td>\n",
       "      <td>-0.000157</td>\n",
       "      <td>-0.000157</td>\n",
       "      <td>-0.001252</td>\n",
       "      <td>-0.000782</td>\n",
       "    </tr>\n",
       "    <tr>\n",
       "      <th>23</th>\n",
       "      <td>2023-06-28 09:38:59</td>\n",
       "      <td>318.05</td>\n",
       "      <td>318.65</td>\n",
       "      <td>317.85</td>\n",
       "      <td>318.65</td>\n",
       "      <td>20345</td>\n",
       "      <td>46.973248</td>\n",
       "      <td>318.465</td>\n",
       "      <td>0.892114</td>\n",
       "      <td>318.403213</td>\n",
       "      <td>...</td>\n",
       "      <td>0.001886</td>\n",
       "      <td>0.002048</td>\n",
       "      <td>-0.001259</td>\n",
       "      <td>-0.000315</td>\n",
       "      <td>-0.001100</td>\n",
       "      <td>-0.001882</td>\n",
       "      <td>-0.000314</td>\n",
       "      <td>-0.000157</td>\n",
       "      <td>-0.000157</td>\n",
       "      <td>-0.001252</td>\n",
       "    </tr>\n",
       "    <tr>\n",
       "      <th>24</th>\n",
       "      <td>2023-06-28 09:39:59</td>\n",
       "      <td>318.65</td>\n",
       "      <td>319.00</td>\n",
       "      <td>318.10</td>\n",
       "      <td>318.25</td>\n",
       "      <td>86988</td>\n",
       "      <td>55.251655</td>\n",
       "      <td>318.380</td>\n",
       "      <td>0.616495</td>\n",
       "      <td>317.250000</td>\n",
       "      <td>...</td>\n",
       "      <td>-0.001412</td>\n",
       "      <td>0.001886</td>\n",
       "      <td>0.002048</td>\n",
       "      <td>-0.001259</td>\n",
       "      <td>-0.000315</td>\n",
       "      <td>-0.001100</td>\n",
       "      <td>-0.001882</td>\n",
       "      <td>-0.000314</td>\n",
       "      <td>-0.000157</td>\n",
       "      <td>-0.000157</td>\n",
       "    </tr>\n",
       "    <tr>\n",
       "      <th>...</th>\n",
       "      <td>...</td>\n",
       "      <td>...</td>\n",
       "      <td>...</td>\n",
       "      <td>...</td>\n",
       "      <td>...</td>\n",
       "      <td>...</td>\n",
       "      <td>...</td>\n",
       "      <td>...</td>\n",
       "      <td>...</td>\n",
       "      <td>...</td>\n",
       "      <td>...</td>\n",
       "      <td>...</td>\n",
       "      <td>...</td>\n",
       "      <td>...</td>\n",
       "      <td>...</td>\n",
       "      <td>...</td>\n",
       "      <td>...</td>\n",
       "      <td>...</td>\n",
       "      <td>...</td>\n",
       "      <td>...</td>\n",
       "      <td>...</td>\n",
       "    </tr>\n",
       "    <tr>\n",
       "      <th>744</th>\n",
       "      <td>2023-06-28 15:24:59</td>\n",
       "      <td>321.85</td>\n",
       "      <td>321.95</td>\n",
       "      <td>321.70</td>\n",
       "      <td>321.80</td>\n",
       "      <td>57039</td>\n",
       "      <td>71.715070</td>\n",
       "      <td>321.415</td>\n",
       "      <td>0.207479</td>\n",
       "      <td>321.330000</td>\n",
       "      <td>...</td>\n",
       "      <td>-0.000155</td>\n",
       "      <td>0.000466</td>\n",
       "      <td>0.000622</td>\n",
       "      <td>0.000000</td>\n",
       "      <td>-0.000466</td>\n",
       "      <td>0.000155</td>\n",
       "      <td>0.001245</td>\n",
       "      <td>0.000000</td>\n",
       "      <td>0.000311</td>\n",
       "      <td>0.000156</td>\n",
       "    </tr>\n",
       "    <tr>\n",
       "      <th>745</th>\n",
       "      <td>2023-06-28 15:25:59</td>\n",
       "      <td>321.80</td>\n",
       "      <td>321.95</td>\n",
       "      <td>321.75</td>\n",
       "      <td>321.80</td>\n",
       "      <td>38601</td>\n",
       "      <td>68.057161</td>\n",
       "      <td>321.495</td>\n",
       "      <td>0.619122</td>\n",
       "      <td>321.454000</td>\n",
       "      <td>...</td>\n",
       "      <td>0.000155</td>\n",
       "      <td>-0.000155</td>\n",
       "      <td>0.000466</td>\n",
       "      <td>0.000622</td>\n",
       "      <td>0.000000</td>\n",
       "      <td>-0.000466</td>\n",
       "      <td>0.000155</td>\n",
       "      <td>0.001245</td>\n",
       "      <td>0.000000</td>\n",
       "      <td>0.000311</td>\n",
       "    </tr>\n",
       "    <tr>\n",
       "      <th>746</th>\n",
       "      <td>2023-06-28 15:26:59</td>\n",
       "      <td>321.85</td>\n",
       "      <td>321.85</td>\n",
       "      <td>321.45</td>\n",
       "      <td>321.55</td>\n",
       "      <td>61275</td>\n",
       "      <td>68.057161</td>\n",
       "      <td>321.560</td>\n",
       "      <td>0.717711</td>\n",
       "      <td>321.553200</td>\n",
       "      <td>...</td>\n",
       "      <td>-0.000777</td>\n",
       "      <td>0.000155</td>\n",
       "      <td>-0.000155</td>\n",
       "      <td>0.000466</td>\n",
       "      <td>0.000622</td>\n",
       "      <td>0.000000</td>\n",
       "      <td>-0.000466</td>\n",
       "      <td>0.000155</td>\n",
       "      <td>0.001245</td>\n",
       "      <td>0.000000</td>\n",
       "    </tr>\n",
       "    <tr>\n",
       "      <th>747</th>\n",
       "      <td>2023-06-28 15:27:59</td>\n",
       "      <td>321.60</td>\n",
       "      <td>321.75</td>\n",
       "      <td>321.35</td>\n",
       "      <td>321.45</td>\n",
       "      <td>65368</td>\n",
       "      <td>51.760292</td>\n",
       "      <td>321.595</td>\n",
       "      <td>0.500653</td>\n",
       "      <td>321.950000</td>\n",
       "      <td>...</td>\n",
       "      <td>-0.000466</td>\n",
       "      <td>-0.000777</td>\n",
       "      <td>0.000155</td>\n",
       "      <td>-0.000155</td>\n",
       "      <td>0.000466</td>\n",
       "      <td>0.000622</td>\n",
       "      <td>0.000000</td>\n",
       "      <td>-0.000466</td>\n",
       "      <td>0.000155</td>\n",
       "      <td>0.001245</td>\n",
       "    </tr>\n",
       "    <tr>\n",
       "      <th>748</th>\n",
       "      <td>2023-06-28 15:28:59</td>\n",
       "      <td>321.45</td>\n",
       "      <td>321.80</td>\n",
       "      <td>321.25</td>\n",
       "      <td>321.25</td>\n",
       "      <td>132081</td>\n",
       "      <td>46.781521</td>\n",
       "      <td>321.620</td>\n",
       "      <td>0.123520</td>\n",
       "      <td>321.950000</td>\n",
       "      <td>...</td>\n",
       "      <td>-0.000622</td>\n",
       "      <td>-0.000466</td>\n",
       "      <td>-0.000777</td>\n",
       "      <td>0.000155</td>\n",
       "      <td>-0.000155</td>\n",
       "      <td>0.000466</td>\n",
       "      <td>0.000622</td>\n",
       "      <td>0.000000</td>\n",
       "      <td>-0.000466</td>\n",
       "      <td>0.000155</td>\n",
       "    </tr>\n",
       "  </tbody>\n",
       "</table>\n",
       "<p>729 rows × 26 columns</p>\n",
       "</div>"
      ],
      "text/plain": [
       "                   Time    Open    High     Low   Close  Volume        RSI  \\\n",
       "20  2023-06-28 09:35:59  317.90  318.20  317.60  317.80   29910  43.095793   \n",
       "21  2023-06-28 09:36:59  317.80  317.85  317.40  317.40   21161  41.910041   \n",
       "22  2023-06-28 09:37:59  317.40  318.15  317.25  318.00   20039  37.343463   \n",
       "23  2023-06-28 09:38:59  318.05  318.65  317.85  318.65   20345  46.973248   \n",
       "24  2023-06-28 09:39:59  318.65  319.00  318.10  318.25   86988  55.251655   \n",
       "..                  ...     ...     ...     ...     ...     ...        ...   \n",
       "744 2023-06-28 15:24:59  321.85  321.95  321.70  321.80   57039  71.715070   \n",
       "745 2023-06-28 15:25:59  321.80  321.95  321.75  321.80   38601  68.057161   \n",
       "746 2023-06-28 15:26:59  321.85  321.85  321.45  321.55   61275  68.057161   \n",
       "747 2023-06-28 15:27:59  321.60  321.75  321.35  321.45   65368  51.760292   \n",
       "748 2023-06-28 15:28:59  321.45  321.80  321.25  321.25  132081  46.781521   \n",
       "\n",
       "         SMA      Corr         SAR  ...       Ret   return1   return2  \\\n",
       "20   318.850  0.816229  319.184400  ... -0.000315 -0.001100 -0.001882   \n",
       "21   318.795  0.871812  318.917520  ... -0.001259 -0.000315 -0.001100   \n",
       "22   318.630  0.919286  318.654016  ...  0.002048 -0.001259 -0.000315   \n",
       "23   318.465  0.892114  318.403213  ...  0.001886  0.002048 -0.001259   \n",
       "24   318.380  0.616495  317.250000  ... -0.001412  0.001886  0.002048   \n",
       "..       ...       ...         ...  ...       ...       ...       ...   \n",
       "744  321.415  0.207479  321.330000  ... -0.000155  0.000466  0.000622   \n",
       "745  321.495  0.619122  321.454000  ...  0.000155 -0.000155  0.000466   \n",
       "746  321.560  0.717711  321.553200  ... -0.000777  0.000155 -0.000155   \n",
       "747  321.595  0.500653  321.950000  ... -0.000466 -0.000777  0.000155   \n",
       "748  321.620  0.123520  321.950000  ... -0.000622 -0.000466 -0.000777   \n",
       "\n",
       "      return3   return4   return5   return6   return7   return8   return9  \n",
       "20  -0.000314 -0.000157 -0.000157 -0.001252 -0.000782  0.002037  0.002199  \n",
       "21  -0.001882 -0.000314 -0.000157 -0.000157 -0.001252 -0.000782  0.002037  \n",
       "22  -0.001100 -0.001882 -0.000314 -0.000157 -0.000157 -0.001252 -0.000782  \n",
       "23  -0.000315 -0.001100 -0.001882 -0.000314 -0.000157 -0.000157 -0.001252  \n",
       "24  -0.001259 -0.000315 -0.001100 -0.001882 -0.000314 -0.000157 -0.000157  \n",
       "..        ...       ...       ...       ...       ...       ...       ...  \n",
       "744  0.000000 -0.000466  0.000155  0.001245  0.000000  0.000311  0.000156  \n",
       "745  0.000622  0.000000 -0.000466  0.000155  0.001245  0.000000  0.000311  \n",
       "746  0.000466  0.000622  0.000000 -0.000466  0.000155  0.001245  0.000000  \n",
       "747 -0.000155  0.000466  0.000622  0.000000 -0.000466  0.000155  0.001245  \n",
       "748  0.000155 -0.000155  0.000466  0.000622  0.000000 -0.000466  0.000155  \n",
       "\n",
       "[729 rows x 26 columns]"
      ]
     },
     "execution_count": 18,
     "metadata": {},
     "output_type": "execute_result"
    }
   ],
   "source": [
    "Df"
   ]
  },
  {
   "cell_type": "markdown",
   "metadata": {},
   "source": [
    "# Train and test data\n",
    "<hr style=\"border:2px solid black\"> </hr>"
   ]
  },
  {
   "cell_type": "markdown",
   "metadata": {},
   "source": [
    "We will be using 80% of the data to train and the rest 20% to test. To do this, you will create a split parameter which will divide the dataframe in an 80-20 ratio.\n",
    "\n",
    "This can be changed as per your choice, but it is advisable to give at least 70% data as train data for good results. \"split\" is the integer index value for the row corresponding to test-train split. "
   ]
  },
  {
   "cell_type": "code",
   "execution_count": 19,
   "metadata": {
    "ExecuteTime": {
     "end_time": "2023-06-28T07:24:16.871710Z",
     "start_time": "2023-06-28T07:24:16.867830Z"
    }
   },
   "outputs": [
    {
     "data": {
      "text/plain": [
       "583"
      ]
     },
     "execution_count": 19,
     "metadata": {},
     "output_type": "execute_result"
    }
   ],
   "source": [
    "# Create a variable split which is 80% of the length of the Dataframe \n",
    "t = .8\n",
    "split = int(t*len(Df))\n",
    "split"
   ]
  },
  {
   "cell_type": "markdown",
   "metadata": {},
   "source": [
    "# Create output signals\n",
    "<hr style=\"border:2px solid black\"> </hr>"
   ]
  },
  {
   "cell_type": "markdown",
   "metadata": {},
   "source": [
    "Next, assign signal values corresponding to 'returns' that were calculated earlier. To do this, you will split the data into three equal parts, using the split on 'Ret' column. \n",
    "1. Highest returns’ quantile is assigned Signal '1' or \"Buy\".\n",
    "2. Middle quantile is assigned Signal '0' or 'Do nothing'.\n",
    "3. Lowest quantile is assigned Signal '-1' or 'Sell'. "
   ]
  },
  {
   "cell_type": "code",
   "execution_count": 20,
   "metadata": {
    "ExecuteTime": {
     "end_time": "2023-06-28T07:24:20.951649Z",
     "start_time": "2023-06-28T07:24:20.942019Z"
    }
   },
   "outputs": [
    {
     "name": "stderr",
     "output_type": "stream",
     "text": [
      "/var/folders/5x/lyqr8wv507n43bnwpsz4dq_c0000gn/T/ipykernel_58109/2350759365.py:2: SettingWithCopyWarning: \n",
      "A value is trying to be set on a copy of a slice from a DataFrame.\n",
      "Try using .loc[row_indexer,col_indexer] = value instead\n",
      "\n",
      "See the caveats in the documentation: https://pandas.pydata.org/pandas-docs/stable/user_guide/indexing.html#returning-a-view-versus-a-copy\n",
      "  Df['Signal']=0\n",
      "/opt/anaconda3/envs/trainingAI/lib/python3.9/site-packages/pandas/core/indexing.py:1817: SettingWithCopyWarning: \n",
      "A value is trying to be set on a copy of a slice from a DataFrame.\n",
      "Try using .loc[row_indexer,col_indexer] = value instead\n",
      "\n",
      "See the caveats in the documentation: https://pandas.pydata.org/pandas-docs/stable/user_guide/indexing.html#returning-a-view-versus-a-copy\n",
      "  self._setitem_single_column(loc, value, pi)\n"
     ]
    }
   ],
   "source": [
    "# Create a column by name, 'Signal' and initialize with 0\n",
    "Df['Signal']=0\n",
    "\n",
    "# Assign a value of 1 to 'Signal' column for the quantile with highest returns\n",
    "Df.loc[Df['Ret']>Df['Ret'][:split].quantile(q=0.66),'Signal']=1\n",
    "\n",
    "# Assign a value of -1 to 'Signal' column for the quantile with lowest returns\n",
    "Df.loc[Df['Ret']<Df['Ret'][:split].quantile(q=0.34),'Signal']=-1"
   ]
  },
  {
   "cell_type": "code",
   "execution_count": 21,
   "metadata": {
    "ExecuteTime": {
     "end_time": "2023-06-28T07:24:24.075179Z",
     "start_time": "2023-06-28T07:24:24.066713Z"
    }
   },
   "outputs": [
    {
     "name": "stderr",
     "output_type": "stream",
     "text": [
      "/opt/anaconda3/envs/trainingAI/lib/python3.9/site-packages/pandas/core/indexing.py:1817: SettingWithCopyWarning: \n",
      "A value is trying to be set on a copy of a slice from a DataFrame.\n",
      "Try using .loc[row_indexer,col_indexer] = value instead\n",
      "\n",
      "See the caveats in the documentation: https://pandas.pydata.org/pandas-docs/stable/user_guide/indexing.html#returning-a-view-versus-a-copy\n",
      "  self._setitem_single_column(loc, value, pi)\n"
     ]
    }
   ],
   "source": [
    "# Assign a value of 0 to 'Signal' column at 1529 time\n",
    "Df.loc[(Df['Time'].dt.hour==15) & (Df['Time'].dt.minute==29), 'Signal']=0        \n",
    "\n",
    "# Assign a value of 0 to 'Ret' column at 1529 time\n",
    "Df.loc[(Df['Time'].dt.hour==15) & (Df['Time'].dt.minute==29), 'Ret']=0"
   ]
  },
  {
   "cell_type": "markdown",
   "metadata": {},
   "source": [
    "# Create features and target\n",
    "<hr style=\"border:2px solid black\"> </hr>"
   ]
  },
  {
   "cell_type": "markdown",
   "metadata": {},
   "source": [
    "Drop the columns 'Close', 'Signal', 'Time', 'High', 'Low', 'Volume', and 'Ret' since the algorithm will not be trained on these features. Next, we assign 'Signal' to 'y' which is the output variable that you will predict using test data.   "
   ]
  },
  {
   "cell_type": "code",
   "execution_count": 22,
   "metadata": {
    "ExecuteTime": {
     "end_time": "2023-06-28T07:24:25.377239Z",
     "start_time": "2023-06-28T07:24:25.373468Z"
    }
   },
   "outputs": [],
   "source": [
    "# Use df.drop() to drop the columns\n",
    "X = Df.drop(['Close', 'Signal', 'Time', 'High', 'Low', 'Volume', 'Ret'],axis=1)\n",
    "\n",
    "# Create a variable which contains all the 'Signal' values\n",
    "y = Df['Signal']"
   ]
  },
  {
   "cell_type": "markdown",
   "metadata": {},
   "source": [
    "## Find best parameters"
   ]
  },
  {
   "cell_type": "markdown",
   "metadata": {},
   "source": [
    "### Pipeline and functions\n",
    "\n",
    "As the very first step to finding the best hyperparameters among C, Gamma and Kernel, you will first create a pipeline of functions which are required to run in a certain order on the training data. "
   ]
  },
  {
   "cell_type": "markdown",
   "metadata": {},
   "source": [
    "The ‘steps’ contains references to functions that would be applied to the data when called through a pipeline function. In this case, you will scale the data first and then fit it to the SVC function. This is done to avoid the effect of the individual weights of the features."
   ]
  },
  {
   "cell_type": "code",
   "execution_count": 23,
   "metadata": {
    "ExecuteTime": {
     "end_time": "2023-06-28T07:24:29.246710Z",
     "start_time": "2023-06-28T07:24:29.243767Z"
    }
   },
   "outputs": [],
   "source": [
    "# Create the 'steps' variable with the pipeline functions\n",
    "steps = [('scaler', StandardScaler()), ('svc', SVC())]\n",
    "\n",
    "# Pass the 'steps' to the Pipeline function\n",
    "pipeline = Pipeline(steps)"
   ]
  },
  {
   "cell_type": "markdown",
   "metadata": {},
   "source": [
    "### Hyperparameters\n",
    "\n",
    "The hyperparameters are iterated over to arrive at the best possible combination for the given training data. These test values can be changed as per your choice. Here, you will choose 4 test values for 'c' and 3 test values for 'g'.  "
   ]
  },
  {
   "cell_type": "code",
   "execution_count": 24,
   "metadata": {
    "ExecuteTime": {
     "end_time": "2023-06-28T07:24:30.865934Z",
     "start_time": "2023-06-28T07:24:30.863389Z"
    }
   },
   "outputs": [],
   "source": [
    "# Test variables for 'c' and 'g'\n",
    "c = [10,100,1000,10000]\n",
    "g = [1e-2,1e-1,1e0]"
   ]
  },
  {
   "cell_type": "markdown",
   "metadata": {},
   "source": [
    "The 'rbf' is used as a singular entry in the kernel parameters. But you can go ahead and try other kernel functions, such as linear, poly and sigmoid.\n",
    "\n",
    "<b>Do remember:</b> A higher number of parameters would result in a greater time for the code to run. "
   ]
  },
  {
   "cell_type": "code",
   "execution_count": 25,
   "metadata": {
    "ExecuteTime": {
     "end_time": "2023-06-28T07:24:32.079135Z",
     "start_time": "2023-06-28T07:24:32.076665Z"
    }
   },
   "outputs": [],
   "source": [
    "# Intialize the parameters\n",
    "parameters = {'svc__C':c,\n",
    "              'svc__gamma':g,\n",
    "              'svc__kernel': ['rbf']\n",
    "             }"
   ]
  },
  {
   "cell_type": "markdown",
   "metadata": {},
   "source": [
    "Next, you need to create a RandomizedSearchCV function with a cross validation value of 7. This value can be anything more than or equal to 3. The concept of cross validation is used to arrive at the scores of different random combinations of the hyperparameters.\n",
    "\n",
    "These scores would be used to find the best parameters and create a newly optimized support vector classifier."
   ]
  },
  {
   "cell_type": "code",
   "execution_count": 27,
   "metadata": {
    "ExecuteTime": {
     "end_time": "2023-06-28T07:24:57.984773Z",
     "start_time": "2023-06-28T07:24:57.982351Z"
    }
   },
   "outputs": [],
   "source": [
    "# Call the RandomizedSearchCV function and pass the parameters \n",
    "rcv = RandomizedSearchCV(pipeline, parameters, cv=7) #, iid=False)"
   ]
  },
  {
   "cell_type": "markdown",
   "metadata": {},
   "source": [
    "### Training on and fetching the best parameters\n",
    "             \n",
    "Next, you need to fit the train data to 'rcv' created above to obtain the best hyperparameters. The best parameters can be obtained using the best_params function."
   ]
  },
  {
   "cell_type": "code",
   "execution_count": 28,
   "metadata": {
    "ExecuteTime": {
     "end_time": "2023-06-28T07:25:03.861146Z",
     "start_time": "2023-06-28T07:25:00.430872Z"
    }
   },
   "outputs": [],
   "source": [
    "# Call the 'fit' method of rcv and pass the train data to it \n",
    "rcv.fit(X.iloc[:split],y.iloc[:split])\n",
    "\n",
    "# Call the 'best_params_' method to obtain the best parameters of C\n",
    "best_C = rcv.best_params_['svc__C']\n",
    "\n",
    "# Call the 'best_params_' method to obtain the best parameters of kernel\n",
    "best_kernel = rcv.best_params_['svc__kernel']\n",
    "\n",
    "# Call the 'best_params_' method to obtain the best parameters of gamma\n",
    "best_gamma = rcv.best_params_['svc__gamma']"
   ]
  },
  {
   "cell_type": "markdown",
   "metadata": {},
   "source": [
    "## Create the Support Vector Machine"
   ]
  },
  {
   "cell_type": "markdown",
   "metadata": {},
   "source": [
    "### Create the new SVC\n",
    "\n",
    "In this line of code we instantiate a new support vector classifier function with the best hyperparameters."
   ]
  },
  {
   "cell_type": "code",
   "execution_count": 29,
   "metadata": {
    "ExecuteTime": {
     "end_time": "2023-06-28T07:25:06.239578Z",
     "start_time": "2023-06-28T07:25:06.237092Z"
    }
   },
   "outputs": [],
   "source": [
    "# Create a new SVC classifier\n",
    "cls = SVC(C=best_C, kernel=best_kernel, gamma=best_gamma)"
   ]
  },
  {
   "cell_type": "markdown",
   "metadata": {},
   "source": [
    "### Train the data\n",
    "\n",
    "As done previously, for finding the best hyperparameters, you will first scale the data before you fit it to the classifier to train on. To do this, you need to first instantiate the Standard Scaler function."
   ]
  },
  {
   "cell_type": "code",
   "execution_count": 30,
   "metadata": {
    "ExecuteTime": {
     "end_time": "2023-06-28T07:25:07.205515Z",
     "start_time": "2023-06-28T07:25:07.203180Z"
    }
   },
   "outputs": [],
   "source": [
    "# Instantiate the StandardScaler \n",
    "ss1 = StandardScaler()"
   ]
  },
  {
   "cell_type": "markdown",
   "metadata": {},
   "source": [
    "You will use the scaled training data to train the classifier algorithm."
   ]
  },
  {
   "cell_type": "code",
   "execution_count": 31,
   "metadata": {
    "ExecuteTime": {
     "end_time": "2023-06-28T07:25:08.173930Z",
     "start_time": "2023-06-28T07:25:08.124292Z"
    },
    "scrolled": true
   },
   "outputs": [
    {
     "data": {
      "text/plain": [
       "SVC(C=1000, gamma=0.1)"
      ]
     },
     "execution_count": 31,
     "metadata": {},
     "output_type": "execute_result"
    }
   ],
   "source": [
    "# Pass the scaled train data to the SVC classifier\n",
    "cls.fit(ss1.fit_transform(X.iloc[:split]),y.iloc[:split])"
   ]
  },
  {
   "cell_type": "markdown",
   "metadata": {},
   "source": [
    "Congratulations, your prediction model is ready!"
   ]
  },
  {
   "cell_type": "markdown",
   "metadata": {},
   "source": [
    "## Predict the signals"
   ]
  },
  {
   "cell_type": "markdown",
   "metadata": {},
   "source": [
    "Now, you can use the test data to make predictions and save the value of output 'y' in a list called 'y_predict'. This list will have the predicted values of 'Signal' for the test data.  "
   ]
  },
  {
   "cell_type": "code",
   "execution_count": 32,
   "metadata": {
    "ExecuteTime": {
     "end_time": "2023-06-28T07:25:10.793565Z",
     "start_time": "2023-06-28T07:25:10.780119Z"
    }
   },
   "outputs": [],
   "source": [
    "# Pass the test data to the predict function and store the values into 'y_predict' \n",
    "y_predict = cls.predict(ss1.transform(X.iloc[split:]))"
   ]
  },
  {
   "cell_type": "markdown",
   "metadata": {},
   "source": [
    "Now create a new column 'Pred_Signal' in 'Df' to save all the predictions for both train data and test data."
   ]
  },
  {
   "cell_type": "code",
   "execution_count": 33,
   "metadata": {
    "ExecuteTime": {
     "end_time": "2023-06-28T07:25:11.817252Z",
     "start_time": "2023-06-28T07:25:11.813941Z"
    }
   },
   "outputs": [
    {
     "name": "stderr",
     "output_type": "stream",
     "text": [
      "/var/folders/5x/lyqr8wv507n43bnwpsz4dq_c0000gn/T/ipykernel_58109/1378583970.py:2: SettingWithCopyWarning: \n",
      "A value is trying to be set on a copy of a slice from a DataFrame.\n",
      "Try using .loc[row_indexer,col_indexer] = value instead\n",
      "\n",
      "See the caveats in the documentation: https://pandas.pydata.org/pandas-docs/stable/user_guide/indexing.html#returning-a-view-versus-a-copy\n",
      "  Df['Pred_Signal'] = 0\n"
     ]
    }
   ],
   "source": [
    "# Initiate a column by name, 'Pred_Signal' and assign 0 to it\n",
    "Df['Pred_Signal'] = 0"
   ]
  },
  {
   "cell_type": "markdown",
   "metadata": {},
   "source": [
    "### Save the predictions\n",
    "1. To save predicted 'y' values of test data, we can simply assign 'y_predict' to 'Pred_Signal' using the split.\n",
    "2. To save predicted 'y' values for train data, we make predictions for train data and save it similarly."
   ]
  },
  {
   "cell_type": "code",
   "execution_count": 34,
   "metadata": {
    "ExecuteTime": {
     "end_time": "2023-06-28T07:25:13.162289Z",
     "start_time": "2023-06-28T07:25:13.119312Z"
    }
   },
   "outputs": [
    {
     "name": "stderr",
     "output_type": "stream",
     "text": [
      "/opt/anaconda3/envs/trainingAI/lib/python3.9/site-packages/pandas/core/indexing.py:1773: SettingWithCopyWarning: \n",
      "A value is trying to be set on a copy of a slice from a DataFrame.\n",
      "Try using .loc[row_indexer,col_indexer] = value instead\n",
      "\n",
      "See the caveats in the documentation: https://pandas.pydata.org/pandas-docs/stable/user_guide/indexing.html#returning-a-view-versus-a-copy\n",
      "  self._setitem_single_column(ilocs[0], value, pi)\n"
     ]
    }
   ],
   "source": [
    "# Save the predicted values for the train data\n",
    "Df.iloc[:split,Df.columns.get_loc('Pred_Signal')] = pd.Series(cls.predict(ss1.transform(X.iloc[:split])).tolist())\n",
    "\n",
    "# Save the predicted values for the test data\n",
    "Df.iloc[split:,Df.columns.get_loc('Pred_Signal')] = y_predict"
   ]
  },
  {
   "cell_type": "markdown",
   "metadata": {},
   "source": [
    "Since, the algorithm was trained on the train data, it’s accuracy of prediction is expected to be better on this train data compared to the test data. You can print these two seperately to check the accuracies. (TRY ON YOUR OWN!)"
   ]
  },
  {
   "cell_type": "markdown",
   "metadata": {},
   "source": [
    "## Use the model for trading strategy "
   ]
  },
  {
   "cell_type": "markdown",
   "metadata": {},
   "source": [
    "### Trading strategy \n",
    "        \n",
    "Our trading strategy is simply to buy/sell/do-nothing at that period for which the Signal is generated by the algorithm. The strategy assumes that you always get a fill at the \"Open\" prices. \n",
    "\n",
    "You had already calculated and saved returns on 'Open' prices in 'Ret'. You will create a column named 'Ret1' to store the strategy's returns based on the Signal."
   ]
  },
  {
   "cell_type": "code",
   "execution_count": 35,
   "metadata": {
    "ExecuteTime": {
     "end_time": "2023-06-28T07:25:15.257754Z",
     "start_time": "2023-06-28T07:25:15.254502Z"
    }
   },
   "outputs": [
    {
     "name": "stderr",
     "output_type": "stream",
     "text": [
      "/var/folders/5x/lyqr8wv507n43bnwpsz4dq_c0000gn/T/ipykernel_58109/2916839187.py:2: SettingWithCopyWarning: \n",
      "A value is trying to be set on a copy of a slice from a DataFrame.\n",
      "Try using .loc[row_indexer,col_indexer] = value instead\n",
      "\n",
      "See the caveats in the documentation: https://pandas.pydata.org/pandas-docs/stable/user_guide/indexing.html#returning-a-view-versus-a-copy\n",
      "  Df['Ret1'] = Df['Ret']*Df['Pred_Signal']\n"
     ]
    }
   ],
   "source": [
    "# Calculate strategy returns and store them in 'Ret1' column \n",
    "Df['Ret1'] = Df['Ret']*Df['Pred_Signal'] "
   ]
  },
  {
   "cell_type": "markdown",
   "metadata": {},
   "source": [
    "## Analyze the performance"
   ]
  },
  {
   "cell_type": "markdown",
   "metadata": {},
   "source": [
    "Please note that here you are using only the test data to compare the performance of the strategy. You can pass the entire 'Ret1' column and check the performance on both the test and train data if you wish to."
   ]
  },
  {
   "cell_type": "code",
   "execution_count": 36,
   "metadata": {
    "ExecuteTime": {
     "end_time": "2023-06-28T07:25:16.655714Z",
     "start_time": "2023-06-28T07:25:16.651873Z"
    }
   },
   "outputs": [
    {
     "name": "stdout",
     "output_type": "stream",
     "text": [
      "Sharpe 2.906475436727308\n"
     ]
    }
   ],
   "source": [
    "# Calculate the annualized Sharpe ratio\n",
    "sharpe = np.sqrt(252) * Df['Ret1'][split:].mean() / Df['Ret1'][split:].std()\n",
    "\n",
    "print('Sharpe', sharpe)"
   ]
  },
  {
   "cell_type": "markdown",
   "metadata": {},
   "source": [
    "## Plot the results\n",
    "\n",
    "Now you can plot the results to visualize the performance.\n"
   ]
  },
  {
   "cell_type": "code",
   "execution_count": 37,
   "metadata": {
    "ExecuteTime": {
     "end_time": "2023-06-28T07:25:19.246017Z",
     "start_time": "2023-06-28T07:25:19.105095Z"
    }
   },
   "outputs": [
    {
     "data": {
      "image/png": "[encoded data removed]",
      "text/plain": [
       "<Figure size 720x360 with 1 Axes>"
      ]
     },
     "metadata": {
      "needs_background": "light"
     },
     "output_type": "display_data"
    }
   ],
   "source": [
    "Df.set_index(\"Time\", inplace=True)\n",
    "# Plot the stretegy returns\n",
    "plt.figure(figsize=(10,5))\n",
    "plt.plot(((Df['Ret'][split:]+1).cumprod()),color='r',label='Market Returns')\n",
    "plt.plot(((Df['Ret1'][split:]+1).cumprod()),color='g',label='Strategy Returns')\n",
    "plt.legend()\n",
    "plt.show()"
   ]
  }
 ],
 "metadata": {
  "anaconda-cloud": {},
  "celltoolbar": "Raw Cell Format",
  "kernelspec": {
   "display_name": "trainingAI",
   "language": "python",
   "name": "trainingai"
  },
  "language_info": {
   "codemirror_mode": {
    "name": "ipython",
    "version": 3
   },
   "file_extension": ".py",
   "mimetype": "text/x-python",
   "name": "python",
   "nbconvert_exporter": "python",
   "pygments_lexer": "ipython3",
   "version": "3.9.7"
  },
  "toc": {
   "base_numbering": 1,
   "nav_menu": {},
   "number_sections": true,
   "sideBar": true,
   "skip_h1_title": false,
   "title_cell": "Table of Contents",
   "title_sidebar": "Contents",
   "toc_cell": true,
   "toc_position": {},
   "toc_section_display": true,
   "toc_window_display": true
  },
  "varInspector": {
   "cols": {
    "lenName": 16,
    "lenType": 16,
    "lenVar": 40
   },
   "kernels_config": {
    "python": {
     "delete_cmd_postfix": "",
     "delete_cmd_prefix": "del ",
     "library": "var_list.py",
     "varRefreshCmd": "print(var_dic_list())"
    },
    "r": {
     "delete_cmd_postfix": ") ",
     "delete_cmd_prefix": "rm(",
     "library": "var_list.r",
     "varRefreshCmd": "cat(var_dic_list()) "
    }
   },
   "types_to_exclude": [
    "module",
    "function",
    "builtin_function_or_method",
    "instance",
    "_Feature"
   ],
   "window_display": false
  }
 },
 "nbformat": 4,
 "nbformat_minor": 2
}
