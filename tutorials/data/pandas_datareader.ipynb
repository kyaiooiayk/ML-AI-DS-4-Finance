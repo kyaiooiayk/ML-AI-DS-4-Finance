{
 "cells": [
  {
   "cell_type": "markdown",
   "id": "72589da2",
   "metadata": {
    "ExecuteTime": {
     "end_time": "2023-07-12T13:51:10.103658Z",
     "start_time": "2023-07-12T13:51:10.100183Z"
    }
   },
   "source": [
    "# Introduction\n",
    "<hr style = \"border:2px solid black\" ></hr>"
   ]
  },
  {
   "cell_type": "markdown",
   "id": "173cbccf",
   "metadata": {},
   "source": [
    "<div class=\"alert alert-warning\">\n",
    "<font color=black>\n",
    "\n",
    "**What?** YAHOO finacial data API\n",
    "\n",
    "</font>\n",
    "</div>"
   ]
  },
  {
   "cell_type": "markdown",
   "id": "9705cf54",
   "metadata": {},
   "source": [
    "# Imports\n",
    "<hr style = \"border:2px solid black\" ></hr>"
   ]
  },
  {
   "cell_type": "code",
   "execution_count": null,
   "id": "ce642652",
   "metadata": {
    "ExecuteTime": {
     "end_time": "2023-07-12T13:55:44.455956Z",
     "start_time": "2023-07-12T13:55:44.453285Z"
    }
   },
   "outputs": [],
   "source": [
    "import os\n",
    "import pandas_datareader as pdr"
   ]
  },
  {
   "cell_type": "markdown",
   "id": "48af5187",
   "metadata": {},
   "source": [
    "# Tiingo\n",
    "<hr style = \"border:2px solid black\" ></hr>"
   ]
  },
  {
   "cell_type": "markdown",
   "id": "f22087ad",
   "metadata": {},
   "source": [
    "- required you to registred\n",
    "- https://www.tiingo.com/"
   ]
  },
  {
   "cell_type": "code",
   "execution_count": null,
   "id": "6b5c9f2b",
   "metadata": {
    "ExecuteTime": {
     "end_time": "2023-07-12T13:54:23.909045Z",
     "start_time": "2023-07-12T13:54:23.385295Z"
    }
   },
   "outputs": [],
   "source": [
    "df = pdr.get_data_tiingo('GOOG', api_key=os.getenv('TIINGO_API_KEY'))\n",
    "df.head()"
   ]
  },
  {
   "cell_type": "markdown",
   "id": "4be5b0b5",
   "metadata": {},
   "source": [
    "# IEX\n",
    "<hr style = \"border:2px solid black\" ></hr>"
   ]
  },
  {
   "cell_type": "markdown",
   "id": "12fc930b",
   "metadata": {},
   "source": [
    "# Alpha vantage\n",
    "<hr style = \"border:2px solid black\" ></hr>"
   ]
  },
  {
   "cell_type": "markdown",
   "id": "dc5063ef",
   "metadata": {},
   "source": [
    "# Forex\n",
    "<hr style = \"border:2px solid black\" ></hr>"
   ]
  },
  {
   "cell_type": "markdown",
   "id": "4635d42b",
   "metadata": {},
   "source": [
    "# Econdb\n",
    "<hr style = \"border:2px solid black\" ></hr>"
   ]
  },
  {
   "cell_type": "markdown",
   "id": "c425b0d1",
   "metadata": {},
   "source": [
    "# Enigma\n",
    "<hr style = \"border:2px solid black\" ></hr>"
   ]
  },
  {
   "cell_type": "markdown",
   "id": "5eb99d89",
   "metadata": {},
   "source": [
    "# Quandl\n",
    "<hr style = \"border:2px solid black\" ></hr>"
   ]
  },
  {
   "cell_type": "markdown",
   "id": "55a60443",
   "metadata": {},
   "source": [
    "# FRED\n",
    "<hr style = \"border:2px solid black\" ></hr>"
   ]
  },
  {
   "cell_type": "markdown",
   "id": "08cf1fb9",
   "metadata": {},
   "source": [
    "# Fama/French\n",
    "<hr style = \"border:2px solid black\" ></hr>"
   ]
  },
  {
   "cell_type": "markdown",
   "id": "9a07d0fa",
   "metadata": {},
   "source": [
    "# World Bank\n",
    "<hr style = \"border:2px solid black\" ></hr>"
   ]
  },
  {
   "cell_type": "markdown",
   "id": "361af945",
   "metadata": {},
   "source": [
    "# OECD\n",
    "<hr style = \"border:2px solid black\" ></hr>"
   ]
  },
  {
   "cell_type": "markdown",
   "id": "fdbcd314",
   "metadata": {},
   "source": [
    "# Eurostat\n",
    "<hr style = \"border:2px solid black\" ></hr>"
   ]
  },
  {
   "cell_type": "markdown",
   "id": "29787472",
   "metadata": {},
   "source": [
    "# TSP\n",
    "<hr style = \"border:2px solid black\" ></hr>"
   ]
  },
  {
   "cell_type": "markdown",
   "id": "c9266e90",
   "metadata": {},
   "source": [
    "# Nasdaq\n",
    "<hr style = \"border:2px solid black\" ></hr>"
   ]
  },
  {
   "cell_type": "code",
   "execution_count": 1,
   "id": "05defbbd",
   "metadata": {
    "ExecuteTime": {
     "end_time": "2023-07-12T14:00:38.512494Z",
     "start_time": "2023-07-12T14:00:36.379681Z"
    }
   },
   "outputs": [
    {
     "name": "stdout",
     "output_type": "stream",
     "text": [
      "Nasdaq Traded                                                    True\n",
      "Security Name       International Business Machines Corporation Co...\n",
      "Listing Exchange                                                    N\n",
      "Market Category                                                      \n",
      "ETF                                                             False\n",
      "Round Lot Size                                                  100.0\n",
      "Test Issue                                                      False\n",
      "Financial Status                                                  NaN\n",
      "CQS Symbol                                                        IBM\n",
      "NASDAQ Symbol                                                     IBM\n",
      "NextShares                                                      False\n",
      "Name: IBM, dtype: object\n"
     ]
    }
   ],
   "source": [
    "from pandas_datareader.nasdaq_trader import get_nasdaq_symbols\n",
    "symbols = get_nasdaq_symbols()\n",
    "print(symbols.loc['IBM'])"
   ]
  },
  {
   "cell_type": "code",
   "execution_count": 2,
   "id": "22318f5f",
   "metadata": {
    "ExecuteTime": {
     "end_time": "2023-07-12T14:00:39.239276Z",
     "start_time": "2023-07-12T14:00:38.543240Z"
    }
   },
   "outputs": [],
   "source": [
    "import pandas_datareader.data as web\n",
    "industrial_production = web.DataReader(\n",
    "    'IPGMFN', 'fred', '1988', '2017-12').squeeze().dropna()\n",
    "nasdaq = web.DataReader('NASDAQCOM', 'fred', '1990',\n",
    "                        '2017-12-31').squeeze().dropna()"
   ]
  },
  {
   "cell_type": "code",
   "execution_count": 3,
   "id": "c0c0bd53",
   "metadata": {
    "ExecuteTime": {
     "end_time": "2023-07-12T14:00:39.281517Z",
     "start_time": "2023-07-12T14:00:39.270926Z"
    }
   },
   "outputs": [
    {
     "data": {
      "text/plain": [
       "DATE\n",
       "1990-01-02     459.33\n",
       "1990-01-03     460.90\n",
       "1990-01-04     459.39\n",
       "1990-01-05     458.22\n",
       "1990-01-08     458.71\n",
       "               ...   \n",
       "2017-12-22    6959.96\n",
       "2017-12-26    6936.25\n",
       "2017-12-27    6939.34\n",
       "2017-12-28    6950.16\n",
       "2017-12-29    6903.39\n",
       "Name: NASDAQCOM, Length: 7056, dtype: float64"
      ]
     },
     "execution_count": 3,
     "metadata": {},
     "output_type": "execute_result"
    }
   ],
   "source": [
    "nasdaq"
   ]
  },
  {
   "cell_type": "markdown",
   "id": "eeec9b98",
   "metadata": {},
   "source": [
    "# Stooq\n",
    "<hr style = \"border:2px solid black\" ></hr>"
   ]
  },
  {
   "cell_type": "markdown",
   "id": "183327bc",
   "metadata": {},
   "source": [
    "# MOEX\n",
    "<hr style = \"border:2px solid black\" ></hr>"
   ]
  },
  {
   "cell_type": "markdown",
   "id": "964c5dac",
   "metadata": {},
   "source": [
    "# Naver\n",
    "<hr style = \"border:2px solid black\" ></hr>"
   ]
  },
  {
   "cell_type": "markdown",
   "id": "608fec19",
   "metadata": {},
   "source": [
    "# Yahoo\n",
    "<hr style = \"border:2px solid black\" ></hr>"
   ]
  },
  {
   "cell_type": "code",
   "execution_count": null,
   "id": "14555538",
   "metadata": {},
   "outputs": [],
   "source": []
  },
  {
   "cell_type": "markdown",
   "id": "47a32b66",
   "metadata": {},
   "source": [
    "# References\n",
    "<hr style = \"border:2px solid black\" ></hr>"
   ]
  },
  {
   "cell_type": "markdown",
   "id": "a7e6fbf3",
   "metadata": {
    "ExecuteTime": {
     "end_time": "2023-07-12T13:53:15.806064Z",
     "start_time": "2023-07-12T13:53:15.802045Z"
    }
   },
   "source": [
    "<div class=\"alert alert-warning\">\n",
    "<font color=black>\n",
    "\n",
    "- [How to use `pandas_datareader`](https://pandas-datareader.readthedocs.io/en/latest/remote_data.html)\n",
    "\n",
    "</font>\n",
    "</div>"
   ]
  },
  {
   "cell_type": "code",
   "execution_count": null,
   "id": "58ec9e6d",
   "metadata": {},
   "outputs": [],
   "source": []
  }
 ],
 "metadata": {
  "kernelspec": {
   "display_name": "ML4T",
   "language": "python",
   "name": "ml4t"
  },
  "language_info": {
   "codemirror_mode": {
    "name": "ipython",
    "version": 3
   },
   "file_extension": ".py",
   "mimetype": "text/x-python",
   "name": "python",
   "nbconvert_exporter": "python",
   "pygments_lexer": "ipython3",
   "version": "3.10.4"
  },
  "toc": {
   "base_numbering": 1,
   "nav_menu": {},
   "number_sections": true,
   "sideBar": true,
   "skip_h1_title": false,
   "title_cell": "Table of Contents",
   "title_sidebar": "Contents",
   "toc_cell": false,
   "toc_position": {
    "height": "calc(100% - 180px)",
    "left": "10px",
    "top": "150px",
    "width": "178.35px"
   },
   "toc_section_display": true,
   "toc_window_display": true
  },
  "varInspector": {
   "cols": {
    "lenName": 16,
    "lenType": 16,
    "lenVar": 40
   },
   "kernels_config": {
    "python": {
     "delete_cmd_postfix": "",
     "delete_cmd_prefix": "del ",
     "library": "var_list.py",
     "varRefreshCmd": "print(var_dic_list())"
    },
    "r": {
     "delete_cmd_postfix": ") ",
     "delete_cmd_prefix": "rm(",
     "library": "var_list.r",
     "varRefreshCmd": "cat(var_dic_list()) "
    }
   },
   "types_to_exclude": [
    "module",
    "function",
    "builtin_function_or_method",
    "instance",
    "_Feature"
   ],
   "window_display": false
  }
 },
 "nbformat": 4,
 "nbformat_minor": 5
}
