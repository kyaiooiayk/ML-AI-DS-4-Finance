{
 "cells": [
  {
   "cell_type": "markdown",
   "metadata": {
    "id": "7vtqCZnN5-Sz"
   },
   "source": [
    "# The Guidance to Optimization with Python\n",
    "\n",
    "In this notebook, we show the usage of a few optimization packages.  \n",
    "\n",
    "There are some packages we should get familiar with first: ``numpy``, ``scipy``, ``pandas`` are the daily packages. There are also many highly-integrated packages like ``scikit`` related packages; see [Scikits](http://scikits.appspot.com/scikits).  Although the implementations are not necessary the fastest or the best, but it suffices for many tasks already."
   ]
  },
  {
   "cell_type": "code",
   "execution_count": null,
   "metadata": {
    "id": "lV45_qN26Uao"
   },
   "outputs": [],
   "source": [
    "! pip install -q numpy scipy pandas scikit-image scikit-learn cvxpy cvxopt"
   ]
  },
  {
   "cell_type": "markdown",
   "metadata": {
    "id": "FrNXmZ3v7k-s"
   },
   "source": [
    "# Unconstrained optimization Part I (``scipy``)\n",
    "In unconstrained optimization, the ``scipy`` package provides an interface of minimization to many solvers. The solvers are mostly deterministic, which are useful for well defined functions and smooth functions. \n",
    "\n",
    "In general, the second order based method are converging faster than the first order methods, ``BFGS``, ``L-BFGS-B``, ``Newton-CG`` are superlinear in practice. "
   ]
  },
  {
   "cell_type": "code",
   "execution_count": null,
   "metadata": {
    "id": "XuF0xuyz8EOd"
   },
   "outputs": [],
   "source": [
    "import numpy as np\n",
    "import matplotlib.pyplot as plt\n",
    "from scipy.optimize import minimize"
   ]
  },
  {
   "cell_type": "code",
   "execution_count": null,
   "metadata": {
    "colab": {
     "base_uri": "https://localhost:8080/",
     "height": 53
    },
    "id": "jJnA_SDJ8NWS",
    "outputId": "8b199c9b-a605-482e-b70a-36ba597ab88a"
   },
   "outputs": [
    {
     "name": "stdout",
     "output_type": "stream",
     "text": [
      "Iteration: 67,\n",
      "Solution: [1. 1. 1. 1. 1. 1. 1. 1. 1. 1.]\n"
     ]
    }
   ],
   "source": [
    "# The minimize function is usually called in the following way:\n",
    "# scipy.optimize.minimize(fun, x0, args=(), method=None, jac=None, hess=None, tol=None)\n",
    "\n",
    "# There are some other options as well.\n",
    "#\n",
    "#\n",
    "#\n",
    "# In this example, we minimize the 10 dimensional Rosenbrock function for an example.\n",
    "# The function has been implemented in scipy.optimize already. \n",
    "\n",
    "# We use the BFGS for an example.\n",
    "from scipy.optimize import rosen, rosen_der, rosen_hess\n",
    "\n",
    "x0 = np.random.random([1,10])\n",
    "res = minimize(rosen, x0, method='BFGS', jac=rosen_der, tol=1e-6)\n",
    "print(\"Iteration: {it},\\nSolution: {x0}\".format(it=res.nit, x0=res.x))"
   ]
  },
  {
   "cell_type": "code",
   "execution_count": null,
   "metadata": {
    "colab": {
     "base_uri": "https://localhost:8080/",
     "height": 71
    },
    "id": "-_w8LNvy980r",
    "outputId": "537ea50d-f4c5-4137-8566-9207449e80cb"
   },
   "outputs": [
    {
     "name": "stdout",
     "output_type": "stream",
     "text": [
      "Iteration: 56,\n",
      "Solution: [1.00000531 1.00000691 1.00000775 1.0000089  1.00000865 1.00000529\n",
      " 0.99999955 0.99999534 0.99998899 0.99998071]\n"
     ]
    }
   ],
   "source": [
    "# Here we try the L-BFGS-B method instead.\n",
    "res = minimize(rosen, x0, method='L-BFGS-B', jac=rosen_der, tol=1e-6)\n",
    "print(\"Iteration: {it},\\nSolution: {x0}\".format(it=res.nit, x0=res.x))"
   ]
  },
  {
   "cell_type": "code",
   "execution_count": null,
   "metadata": {
    "colab": {
     "base_uri": "https://localhost:8080/",
     "height": 53
    },
    "id": "Q4KIWB2u9-o7",
    "outputId": "f74a0452-e7a8-4a36-f82e-432ab4deb2b4"
   },
   "outputs": [
    {
     "name": "stdout",
     "output_type": "stream",
     "text": [
      "Iteration: 42,\n",
      "Solution: [1. 1. 1. 1. 1. 1. 1. 1. 1. 1.]\n"
     ]
    }
   ],
   "source": [
    "# Here we try the Newton's method instea with Hessian supplied.\n",
    "res = minimize(rosen, x0, method='Newton-CG', jac=rosen_der, hess=rosen_hess, tol=1e-6)\n",
    "print(\"Iteration: {it},\\nSolution: {x0}\".format(it=res.nit, x0=res.x))"
   ]
  },
  {
   "cell_type": "markdown",
   "metadata": {
    "id": "WKfiYHlRAEyd"
   },
   "source": [
    "# Unconstrained optimization Part II (``scipy``) \n",
    "For the functions without gradients supplied, the global search algorithms are more favorable even though the theory is not complete. \n",
    "\n",
    "In ``scipy``, the ``de`` function is implemented in ``scipy.optimize.differential_evolution``.  The method is fast compared to many other implementations. "
   ]
  },
  {
   "cell_type": "code",
   "execution_count": null,
   "metadata": {
    "colab": {
     "base_uri": "https://localhost:8080/",
     "height": 35
    },
    "id": "RiGKCuxjBwr0",
    "outputId": "b4b3d972-3ac9-4f31-e517-3f322dc08f0c"
   },
   "outputs": [
    {
     "name": "stdout",
     "output_type": "stream",
     "text": [
      "[1. 1. 1. 1. 1. 1. 1. 1. 1. 1.] 4.425205720322333e-24\n"
     ]
    }
   ],
   "source": [
    "# Signature is func, bounds, args=(), strategy='best1bin', maxiter=1000, \n",
    "# popsize=15, tol=0.01, mutation=(0.5, 1), recombination=0.7, seed=None, \n",
    "# callback=None, disp=False, polish=True, init='latinhypercube', atol=0, \n",
    "# updating='immediate', workers=1)\n",
    "#\n",
    "# In this example, we use de to minimize the Rosenbrock function on a 10-dimensional space.\n",
    "from scipy.optimize import rosen, differential_evolution\n",
    "bounds = [(0,2)] * 10\n",
    "result = differential_evolution(rosen, bounds)\n",
    "print(result.x, result.fun)"
   ]
  },
  {
   "cell_type": "markdown",
   "metadata": {
    "id": "79Jq8LfZ_od1"
   },
   "source": [
    "# Constrained optimization Part I\n",
    "For the constrained optimization, there are many more problem to deal with. \n",
    "\n",
    "The first problem to solve is the linear programming problem. "
   ]
  },
  {
   "cell_type": "markdown",
   "metadata": {
    "id": "yDoPsQd3DEn3"
   },
   "source": [
    "## Linear programming (Scipy)\n",
    "\n",
    "In ``scipy``,  the linear programming is implemented in ``linprog`` module. There are two methods: ``simplex`` and ``interior-point``.  The ``simplex`` method is more like a brute-force search algorithm, it has high complexity, therefore not suitable for high dimensional problem. The ``interior-point`` method is makeing the problem into primal-dual formulation and place a ``log`` barrier for the inequality constraints. "
   ]
  },
  {
   "cell_type": "code",
   "execution_count": null,
   "metadata": {
    "id": "L9IA9E7KFtAB"
   },
   "outputs": [],
   "source": [
    "from scipy.optimize import linprog\n",
    "from time import time"
   ]
  },
  {
   "cell_type": "code",
   "execution_count": null,
   "metadata": {
    "colab": {
     "base_uri": "https://localhost:8080/",
     "height": 71
    },
    "id": "xeq2RFab_wAV",
    "outputId": "0d0d1fec-1a92-45a2-b1e5-709a0884702b"
   },
   "outputs": [
    {
     "name": "stdout",
     "output_type": "stream",
     "text": [
      "Optimization terminated successfully.\n",
      "         Current function value: -22.000000  \n",
      "         Iterations: 5\n"
     ]
    }
   ],
   "source": [
    "# Suppose the following LP problem:\n",
    "#\n",
    "# f = -1x[0] + 4x[1]\n",
    "# \n",
    "# -3x[0] + 1x[1] <= 6\n",
    "#  1x[0] + 2x[1] <= 4\n",
    "#          x[1] >= -3\n",
    "#  -inf <= x[0] <= inf\n",
    "\n",
    "c = [-1, 4]\n",
    "A = [[-3, 1], [1, 2]]\n",
    "b = [6, 4]\n",
    "\n",
    "x0_bounds = (None, None)\n",
    "x1_bounds = (-3, None)\n",
    "\n",
    "# The default method is the ``simplex``. It is working good for low dimensional problem.\n",
    "#\n",
    "# Constraint is A x <= b\n",
    "\n",
    "\n",
    "res = linprog(c, A_ub=A, b_ub=b, bounds=(x0_bounds, x1_bounds),\n",
    "               options={\"disp\": True})"
   ]
  },
  {
   "cell_type": "code",
   "execution_count": null,
   "metadata": {
    "colab": {
     "base_uri": "https://localhost:8080/",
     "height": 89
    },
    "id": "znxsYY_mFuRo",
    "outputId": "e483aacb-d401-4b52-9f2f-94703063886d"
   },
   "outputs": [
    {
     "name": "stdout",
     "output_type": "stream",
     "text": [
      "Optimization terminated successfully.\n",
      "         Current function value: -40.000000  \n",
      "         Iterations: 78\n",
      "elapsed time is 0.09037947654724121 seconds\n"
     ]
    }
   ],
   "source": [
    "# If we try a random objective function with slightly higher dimension n =40\n",
    "\n",
    "n = 40\n",
    "m = 3\n",
    "\n",
    "c = np.ones(n)\n",
    "A = np.random.random([m, n])\n",
    "b = -np.ones(m)\n",
    "\n",
    "bounds=np.array([[ -1, 1] ] * n)\n",
    "\n",
    "\n",
    "start = time()\n",
    "\n",
    "res = linprog(c, A_ub=A, b_ub=b, bounds=bounds,\n",
    "               options={\"disp\": True})\n",
    "\n",
    "end = time()\n",
    "print('elapsed time is', end-start, 'seconds')\n"
   ]
  },
  {
   "cell_type": "code",
   "execution_count": null,
   "metadata": {
    "colab": {
     "base_uri": "https://localhost:8080/",
     "height": 233
    },
    "id": "NUaKFpoPGYjo",
    "outputId": "ed2521e6-119f-496f-c25f-46e3540fc024"
   },
   "outputs": [
    {
     "name": "stdout",
     "output_type": "stream",
     "text": [
      "Primal Feasibility  Dual Feasibility    Duality Gap         Step             Path Parameter      Objective          \n",
      "1.0                 1.0                 1.0                 -                1.0                 0.0                 \n",
      "0.3326879955783     0.3326879955783     0.3326879955783     0.6736227304404  0.3326879955783     -6.174349455581     \n",
      "0.1810551848104     0.1810551848102     0.1810551848102     0.4873028582377  0.1810551848102     -25.53634914198     \n",
      "0.01479751043742    0.01479751043742    0.01479751043742    0.9224988211817  0.01479751043742    -38.60708659886     \n",
      "7.900641175655e-06  7.900641179457e-06  7.900641179461e-06  0.9994730478379  7.900641179458e-06  -39.99950198698     \n",
      "3.950422213571e-10  3.950330935312e-10  3.950330935322e-10  0.9999499998691  3.950330935315e-10  -39.9999999751      \n",
      "1.796318324455e-14  1.975172724027e-14  1.97516546769e-14   0.99995          1.975165467688e-14  -40.0               \n",
      "Optimization terminated successfully.\n",
      "         Current function value: -40.000000  \n",
      "         Iterations: 6\n",
      "elapsed time is 0.027437210083007812 seconds\n"
     ]
    }
   ],
   "source": [
    "# Using the interior method is faster than the simplex method.\n",
    "start = time()\n",
    "res = linprog(c, A_ub=A, b_ub=b, bounds=bounds, method='interior-point',options={\"disp\": True})\n",
    "\n",
    "end = time()\n",
    "print('elapsed time is', end-start, 'seconds')"
   ]
  },
  {
   "cell_type": "markdown",
   "metadata": {
    "id": "1kXit8tALND3"
   },
   "source": [
    "## Linear programming (CVXPY)\n",
    "``cvxpy`` is another package for optimization (convex optimization).  See its homepage [cvxpy](https://www.cvxpy.org/). \n",
    "\n",
    "There are a few examples of its usages at https://www.cvxpy.org/examples/index.html .\n",
    "\n",
    "For linear programming,  see https://www.cvxpy.org/examples/basic/linear_program.html .  \n",
    "\n",
    "The solution is solved through ``SQP`` method. "
   ]
  },
  {
   "cell_type": "code",
   "execution_count": null,
   "metadata": {
    "id": "HfPElDPuLVN1"
   },
   "outputs": [],
   "source": [
    "import cvxpy as cp # this package is preinstalled on colab.\n",
    "import numpy as np"
   ]
  },
  {
   "cell_type": "code",
   "execution_count": null,
   "metadata": {
    "colab": {
     "base_uri": "https://localhost:8080/",
     "height": 791
    },
    "id": "EjjQY7gPMHLs",
    "outputId": "38b935f6-39f7-4688-f81a-c526e0caa523"
   },
   "outputs": [
    {
     "name": "stdout",
     "output_type": "stream",
     "text": [
      "-----------------------------------------------------------------\n",
      "           OSQP v0.5.0  -  Operator Splitting QP Solver\n",
      "              (c) Bartolomeo Stellato,  Goran Banjac\n",
      "        University of Oxford  -  Stanford University 2018\n",
      "-----------------------------------------------------------------\n",
      "problem:  variables n = 40, constraints m = 83\n",
      "          nnz(P) + nnz(A) = 200\n",
      "settings: linear system solver = qdldl,\n",
      "          eps_abs = 1.0e-03, eps_rel = 1.0e-03,\n",
      "          eps_prim_inf = 1.0e-04, eps_dual_inf = 1.0e-04,\n",
      "          rho = 1.00e-01 (adaptive),\n",
      "          sigma = 1.00e-06, alpha = 1.60, max_iter = 4000\n",
      "          check_termination: on (interval 25),\n",
      "          scaling: on, scaled_termination: off\n",
      "          warm start: on, polish: on\n",
      "\n",
      "iter   objective    pri res    dua res    rho        time\n",
      "   1  -3.9352e+01   4.99e+00   1.18e+00   1.00e-01   6.07e-04s\n",
      " 200  -3.2366e+01   2.91e-01   1.18e-01   1.00e-01   1.92e-03s\n",
      " 400  -4.7645e+01   2.91e-01   3.82e-02   1.54e-02   4.32e-04s\n",
      " 600  -4.2511e+01   9.56e-02   5.11e-03   1.54e-02   2.56e-03s\n",
      " 800  -3.7943e+01   7.83e-02   2.31e-03   1.65e-03   3.17e-04s\n",
      "1000  -3.8659e+01   5.11e-02   2.14e-03   3.61e-02   2.40e-04s\n",
      "1200  -4.0257e+01   9.80e-03   2.69e-03   6.25e-03   2.40e-04s\n",
      "1250  -4.0579e+01   2.21e-02   1.65e-03   6.25e-03   1.18e-03s\n",
      "plsh  -4.0000e+01   0.00e+00   0.00e+00   --------   2.38e-03s\n",
      "\n",
      "status:               solved\n",
      "solution polish:      successful\n",
      "number of iterations: 1250\n",
      "optimal objective:    -40.0000\n",
      "run time:             2.38e-03s\n",
      "optimal rho estimate: 4.67e-03\n",
      "\n",
      "elapsed time is 0.04540586471557617 seconds\n",
      "\n",
      "The optimal value is -40.0\n",
      "A solution x is\n",
      "[-1. -1. -1. -1. -1. -1. -1. -1. -1. -1. -1. -1. -1. -1. -1. -1. -1. -1.\n",
      " -1. -1. -1. -1. -1. -1. -1. -1. -1. -1. -1. -1. -1. -1. -1. -1. -1. -1.\n",
      " -1. -1. -1. -1.]\n",
      "A dual solution is\n",
      "[0. 0. 0.]\n"
     ]
    }
   ],
   "source": [
    "# Define and solve the CVXPY problem.\n",
    "x = cp.Variable(n)\n",
    "prob = cp.Problem(cp.Minimize(c.T@x),\n",
    "                 [A@x <= b, \n",
    "                  x<= 1,\n",
    "                  x>= -1])\n",
    "start = time()\n",
    "prob.solve(verbose=True)\n",
    "end = time()\n",
    "print('elapsed time is', end-start, 'seconds')\n",
    "\n",
    "# Print result.\n",
    "print(\"\\nThe optimal value is\", prob.value)\n",
    "print(\"A solution x is\")\n",
    "print(x.value)\n",
    "print(\"A dual solution is\")\n",
    "print(prob.constraints[0].dual_value)"
   ]
  },
  {
   "cell_type": "markdown",
   "metadata": {
    "id": "hSRc7HIUSkkx"
   },
   "source": [
    "## Linear constrained problem: L1 minimization\n",
    "\n",
    "The L1 minimization is mostly compared with the least square problems. The L1 minimization usually is referred as compressive sensing, which makes assumption that the information is sparse by some encoding and minimize on the encoded space. \n",
    "\n",
    "For example, the acoustic signals and images are sparse in either frequency or under discrete cosine transform. \n",
    "\n",
    "The following L1 minimization is equivalent to linear programming. \n",
    "\n",
    "$$\\text{minimize } \\|x\\|_{L^1}\\quad \\text{subject to } Ax = b$$\n",
    "\n",
    "By setting $x^{+} = \\max(x, 0)$ and $x^{-} = -\\min(x, 0)$, one can reformulate the problem by\n",
    "\n",
    "$$\\text{minimize } \\mathbf{1}^T x^{+} + \\mathbf{1}^T x^{-} \\quad \\text{subject to } A(x^{+} - x^{-}) = b,\\; x^{+}\\ge 0,\\; x^{-}\\ge 0$$\n",
    "\n",
    "This problem is relevant to a lot of applications in the compressive sensing. The matrix $A$ is sensing matrix, usually it is certain kind of projection or sampling. "
   ]
  },
  {
   "cell_type": "code",
   "execution_count": null,
   "metadata": {
    "colab": {
     "base_uri": "https://localhost:8080/",
     "height": 251
    },
    "id": "e6h_KD8XgeE2",
    "outputId": "cef5f035-1801-4b40-ef9b-5bae8f0c29f4"
   },
   "outputs": [
    {
     "name": "stdout",
     "output_type": "stream",
     "text": [
      "Primal Feasibility  Dual Feasibility    Duality Gap         Step             Path Parameter      Objective          \n",
      "1.0                 0.0                 1.0                 -                1.0                 1000.0              \n",
      "0.05919137495623    3.20044775246e-15   0.05919137495623    0.9410467453066  0.05919137495623    60.16012938824      \n",
      "0.02843310991009    4.64837533253e-15   0.02843310991009    0.5318663681265  0.02843310991009    35.81496945828      \n",
      "0.01330400448831    4.888366496139e-15  0.01330400448829    0.566957179909   0.01330400448829    22.35504502005      \n",
      "0.004806982060533   4.799626725053e-15  0.004806982060542   0.6633595758056  0.004806982060541   14.64254640831      \n",
      "0.002630537653162   4.805480992089e-15  0.002630537653141   0.4762917141441  0.002630537653141   12.59642499648      \n",
      "0.0004589044044693  5.927913309651e-15  0.0004589044044761  0.8686574957142  0.0004589044044762  10.43442102598      \n",
      "8.809277384954e-07  6.41353445587e-15   8.809277385471e-07  0.9981952233141  8.809277385477e-07  10.00087171098      \n",
      "4.405567720815e-11  6.432403501188e-15  4.405578976333e-11  0.9999499893406  4.405578589958e-11  10.00000004359      \n",
      "Optimization terminated successfully.\n",
      "         Current function value: 10.000000   \n",
      "         Iterations: 8\n"
     ]
    }
   ],
   "source": [
    "# We choose a random matrix from randn as our A matrix and see if it can recover the sparse information in the x. \n",
    "\n",
    "n = 500\n",
    "\n",
    "# generate an array with 10 nonzeros.\n",
    "x = np.zeros(n)\n",
    "x[np.random.choice(n, 10)] = 1\n",
    "\n",
    "# get the sample output with 10% data\n",
    "A = np.random.randn(50, 500)\n",
    "b = A@x\n",
    "\n",
    "# recover x using L1 minimization, we use the scipy's linprog method to find the solution.\n",
    "c = np.ones(2 * n)\n",
    "A1 = np.block([A, -A])\n",
    "bounds = [[0, None]] * (2 * n)\n",
    "\n",
    "start = time()\n",
    "res = linprog(c, A_eq=A1, b_eq=b, bounds=bounds, method='interior-point',options={\"disp\": True})\n",
    "end = time()\n",
    "\n",
    "# recover the result by subtraction\n",
    "x_rec = res.x[:n] - res.x[n:]"
   ]
  },
  {
   "cell_type": "code",
   "execution_count": null,
   "metadata": {
    "colab": {
     "base_uri": "https://localhost:8080/",
     "height": 294
    },
    "id": "0kUOIG8rjLWT",
    "outputId": "b14d83d8-7f04-4067-f0aa-c277fd2490b3"
   },
   "outputs": [
    {
     "data": {
      "text/plain": [
       "[<matplotlib.lines.Line2D at 0x7f42c148bf60>]"
      ]
     },
     "execution_count": 46,
     "metadata": {
      "tags": []
     },
     "output_type": "execute_result"
    },
    {
     "data": {
      "image/png": "[encoded data removed]",
      "text/plain": [
       "<Figure size 432x288 with 1 Axes>"
      ]
     },
     "metadata": {
      "tags": []
     },
     "output_type": "display_data"
    }
   ],
   "source": [
    "# show the error of reconstruction.\n",
    "plt.plot(x-x_rec)"
   ]
  },
  {
   "cell_type": "markdown",
   "metadata": {
    "id": "HEjbST2hdKnM"
   },
   "source": [
    "## Regularization problem: Support Vector Machine (L1 regularization)"
   ]
  },
  {
   "cell_type": "code",
   "execution_count": null,
   "metadata": {
    "id": "WLPfHqULjSWt"
   },
   "outputs": [],
   "source": []
  },
  {
   "cell_type": "code",
   "execution_count": null,
   "metadata": {
    "id": "s5I8f6cWd4-b"
   },
   "outputs": [],
   "source": []
  },
  {
   "cell_type": "markdown",
   "metadata": {
    "id": "jcdmOA3HdRuO"
   },
   "source": [
    "## Regularization problem: Ridge Regression (L2 regularization)"
   ]
  },
  {
   "cell_type": "code",
   "execution_count": null,
   "metadata": {
    "id": "yyHEOsSKZ6ot"
   },
   "outputs": [],
   "source": []
  },
  {
   "cell_type": "code",
   "execution_count": null,
   "metadata": {
    "id": "E-5pRNybioQw"
   },
   "outputs": [],
   "source": []
  },
  {
   "cell_type": "code",
   "execution_count": null,
   "metadata": {
    "id": "2c15qOKuiiNu"
   },
   "outputs": [],
   "source": []
  },
  {
   "cell_type": "markdown",
   "metadata": {
    "id": "0E06tD-qiixi"
   },
   "source": [
    "# Decision Tree"
   ]
  },
  {
   "cell_type": "code",
   "execution_count": null,
   "metadata": {
    "colab": {
     "base_uri": "https://localhost:8080/",
     "height": 159
    },
    "id": "nvpd_tTZinCG",
    "outputId": "660f77b3-613c-426f-920a-3d62e385e2aa"
   },
   "outputs": [
    {
     "name": "stdout",
     "output_type": "stream",
     "text": [
      "|--- petal width (cm) <= 0.80\n",
      "|   |--- class: 0\n",
      "|--- petal width (cm) >  0.80\n",
      "|   |--- petal width (cm) <= 1.75\n",
      "|   |   |--- class: 1\n",
      "|   |--- petal width (cm) >  1.75\n",
      "|   |   |--- class: 2\n",
      "\n"
     ]
    }
   ],
   "source": [
    "from sklearn.datasets import load_iris\n",
    "from sklearn.tree import DecisionTreeClassifier\n",
    "from sklearn.tree.export import export_text\n",
    "iris = load_iris()\n",
    "X = iris['data']\n",
    "y = iris['target']\n",
    "decision_tree = DecisionTreeClassifier(random_state=0, max_depth=2)\n",
    "decision_tree = decision_tree.fit(X, y)\n",
    "r = export_text(decision_tree, feature_names=iris['feature_names'])\n",
    "print(r)"
   ]
  },
  {
   "cell_type": "code",
   "execution_count": null,
   "metadata": {
    "id": "Iu23rFlljIew"
   },
   "outputs": [],
   "source": []
  }
 ],
 "metadata": {
  "colab": {
   "collapsed_sections": [],
   "provenance": [],
   "toc_visible": true
  },
  "kernelspec": {
   "display_name": "Python 3 (ipykernel)",
   "language": "python",
   "name": "python3"
  },
  "language_info": {
   "codemirror_mode": {
    "name": "ipython",
    "version": 3
   },
   "file_extension": ".py",
   "mimetype": "text/x-python",
   "name": "python",
   "nbconvert_exporter": "python",
   "pygments_lexer": "ipython3",
   "version": "3.9.7"
  },
  "toc": {
   "base_numbering": 1,
   "nav_menu": {},
   "number_sections": true,
   "sideBar": true,
   "skip_h1_title": false,
   "title_cell": "Table of Contents",
   "title_sidebar": "Contents",
   "toc_cell": false,
   "toc_position": {},
   "toc_section_display": true,
   "toc_window_display": false
  },
  "varInspector": {
   "cols": {
    "lenName": 16,
    "lenType": 16,
    "lenVar": 40
   },
   "kernels_config": {
    "python": {
     "delete_cmd_postfix": "",
     "delete_cmd_prefix": "del ",
     "library": "var_list.py",
     "varRefreshCmd": "print(var_dic_list())"
    },
    "r": {
     "delete_cmd_postfix": ") ",
     "delete_cmd_prefix": "rm(",
     "library": "var_list.r",
     "varRefreshCmd": "cat(var_dic_list()) "
    }
   },
   "types_to_exclude": [
    "module",
    "function",
    "builtin_function_or_method",
    "instance",
    "_Feature"
   ],
   "window_display": false
  }
 },
 "nbformat": 4,
 "nbformat_minor": 1
}
