{
 "cells": [
  {
   "cell_type": "markdown",
   "metadata": {},
   "source": [
    "# Introduction\n",
    "<hr style = \"border:2px solid black\" ></hr>"
   ]
  },
  {
   "cell_type": "markdown",
   "metadata": {},
   "source": [
    "\n",
    "**What?** Estimating volatility with classical vs. ML methods\n",
    "\n",
""   ]
  },
  {
   "cell_type": "markdown",
   "metadata": {},
   "source": [
    "# Imports\n",
    "<hr style = \"border:2px solid black\" ></hr>"
   ]
  },
  {
   "cell_type": "code",
   "execution_count": 1,
   "metadata": {
    "ExecuteTime": {
     "end_time": "2022-09-11T14:14:55.728171Z",
     "start_time": "2022-09-11T14:14:52.134270Z"
    }
   },
   "outputs": [
    {
     "name": "stderr",
     "output_type": "stream",
     "text": [
      "OMP: Info #273: omp_set_nested routine deprecated, please use omp_set_max_active_levels instead.\n"
     ]
    }
   ],
   "source": [
    "import numpy as np\n",
    "from scipy.stats import norm\n",
    "import scipy.optimize as opt\n",
    "import yfinance as yf\n",
    "import pandas as pd\n",
    "import datetime\n",
    "import time\n",
    "from arch import arch_model\n",
    "import matplotlib.pyplot as plt\n",
    "from numba import jit\n",
    "from sklearn.metrics import mean_squared_error as mse\n",
    "import warnings\n",
    "\n",
    "import quantecon as qe\n",
    "from quantecon import MarkovChain\n",
    "import networkx as nx\n",
    "from pprint import pprint \n",
    "\n",
    "import pyflux as pf\n",
    "from scipy.stats import kurtosis\n",
    "\n",
    "warnings.filterwarnings('ignore')\n",
    "plt.rcParams['figure.dpi'] = 300\n",
    "plt.rcParams['savefig.dpi'] = 300"
   ]
  },
  {
   "cell_type": "markdown",
   "metadata": {},
   "source": [
    "# Volatility\n",
    "<hr style = \"border:2px solid black\" ></hr>"
   ]
  },
  {
   "cell_type": "markdown",
   "metadata": {},
   "source": [
    "\n",
    "- **Markowitz** proposed his celebra‐ ted portfolio theory in which he defined volatility as standard deviation so that from then onward, finance became more intertwined with mathematics.\n",
    "\n",
    "- Modeling volatility amounts to modeling uncertainty so that we better understand and approach uncertainty, enabling us to have good enough approximations of the real world. \n",
    "    \n",
    "- To gauge the extent to which proposed models account for the real-world situation, we need to calculate the **return volatility**, which is also known as **realised volatility**.\n",
    "\n",
""   ]
  },
  {
   "cell_type": "markdown",
   "metadata": {},
   "source": [
    "# Imports data\n",
    "<hr style = \"border:2px solid black\" ></hr>"
   ]
  },
  {
   "cell_type": "code",
   "execution_count": 2,
   "metadata": {
    "ExecuteTime": {
     "end_time": "2022-09-11T14:14:56.012790Z",
     "start_time": "2022-09-11T14:14:55.730331Z"
    }
   },
   "outputs": [
    {
     "name": "stdout",
     "output_type": "stream",
     "text": [
      "[*********************100%***********************]  1 of 1 completed\n"
     ]
    }
   ],
   "source": [
    "stocks = '^GSPC'\n",
    "start = datetime.datetime(2010, 1, 1)\n",
    "end = datetime.datetime(2021, 8, 1)\n",
    "s_p500 = yf.download(stocks, start=start, end = end, interval='1d')"
   ]
  },
  {
   "cell_type": "code",
   "execution_count": 3,
   "metadata": {
    "ExecuteTime": {
     "end_time": "2022-09-11T14:14:56.039419Z",
     "start_time": "2022-09-11T14:14:56.016145Z"
    }
   },
   "outputs": [
    {
     "data": {
      "text/html": [
       "<style scoped>\n",
       "    .dataframe tbody tr th:only-of-type {\n",
       "        vertical-align: middle;\n",
       "    }\n",
       "\n",
       "    .dataframe tbody tr th {\n",
       "        vertical-align: top;\n",
       "    }\n",
       "\n",
       "    .dataframe thead th {\n",
       "        text-align: right;\n",
       "    }\n",
       "</style>\n",
       "<table border=\"1\" class=\"dataframe\">\n",
       "  <thead>\n",
       "    <tr style=\"text-align: right;\">\n",
       "      <th></th>\n",
       "      <th>Open</th>\n",
       "      <th>High</th>\n",
       "      <th>Low</th>\n",
       "      <th>Close</th>\n",
       "      <th>Adj Close</th>\n",
       "      <th>Volume</th>\n",
       "    </tr>\n",
       "    <tr>\n",
       "      <th>Date</th>\n",
       "      <th></th>\n",
       "      <th></th>\n",
       "      <th></th>\n",
       "      <th></th>\n",
       "      <th></th>\n",
       "      <th></th>\n",
       "    </tr>\n",
       "  </thead>\n",
       "  <tbody>\n",
       "    <tr>\n",
       "      <th>2010-01-04</th>\n",
       "      <td>1116.560059</td>\n",
       "      <td>1133.869995</td>\n",
       "      <td>1116.560059</td>\n",
       "      <td>1132.989990</td>\n",
       "      <td>1132.989990</td>\n",
       "      <td>3991400000</td>\n",
       "    </tr>\n",
       "    <tr>\n",
       "      <th>2010-01-05</th>\n",
       "      <td>1132.660034</td>\n",
       "      <td>1136.630005</td>\n",
       "      <td>1129.660034</td>\n",
       "      <td>1136.520020</td>\n",
       "      <td>1136.520020</td>\n",
       "      <td>2491020000</td>\n",
       "    </tr>\n",
       "    <tr>\n",
       "      <th>2010-01-06</th>\n",
       "      <td>1135.709961</td>\n",
       "      <td>1139.189941</td>\n",
       "      <td>1133.949951</td>\n",
       "      <td>1137.140015</td>\n",
       "      <td>1137.140015</td>\n",
       "      <td>4972660000</td>\n",
       "    </tr>\n",
       "    <tr>\n",
       "      <th>2010-01-07</th>\n",
       "      <td>1136.270020</td>\n",
       "      <td>1142.459961</td>\n",
       "      <td>1131.319946</td>\n",
       "      <td>1141.689941</td>\n",
       "      <td>1141.689941</td>\n",
       "      <td>5270680000</td>\n",
       "    </tr>\n",
       "    <tr>\n",
       "      <th>2010-01-08</th>\n",
       "      <td>1140.520020</td>\n",
       "      <td>1145.390015</td>\n",
       "      <td>1136.219971</td>\n",
       "      <td>1144.979980</td>\n",
       "      <td>1144.979980</td>\n",
       "      <td>4389590000</td>\n",
       "    </tr>\n",
       "    <tr>\n",
       "      <th>...</th>\n",
       "      <td>...</td>\n",
       "      <td>...</td>\n",
       "      <td>...</td>\n",
       "      <td>...</td>\n",
       "      <td>...</td>\n",
       "      <td>...</td>\n",
       "    </tr>\n",
       "    <tr>\n",
       "      <th>2021-07-26</th>\n",
       "      <td>4409.580078</td>\n",
       "      <td>4422.729980</td>\n",
       "      <td>4405.450195</td>\n",
       "      <td>4422.299805</td>\n",
       "      <td>4422.299805</td>\n",
       "      <td>2679110000</td>\n",
       "    </tr>\n",
       "    <tr>\n",
       "      <th>2021-07-27</th>\n",
       "      <td>4416.379883</td>\n",
       "      <td>4416.379883</td>\n",
       "      <td>4372.509766</td>\n",
       "      <td>4401.459961</td>\n",
       "      <td>4401.459961</td>\n",
       "      <td>3381080000</td>\n",
       "    </tr>\n",
       "    <tr>\n",
       "      <th>2021-07-28</th>\n",
       "      <td>4402.950195</td>\n",
       "      <td>4415.470215</td>\n",
       "      <td>4387.009766</td>\n",
       "      <td>4400.640137</td>\n",
       "      <td>4400.640137</td>\n",
       "      <td>3215130000</td>\n",
       "    </tr>\n",
       "    <tr>\n",
       "      <th>2021-07-29</th>\n",
       "      <td>4403.589844</td>\n",
       "      <td>4429.970215</td>\n",
       "      <td>4403.589844</td>\n",
       "      <td>4419.149902</td>\n",
       "      <td>4419.149902</td>\n",
       "      <td>2815510000</td>\n",
       "    </tr>\n",
       "    <tr>\n",
       "      <th>2021-07-30</th>\n",
       "      <td>4395.120117</td>\n",
       "      <td>4412.250000</td>\n",
       "      <td>4389.649902</td>\n",
       "      <td>4395.259766</td>\n",
       "      <td>4395.259766</td>\n",
       "      <td>2861600000</td>\n",
       "    </tr>\n",
       "  </tbody>\n",
       "</table>\n",
       "<p>2914 rows × 6 columns</p>\n",
""      ],
      "text/plain": [
       "                   Open         High          Low        Close    Adj Close  \\\n",
       "Date                                                                          \n",
       "2010-01-04  1116.560059  1133.869995  1116.560059  1132.989990  1132.989990   \n",
       "2010-01-05  1132.660034  1136.630005  1129.660034  1136.520020  1136.520020   \n",
       "2010-01-06  1135.709961  1139.189941  1133.949951  1137.140015  1137.140015   \n",
       "2010-01-07  1136.270020  1142.459961  1131.319946  1141.689941  1141.689941   \n",
       "2010-01-08  1140.520020  1145.390015  1136.219971  1144.979980  1144.979980   \n",
       "...                 ...          ...          ...          ...          ...   \n",
       "2021-07-26  4409.580078  4422.729980  4405.450195  4422.299805  4422.299805   \n",
       "2021-07-27  4416.379883  4416.379883  4372.509766  4401.459961  4401.459961   \n",
       "2021-07-28  4402.950195  4415.470215  4387.009766  4400.640137  4400.640137   \n",
       "2021-07-29  4403.589844  4429.970215  4403.589844  4419.149902  4419.149902   \n",
       "2021-07-30  4395.120117  4412.250000  4389.649902  4395.259766  4395.259766   \n",
       "\n",
       "                Volume  \n",
       "Date                    \n",
       "2010-01-04  3991400000  \n",
       "2010-01-05  2491020000  \n",
       "2010-01-06  4972660000  \n",
       "2010-01-07  5270680000  \n",
       "2010-01-08  4389590000  \n",
       "...                ...  \n",
       "2021-07-26  2679110000  \n",
       "2021-07-27  3381080000  \n",
       "2021-07-28  3215130000  \n",
       "2021-07-29  2815510000  \n",
       "2021-07-30  2861600000  \n",
       "\n",
       "[2914 rows x 6 columns]"
      ]
     },
     "execution_count": 3,
     "metadata": {},
     "output_type": "execute_result"
    }
   ],
   "source": [
    "s_p500"
   ]
  },
  {
   "cell_type": "markdown",
   "metadata": {},
   "source": [
    "# Volatility\n",
    "<hr style = \"border:2px solid black\" ></hr>"
   ]
  },
  {
   "cell_type": "code",
   "execution_count": 4,
   "metadata": {
    "ExecuteTime": {
     "end_time": "2022-09-11T14:14:56.058101Z",
     "start_time": "2022-09-11T14:14:56.041792Z"
    }
   },
   "outputs": [
    {
     "data": {
      "text/html": [
       "<style scoped>\n",
       "    .dataframe tbody tr th:only-of-type {\n",
       "        vertical-align: middle;\n",
       "    }\n",
       "\n",
       "    .dataframe tbody tr th {\n",
       "        vertical-align: top;\n",
       "    }\n",
       "\n",
       "    .dataframe thead th {\n",
       "        text-align: right;\n",
       "    }\n",
       "</style>\n",
       "<table border=\"1\" class=\"dataframe\">\n",
       "  <thead>\n",
       "    <tr style=\"text-align: right;\">\n",
       "      <th></th>\n",
       "      <th>Open</th>\n",
       "      <th>High</th>\n",
       "      <th>Low</th>\n",
       "      <th>Close</th>\n",
       "      <th>Adj Close</th>\n",
       "      <th>Volume</th>\n",
       "    </tr>\n",
       "    <tr>\n",
       "      <th>Date</th>\n",
       "      <th></th>\n",
       "      <th></th>\n",
       "      <th></th>\n",
       "      <th></th>\n",
       "      <th></th>\n",
       "      <th></th>\n",
       "    </tr>\n",
       "  </thead>\n",
       "  <tbody>\n",
       "    <tr>\n",
       "      <th>2010-01-04</th>\n",
       "      <td>NaN</td>\n",
       "      <td>NaN</td>\n",
       "      <td>NaN</td>\n",
       "      <td>NaN</td>\n",
       "      <td>NaN</td>\n",
       "      <td>NaN</td>\n",
       "    </tr>\n",
       "    <tr>\n",
       "      <th>2010-01-05</th>\n",
       "      <td>0.014419</td>\n",
       "      <td>0.002434</td>\n",
       "      <td>0.011732</td>\n",
       "      <td>0.003116</td>\n",
       "      <td>0.003116</td>\n",
       "      <td>-0.375903</td>\n",
       "    </tr>\n",
       "    <tr>\n",
       "      <th>2010-01-06</th>\n",
       "      <td>0.002693</td>\n",
       "      <td>0.002252</td>\n",
       "      <td>0.003798</td>\n",
       "      <td>0.000546</td>\n",
       "      <td>0.000546</td>\n",
       "      <td>0.996234</td>\n",
       "    </tr>\n",
       "    <tr>\n",
       "      <th>2010-01-07</th>\n",
       "      <td>0.000493</td>\n",
       "      <td>0.002870</td>\n",
       "      <td>-0.002319</td>\n",
       "      <td>0.004001</td>\n",
       "      <td>0.004001</td>\n",
       "      <td>0.059932</td>\n",
       "    </tr>\n",
       "    <tr>\n",
       "      <th>2010-01-08</th>\n",
       "      <td>0.003740</td>\n",
       "      <td>0.002565</td>\n",
       "      <td>0.004331</td>\n",
       "      <td>0.002882</td>\n",
       "      <td>0.002882</td>\n",
       "      <td>-0.167168</td>\n",
       "    </tr>\n",
       "    <tr>\n",
       "      <th>...</th>\n",
       "      <td>...</td>\n",
       "      <td>...</td>\n",
       "      <td>...</td>\n",
       "      <td>...</td>\n",
       "      <td>...</td>\n",
       "      <td>...</td>\n",
       "    </tr>\n",
       "    <tr>\n",
       "      <th>2021-07-26</th>\n",
       "      <td>0.006478</td>\n",
       "      <td>0.001710</td>\n",
       "      <td>0.005535</td>\n",
       "      <td>0.002382</td>\n",
       "      <td>0.002382</td>\n",
       "      <td>-0.232507</td>\n",
       "    </tr>\n",
       "    <tr>\n",
       "      <th>2021-07-27</th>\n",
       "      <td>0.001542</td>\n",
       "      <td>-0.001436</td>\n",
       "      <td>-0.007477</td>\n",
       "      <td>-0.004712</td>\n",
       "      <td>-0.004712</td>\n",
       "      <td>0.262016</td>\n",
       "    </tr>\n",
       "    <tr>\n",
       "      <th>2021-07-28</th>\n",
       "      <td>-0.003041</td>\n",
       "      <td>-0.000206</td>\n",
       "      <td>0.003316</td>\n",
       "      <td>-0.000186</td>\n",
       "      <td>-0.000186</td>\n",
       "      <td>-0.049082</td>\n",
       "    </tr>\n",
       "    <tr>\n",
       "      <th>2021-07-29</th>\n",
       "      <td>0.000145</td>\n",
       "      <td>0.003284</td>\n",
       "      <td>0.003779</td>\n",
       "      <td>0.004206</td>\n",
       "      <td>0.004206</td>\n",
       "      <td>-0.124294</td>\n",
       "    </tr>\n",
       "    <tr>\n",
       "      <th>2021-07-30</th>\n",
       "      <td>-0.001923</td>\n",
       "      <td>-0.004000</td>\n",
       "      <td>-0.003166</td>\n",
       "      <td>-0.005406</td>\n",
       "      <td>-0.005406</td>\n",
       "      <td>0.016370</td>\n",
       "    </tr>\n",
       "  </tbody>\n",
       "</table>\n",
       "<p>2914 rows × 6 columns</p>\n",
""      ],
      "text/plain": [
       "                Open      High       Low     Close  Adj Close    Volume\n",
       "Date                                                                   \n",
       "2010-01-04       NaN       NaN       NaN       NaN        NaN       NaN\n",
       "2010-01-05  0.014419  0.002434  0.011732  0.003116   0.003116 -0.375903\n",
       "2010-01-06  0.002693  0.002252  0.003798  0.000546   0.000546  0.996234\n",
       "2010-01-07  0.000493  0.002870 -0.002319  0.004001   0.004001  0.059932\n",
       "2010-01-08  0.003740  0.002565  0.004331  0.002882   0.002882 -0.167168\n",
       "...              ...       ...       ...       ...        ...       ...\n",
       "2021-07-26  0.006478  0.001710  0.005535  0.002382   0.002382 -0.232507\n",
       "2021-07-27  0.001542 -0.001436 -0.007477 -0.004712  -0.004712  0.262016\n",
       "2021-07-28 -0.003041 -0.000206  0.003316 -0.000186  -0.000186 -0.049082\n",
       "2021-07-29  0.000145  0.003284  0.003779  0.004206   0.004206 -0.124294\n",
       "2021-07-30 -0.001923 -0.004000 -0.003166 -0.005406  -0.005406  0.016370\n",
       "\n",
       "[2914 rows x 6 columns]"
      ]
     },
     "execution_count": 4,
     "metadata": {},
     "output_type": "execute_result"
    }
   ],
   "source": [
    "# Find the percentage difference between the values in current row and previous row:\n",
    "s_p500.pct_change()"
   ]
  },
  {
   "cell_type": "code",
   "execution_count": 5,
   "metadata": {
    "ExecuteTime": {
     "end_time": "2022-09-11T14:14:56.068034Z",
     "start_time": "2022-09-11T14:14:56.060852Z"
    }
   },
   "outputs": [],
   "source": [
    "# Calculating the returns of the S&P 500 based on adjusted closing prices.\n",
    "ret = 100 * (s_p500.pct_change()[1:]['Adj Close'])\n",
    "realized_vol = ret.rolling(5).std()"
   ]
  },
  {
   "cell_type": "code",
   "execution_count": 6,
   "metadata": {
    "ExecuteTime": {
     "end_time": "2022-09-11T14:14:56.293287Z",
     "start_time": "2022-09-11T14:14:56.070310Z"
    }
   },
   "outputs": [
    {
     "data": {
      "image/png": "[encoded data removed]",
      "text/plain": [
       "<Figure size 720x432 with 1 Axes>"
      ]
     },
     "metadata": {
      "needs_background": "light"
     },
     "output_type": "display_data"
    }
   ],
   "source": [
    "plt.figure(figsize=(10, 6))\n",
    "plt.plot(realized_vol.index,realized_vol)\n",
    "plt.title('Realized Volatility- S&P-500') \n",
    "plt.ylabel('Volatility')\n",
    "plt.xlabel('Date') \n",
    "plt.show()"
   ]
  },
  {
   "cell_type": "markdown",
   "metadata": {},
   "source": [
    "\n",
    "- The realized volatility of S&P 500 over the period of 2010–2021. \n",
    "- The most striking observation is the spikes around the COVID-19 pandemic.\n",
    "\n",
""   ]
  },
  {
   "cell_type": "code",
   "execution_count": 7,
   "metadata": {
    "ExecuteTime": {
     "end_time": "2022-09-11T14:14:56.298214Z",
     "start_time": "2022-09-11T14:14:56.295555Z"
    }
   },
   "outputs": [],
   "source": [
    "retv = ret.values"
   ]
  },
  {
   "cell_type": "code",
   "execution_count": 8,
   "metadata": {
    "ExecuteTime": {
     "end_time": "2022-09-11T14:14:56.500029Z",
     "start_time": "2022-09-11T14:14:56.300418Z"
    }
   },
   "outputs": [
    {
     "data": {
      "image/png": "[encoded data removed]",
      "text/plain": [
       "<Figure size 720x432 with 1 Axes>"
      ]
     },
     "metadata": {
      "needs_background": "light"
     },
     "output_type": "display_data"
    }
   ],
   "source": [
    "plt.figure(figsize=(10, 6))\n",
    "plt.plot(s_p500.index[1:], ret)\n",
    "plt.title('Volatility clustering of S&P-500') \n",
    "plt.ylabel('Daily returns')\n",
    "plt.xlabel('Date') \n",
    "plt.show()"
   ]
  },
  {
   "cell_type": "markdown",
   "metadata": {},
   "source": [
    "\n",
    "- Similar to spikes in realized volatility, the volatilty clusterring suggests some large movements, and, unsurprisingly, these ups and downs happen around important events such as the COVID-19 pandemic in mid-2020.\n",
    "\n",
""   ]
  },
  {
   "cell_type": "markdown",
   "metadata": {},
   "source": [
    "# Method to estimate volatility\n",
    "<hr style = \"border:2px solid black\" ></hr>"
   ]
  },
  {
   "cell_type": "markdown",
   "metadata": {},
   "source": [
    "\n",
    "- We'll compare two methods: classical and ML.\n",
    "- Some of the classical methods are:\n",
    "    - ARCH\n",
    "    - GARCH\n",
    "    - EGARCH\n",
    "- On the ML side:\n",
    "    - SVR\n",
    "    - MLP\n",
    "    - DL\n",
    "    - Bayesian approach\n",
    "\n",
""   ]
  },
  {
   "cell_type": "markdown",
   "metadata": {},
   "source": [
    "## ARCH"
   ]
  },
  {
   "cell_type": "markdown",
   "metadata": {},
   "source": [
    "\n",
    "- Proposed by Eagle (1982) and is known as the ARCH model. \n",
    "- The ARCH model is a univariate model and based on historical asset returns. \n",
    "- ARCH is a univariate and nonlinear model in which volatility is estimated with the square of past returns. \n",
    "- ARCH enjoyes the property of time-varying conditional variance so that ARCH is able to model the phenomenon known as **volatility clustering**. That is, large changes tend to be followed by large changes of either sign, and small changes tend to be followed by small changes. \n",
    "- Hence, once an important announcement is made to the market, it might result in huge volatility.\n",
    "    \n",
""   ]
  },
  {
   "cell_type": "code",
   "execution_count": 9,
   "metadata": {
    "ExecuteTime": {
     "end_time": "2022-09-11T14:14:56.517443Z",
     "start_time": "2022-09-11T14:14:56.512651Z"
    }
   },
   "outputs": [],
   "source": [
    "n = 252\n",
    "split_date = ret.iloc[-n:].index"
   ]
  },
  {
   "cell_type": "code",
   "execution_count": 10,
   "metadata": {
    "ExecuteTime": {
     "end_time": "2022-09-11T14:14:56.527718Z",
     "start_time": "2022-09-11T14:14:56.520256Z"
    }
   },
   "outputs": [
    {
     "data": {
      "text/plain": [
       "(0.6341564916391557, 0.46673132307801635)"
      ]
     },
     "execution_count": 10,
     "metadata": {},
     "output_type": "execute_result"
    }
   ],
   "source": [
    "sgm2 = ret.var()\n",
    "K = ret.kurtosis()\n",
    "alpha = (-3.0 * sgm2 + np.sqrt(9.0 * sgm2 ** 2 - 12.0 * \n",
    "                             (3.0 * sgm2 - K) * K)) / (6 * K)\n",
    "omega = (1 - alpha) * sgm2\n",
    "initial_parameters = [alpha, omega]\n",
    "omega, alpha"
   ]
  },
  {
   "cell_type": "code",
   "execution_count": 11,
   "metadata": {
    "ExecuteTime": {
     "end_time": "2022-09-11T14:14:56.535738Z",
     "start_time": "2022-09-11T14:14:56.530459Z"
    }
   },
   "outputs": [],
   "source": [
    "@jit(nopython=True, parallel=True)\n",
    "def arch_likelihood(initial_parameters, retv):\n",
    "    omega = abs(initial_parameters[0])\n",
    "    alpha = abs(initial_parameters[1])\n",
    "    T = len(retv)\n",
    "    logliks = 0\n",
    "    sigma2 = np.zeros(T)\n",
    "    sigma2[0] = np.var(retv)\n",
    "    for t in range(1, T):\n",
    "        sigma2[t] = omega + alpha * (retv[t - 1]) ** 2\n",
    "    logliks = np.sum(0.5 * (np.log(sigma2)+retv ** 2 / sigma2))\n",
    "    return logliks"
   ]
  },
  {
   "cell_type": "code",
   "execution_count": 12,
   "metadata": {
    "ExecuteTime": {
     "end_time": "2022-09-11T14:14:58.786043Z",
     "start_time": "2022-09-11T14:14:56.540968Z"
    }
   },
   "outputs": [
    {
     "data": {
      "text/plain": [
       "1451.5757030518018"
      ]
     },
     "execution_count": 12,
     "metadata": {},
     "output_type": "execute_result"
    }
   ],
   "source": [
    "logliks = arch_likelihood(initial_parameters, retv)\n",
    "logliks"
   ]
  },
  {
   "cell_type": "code",
   "execution_count": 13,
   "metadata": {
    "ExecuteTime": {
     "end_time": "2022-09-11T14:14:58.794552Z",
     "start_time": "2022-09-11T14:14:58.789183Z"
    }
   },
   "outputs": [],
   "source": [
    "def opt_params(x0, retv):\n",
    "    opt_result = opt.minimize(arch_likelihood, x0=x0, args=(retv),\n",
    "                              method='Nelder-Mead',\n",
    "                              options={'maxiter': 5000})\n",
    "    params = opt_result.x\n",
    "    print('\\nResults of Nelder-Mead minimization\\n{}\\n{}'\n",
    "          .format(''.join(['-'] * 28), opt_result))\n",
    "    print('\\nResulting params = {}'.format(params))\n",
    "    return params"
   ]
  },
  {
   "cell_type": "code",
   "execution_count": 14,
   "metadata": {
    "ExecuteTime": {
     "end_time": "2022-09-11T14:15:00.284222Z",
     "start_time": "2022-09-11T14:14:58.798187Z"
    }
   },
   "outputs": [
    {
     "name": "stdout",
     "output_type": "stream",
     "text": [
      "\n",
      "Results of Nelder-Mead minimization\n",
      "----------------------------\n",
      " final_simplex: (array([[0.70152949, 0.39126701],\n",
      "       [0.70159538, 0.39127449],\n",
      "       [0.70155899, 0.39135604]]), array([1384.45490351, 1384.45490656, 1384.45490779]))\n",
      "           fun: 1384.454903510853\n",
      "       message: 'Optimization terminated successfully.'\n",
      "          nfev: 58\n",
      "           nit: 30\n",
      "        status: 0\n",
      "       success: True\n",
      "             x: array([0.70152949, 0.39126701])\n",
      "\n",
      "Resulting params = [0.70152949 0.39126701]\n"
     ]
    }
   ],
   "source": [
    "params = opt_params(initial_parameters, retv)"
   ]
  },
  {
   "cell_type": "code",
   "execution_count": 15,
   "metadata": {
    "ExecuteTime": {
     "end_time": "2022-09-11T14:15:00.293137Z",
     "start_time": "2022-09-11T14:15:00.287703Z"
    }
   },
   "outputs": [],
   "source": [
    "def arch_apply(ret):\n",
    "    omega = params[0]\n",
    "    alpha = params[1]\n",
    "    T = len(ret)\n",
    "    sigma2_arch = np.zeros(T + 1)\n",
    "    sigma2_arch[0] = np.var(ret)\n",
    "    for t in range(1, T):\n",
    "        sigma2_arch[t] = omega + alpha * ret[t - 1] ** 2\n",
    "    return sigma2_arch"
   ]
  },
  {
   "cell_type": "code",
   "execution_count": 16,
   "metadata": {
    "ExecuteTime": {
     "end_time": "2022-09-11T14:15:00.311135Z",
     "start_time": "2022-09-11T14:15:00.296144Z"
    }
   },
   "outputs": [],
   "source": [
    "sigma2_arch = arch_apply(ret)"
   ]
  },
  {
   "cell_type": "code",
   "execution_count": 17,
   "metadata": {
    "ExecuteTime": {
     "end_time": "2022-09-11T14:15:00.350518Z",
     "start_time": "2022-09-11T14:15:00.314099Z"
    }
   },
   "outputs": [
    {
     "name": "stdout",
     "output_type": "stream",
     "text": [
      "                        Zero Mean - ARCH Model Results                        \n",
      "==============================================================================\n",
      "Dep. Variable:              Adj Close   R-squared:                       0.000\n",
      "Mean Model:                 Zero Mean   Adj. R-squared:                  0.000\n",
      "Vol Model:                       ARCH   Log-Likelihood:               -4061.27\n",
      "Distribution:                  Normal   AIC:                           8126.54\n",
      "Method:            Maximum Likelihood   BIC:                           8138.50\n",
      "                                        No. Observations:                 2913\n",
      "Date:                Sun, Sep 11 2022   Df Residuals:                     2913\n",
      "Time:                        15:15:00   Df Model:                            0\n",
      "                            Volatility Model                            \n",
      "========================================================================\n",
      "                 coef    std err          t      P>|t|  95.0% Conf. Int.\n",
      "------------------------------------------------------------------------\n",
      "omega          0.7014  5.002e-02     14.023  1.129e-44 [  0.603,  0.799]\n",
      "alpha[1]       0.3909  7.011e-02      5.575  2.474e-08 [  0.253,  0.528]\n",
      "========================================================================\n",
      "\n",
      "Covariance estimator: robust\n"
     ]
    }
   ],
   "source": [
    "arch = arch_model(ret, mean='zero', vol='ARCH', p=1).fit(disp='off')\n",
    "print(arch.summary())"
   ]
  },
  {
   "cell_type": "code",
   "execution_count": 18,
   "metadata": {
    "ExecuteTime": {
     "end_time": "2022-09-11T14:15:00.552304Z",
     "start_time": "2022-09-11T14:15:00.353486Z"
    }
   },
   "outputs": [
    {
     "name": "stdout",
     "output_type": "stream",
     "text": [
      "                        Zero Mean - ARCH Model Results                        \n",
      "==============================================================================\n",
      "Dep. Variable:              Adj Close   R-squared:                       0.000\n",
      "Mean Model:                 Zero Mean   Adj. R-squared:                  0.000\n",
      "Vol Model:                       ARCH   Log-Likelihood:               -3709.51\n",
      "Distribution:                  Normal   AIC:                           7429.03\n",
      "Method:            Maximum Likelihood   BIC:                           7458.91\n",
      "                                        No. Observations:                 2913\n",
      "Date:                Sun, Sep 11 2022   Df Residuals:                     2913\n",
      "Time:                        15:15:00   Df Model:                            0\n",
      "                             Volatility Model                             \n",
      "==========================================================================\n",
      "                 coef    std err          t      P>|t|    95.0% Conf. Int.\n",
      "--------------------------------------------------------------------------\n",
      "omega          0.2794  2.580e-02     10.829  2.498e-27   [  0.229,  0.330]\n",
      "alpha[1]       0.1519  3.458e-02      4.394  1.111e-05 [8.417e-02,  0.220]\n",
      "alpha[2]       0.2329  3.614e-02      6.444  1.164e-10   [  0.162,  0.304]\n",
      "alpha[3]       0.1917  3.702e-02      5.178  2.241e-07   [  0.119,  0.264]\n",
      "alpha[4]       0.1923  4.149e-02      4.634  3.586e-06   [  0.111,  0.274]\n",
      "==========================================================================\n",
      "\n",
      "Covariance estimator: robust\n"
     ]
    }
   ],
   "source": [
    "bic_arch = []\n",
    "\n",
    "for p in range(1, 5):\n",
    "    arch = arch_model(ret, mean='zero', vol='ARCH', p=p)\\\n",
    "        .fit(disp='off')\n",
    "    bic_arch.append(arch.bic)\n",
    "    if arch.bic == np.min(bic_arch):\n",
    "        best_param = p\n",
    "arch = arch_model(ret, mean='zero', vol='ARCH', p=best_param)\\\n",
    "    .fit(disp='off')\n",
    "print(arch.summary())\n",
    "forecast = arch.forecast(start=split_date[0])\n",
    "forecast_arch = forecast"
   ]
  },
  {
   "cell_type": "code",
   "execution_count": 19,
   "metadata": {
    "ExecuteTime": {
     "end_time": "2022-09-11T14:15:00.561399Z",
     "start_time": "2022-09-11T14:15:00.554756Z"
    }
   },
   "outputs": [
    {
     "name": "stdout",
     "output_type": "stream",
     "text": [
      "The RMSE value of ARCH model is 0.0896\n"
     ]
    }
   ],
   "source": [
    "rmse_arch = np.sqrt(mse(realized_vol[-n:] / 100,\n",
    "                        np.sqrt(forecast_arch\n",
    "                        .variance.iloc[-len(split_date):]\n",
    "                        / 100)))\n",
    "print('The RMSE value of ARCH model is {:.4f}'.format(rmse_arch))"
   ]
  },
  {
   "cell_type": "code",
   "execution_count": 20,
   "metadata": {
    "ExecuteTime": {
     "end_time": "2022-09-11T14:15:00.776885Z",
     "start_time": "2022-09-11T14:15:00.564139Z"
    }
   },
   "outputs": [
    {
     "data": {
      "image/png": "[encoded data removed]",
      "text/plain": [
       "<Figure size 720x432 with 1 Axes>"
      ]
     },
     "metadata": {
      "needs_background": "light"
     },
     "output_type": "display_data"
    }
   ],
   "source": [
    "plt.figure(figsize=(10, 6))\n",
    "plt.plot(realized_vol / 100, label='Realized Volatility')\n",
    "plt.plot(forecast_arch.variance.iloc[-len(split_date):] / 100,\n",
    "         \"r--\", lw=0.8, label='Volatility Prediction-ARCH')\n",
    "plt.title('Volatility Prediction with ARCH', fontsize=12)\n",
    "plt.legend()\n",
    "plt.show()"
   ]
  },
  {
   "cell_type": "markdown",
   "metadata": {},
   "source": [
    "## GARCH"
   ]
  },
  {
   "cell_type": "markdown",
   "metadata": {},
   "source": [
    "\n",
    "-\n",
    "\n",
""   ]
  },
  {
   "cell_type": "code",
   "execution_count": 21,
   "metadata": {
    "ExecuteTime": {
     "end_time": "2022-09-11T14:15:00.784471Z",
     "start_time": "2022-09-11T14:15:00.778940Z"
    }
   },
   "outputs": [
    {
     "name": "stdout",
     "output_type": "stream",
     "text": [
      "Initial parameters for omega, alpha, and beta are \n",
      "0.4350565592754938\n",
      "0.5130099184547643\n",
      "0.026635632698685408\n"
     ]
    }
   ],
   "source": [
    "a0 = 0.0001\n",
    "sgm2 = ret.var()\n",
    "K = ret.kurtosis()\n",
    "h = 1 - alpha / sgm2\n",
    "alpha = np.sqrt(K * (1 - h ** 2) / (2.0 * (K + 3)))\n",
    "beta = np.abs(h - omega)\n",
    "omega = (1 - omega) * sgm2\n",
    "initial_parameters = np.array([omega, alpha, beta])\n",
    "print('Initial parameters for omega, alpha, and beta are \\n{}\\n{}\\n{}'\n",
    "      .format(omega, alpha, beta))"
   ]
  },
  {
   "cell_type": "code",
   "execution_count": 22,
   "metadata": {
    "ExecuteTime": {
     "end_time": "2022-09-11T14:15:00.789375Z",
     "start_time": "2022-09-11T14:15:00.786747Z"
    }
   },
   "outputs": [],
   "source": [
    "retv = ret.values"
   ]
  },
  {
   "cell_type": "code",
   "execution_count": 23,
   "metadata": {
    "ExecuteTime": {
     "end_time": "2022-09-11T14:15:00.796011Z",
     "start_time": "2022-09-11T14:15:00.791310Z"
    }
   },
   "outputs": [],
   "source": [
    "@jit(nopython=True, parallel=True)\n",
    "def garch_likelihood(initial_parameters, retv):\n",
    "    omega = initial_parameters[0]\n",
    "    alpha = initial_parameters[1]\n",
    "    beta = initial_parameters[2]\n",
    "    T =  len(retv)\n",
    "    logliks = 0\n",
    "    sigma2 = np.zeros(T)\n",
    "    sigma2[0] = np.var(retv)\n",
    "    for t in range(1, T):\n",
    "        sigma2[t] = omega + alpha * (retv[t - 1]) ** 2 + beta * sigma2[t-1]\n",
    "    logliks = np.sum(0.5 * (np.log(sigma2) + retv ** 2 / sigma2))\n",
    "    return logliks"
   ]
  },
  {
   "cell_type": "code",
   "execution_count": 24,
   "metadata": {
    "ExecuteTime": {
     "end_time": "2022-09-11T14:15:02.264199Z",
     "start_time": "2022-09-11T14:15:00.798172Z"
    }
   },
   "outputs": [
    {
     "name": "stdout",
     "output_type": "stream",
     "text": [
      "The Log likelihood  is 1386.4565\n"
     ]
    }
   ],
   "source": [
    "logliks = garch_likelihood(initial_parameters, retv)\n",
    "print('The Log likelihood  is {:.4f}'.format(logliks))"
   ]
  },
  {
   "cell_type": "code",
   "execution_count": 25,
   "metadata": {
    "ExecuteTime": {
     "end_time": "2022-09-11T14:15:02.271098Z",
     "start_time": "2022-09-11T14:15:02.267204Z"
    }
   },
   "outputs": [],
   "source": [
    "def garch_constraint(initial_parameters):  \n",
    "    alpha = initial_parameters[0]\n",
    "    gamma = initial_parameters[1]\n",
    "    beta = initial_parameters[2]\n",
    "    return np.array([1 - alpha - beta])"
   ]
  },
  {
   "cell_type": "code",
   "execution_count": 26,
   "metadata": {
    "ExecuteTime": {
     "end_time": "2022-09-11T14:15:02.277266Z",
     "start_time": "2022-09-11T14:15:02.274014Z"
    }
   },
   "outputs": [],
   "source": [
    "bounds = [(0.0, 1.0), (0.0, 1.0), (0.0, 1.0)]"
   ]
  },
  {
   "cell_type": "code",
   "execution_count": 27,
   "metadata": {
    "ExecuteTime": {
     "end_time": "2022-09-11T14:15:02.296593Z",
     "start_time": "2022-09-11T14:15:02.291099Z"
    }
   },
   "outputs": [],
   "source": [
    "def opt_paramsG(initial_parameters, retv):\n",
    "    opt_result = opt.minimize(garch_likelihood, \n",
    "                              x0=initial_parameters,\n",
    "                              constraints=np.array([1 - alpha - beta]), \n",
    "                              bounds=bounds, args = (retv),\n",
    "                              method='Nelder-Mead',\n",
    "                              options={'maxiter': 5000})\n",
    "    params = opt_result.x\n",
    "    print('\\nResults of Nelder-Mead minimization\\n{}\\n{}'\\\n",
    "          .format('-' * 35, opt_result))\n",
    "    print('-' * 35)\n",
    "    print('\\nResulting parameters = {}'.format(params))\n",
    "    return params"
   ]
  },
  {
   "cell_type": "code",
   "execution_count": 28,
   "metadata": {
    "ExecuteTime": {
     "end_time": "2022-09-11T14:15:02.328142Z",
     "start_time": "2022-09-11T14:15:02.299294Z"
    }
   },
   "outputs": [
    {
     "name": "stdout",
     "output_type": "stream",
     "text": [
      "\n",
      "Results of Nelder-Mead minimization\n",
      "-----------------------------------\n",
      " final_simplex: (array([[0.0392492 , 0.17440926, 0.78939289],\n",
      "       [0.03928828, 0.17446935, 0.7893081 ],\n",
      "       [0.03926896, 0.17443597, 0.78938038],\n",
      "       [0.03928055, 0.17437603, 0.78938064]]), array([978.43816789, 978.43817204, 978.43817305, 978.43817835]))\n",
      "           fun: 978.4381678874342\n",
      "       message: 'Optimization terminated successfully.'\n",
      "          nfev: 172\n",
      "           nit: 99\n",
      "        status: 0\n",
      "       success: True\n",
      "             x: array([0.0392492 , 0.17440926, 0.78939289])\n",
      "-----------------------------------\n",
      "\n",
      "Resulting parameters = [0.0392492  0.17440926 0.78939289]\n"
     ]
    }
   ],
   "source": [
    "params = opt_paramsG(initial_parameters, retv)"
   ]
  },
  {
   "cell_type": "code",
   "execution_count": 29,
   "metadata": {
    "ExecuteTime": {
     "end_time": "2022-09-11T14:15:02.336229Z",
     "start_time": "2022-09-11T14:15:02.331263Z"
    }
   },
   "outputs": [],
   "source": [
    "def garch_apply(ret):\n",
    "        omega = params[0]\n",
    "        alpha = params[1]\n",
    "        beta = params[2]\n",
    "        T = len(ret)\n",
    "        sigma2 = np.zeros(T + 1)\n",
    "        sigma2[0] = np.var(ret)\n",
    "        for t in range(1, T):\n",
    "            sigma2[t] = omega + alpha * ret[t - 1] ** 2 +\\\n",
    "                        beta * sigma2[t-1]\n",
    "        return sigma2"
   ]
  },
  {
   "cell_type": "code",
   "execution_count": 30,
   "metadata": {
    "ExecuteTime": {
     "end_time": "2022-09-11T14:15:02.393403Z",
     "start_time": "2022-09-11T14:15:02.339447Z"
    }
   },
   "outputs": [
    {
     "name": "stdout",
     "output_type": "stream",
     "text": [
      "                       Zero Mean - GARCH Model Results                        \n",
      "==============================================================================\n",
      "Dep. Variable:              Adj Close   R-squared:                       0.000\n",
      "Mean Model:                 Zero Mean   Adj. R-squared:                  0.000\n",
      "Vol Model:                      GARCH   Log-Likelihood:               -3654.98\n",
      "Distribution:                  Normal   AIC:                           7315.97\n",
      "Method:            Maximum Likelihood   BIC:                           7333.90\n",
      "                                        No. Observations:                 2913\n",
      "Date:                Sun, Sep 11 2022   Df Residuals:                     2913\n",
      "Time:                        15:15:02   Df Model:                            0\n",
      "                              Volatility Model                              \n",
      "============================================================================\n",
      "                 coef    std err          t      P>|t|      95.0% Conf. Int.\n",
      "----------------------------------------------------------------------------\n",
      "omega          0.0393  8.429e-03      4.664  3.100e-06 [2.279e-02,5.583e-02]\n",
      "alpha[1]       0.1745  2.278e-02      7.661  1.845e-14     [  0.130,  0.219]\n",
      "beta[1]        0.7892  2.273e-02     34.729 2.853e-264     [  0.745,  0.834]\n",
      "============================================================================\n",
      "\n",
      "Covariance estimator: robust\n"
     ]
    }
   ],
   "source": [
    "garch = arch_model(ret, mean='zero', vol='GARCH', p=1, o=0, q=1)\\\n",
    "        .fit(disp='off')\n",
    "print(garch.summary())"
   ]
  },
  {
   "cell_type": "code",
   "execution_count": 31,
   "metadata": {
    "ExecuteTime": {
     "end_time": "2022-09-11T14:15:03.415377Z",
     "start_time": "2022-09-11T14:15:02.396200Z"
    }
   },
   "outputs": [
    {
     "name": "stdout",
     "output_type": "stream",
     "text": [
      "                       Zero Mean - GARCH Model Results                        \n",
      "==============================================================================\n",
      "Dep. Variable:              Adj Close   R-squared:                       0.000\n",
      "Mean Model:                 Zero Mean   Adj. R-squared:                  0.000\n",
      "Vol Model:                      GARCH   Log-Likelihood:               -3654.98\n",
      "Distribution:                  Normal   AIC:                           7315.97\n",
      "Method:            Maximum Likelihood   BIC:                           7333.90\n",
      "                                        No. Observations:                 2913\n",
      "Date:                Sun, Sep 11 2022   Df Residuals:                     2913\n",
      "Time:                        15:15:03   Df Model:                            0\n",
      "                              Volatility Model                              \n",
      "============================================================================\n",
      "                 coef    std err          t      P>|t|      95.0% Conf. Int.\n",
      "----------------------------------------------------------------------------\n",
      "omega          0.0393  8.429e-03      4.664  3.100e-06 [2.279e-02,5.583e-02]\n",
      "alpha[1]       0.1745  2.278e-02      7.661  1.845e-14     [  0.130,  0.219]\n",
      "beta[1]        0.7892  2.273e-02     34.729 2.853e-264     [  0.745,  0.834]\n",
      "============================================================================\n",
      "\n",
      "Covariance estimator: robust\n"
     ]
    }
   ],
   "source": [
    "bic_garch = []\n",
    "\n",
    "for p in range(1, 5):\n",
    "    for q in range(1, 5):\n",
    "        garch = arch_model(ret, mean='zero',vol='GARCH', p=p, o=0, q=q)\\\n",
    "                .fit(disp='off')\n",
    "        bic_garch.append(garch.bic)\n",
    "        if garch.bic == np.min(bic_garch):\n",
    "            best_param = p, q\n",
    "garch = arch_model(ret, mean='zero', vol='GARCH',\n",
    "                   p=best_param[0], o=0, q=best_param[1])\\\n",
    "        .fit(disp='off')\n",
    "print(garch.summary())\n",
    "forecast = garch.forecast(start=split_date[0])\n",
    "forecast_garch = forecast"
   ]
  },
  {
   "cell_type": "code",
   "execution_count": 32,
   "metadata": {
    "ExecuteTime": {
     "end_time": "2022-09-11T14:15:03.424051Z",
     "start_time": "2022-09-11T14:15:03.417646Z"
    }
   },
   "outputs": [
    {
     "name": "stdout",
     "output_type": "stream",
     "text": [
      "The RMSE value of GARCH model is 0.0878\n"
     ]
    }
   ],
   "source": [
    "rmse_garch = np.sqrt(mse(realized_vol[-n:] / 100,\n",
    "                         np.sqrt(forecast_garch\\\n",
    "                         .variance.iloc[-len(split_date):] \n",
    "                         / 100)))\n",
    "print('The RMSE value of GARCH model is {:.4f}'.format(rmse_garch))"
   ]
  },
  {
   "cell_type": "code",
   "execution_count": 33,
   "metadata": {
    "ExecuteTime": {
     "end_time": "2022-09-11T14:15:03.644195Z",
     "start_time": "2022-09-11T14:15:03.426594Z"
    }
   },
   "outputs": [
    {
     "data": {
      "image/png": "[encoded data removed]",
      "text/plain": [
       "<Figure size 720x432 with 1 Axes>"
      ]
     },
     "metadata": {
      "needs_background": "light"
     },
     "output_type": "display_data"
    }
   ],
   "source": [
    "plt.figure(figsize=(10,6))\n",
    "plt.plot(realized_vol / 100, label='Realized Volatility')\n",
    "plt.plot(forecast_garch.variance.iloc[-len(split_date):] / 100, \n",
    "         label='Volatility Prediction-GARCH')\n",
    "plt.title('Volatility Prediction with GARCH', fontsize=12)\n",
    "plt.legend()\n",
    "plt.show()"
   ]
  },
  {
   "cell_type": "markdown",
   "metadata": {},
   "source": [
    "## GJR-GARCH"
   ]
  },
  {
   "cell_type": "code",
   "execution_count": 34,
   "metadata": {
    "ExecuteTime": {
     "end_time": "2022-09-11T14:15:04.895395Z",
     "start_time": "2022-09-11T14:15:03.646286Z"
    }
   },
   "outputs": [
    {
     "name": "stdout",
     "output_type": "stream",
     "text": [
      "                     Zero Mean - GJR-GARCH Model Results                      \n",
      "==============================================================================\n",
      "Dep. Variable:              Adj Close   R-squared:                       0.000\n",
      "Mean Model:                 Zero Mean   Adj. R-squared:                  0.000\n",
      "Vol Model:                  GJR-GARCH   Log-Likelihood:               -3591.15\n",
      "Distribution:                  Normal   AIC:                           7190.30\n",
      "Method:            Maximum Likelihood   BIC:                           7214.21\n",
      "                                        No. Observations:                 2913\n",
      "Date:                Sun, Sep 11 2022   Df Residuals:                     2913\n",
      "Time:                        15:15:04   Df Model:                            0\n",
      "                               Volatility Model                              \n",
      "=============================================================================\n",
      "                 coef    std err          t      P>|t|       95.0% Conf. Int.\n",
      "-----------------------------------------------------------------------------\n",
      "omega          0.0430  7.754e-03      5.547  2.908e-08  [2.781e-02,5.821e-02]\n",
      "alpha[1]       0.0390  3.069e-02      1.270      0.204 [-2.116e-02,9.913e-02]\n",
      "gamma[1]       0.2798  4.799e-02      5.831  5.501e-09      [  0.186,  0.374]\n",
      "beta[1]        0.7907  2.700e-02     29.286 1.572e-188      [  0.738,  0.844]\n",
      "=============================================================================\n",
      "\n",
      "Covariance estimator: robust\n"
     ]
    }
   ],
   "source": [
    "bic_gjr_garch = []\n",
    "\n",
    "for p in range(1, 5):\n",
    "    for q in range(1, 5):\n",
    "        gjrgarch = arch_model(ret, mean='zero', p=p, o=1, q=q)\\\n",
    "                   .fit(disp='off')\n",
    "        bic_gjr_garch.append(gjrgarch.bic)\n",
    "        if gjrgarch.bic == np.min(bic_gjr_garch):\n",
    "            best_param = p, q\n",
    "gjrgarch = arch_model(ret,mean='zero', p=best_param[0], o=1,\n",
    "                      q=best_param[1]).fit(disp='off')\n",
    "print(gjrgarch.summary())\n",
    "forecast = gjrgarch.forecast(start=split_date[0])\n",
    "forecast_gjrgarch = forecast"
   ]
  },
  {
   "cell_type": "code",
   "execution_count": 35,
   "metadata": {
    "ExecuteTime": {
     "end_time": "2022-09-11T14:15:04.903659Z",
     "start_time": "2022-09-11T14:15:04.897776Z"
    }
   },
   "outputs": [
    {
     "name": "stdout",
     "output_type": "stream",
     "text": [
      "The RMSE value of GJR-GARCH models is 0.0882\n"
     ]
    }
   ],
   "source": [
    "rmse_gjr_garch = np.sqrt(mse(realized_vol[-n:] / 100,\n",
    "                             np.sqrt(forecast_gjrgarch\\\n",
    "                             .variance.iloc[-len(split_date):]\n",
    "                             / 100)))\n",
    "print('The RMSE value of GJR-GARCH models is {:.4f}'\n",
    "      .format(rmse_gjr_garch))"
   ]
  },
  {
   "cell_type": "code",
   "execution_count": 36,
   "metadata": {
    "ExecuteTime": {
     "end_time": "2022-09-11T14:15:05.119196Z",
     "start_time": "2022-09-11T14:15:04.906504Z"
    }
   },
   "outputs": [
    {
     "data": {
      "image/png": "[encoded data removed]",
      "text/plain": [
       "<Figure size 720x432 with 1 Axes>"
      ]
     },
     "metadata": {
      "needs_background": "light"
     },
     "output_type": "display_data"
    }
   ],
   "source": [
    "plt.figure(figsize=(10, 6))\n",
    "plt.plot(realized_vol / 100, label='Realized Volatility')\n",
    "plt.plot(forecast_gjrgarch.variance.iloc[-len(split_date):] / 100, \n",
    "         label='Volatility Prediction-GJR-GARCH')\n",
    "plt.title('Volatility Prediction with GJR-GARCH', fontsize=12)\n",
    "plt.legend()\n",
    "plt.show()"
   ]
  },
  {
   "cell_type": "markdown",
   "metadata": {},
   "source": [
    "## EGARCH"
   ]
  },
  {
   "cell_type": "code",
   "execution_count": 37,
   "metadata": {
    "ExecuteTime": {
     "end_time": "2022-09-11T14:15:06.203402Z",
     "start_time": "2022-09-11T14:15:05.121286Z"
    }
   },
   "outputs": [
    {
     "name": "stdout",
     "output_type": "stream",
     "text": [
      "                       Zero Mean - EGARCH Model Results                       \n",
      "==============================================================================\n",
      "Dep. Variable:              Adj Close   R-squared:                       0.000\n",
      "Mean Model:                 Zero Mean   Adj. R-squared:                  0.000\n",
      "Vol Model:                     EGARCH   Log-Likelihood:               -3673.53\n",
      "Distribution:                  Normal   AIC:                           7353.05\n",
      "Method:            Maximum Likelihood   BIC:                           7370.98\n",
      "                                        No. Observations:                 2913\n",
      "Date:                Sun, Sep 11 2022   Df Residuals:                     2913\n",
      "Time:                        15:15:06   Df Model:                            0\n",
      "                               Volatility Model                              \n",
      "=============================================================================\n",
      "                 coef    std err          t      P>|t|       95.0% Conf. Int.\n",
      "-----------------------------------------------------------------------------\n",
      "omega      2.4573e-03  6.769e-03      0.363      0.717 [-1.081e-02,1.572e-02]\n",
      "alpha[1]       0.3275  3.427e-02      9.557  1.215e-21      [  0.260,  0.395]\n",
      "beta[1]        0.9455  1.154e-02     81.939      0.000      [  0.923,  0.968]\n",
      "=============================================================================\n",
      "\n",
      "Covariance estimator: robust\n"
     ]
    }
   ],
   "source": [
    "bic_egarch = []\n",
    "\n",
    "for p in range(1, 5):\n",
    "    for q in range(1, 5):\n",
    "        egarch = arch_model(ret, mean='zero', vol='EGARCH', p=p, q=q)\\\n",
    "                 .fit(disp='off')\n",
    "        bic_egarch.append(egarch.bic)\n",
    "        if egarch.bic == np.min(bic_egarch):\n",
    "            best_param = p, q\n",
    "egarch = arch_model(ret, mean='zero', vol='EGARCH',\n",
    "                    p=best_param[0], q=best_param[1])\\\n",
    "         .fit(disp='off')\n",
    "print(egarch.summary())\n",
    "forecast = egarch.forecast(start=split_date[0])\n",
    "forecast_egarch = forecast"
   ]
  },
  {
   "cell_type": "code",
   "execution_count": 38,
   "metadata": {
    "ExecuteTime": {
     "end_time": "2022-09-11T14:15:06.211446Z",
     "start_time": "2022-09-11T14:15:06.205695Z"
    }
   },
   "outputs": [
    {
     "name": "stdout",
     "output_type": "stream",
     "text": [
      "The RMSE value of EGARCH models is 0.0904\n"
     ]
    }
   ],
   "source": [
    "rmse_egarch = np.sqrt(mse(realized_vol[-n:] / 100,\n",
    "                          np.sqrt(forecast_egarch.variance\\\n",
    "                          .iloc[-len(split_date):] / 100)))\n",
    "print('The RMSE value of EGARCH models is {:.4f}'.format(rmse_egarch))"
   ]
  },
  {
   "cell_type": "code",
   "execution_count": 39,
   "metadata": {
    "ExecuteTime": {
     "end_time": "2022-09-11T14:15:06.415662Z",
     "start_time": "2022-09-11T14:15:06.213955Z"
    }
   },
   "outputs": [
    {
     "data": {
      "image/png": "[encoded data removed]",
      "text/plain": [
       "<Figure size 720x432 with 1 Axes>"
      ]
     },
     "metadata": {
      "needs_background": "light"
     },
     "output_type": "display_data"
    }
   ],
   "source": [
    "plt.figure(figsize=(10, 6))\n",
    "plt.plot(realized_vol / 100, label='Realized Volatility')\n",
    "plt.plot(forecast_egarch.variance.iloc[-len(split_date):] / 100,\n",
    "         label='Volatility Prediction-EGARCH')\n",
    "plt.title('Volatility Prediction with EGARCH', fontsize=12)\n",
    "plt.legend()\n",
    "plt.show()"
   ]
  },
  {
   "cell_type": "markdown",
   "metadata": {},
   "source": [
    "## SVR-GARCH"
   ]
  },
  {
   "cell_type": "markdown",
   "metadata": {
    "ExecuteTime": {
     "end_time": "2022-09-11T13:00:40.954198Z",
     "start_time": "2022-09-11T13:00:40.948710Z"
    }
   },
   "source": [
    "\n",
    "- Combining two models gets us SVR-GARCH.\n",
    "\n",
""   ]
  },
  {
   "cell_type": "code",
   "execution_count": 40,
   "metadata": {
    "ExecuteTime": {
     "end_time": "2022-09-11T14:15:06.492306Z",
     "start_time": "2022-09-11T14:15:06.418155Z"
    }
   },
   "outputs": [],
   "source": [
    "from sklearn.svm import SVR\n",
    "from scipy.stats import uniform as sp_rand\n",
    "from sklearn.model_selection import RandomizedSearchCV"
   ]
  },
  {
   "cell_type": "code",
   "execution_count": 41,
   "metadata": {
    "ExecuteTime": {
     "end_time": "2022-09-11T14:15:06.498174Z",
     "start_time": "2022-09-11T14:15:06.494236Z"
    }
   },
   "outputs": [],
   "source": [
    "realized_vol = ret.rolling(5).std()\n",
    "realized_vol = pd.DataFrame(realized_vol)\n",
    "realized_vol.reset_index(drop=True, inplace=True)"
   ]
  },
  {
   "cell_type": "code",
   "execution_count": 42,
   "metadata": {
    "ExecuteTime": {
     "end_time": "2022-09-11T14:15:06.504538Z",
     "start_time": "2022-09-11T14:15:06.500286Z"
    }
   },
   "outputs": [],
   "source": [
    "returns_svm = ret ** 2\n",
    "returns_svm = returns_svm.reset_index()\n",
    "del returns_svm['Date']"
   ]
  },
  {
   "cell_type": "code",
   "execution_count": 43,
   "metadata": {
    "ExecuteTime": {
     "end_time": "2022-09-11T14:15:06.511991Z",
     "start_time": "2022-09-11T14:15:06.506557Z"
    }
   },
   "outputs": [],
   "source": [
    "X = pd.concat([realized_vol, returns_svm], axis=1, ignore_index=True)\n",
    "X = X[4:].copy()\n",
    "X = X.reset_index()\n",
    "X.drop('index', axis=1, inplace=True)"
   ]
  },
  {
   "cell_type": "code",
   "execution_count": 44,
   "metadata": {
    "ExecuteTime": {
     "end_time": "2022-09-11T14:15:06.519668Z",
     "start_time": "2022-09-11T14:15:06.513977Z"
    }
   },
   "outputs": [],
   "source": [
    "realized_vol = realized_vol.dropna().reset_index()\n",
    "realized_vol.drop('index', axis=1, inplace=True)"
   ]
  },
  {
   "cell_type": "code",
   "execution_count": 45,
   "metadata": {
    "ExecuteTime": {
     "end_time": "2022-09-11T14:15:06.524300Z",
     "start_time": "2022-09-11T14:15:06.521534Z"
    }
   },
   "outputs": [],
   "source": [
    "svr_poly = SVR(kernel='poly', degree=2)\n",
    "svr_lin = SVR(kernel='linear')\n",
    "svr_rbf = SVR(kernel='rbf')"
   ]
  },
  {
   "cell_type": "markdown",
   "metadata": {},
   "source": [
    "### SVR-GARCH-Linear"
   ]
  },
  {
   "cell_type": "code",
   "execution_count": 46,
   "metadata": {
    "ExecuteTime": {
     "end_time": "2022-09-11T14:15:13.241264Z",
     "start_time": "2022-09-11T14:15:06.526171Z"
    }
   },
   "outputs": [],
   "source": [
    "para_grid = {'gamma': sp_rand(),\n",
    "             'C': sp_rand(),\n",
    "             'epsilon': sp_rand()}\n",
    "clf = RandomizedSearchCV(svr_lin, para_grid)\n",
    "clf.fit(X.iloc[:-n].values, \n",
    "        realized_vol.iloc[1:-(n-1)].values.reshape(-1,))\n",
    "predict_svr_lin = clf.predict(X.iloc[-n:])"
   ]
  },
  {
   "cell_type": "code",
   "execution_count": 47,
   "metadata": {
    "ExecuteTime": {
     "end_time": "2022-09-11T14:15:13.247040Z",
     "start_time": "2022-09-11T14:15:13.243757Z"
    }
   },
   "outputs": [],
   "source": [
    "predict_svr_lin = pd.DataFrame(predict_svr_lin)\n",
    "predict_svr_lin.index = ret.iloc[-n:].index"
   ]
  },
  {
   "cell_type": "code",
   "execution_count": 48,
   "metadata": {
    "ExecuteTime": {
     "end_time": "2022-09-11T14:15:13.255087Z",
     "start_time": "2022-09-11T14:15:13.249249Z"
    },
    "scrolled": true
   },
   "outputs": [
    {
     "name": "stdout",
     "output_type": "stream",
     "text": [
      "The RMSE value of SVR with Linear Kernel is 0.000501\n"
     ]
    }
   ],
   "source": [
    "rmse_svr = np.sqrt(mse(realized_vol.iloc[-n:] / 100,\n",
    "                       predict_svr_lin / 100))\n",
    "print('The RMSE value of SVR with Linear Kernel is {:.6f}'\n",
    "      .format(rmse_svr))"
   ]
  },
  {
   "cell_type": "code",
   "execution_count": 49,
   "metadata": {
    "ExecuteTime": {
     "end_time": "2022-09-11T14:15:13.260261Z",
     "start_time": "2022-09-11T14:15:13.257342Z"
    }
   },
   "outputs": [],
   "source": [
    "realized_vol.index = ret.iloc[4:].index"
   ]
  },
  {
   "cell_type": "code",
   "execution_count": 50,
   "metadata": {
    "ExecuteTime": {
     "end_time": "2022-09-11T14:15:13.465865Z",
     "start_time": "2022-09-11T14:15:13.262389Z"
    }
   },
   "outputs": [
    {
     "data": {
      "image/png": "[encoded data removed]",
      "text/plain": [
       "<Figure size 720x432 with 1 Axes>"
      ]
     },
     "metadata": {
      "needs_background": "light"
     },
     "output_type": "display_data"
    }
   ],
   "source": [
    "plt.figure(figsize=(10, 6))\n",
    "plt.plot(realized_vol / 100, label='Realized Volatility')\n",
    "plt.plot(predict_svr_lin / 100, label='Volatility Prediction-SVR-GARCH')\n",
    "plt.title('Volatility Prediction with SVR-GARCH (Linear)', fontsize=12)\n",
    "plt.legend()\n",
    "plt.show()"
   ]
  },
  {
   "cell_type": "markdown",
   "metadata": {},
   "source": [
    "### SVR-GARCH RBF"
   ]
  },
  {
   "cell_type": "code",
   "execution_count": 51,
   "metadata": {
    "ExecuteTime": {
     "end_time": "2022-09-11T14:15:17.580402Z",
     "start_time": "2022-09-11T14:15:13.468224Z"
    }
   },
   "outputs": [],
   "source": [
    "para_grid ={'gamma': sp_rand(),\n",
    "            'C': sp_rand(),\n",
    "            'epsilon': sp_rand()}\n",
    "clf = RandomizedSearchCV(svr_rbf, para_grid)\n",
    "clf.fit(X.iloc[:-n].values, \n",
    "        realized_vol.iloc[1:-(n-1)].values.reshape(-1,))\n",
    "predict_svr_rbf = clf.predict(X.iloc[-n:])"
   ]
  },
  {
   "cell_type": "code",
   "execution_count": 52,
   "metadata": {
    "ExecuteTime": {
     "end_time": "2022-09-11T14:15:17.585920Z",
     "start_time": "2022-09-11T14:15:17.582796Z"
    }
   },
   "outputs": [],
   "source": [
    "predict_svr_rbf = pd.DataFrame(predict_svr_rbf)\n",
    "predict_svr_rbf.index = ret.iloc[-n:].index"
   ]
  },
  {
   "cell_type": "code",
   "execution_count": 53,
   "metadata": {
    "ExecuteTime": {
     "end_time": "2022-09-11T14:15:17.594475Z",
     "start_time": "2022-09-11T14:15:17.588043Z"
    }
   },
   "outputs": [
    {
     "name": "stdout",
     "output_type": "stream",
     "text": [
      "The RMSE value of SVR with RBF Kernel is  0.000947\n"
     ]
    }
   ],
   "source": [
    "rmse_svr_rbf = np.sqrt(mse(realized_vol.iloc[-n:] / 100,\n",
    "                           predict_svr_rbf / 100))\n",
    "print('The RMSE value of SVR with RBF Kernel is  {:.6f}'\n",
    "      .format(rmse_svr_rbf))"
   ]
  },
  {
   "cell_type": "code",
   "execution_count": 54,
   "metadata": {
    "ExecuteTime": {
     "end_time": "2022-09-11T14:15:17.804239Z",
     "start_time": "2022-09-11T14:15:17.596972Z"
    },
    "scrolled": true
   },
   "outputs": [
    {
     "data": {
      "image/png": "[encoded data removed]",
      "text/plain": [
       "<Figure size 720x432 with 1 Axes>"
      ]
     },
     "metadata": {
      "needs_background": "light"
     },
     "output_type": "display_data"
    }
   ],
   "source": [
    "plt.figure(figsize=(10, 6))\n",
    "plt.plot(realized_vol / 100, label='Realized Volatility')\n",
    "plt.plot(predict_svr_rbf / 100, label='Volatility Prediction-SVR_GARCH')\n",
    "plt.title('Volatility Prediction with SVR-GARCH (RBF)', fontsize=12)\n",
    "plt.legend()\n",
    "plt.show()"
   ]
  },
  {
   "cell_type": "markdown",
   "metadata": {},
   "source": [
    "### SVR-GARCH Polynomial"
   ]
  },
  {
   "cell_type": "code",
   "execution_count": null,
   "metadata": {
    "ExecuteTime": {
     "start_time": "2022-09-11T14:14:52.320Z"
    }
   },
   "outputs": [],
   "source": [
    "para_grid = {'gamma': sp_rand(),\n",
    "            'C': sp_rand(),\n",
    "            'epsilon': sp_rand()}\n",
    "clf = RandomizedSearchCV(svr_poly, para_grid)\n",
    "clf.fit(X.iloc[:-n].values, \n",
    "        realized_vol.iloc[1:-(n-1)].values.reshape(-1,))\n",
    "predict_svr_poly = clf.predict(X.iloc[-n:])"
   ]
  },
  {
   "cell_type": "code",
   "execution_count": null,
   "metadata": {
    "ExecuteTime": {
     "start_time": "2022-09-11T14:14:52.323Z"
    }
   },
   "outputs": [],
   "source": [
    "predict_svr_poly = pd.DataFrame(predict_svr_poly)\n",
    "predict_svr_poly.index = ret.iloc[-n:].index"
   ]
  },
  {
   "cell_type": "code",
   "execution_count": null,
   "metadata": {
    "ExecuteTime": {
     "start_time": "2022-09-11T14:14:52.326Z"
    }
   },
   "outputs": [],
   "source": [
    "rmse_svr_poly = np.sqrt(mse(realized_vol.iloc[-n:] / 100,\n",
    "                            predict_svr_poly / 100))\n",
    "print('The RMSE value of SVR with Polynomial Kernel is {:.6f}'\\\n",
    "      .format(rmse_svr_poly))"
   ]
  },
  {
   "cell_type": "code",
   "execution_count": null,
   "metadata": {
    "ExecuteTime": {
     "start_time": "2022-09-11T14:14:52.328Z"
    }
   },
   "outputs": [],
   "source": [
    "plt.figure(figsize=(10, 6))\n",
    "plt.plot(realized_vol/100, label='Realized Volatility')\n",
    "plt.plot(predict_svr_poly/100, label='Volatility Prediction-SVR-GARCH')\n",
    "plt.title('Volatility Prediction with SVR-GARCH (Polynomial)',\n",
    "          fontsize=12)\n",
    "plt.legend()\n",
    "plt.show()"
   ]
  },
  {
   "cell_type": "markdown",
   "metadata": {},
   "source": [
    "## NN-GARCH"
   ]
  },
  {
   "cell_type": "code",
   "execution_count": null,
   "metadata": {
    "ExecuteTime": {
     "start_time": "2022-09-11T14:14:52.332Z"
    }
   },
   "outputs": [],
   "source": [
    "from sklearn.neural_network import MLPRegressor\n",
    "NN_vol = MLPRegressor(learning_rate_init=0.001, random_state=1) \n",
    "para_grid_NN = {'hidden_layer_sizes': [(100, 50), (50, 50), (10, 100)],\n",
    "               'max_iter': [500, 1000],\n",
    "               'alpha': [0.00005, 0.0005 ]}\n",
    "clf = RandomizedSearchCV(NN_vol, para_grid_NN)\n",
    "clf.fit(X.iloc[:-n].values, \n",
    "        realized_vol.iloc[1:-(n-1)].values.reshape(-1, ))\n",
    "NN_predictions = clf.predict(X.iloc[-n:])"
   ]
  },
  {
   "cell_type": "code",
   "execution_count": null,
   "metadata": {
    "ExecuteTime": {
     "start_time": "2022-09-11T14:14:52.335Z"
    }
   },
   "outputs": [],
   "source": [
    "NN_predictions = pd.DataFrame(NN_predictions)\n",
    "NN_predictions.index = ret.iloc[-n:].index"
   ]
  },
  {
   "cell_type": "code",
   "execution_count": null,
   "metadata": {
    "ExecuteTime": {
     "start_time": "2022-09-11T14:14:52.338Z"
    }
   },
   "outputs": [],
   "source": [
    "rmse_NN = np.sqrt(mse(realized_vol.iloc[-n:] / 100,\n",
    "                      NN_predictions / 100))\n",
    "print('The RMSE value of NN is {:.6f}'.format(rmse_NN))"
   ]
  },
  {
   "cell_type": "code",
   "execution_count": null,
   "metadata": {
    "ExecuteTime": {
     "start_time": "2022-09-11T14:14:52.341Z"
    }
   },
   "outputs": [],
   "source": [
    "plt.figure(figsize=(10, 6))\n",
    "plt.plot(realized_vol / 100, label='Realized Volatility')\n",
    "plt.plot(NN_predictions / 100, label='Volatility Prediction-NN')\n",
    "plt.title('Volatility Prediction with Neural Network', fontsize=12)\n",
    "plt.legend()\n",
    "plt.show()"
   ]
  },
  {
   "cell_type": "markdown",
   "metadata": {},
   "source": [
    "## DL-GARCH"
   ]
  },
  {
   "cell_type": "code",
   "execution_count": null,
   "metadata": {
    "ExecuteTime": {
     "start_time": "2022-09-11T14:14:52.344Z"
    }
   },
   "outputs": [],
   "source": [
    "import tensorflow as tf\n",
    "from tensorflow import keras\n",
    "from tensorflow.keras import layers"
   ]
  },
  {
   "cell_type": "code",
   "execution_count": null,
   "metadata": {
    "ExecuteTime": {
     "start_time": "2022-09-11T14:14:52.347Z"
    }
   },
   "outputs": [],
   "source": [
    "model = keras.Sequential(\n",
    "    [layers.Dense(256, activation=\"relu\"),\n",
    "     layers.Dense(128, activation=\"relu\"),\n",
    "     layers.Dense(1, activation=\"linear\"),])"
   ]
  },
  {
   "cell_type": "code",
   "execution_count": null,
   "metadata": {
    "ExecuteTime": {
     "start_time": "2022-09-11T14:14:52.350Z"
    }
   },
   "outputs": [],
   "source": [
    "model.compile(loss='mse', optimizer='rmsprop')"
   ]
  },
  {
   "cell_type": "code",
   "execution_count": null,
   "metadata": {
    "ExecuteTime": {
     "start_time": "2022-09-11T14:14:52.353Z"
    }
   },
   "outputs": [],
   "source": [
    "epochs_trial = np.arange(100, 400, 4)\n",
    "batch_trial = np.arange(100, 400, 4)\n",
    "DL_pred = []\n",
    "DL_RMSE = []\n",
    "for i, j, k in zip(range(4), epochs_trial, batch_trial):\n",
    "    model.fit(X.iloc[:-n].values,\n",
    "              realized_vol.iloc[1:-(n-1)].values.reshape(-1,),\n",
    "              batch_size=k, epochs=j, verbose=False)\n",
    "    DL_predict = model.predict(np.asarray(X.iloc[-n:]))\n",
    "    DL_RMSE.append(np.sqrt(mse(realized_vol.iloc[-n:] / 100,\n",
    "                            DL_predict.flatten() / 100)))\n",
    "    DL_pred.append(DL_predict)\n",
    "    print('DL_RMSE_{}:{:.6f}'.format(i+1, DL_RMSE[i]))"
   ]
  },
  {
   "cell_type": "code",
   "execution_count": null,
   "metadata": {
    "ExecuteTime": {
     "start_time": "2022-09-11T14:14:52.356Z"
    }
   },
   "outputs": [],
   "source": [
    "DL_predict = pd.DataFrame(DL_pred[DL_RMSE.index(min(DL_RMSE))])\n",
    "DL_predict.index = ret.iloc[-n:].index"
   ]
  },
  {
   "cell_type": "code",
   "execution_count": null,
   "metadata": {
    "ExecuteTime": {
     "start_time": "2022-09-11T14:14:52.358Z"
    },
    "scrolled": true
   },
   "outputs": [],
   "source": [
    "plt.figure(figsize=(10, 6))\n",
    "plt.plot(realized_vol / 100,label='Realized Volatility')\n",
    "plt.plot(DL_predict / 100,label='Volatility Prediction-DL')\n",
    "plt.title('Volatility Prediction with Deep Learning',  fontsize=12)\n",
    "plt.legend()\n",
    "plt.show()"
   ]
  },
  {
   "cell_type": "markdown",
   "metadata": {},
   "source": [
    "## Bayesian Approach"
   ]
  },
  {
   "cell_type": "markdown",
   "metadata": {},
   "source": [
    "\n",
    "- The way we approach probability is of central importance in the sense that it distinguishes the classical (or Frequentist) and Bayesian approaches. \n",
    "- According to the former, the relative frequency will converge to the true probability. However, a Bayesian application is based on the subjective interpretation. \n",
    "- Unlike the Frequentists, Bayesian statisticians consider the probability distribution as uncertain, and **it is revised as new information comes in**.\n",
    "\n",
""   ]
  },
  {
   "cell_type": "markdown",
   "metadata": {},
   "source": [
    "\n",
    "- Bayes’ theorem is attractive but it comes with a cost, which is analytical intractability and hard to solve analytically. However, there are methods used to approximate this computational issues: \n",
    "    - Quadrature approximation\n",
    "    - Maximum a posteriori estimation (MAP)\n",
    "    - Grid approach\n",
    "    - Sampling-based approach\n",
    "    - Metropolis–Hastings\n",
    "    - Gibbs sampler\n",
    "    - No U-Turn sampler\n",
    "    \n",
""   ]
  },
  {
   "cell_type": "markdown",
   "metadata": {
    "ExecuteTime": {
     "end_time": "2022-09-11T05:50:15.503723Z",
     "start_time": "2022-09-11T05:50:15.500827Z"
    }
   },
   "source": [
    "\n",
    "- Both Metropolis–Hastings and Gibbs sampler rests on the Markov chain Monte Carlo (MCMC) method.\n",
    "- The Markov chain is a model used to describe the transition probabilities among states. A chain is called Markovian if the probability of the current state st depends only on the most recent state.\n",
    "- In a nutshell, the MCMC method helps us gather IID samples from posterior density so that we can calculate the poste‐ rior probability.\n",
    "    \n",
""   ]
  },
  {
   "cell_type": "code",
   "execution_count": null,
   "metadata": {
    "ExecuteTime": {
     "start_time": "2022-09-11T14:14:52.365Z"
    }
   },
   "outputs": [],
   "source": [
    "P = [[0.5, 0.2, 0.3],\n",
    "     [0.2, 0.3, 0.5],\n",
    "     [0.2, 0.2, 0.6]]\n",
    "\n",
    "mc = qe.MarkovChain(P, ('studying', 'travelling', 'sleeping'))\n",
    "mc.is_irreducible"
   ]
  },
  {
   "cell_type": "code",
   "execution_count": null,
   "metadata": {
    "ExecuteTime": {
     "start_time": "2022-09-11T14:14:52.369Z"
    }
   },
   "outputs": [],
   "source": [
    "states = ['studying', 'travelling', 'sleeping']\n",
    "initial_probs = [0.5, 0.3, 0.6]\n",
    "state_space = pd.Series(initial_probs, index=states, name='states')"
   ]
  },
  {
   "cell_type": "code",
   "execution_count": null,
   "metadata": {
    "ExecuteTime": {
     "start_time": "2022-09-11T14:14:52.372Z"
    }
   },
   "outputs": [],
   "source": [
    "q_df = pd.DataFrame(columns=states, index=states)\n",
    "q_df = pd.DataFrame(columns=states, index=states)\n",
    "q_df.loc[states[0]] = [0.5, 0.2, 0.3]\n",
    "q_df.loc[states[1]] = [0.2, 0.3, 0.5]\n",
    "q_df.loc[states[2]] = [0.2, 0.2, 0.6]"
   ]
  },
  {
   "cell_type": "code",
   "execution_count": null,
   "metadata": {
    "ExecuteTime": {
     "start_time": "2022-09-11T14:14:52.374Z"
    },
    "scrolled": true
   },
   "outputs": [],
   "source": [
    "def _get_markov_edges(Q):\n",
    "    edges = {}\n",
    "    for col in Q.columns:\n",
    "        for idx in Q.index:\n",
    "            edges[(idx,col)] = Q.loc[idx,col]\n",
    "    return edges\n",
    "edges_wts = _get_markov_edges(q_df)\n",
    "pprint(edges_wts)"
   ]
  },
  {
   "cell_type": "code",
   "execution_count": null,
   "metadata": {
    "ExecuteTime": {
     "start_time": "2022-09-11T14:14:52.378Z"
    }
   },
   "outputs": [],
   "source": [
    "G = nx.MultiDiGraph()\n",
    "G.add_nodes_from(states)\n",
    "for k, v in edges_wts.items():\n",
    "    tmp_origin, tmp_destination = k[0], k[1]\n",
    "    G.add_edge(tmp_origin, tmp_destination, weight=v, label=v)\n",
    "\n",
    "pos = nx.drawing.nx_pydot.graphviz_layout(G, prog='dot')\n",
    "nx.draw_networkx(G, pos)\n",
    "edge_labels = {(n1, n2):d['label'] for n1, n2, d in G.edges(data=True)}\n",
    "nx.draw_networkx_edge_labels(G , pos, edge_labels=edge_labels)\n",
    "nx.drawing.nx_pydot.write_dot(G, 'mc_states.dot')"
   ]
  },
  {
   "cell_type": "code",
   "execution_count": null,
   "metadata": {
    "ExecuteTime": {
     "start_time": "2022-09-11T14:14:52.380Z"
    }
   },
   "outputs": [],
   "source": [
    "# Configuring GARCH model using the PyFlux library\n",
    "model = pf.GARCH(ret.values, p=1, q=1)"
   ]
  },
  {
   "cell_type": "code",
   "execution_count": null,
   "metadata": {
    "ExecuteTime": {
     "start_time": "2022-09-11T14:14:52.384Z"
    }
   },
   "outputs": [],
   "source": [
    "# Printing the estimation of latent variables (parameters) \n",
    "print(model.latent_variables)"
   ]
  },
  {
   "cell_type": "code",
   "execution_count": null,
   "metadata": {
    "ExecuteTime": {
     "start_time": "2022-09-11T14:14:52.387Z"
    }
   },
   "outputs": [],
   "source": [
    "# Adjusting the priors for the model latent variables \n",
    "model.adjust_prior(1, pf.Normal())\n",
    "model.adjust_prior(2, pf.Normal())"
   ]
  },
  {
   "cell_type": "code",
   "execution_count": null,
   "metadata": {
    "ExecuteTime": {
     "start_time": "2022-09-11T14:14:52.390Z"
    }
   },
   "outputs": [],
   "source": [
    "# Fitting the model using M-H process\n",
    "x = model.fit(method='M-H', iterations='1000')\n",
    "print(x.summary())"
   ]
  },
  {
   "cell_type": "code",
   "execution_count": null,
   "metadata": {
    "ExecuteTime": {
     "start_time": "2022-09-11T14:14:52.393Z"
    }
   },
   "outputs": [],
   "source": [
    "# Plotting the latent variables\n",
    "model.plot_z([1, 2])"
   ]
  },
  {
   "cell_type": "code",
   "execution_count": null,
   "metadata": {
    "ExecuteTime": {
     "start_time": "2022-09-11T14:14:52.396Z"
    }
   },
   "outputs": [],
   "source": [
    "# Plotting the fitted model\n",
    "model.plot_fit(figsize=(15, 5))"
   ]
  },
  {
   "cell_type": "code",
   "execution_count": null,
   "metadata": {
    "ExecuteTime": {
     "start_time": "2022-09-11T14:14:52.399Z"
    }
   },
   "outputs": [],
   "source": [
    "# Plotting the histogram for posterior check\n",
    "model.plot_ppc(T=kurtosis, nsims=1000)"
   ]
  },
  {
   "cell_type": "markdown",
   "metadata": {},
   "source": [
    "\n",
    "- Now that the training is done we can move to the prediction.\n",
    "- Prediction analysis is done for the 252 steps ahead.\n",
    "- To measure how good our model is, we'll used the RMSE.\n",
    "    \n",
""   ]
  },
  {
   "cell_type": "code",
   "execution_count": null,
   "metadata": {
    "ExecuteTime": {
     "start_time": "2022-09-11T14:14:52.404Z"
    }
   },
   "outputs": [],
   "source": [
    "bayesian_prediction = model.predict_is(n, fit_method='M-H')"
   ]
  },
  {
   "cell_type": "code",
   "execution_count": null,
   "metadata": {
    "ExecuteTime": {
     "start_time": "2022-09-11T14:14:52.406Z"
    }
   },
   "outputs": [],
   "source": [
    "bayesian_RMSE = np.sqrt(mse(realized_vol.iloc[-n:] / 100,\n",
    "                         bayesian_prediction.values / 100))\n",
    "print('The RMSE of Bayesian model is {:.6f}'.format(bayesian_RMSE))"
   ]
  },
  {
   "cell_type": "code",
   "execution_count": null,
   "metadata": {
    "ExecuteTime": {
     "start_time": "2022-09-11T14:14:52.409Z"
    }
   },
   "outputs": [],
   "source": [
    "bayesian_prediction.index = ret.iloc[-n:].index"
   ]
  },
  {
   "cell_type": "code",
   "execution_count": null,
   "metadata": {
    "ExecuteTime": {
     "start_time": "2022-09-11T14:14:52.412Z"
    },
    "scrolled": false
   },
   "outputs": [],
   "source": [
    "plt.figure(figsize=(10, 6))\n",
    "plt.plot(realized_vol / 100,\n",
    "         label='Realized Volatility')\n",
    "plt.plot(bayesian_prediction['Series'] / 100,\n",
    "         label='Volatility Prediction-Bayesian')\n",
    "plt.title('Volatility Prediction with M-H Approach', fontsize=12)\n",
    "plt.legend()\n",
    "plt.show()"
   ]
  },
  {
   "cell_type": "markdown",
   "metadata": {},
   "source": [
    "# Clean-up directory\n",
    "<hr style = \"border:2px solid black\" ></hr>"
   ]
  },
  {
   "cell_type": "code",
   "execution_count": null,
   "metadata": {},
   "outputs": [],
   "source": []
  },
  {
   "cell_type": "markdown",
   "metadata": {},
   "source": [
    "# Conclusions\n",
    "<hr style = \"border:2px solid black\" ></hr>"
   ]
  },
  {
   "cell_type": "markdown",
   "metadata": {},
   "source": [
    "\n",
    "- Volatility prediction is a key as it used to gauge uncertainty. \n",
    "- Traditional method can be used, being them parametric they are not flexible.\n",
    "- To remedy this issue, data-driven ML model can be used.\n",
    "\n",
""   ]
  },
  {
   "cell_type": "markdown",
   "metadata": {},
   "source": [
    "# References\n",
    "<hr style = \"border:2px solid black\" ></hr>"
   ]
  },
  {
   "cell_type": "markdown",
   "metadata": {},
   "source": [
    "\n",
    "- https://github.com/abdullahkarasan/mlfrm/blob/main/codes/chp_4.ipynb\n",
    "- Machine Learning for Financial Risk Management with Python Abdullah Karasan\n",
    "\n",
""   ]
  },
  {
   "cell_type": "code",
   "execution_count": null,
   "metadata": {},
   "outputs": [],
   "source": []
  }
 ],
 "metadata": {
  "kernelspec": {
   "display_name": "ML4T",
   "language": "python",
   "name": "ml4t"
  },
  "language_info": {
   "codemirror_mode": {
    "name": "ipython",
    "version": 3
   },
   "file_extension": ".py",
   "mimetype": "text/x-python",
   "name": "python",
   "nbconvert_exporter": "python",
   "pygments_lexer": "ipython3",
   "version": "3.10.4"
  },
  "latex_envs": {
   "LaTeX_envs_menu_present": true,
   "autoclose": false,
   "autocomplete": true,
   "bibliofile": "biblio.bib",
   "cite_by": "apalike",
   "current_citInitial": 1,
   "eqLabelWithNumbers": true,
   "eqNumInitial": 1,
   "hotkeys": {
    "equation": "Ctrl-E",
    "itemize": "Ctrl-I"
   },
   "labels_anchors": false,
   "latex_user_defs": false,
   "report_style_numbering": false,
   "user_envs_cfg": false
  },
  "toc": {
   "base_numbering": 1,
   "nav_menu": {},
   "number_sections": true,
   "sideBar": true,
   "skip_h1_title": false,
   "title_cell": "Table of Contents",
   "title_sidebar": "Contents",
   "toc_cell": false,
   "toc_position": {},
   "toc_section_display": true,
   "toc_window_display": true
  },
  "varInspector": {
   "cols": {
    "lenName": 16,
    "lenType": 16,
    "lenVar": 40
   },
   "kernels_config": {
    "python": {
     "delete_cmd_postfix": "",
     "delete_cmd_prefix": "del ",
     "library": "var_list.py",
     "varRefreshCmd": "print(var_dic_list())"
    },
    "r": {
     "delete_cmd_postfix": ") ",
     "delete_cmd_prefix": "rm(",
     "library": "var_list.r",
     "varRefreshCmd": "cat(var_dic_list()) "
    }
   },
   "types_to_exclude": [
    "module",
    "function",
    "builtin_function_or_method",
    "instance",
    "_Feature"
   ],
   "window_display": false
  }
 },
 "nbformat": 4,
 "nbformat_minor": 4
}
