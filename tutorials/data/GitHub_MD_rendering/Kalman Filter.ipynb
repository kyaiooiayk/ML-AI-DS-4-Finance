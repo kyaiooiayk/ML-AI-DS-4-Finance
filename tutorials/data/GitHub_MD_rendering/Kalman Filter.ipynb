{
 "cells": [
  {
   "cell_type": "markdown",
   "metadata": {
    "toc": true
   },
   "source": [
    "<h1>Table of Contents<span class=\"tocSkip\"></span></h1>\n",
""   ]
  },
  {
   "cell_type": "markdown",
   "metadata": {},
   "source": [
    "# Introduction\n",
    "<hr style = \"border:2px solid black\" ></hr>"
   ]
  },
  {
   "cell_type": "markdown",
   "metadata": {},
   "source": [
    "\n",
    "**What?** Karman filter\n",
    "\n",
""   ]
  },
  {
   "cell_type": "markdown",
   "metadata": {},
   "source": [
    "# Imports\n",
    "<hr style = \"border:2px solid black\" ></hr>"
   ]
  },
  {
   "cell_type": "code",
   "execution_count": 6,
   "metadata": {
    "ExecuteTime": {
     "end_time": "2022-08-29T15:19:58.599506Z",
     "start_time": "2022-08-29T15:19:58.594142Z"
    }
   },
   "outputs": [],
   "source": [
    "%matplotlib inline\n",
    "\n",
    "from datetime import datetime\n",
    "import itertools\n",
    "\n",
    "import pandas as pd\n",
    "import pandas_datareader.data as web\n",
    "from pykalman import KalmanFilter\n",
    "import pywt\n",
    "\n",
    "import matplotlib.pyplot as plt\n",
    "import seaborn as sns\n",
    "\n",
    "import warnings\n",
    "warnings.filterwarnings('ignore')\n",
    "\n",
    "warnings.filterwarnings('ignore')\n",
    "sns.set_style('whitegrid')\n",
    "idx = pd.IndexSlice\n",
    "\n",
    "import datetime as dt\n",
    "import pandas_datareader as pdr"
   ]
  },
  {
   "cell_type": "markdown",
   "metadata": {},
   "source": [
    "# Import dataset\n",
    "<hr style = \"border:2px solid black\" ></hr>"
   ]
  },
  {
   "cell_type": "code",
   "execution_count": 95,
   "metadata": {
    "ExecuteTime": {
     "end_time": "2022-08-29T15:40:38.727158Z",
     "start_time": "2022-08-29T15:40:37.961819Z"
    }
   },
   "outputs": [],
   "source": [
    "# NLFLX is the netflix stock price\n",
    "start = dt.datetime(2020, 1, 1)\n",
    "data = pdr.get_data_yahoo(\"NFLX\", start)"
   ]
  },
  {
   "cell_type": "code",
   "execution_count": 96,
   "metadata": {
    "ExecuteTime": {
     "end_time": "2022-08-29T15:40:38.798408Z",
     "start_time": "2022-08-29T15:40:38.789503Z"
    }
   },
   "outputs": [
    {
     "data": {
      "text/html": [
       "<style scoped>\n",
       "    .dataframe tbody tr th:only-of-type {\n",
       "        vertical-align: middle;\n",
       "    }\n",
       "\n",
       "    .dataframe tbody tr th {\n",
       "        vertical-align: top;\n",
       "    }\n",
       "\n",
       "    .dataframe thead th {\n",
       "        text-align: right;\n",
       "    }\n",
       "</style>\n",
       "<table border=\"1\" class=\"dataframe\">\n",
       "  <thead>\n",
       "    <tr style=\"text-align: right;\">\n",
       "      <th></th>\n",
       "      <th>High</th>\n",
       "      <th>Low</th>\n",
       "      <th>Open</th>\n",
       "      <th>Close</th>\n",
       "      <th>Volume</th>\n",
       "      <th>Adj Close</th>\n",
       "    </tr>\n",
       "    <tr>\n",
       "      <th>Date</th>\n",
       "      <th></th>\n",
       "      <th></th>\n",
       "      <th></th>\n",
       "      <th></th>\n",
       "      <th></th>\n",
       "      <th></th>\n",
       "    </tr>\n",
       "  </thead>\n",
       "  <tbody>\n",
       "    <tr>\n",
       "      <th>2020-01-02</th>\n",
       "      <td>329.980011</td>\n",
       "      <td>324.779999</td>\n",
       "      <td>326.100006</td>\n",
       "      <td>329.809998</td>\n",
       "      <td>4485800</td>\n",
       "      <td>329.809998</td>\n",
       "    </tr>\n",
       "    <tr>\n",
       "      <th>2020-01-03</th>\n",
       "      <td>329.859985</td>\n",
       "      <td>325.529999</td>\n",
       "      <td>326.779999</td>\n",
       "      <td>325.899994</td>\n",
       "      <td>3806900</td>\n",
       "      <td>325.899994</td>\n",
       "    </tr>\n",
       "    <tr>\n",
       "      <th>2020-01-06</th>\n",
       "      <td>336.359985</td>\n",
       "      <td>321.200012</td>\n",
       "      <td>323.119995</td>\n",
       "      <td>335.829987</td>\n",
       "      <td>5663100</td>\n",
       "      <td>335.829987</td>\n",
       "    </tr>\n",
       "    <tr>\n",
       "      <th>2020-01-07</th>\n",
       "      <td>336.700012</td>\n",
       "      <td>330.299988</td>\n",
       "      <td>336.470001</td>\n",
       "      <td>330.750000</td>\n",
       "      <td>4703200</td>\n",
       "      <td>330.750000</td>\n",
       "    </tr>\n",
       "    <tr>\n",
       "      <th>2020-01-08</th>\n",
       "      <td>342.700012</td>\n",
       "      <td>331.049988</td>\n",
       "      <td>331.489990</td>\n",
       "      <td>339.260010</td>\n",
       "      <td>7104500</td>\n",
       "      <td>339.260010</td>\n",
       "    </tr>\n",
       "  </tbody>\n",
       "</table>\n",
""      ],
      "text/plain": [
       "                  High         Low        Open       Close   Volume  \\\n",
       "Date                                                                  \n",
       "2020-01-02  329.980011  324.779999  326.100006  329.809998  4485800   \n",
       "2020-01-03  329.859985  325.529999  326.779999  325.899994  3806900   \n",
       "2020-01-06  336.359985  321.200012  323.119995  335.829987  5663100   \n",
       "2020-01-07  336.700012  330.299988  336.470001  330.750000  4703200   \n",
       "2020-01-08  342.700012  331.049988  331.489990  339.260010  7104500   \n",
       "\n",
       "             Adj Close  \n",
       "Date                    \n",
       "2020-01-02  329.809998  \n",
       "2020-01-03  325.899994  \n",
       "2020-01-06  335.829987  \n",
       "2020-01-07  330.750000  \n",
       "2020-01-08  339.260010  "
      ]
     },
     "execution_count": 96,
     "metadata": {},
     "output_type": "execute_result"
    }
   ],
   "source": [
    "data.head()"
   ]
  },
  {
   "cell_type": "code",
   "execution_count": 97,
   "metadata": {
    "ExecuteTime": {
     "end_time": "2022-08-29T15:40:38.866998Z",
     "start_time": "2022-08-29T15:40:38.861711Z"
    }
   },
   "outputs": [
    {
     "data": {
      "text/plain": [
       "Date\n",
       "2020-01-02    329.809998\n",
       "2020-01-03    325.899994\n",
       "2020-01-06    335.829987\n",
       "2020-01-07    330.750000\n",
       "2020-01-08    339.260010\n",
       "                 ...    \n",
       "2022-08-23    224.550003\n",
       "2022-08-24    229.610001\n",
       "2022-08-25    233.979996\n",
       "2022-08-26    223.279999\n",
       "2022-08-29    225.260101\n",
       "Name: Adj Close, Length: 670, dtype: float64"
      ]
     },
     "execution_count": 97,
     "metadata": {},
     "output_type": "execute_result"
    }
   ],
   "source": [
    "df = data[\"Adj Close\"]\n",
    "df"
   ]
  },
  {
   "cell_type": "code",
   "execution_count": 99,
   "metadata": {
    "ExecuteTime": {
     "end_time": "2022-08-29T15:40:42.252773Z",
     "start_time": "2022-08-29T15:40:41.968257Z"
    }
   },
   "outputs": [
    {
     "data": {
      "text/plain": [
       "<matplotlib.legend.Legend at 0x7fb08969b5e0>"
      ]
     },
     "execution_count": 99,
     "metadata": {},
     "output_type": "execute_result"
    },
    {
     "data": {
      "image/png": "[encoded data removed]",
      "text/plain": [
       "<Figure size 432x288 with 1 Axes>"
      ]
     },
     "metadata": {},
     "output_type": "display_data"
    }
   ],
   "source": [
    "fig, ax = plt.subplots()\n",
    "df.plot(ax=ax)\n",
    "ax.set_ylabel(\"ATR\")\n",
    "data.plot\n",
    "ax.legend()"
   ]
  },
  {
   "cell_type": "markdown",
   "metadata": {},
   "source": [
    "# Kalman Filter \n",
    "<hr style = \"border:2px solid black\" ></hr>"
   ]
  },
  {
   "cell_type": "markdown",
   "metadata": {},
   "source": [
    "\n",
    "- The Kalman filter is a dynamic linear model of sequential data like a time series that adapts to new information as it arrives. Rather than using a fixed-size window like a moving average or a given set of weights like an exponential moving average, it incorporates new data into its estimates of the current value of the time series based on a probabilistic model.\n",
    "\n",
    "- **Why Use the Word “Filter”?** A noisy time series is like a time series with many rough edges. The Kalman Filter estimates the underlying states. It “filters” out the rough edges to reveal relatively smooth patterns.\n",
    "\n",
    "- Notice that **smoothing** is different from the smoothing of moving average methods. The moving average methods take the past points, even errors, with differential weights to get a smoothed line. In contrast, the Kalman Filter recognizes some data points as noise. \n",
    "\n",
    "- A Kalman filter is called an optimal estimator. Optimal in what sense? The Kalman filter minimizes the mean square error of the estimated parameters. So it is the best-unbiased estimator.\n",
    "\n",
    "- It is recursive so that `Xt+1` can be calculated only with `Xt`. and does not require the presence of all past data points `X0, X1, …, Xt`. This is an important merit for real-time processing.\n",
    "    \n",
    "- The error terms in Equations (1) and (2) are both Gaussian distributions, so the error term in the predicted values also follows the Gaussian distribution.\n",
    "    \n",
    "- There is no need to provide labeled target data to “train” a model.\n",
    "    \n",
""   ]
  },
  {
   "cell_type": "markdown",
   "metadata": {},
   "source": [
    "# Random walk\n",
    "<hr style = \"border:2px solid black\" ></hr>"
   ]
  },
  {
   "cell_type": "markdown",
   "metadata": {},
   "source": [
    "\n",
    "- Stock price movement is widely modeled as a **random walk**. It means at each point in time the series merely takes a random step away from its last position, with steps that the mean value is zero. \n",
    "\n",
    "- This is described in Equation (1) describes: `Xt = At * Xt-1`, where At is the transition matrix and At = 1. This is also called random-walk-without-drift. \n",
    "\n",
    "- If the mean step size is a nonzero value α, it is called random-walk-with-drift. It becomes `Xt = At * Xt-1 + α`. \n",
    "        \n",
""   ]
  },
  {
   "cell_type": "markdown",
   "metadata": {},
   "source": [
    "# Connection btw Random walk and Karman filter\n",
    "<hr style = \"border:2px solid black\" ></hr>"
   ]
  },
  {
   "cell_type": "markdown",
   "metadata": {},
   "source": [
    "\n",
    "- It is straightforward to implement the Kalman Filter. Equation (1) only has one term Xt-1. So the transition matrix At only has one value [1.0]. It is 1.0 because of the random walk assumption. We also allow it to have small turbulence of 0.01, meaning the At can sometimes go above 1.0 and sometimes go below 1.0. It is denoted by transition_covariance=0.01. The observation matrix Ct also is 1.0.\n",
    "\n",
    "- The initial value `X0` can be any value as you'll see how it quickly converges to the true value. The error terms qt and rt are Gaussian-distributed with a mean of 0 and variance of 1.0. So initial_state_covariance=1 and observation_covariance=1.\n",
    "\n",
""   ]
  },
  {
   "cell_type": "markdown",
   "metadata": {},
   "source": [
    "## Chose filter parameters\n",
    "<hr style = \"border:2px solid black\" ></hr>"
   ]
  },
  {
   "cell_type": "markdown",
   "metadata": {},
   "source": [
    "\n",
    "- `transition_matrices = [1]` = The value for At. It is a random walk so is set to 1.0\n",
    "- `observation_matrices = [1]` =  The value for Ht.\n",
    "- `initial_state_mean = 0` = Any initial value. It will converge to the true state value.\n",
    "- `initial_state_covariance = 1` = Sigma value for the Qt in Equation (1) the Gaussian distribution\n",
    "- `observation_covariance=1` = Sigma value for the Rt in Equation (2) the Gaussian distribution\n",
    "- `transition_covariance=.01` = A small turbulence in the random walk parameter 1.0\n",
    "\n",
""   ]
  },
  {
   "cell_type": "code",
   "execution_count": 100,
   "metadata": {
    "ExecuteTime": {
     "end_time": "2022-08-29T15:40:44.625327Z",
     "start_time": "2022-08-29T15:40:44.622468Z"
    }
   },
   "outputs": [],
   "source": [
    "kf = KalmanFilter(transition_matrices = [1],\n",
    "                  observation_matrices = [1],\n",
    "                  initial_state_mean = 0,\n",
    "                  initial_state_covariance = 1,\n",
    "                  observation_covariance=1,\n",
    "                  transition_covariance=.01)"
   ]
  },
  {
   "cell_type": "markdown",
   "metadata": {},
   "source": [
    "## Applying the filter to stock\n",
    "<hr style = \"border:2px solid black\" ></hr>"
   ]
  },
  {
   "cell_type": "code",
   "execution_count": 101,
   "metadata": {
    "ExecuteTime": {
     "end_time": "2022-08-29T15:40:47.599843Z",
     "start_time": "2022-08-29T15:40:47.457803Z"
    },
    "scrolled": true
   },
   "outputs": [],
   "source": [
    "# Estimate the hidden state\n",
    "state_means, _ = kf.filter(df)"
   ]
  },
  {
   "cell_type": "code",
   "execution_count": 102,
   "metadata": {
    "ExecuteTime": {
     "end_time": "2022-08-29T15:40:52.050244Z",
     "start_time": "2022-08-29T15:40:52.047416Z"
    }
   },
   "outputs": [],
   "source": [
    "Add it to the dataset\n",
    "data['KF'] = np.array(state_means)"
   ]
  },
  {
   "cell_type": "code",
   "execution_count": 103,
   "metadata": {
    "ExecuteTime": {
     "end_time": "2022-08-29T15:40:52.397948Z",
     "start_time": "2022-08-29T15:40:52.384856Z"
    }
   },
   "outputs": [
    {
     "data": {
      "text/html": [
       "<style scoped>\n",
       "    .dataframe tbody tr th:only-of-type {\n",
       "        vertical-align: middle;\n",
       "    }\n",
       "\n",
       "    .dataframe tbody tr th {\n",
       "        vertical-align: top;\n",
       "    }\n",
       "\n",
       "    .dataframe thead th {\n",
       "        text-align: right;\n",
       "    }\n",
       "</style>\n",
       "<table border=\"1\" class=\"dataframe\">\n",
       "  <thead>\n",
       "    <tr style=\"text-align: right;\">\n",
       "      <th></th>\n",
       "      <th>High</th>\n",
       "      <th>Low</th>\n",
       "      <th>Open</th>\n",
       "      <th>Close</th>\n",
       "      <th>Volume</th>\n",
       "      <th>Adj Close</th>\n",
       "      <th>KF</th>\n",
       "    </tr>\n",
       "    <tr>\n",
       "      <th>Date</th>\n",
       "      <th></th>\n",
       "      <th></th>\n",
       "      <th></th>\n",
       "      <th></th>\n",
       "      <th></th>\n",
       "      <th></th>\n",
       "      <th></th>\n",
       "    </tr>\n",
       "  </thead>\n",
       "  <tbody>\n",
       "    <tr>\n",
       "      <th>2020-01-02</th>\n",
       "      <td>329.980011</td>\n",
       "      <td>324.779999</td>\n",
       "      <td>326.100006</td>\n",
       "      <td>329.809998</td>\n",
       "      <td>4485800</td>\n",
       "      <td>329.809998</td>\n",
       "      <td>164.904999</td>\n",
       "    </tr>\n",
       "    <tr>\n",
       "      <th>2020-01-03</th>\n",
       "      <td>329.859985</td>\n",
       "      <td>325.529999</td>\n",
       "      <td>326.779999</td>\n",
       "      <td>325.899994</td>\n",
       "      <td>3806900</td>\n",
       "      <td>325.899994</td>\n",
       "      <td>219.280792</td>\n",
       "    </tr>\n",
       "    <tr>\n",
       "      <th>2020-01-06</th>\n",
       "      <td>336.359985</td>\n",
       "      <td>321.200012</td>\n",
       "      <td>323.119995</td>\n",
       "      <td>335.829987</td>\n",
       "      <td>5663100</td>\n",
       "      <td>335.829987</td>\n",
       "      <td>249.353015</td>\n",
       "    </tr>\n",
       "    <tr>\n",
       "      <th>2020-01-07</th>\n",
       "      <td>336.700012</td>\n",
       "      <td>330.299988</td>\n",
       "      <td>336.470001</td>\n",
       "      <td>330.750000</td>\n",
       "      <td>4703200</td>\n",
       "      <td>330.750000</td>\n",
       "      <td>266.557894</td>\n",
       "    </tr>\n",
       "    <tr>\n",
       "      <th>2020-01-08</th>\n",
       "      <td>342.700012</td>\n",
       "      <td>331.049988</td>\n",
       "      <td>331.489990</td>\n",
       "      <td>339.260010</td>\n",
       "      <td>7104500</td>\n",
       "      <td>339.260010</td>\n",
       "      <td>279.734954</td>\n",
       "    </tr>\n",
       "    <tr>\n",
       "      <th>...</th>\n",
       "      <td>...</td>\n",
       "      <td>...</td>\n",
       "      <td>...</td>\n",
       "      <td>...</td>\n",
       "      <td>...</td>\n",
       "      <td>...</td>\n",
       "      <td>...</td>\n",
       "    </tr>\n",
       "    <tr>\n",
       "      <th>2022-08-23</th>\n",
       "      <td>229.899994</td>\n",
       "      <td>224.300003</td>\n",
       "      <td>226.460007</td>\n",
       "      <td>224.550003</td>\n",
       "      <td>5276900</td>\n",
       "      <td>224.550003</td>\n",
       "      <td>230.895065</td>\n",
       "    </tr>\n",
       "    <tr>\n",
       "      <th>2022-08-24</th>\n",
       "      <td>234.100006</td>\n",
       "      <td>223.940002</td>\n",
       "      <td>225.660004</td>\n",
       "      <td>229.610001</td>\n",
       "      <td>5426300</td>\n",
       "      <td>229.610001</td>\n",
       "      <td>230.772823</td>\n",
       "    </tr>\n",
       "    <tr>\n",
       "      <th>2022-08-25</th>\n",
       "      <td>234.160004</td>\n",
       "      <td>229.000000</td>\n",
       "      <td>230.240005</td>\n",
       "      <td>233.979996</td>\n",
       "      <td>3766900</td>\n",
       "      <td>233.979996</td>\n",
       "      <td>231.077905</td>\n",
       "    </tr>\n",
       "    <tr>\n",
       "      <th>2022-08-26</th>\n",
       "      <td>236.949997</td>\n",
       "      <td>223.149994</td>\n",
       "      <td>233.630005</td>\n",
       "      <td>223.279999</td>\n",
       "      <td>5345300</td>\n",
       "      <td>223.279999</td>\n",
       "      <td>230.336130</td>\n",
       "    </tr>\n",
       "    <tr>\n",
       "      <th>2022-08-29</th>\n",
       "      <td>229.869995</td>\n",
       "      <td>221.520004</td>\n",
       "      <td>221.929993</td>\n",
       "      <td>225.260101</td>\n",
       "      <td>3549071</td>\n",
       "      <td>225.260101</td>\n",
       "      <td>229.853273</td>\n",
       "    </tr>\n",
       "  </tbody>\n",
       "</table>\n",
       "<p>670 rows × 7 columns</p>\n",
""      ],
      "text/plain": [
       "                  High         Low        Open       Close   Volume  \\\n",
       "Date                                                                  \n",
       "2020-01-02  329.980011  324.779999  326.100006  329.809998  4485800   \n",
       "2020-01-03  329.859985  325.529999  326.779999  325.899994  3806900   \n",
       "2020-01-06  336.359985  321.200012  323.119995  335.829987  5663100   \n",
       "2020-01-07  336.700012  330.299988  336.470001  330.750000  4703200   \n",
       "2020-01-08  342.700012  331.049988  331.489990  339.260010  7104500   \n",
       "...                ...         ...         ...         ...      ...   \n",
       "2022-08-23  229.899994  224.300003  226.460007  224.550003  5276900   \n",
       "2022-08-24  234.100006  223.940002  225.660004  229.610001  5426300   \n",
       "2022-08-25  234.160004  229.000000  230.240005  233.979996  3766900   \n",
       "2022-08-26  236.949997  223.149994  233.630005  223.279999  5345300   \n",
       "2022-08-29  229.869995  221.520004  221.929993  225.260101  3549071   \n",
       "\n",
       "             Adj Close          KF  \n",
       "Date                                \n",
       "2020-01-02  329.809998  164.904999  \n",
       "2020-01-03  325.899994  219.280792  \n",
       "2020-01-06  335.829987  249.353015  \n",
       "2020-01-07  330.750000  266.557894  \n",
       "2020-01-08  339.260010  279.734954  \n",
       "...                ...         ...  \n",
       "2022-08-23  224.550003  230.895065  \n",
       "2022-08-24  229.610001  230.772823  \n",
       "2022-08-25  233.979996  231.077905  \n",
       "2022-08-26  223.279999  230.336130  \n",
       "2022-08-29  225.260101  229.853273  \n",
       "\n",
       "[670 rows x 7 columns]"
      ]
     },
     "execution_count": 103,
     "metadata": {},
     "output_type": "execute_result"
    }
   ],
   "source": [
    "data"
   ]
  },
  {
   "cell_type": "code",
   "execution_count": 106,
   "metadata": {
    "ExecuteTime": {
     "end_time": "2022-08-29T15:44:11.592724Z",
     "start_time": "2022-08-29T15:44:11.294658Z"
    }
   },
   "outputs": [
    {
     "data": {
      "text/plain": [
       "<matplotlib.legend.Legend at 0x7fb0897dc2e0>"
      ]
     },
     "execution_count": 106,
     "metadata": {},
     "output_type": "execute_result"
    },
    {
     "data": {
      "image/png": "[encoded data removed]",
      "text/plain": [
       "<Figure size 432x288 with 1 Axes>"
      ]
     },
     "metadata": {},
     "output_type": "display_data"
    }
   ],
   "source": [
    "fig, ax = plt.subplots()\n",
    "df.plot(ax=ax)\n",
    "data[\"KF\"].plot(ax=ax)\n",
    "data.plot\n",
    "ax.legend()"
   ]
  },
  {
   "cell_type": "markdown",
   "metadata": {},
   "source": [
    "\n",
    "- **The first few estimates are far off from the target “Adj Close”** However, it converges to the target “Adj Close” after the first few observations, as shown in the plot below.\n",
    "    \n",
    "- **We do not set up a training dataset to train the model** The Kalman Filter does not work that way. The purpose of training a model is to get the parameters At. The Kalman Filter gets a parameter value for each new time step t.\n",
    "\n",
""   ]
  },
  {
   "cell_type": "markdown",
   "metadata": {},
   "source": [
    "# References\n",
    "<hr style = \"border:2px solid black\" ></hr>"
   ]
  },
  {
   "cell_type": "markdown",
   "metadata": {},
   "source": [
    "\n",
    "- https://medium.com/dataman-in-ai/kalman-filter-explained-4d65b47916bf\n",
    "- https://www.quantstart.com/articles/State-Space-Models-and-the-Kalman-Filter/\n",
    "    \n",
""   ]
  },
  {
   "cell_type": "code",
   "execution_count": null,
   "metadata": {},
   "outputs": [],
   "source": []
  }
 ],
 "metadata": {
  "kernelspec": {
   "display_name": "trainingAI",
   "language": "python",
   "name": "trainingai"
  },
  "language_info": {
   "codemirror_mode": {
    "name": "ipython",
    "version": 3
   },
   "file_extension": ".py",
   "mimetype": "text/x-python",
   "name": "python",
   "nbconvert_exporter": "python",
   "pygments_lexer": "ipython3",
   "version": "3.9.7"
  },
  "toc": {
   "base_numbering": 1,
   "nav_menu": {},
   "number_sections": true,
   "sideBar": true,
   "skip_h1_title": false,
   "title_cell": "Table of Contents",
   "title_sidebar": "Contents",
   "toc_cell": true,
   "toc_position": {
    "height": "calc(100% - 180px)",
    "left": "10px",
    "top": "150px",
    "width": "230.355px"
   },
   "toc_section_display": true,
   "toc_window_display": true
  },
  "varInspector": {
   "cols": {
    "lenName": 16,
    "lenType": 16,
    "lenVar": 40
   },
   "kernels_config": {
    "python": {
     "delete_cmd_postfix": "",
     "delete_cmd_prefix": "del ",
     "library": "var_list.py",
     "varRefreshCmd": "print(var_dic_list())"
    },
    "r": {
     "delete_cmd_postfix": ") ",
     "delete_cmd_prefix": "rm(",
     "library": "var_list.r",
     "varRefreshCmd": "cat(var_dic_list()) "
    }
   },
   "types_to_exclude": [
    "module",
    "function",
    "builtin_function_or_method",
    "instance",
    "_Feature"
   ],
   "window_display": false
  }
 },
 "nbformat": 4,
 "nbformat_minor": 2
}
