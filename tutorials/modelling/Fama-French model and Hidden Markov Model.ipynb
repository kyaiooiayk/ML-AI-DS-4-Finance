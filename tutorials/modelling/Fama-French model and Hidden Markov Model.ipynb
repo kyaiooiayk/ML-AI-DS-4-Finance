{
 "cells": [
  {
   "cell_type": "markdown",
   "id": "9a36c15b",
   "metadata": {
    "toc": true
   },
   "source": [
    "<h1>Table of Contents<span class=\"tocSkip\"></span></h1>\n",
    "<div class=\"toc\"><ul class=\"toc-item\"><li><span><a href=\"#Introduction\" data-toc-modified-id=\"Introduction-1\">Introduction</a></span></li><li><span><a href=\"#Imports\" data-toc-modified-id=\"Imports-2\">Imports</a></span></li><li><span><a href=\"#HMM---Hidden-Markov-Model\" data-toc-modified-id=\"HMM---Hidden-Markov-Model-3\">HMM - Hidden Markov Model</a></span></li><li><span><a href=\"#Fame-French-model\" data-toc-modified-id=\"Fame-French-model-4\">Fame-French model</a></span></li><li><span><a href=\"#Get-the-data\" data-toc-modified-id=\"Get-the-data-5\">Get the data</a></span></li><li><span><a href=\"#Selecting-a-stock-return\" data-toc-modified-id=\"Selecting-a-stock-return-6\">Selecting a stock-return</a></span></li><li><span><a href=\"#Gaussian-HMM\" data-toc-modified-id=\"Gaussian-HMM-7\">Gaussian HMM</a></span></li><li><span><a href=\"#Optimal-number-of-hidden-states---elbow-analysis\" data-toc-modified-id=\"Optimal-number-of-hidden-states---elbow-analysis-8\">Optimal number of hidden states - elbow analysis</a></span></li><li><span><a href=\"#Visualisation-of-the-states\" data-toc-modified-id=\"Visualisation-of-the-states-9\">Visualisation of the states</a></span></li><li><span><a href=\"#Comparison\" data-toc-modified-id=\"Comparison-10\">Comparison</a></span><ul class=\"toc-item\"><li><span><a href=\"#Fama-French-Model-vs.-HMM\" data-toc-modified-id=\"Fama-French-Model-vs.-HMM-10.1\">Fama-French Model vs. HMM</a></span></li><li><span><a href=\"#Fama-French-Model-with-OLS\" data-toc-modified-id=\"Fama-French-Model-with-OLS-10.2\">Fama-French Model with OLS</a></span></li><li><span><a href=\"#Backtesting\" data-toc-modified-id=\"Backtesting-10.3\">Backtesting</a></span></li><li><span><a href=\"#Synthetic-Data-Generation-and-Hidden-Markov\" data-toc-modified-id=\"Synthetic-Data-Generation-and-Hidden-Markov-10.4\">Synthetic Data Generation and Hidden Markov</a></span></li></ul></li><li><span><a href=\"#References\" data-toc-modified-id=\"References-11\">References</a></span></li></ul></div>"
   ]
  },
  {
   "cell_type": "markdown",
   "id": "8793800f",
   "metadata": {},
   "source": [
    "# Introduction\n",
    "<hr style = \"border:2px solid black\" ></hr>"
   ]
  },
  {
   "cell_type": "markdown",
   "id": "eb58ab9c",
   "metadata": {},
   "source": [
    "<div class=\"alert alert-warning\">\n",
    "<font color=black>\n",
    "\n",
    "**What?** Synthetic data generation\n",
    "\n",
    "</font>\n",
    "</div>"
   ]
  },
  {
   "cell_type": "markdown",
   "id": "3dee763f",
   "metadata": {},
   "source": [
    "# Imports\n",
    "<hr style = \"border:2px solid black\" ></hr>"
   ]
  },
  {
   "cell_type": "code",
   "execution_count": 1,
   "id": "e15547c9",
   "metadata": {
    "ExecuteTime": {
     "end_time": "2022-09-19T09:05:13.001733Z",
     "start_time": "2022-09-19T09:05:11.064751Z"
    }
   },
   "outputs": [],
   "source": [
    "import pandas as pd\n",
    "import numpy as np\n",
    "import matplotlib. pyplot as plt\n",
    "import yfinance as yf\n",
    "import datetime\n",
    "from matplotlib import rcParams\n",
    "from hmmlearn import hmm\n",
    "from matplotlib.dates import YearLocator, MonthLocator\n",
    "from matplotlib import cm\n",
    "import statsmodels.api as sm\n",
    "#%matplotlib notebook\n",
    "rcParams['figure.figsize'] = 6, 6\n",
    "rcParams['font.size'] = 20"
   ]
  },
  {
   "cell_type": "code",
   "execution_count": 2,
   "id": "9759292d",
   "metadata": {
    "ExecuteTime": {
     "end_time": "2022-09-19T09:05:13.007297Z",
     "start_time": "2022-09-19T09:05:13.004290Z"
    }
   },
   "outputs": [],
   "source": [
    "import warnings\n",
    "warnings.filterwarnings('ignore')"
   ]
  },
  {
   "cell_type": "markdown",
   "id": "a3d26e82",
   "metadata": {},
   "source": [
    "# HMM - Hidden Markov Model\n",
    "<hr style = \"border:2px solid black\" ></hr>"
   ]
  },
  {
   "cell_type": "markdown",
   "id": "f29f2249",
   "metadata": {},
   "source": [
    "<div class=\"alert alert-info\">\n",
    "<font color=black>\n",
    " \n",
    "\n",
    "- HMM gives us a probability distribution over sequential data, which is modeled by a Markov process with hidden states. HMM enables us to estimate probability transition from one state to another.\n",
    "\n",
    "- To illustrate, let us consider the stock market, in which stocks go up, go down, or stay constant. Pick a random state—say, going up. The next state would be either going up, going down, or staying constant. In this context, the state is thought to be a hidden state because we do not know with certainty which state will prevail next in the market.\n",
    "    \n",
    "- HMM makes two assumptions:\n",
    "    - All observations are solely dependent on the current state and are conditionally independent of other variables\n",
    "    - The transition probabilities are homogenous and depend only on the current hidden state\n",
    "    \n",
    "</font>\n",
    "</div> "
   ]
  },
  {
   "cell_type": "markdown",
   "id": "fc370621",
   "metadata": {},
   "source": [
    "# Fame-French model\n",
    "<hr style = \"border:2px solid black\" ></hr>"
   ]
  },
  {
   "cell_type": "markdown",
   "id": "84e5b2b9",
   "metadata": {},
   "source": [
    "<div class=\"alert alert-info\">\n",
    "<font color=black>\n",
    " \n",
    "- The Fama-French model expands on the previous CAPM model. The model suggests  3 brand-new explanatory variables/factors to account for the changes in stock returns. \n",
    "\n",
    "    - [x] **market risk Rm − Rf** - is basically the return of a market portfolio minus the risk-free rate, which is a hypothetical rate proxied by government-issued T-bills or similar assets.\n",
    "    - [x] **small minus big (SMB)** - is a proxy for size effect. Size effect is an important variable used to explain several phenomenon in corporate finance. It is represented by different variables like logarithm of total assets. Fama-French takes size effect into account by calculating between returns of small-cap companies and big-cap companies.\n",
    "    - [x] **high minus low (HML)** - represents the spread in returns between companies with high book-to-market and companies with low book-to-market, comparing a company’s book value to its market value.    \n",
    "\n",
    "- Empirical studies suggest that smaller SMB, higher HML, and smaller Rm−Rf boosts stock returns.\n",
    "\n",
    "</font>\n",
    "</div>"
   ]
  },
  {
   "cell_type": "markdown",
   "id": "26d01d6e",
   "metadata": {},
   "source": [
    "# Get the data\n",
    "<hr style = \"border:2px solid black\" ></hr>"
   ]
  },
  {
   "cell_type": "code",
   "execution_count": 3,
   "id": "1c46f351",
   "metadata": {
    "ExecuteTime": {
     "end_time": "2022-09-19T09:05:13.057728Z",
     "start_time": "2022-09-19T09:05:13.010746Z"
    }
   },
   "outputs": [
    {
     "data": {
      "text/html": [
       "<div>\n",
       "<style scoped>\n",
       "    .dataframe tbody tr th:only-of-type {\n",
       "        vertical-align: middle;\n",
       "    }\n",
       "\n",
       "    .dataframe tbody tr th {\n",
       "        vertical-align: top;\n",
       "    }\n",
       "\n",
       "    .dataframe thead th {\n",
       "        text-align: right;\n",
       "    }\n",
       "</style>\n",
       "<table border=\"1\" class=\"dataframe\">\n",
       "  <thead>\n",
       "    <tr style=\"text-align: right;\">\n",
       "      <th></th>\n",
       "      <th>Date</th>\n",
       "      <th>Mkt-RF</th>\n",
       "      <th>SMB</th>\n",
       "      <th>HML</th>\n",
       "      <th>RF</th>\n",
       "    </tr>\n",
       "  </thead>\n",
       "  <tbody>\n",
       "    <tr>\n",
       "      <th>0</th>\n",
       "      <td>19260701</td>\n",
       "      <td>0.10</td>\n",
       "      <td>-0.24</td>\n",
       "      <td>-0.28</td>\n",
       "      <td>0.009</td>\n",
       "    </tr>\n",
       "    <tr>\n",
       "      <th>1</th>\n",
       "      <td>19260702</td>\n",
       "      <td>0.45</td>\n",
       "      <td>-0.32</td>\n",
       "      <td>-0.08</td>\n",
       "      <td>0.009</td>\n",
       "    </tr>\n",
       "    <tr>\n",
       "      <th>2</th>\n",
       "      <td>19260706</td>\n",
       "      <td>0.17</td>\n",
       "      <td>0.27</td>\n",
       "      <td>-0.35</td>\n",
       "      <td>0.009</td>\n",
       "    </tr>\n",
       "    <tr>\n",
       "      <th>3</th>\n",
       "      <td>19260707</td>\n",
       "      <td>0.09</td>\n",
       "      <td>-0.59</td>\n",
       "      <td>0.03</td>\n",
       "      <td>0.009</td>\n",
       "    </tr>\n",
       "    <tr>\n",
       "      <th>4</th>\n",
       "      <td>19260708</td>\n",
       "      <td>0.21</td>\n",
       "      <td>-0.36</td>\n",
       "      <td>0.15</td>\n",
       "      <td>0.009</td>\n",
       "    </tr>\n",
       "  </tbody>\n",
       "</table>\n",
       "</div>"
      ],
      "text/plain": [
       "       Date  Mkt-RF   SMB   HML     RF\n",
       "0  19260701    0.10 -0.24 -0.28  0.009\n",
       "1  19260702    0.45 -0.32 -0.08  0.009\n",
       "2  19260706    0.17  0.27 -0.35  0.009\n",
       "3  19260707    0.09 -0.59  0.03  0.009\n",
       "4  19260708    0.21 -0.36  0.15  0.009"
      ]
     },
     "execution_count": 3,
     "metadata": {},
     "output_type": "execute_result"
    }
   ],
   "source": [
    "ff = pd.read_csv('./FF3.csv', skiprows=4)\n",
    "ff = ff.rename(columns={'Unnamed: 0': 'Date'})\n",
    "ff = ff.iloc[:-1]\n",
    "ff.head()"
   ]
  },
  {
   "cell_type": "code",
   "execution_count": 4,
   "id": "e14b804b",
   "metadata": {
    "ExecuteTime": {
     "end_time": "2022-09-19T09:05:13.077291Z",
     "start_time": "2022-09-19T09:05:13.060102Z"
    }
   },
   "outputs": [
    {
     "name": "stdout",
     "output_type": "stream",
     "text": [
      "<class 'pandas.core.frame.DataFrame'>\n",
      "RangeIndex: 24978 entries, 0 to 24977\n",
      "Data columns (total 5 columns):\n",
      " #   Column  Non-Null Count  Dtype  \n",
      "---  ------  --------------  -----  \n",
      " 0   Date    24978 non-null  object \n",
      " 1   Mkt-RF  24978 non-null  float64\n",
      " 2   SMB     24978 non-null  float64\n",
      " 3   HML     24978 non-null  float64\n",
      " 4   RF      24978 non-null  float64\n",
      "dtypes: float64(4), object(1)\n",
      "memory usage: 975.8+ KB\n"
     ]
    }
   ],
   "source": [
    "ff.info()"
   ]
  },
  {
   "cell_type": "code",
   "execution_count": 5,
   "id": "39442b02",
   "metadata": {
    "ExecuteTime": {
     "end_time": "2022-09-19T09:05:13.093033Z",
     "start_time": "2022-09-19T09:05:13.079451Z"
    }
   },
   "outputs": [],
   "source": [
    "ff['Date'] = pd.to_datetime(ff['Date'])\n",
    "ff.set_index('Date', inplace=True)\n",
    "ff_trim = ff.loc['2000-01-01':]"
   ]
  },
  {
   "cell_type": "code",
   "execution_count": 6,
   "id": "51699036",
   "metadata": {
    "ExecuteTime": {
     "end_time": "2022-09-19T09:05:13.106508Z",
     "start_time": "2022-09-19T09:05:13.095098Z"
    }
   },
   "outputs": [
    {
     "data": {
      "text/html": [
       "<div>\n",
       "<style scoped>\n",
       "    .dataframe tbody tr th:only-of-type {\n",
       "        vertical-align: middle;\n",
       "    }\n",
       "\n",
       "    .dataframe tbody tr th {\n",
       "        vertical-align: top;\n",
       "    }\n",
       "\n",
       "    .dataframe thead th {\n",
       "        text-align: right;\n",
       "    }\n",
       "</style>\n",
       "<table border=\"1\" class=\"dataframe\">\n",
       "  <thead>\n",
       "    <tr style=\"text-align: right;\">\n",
       "      <th></th>\n",
       "      <th>Mkt-RF</th>\n",
       "      <th>SMB</th>\n",
       "      <th>HML</th>\n",
       "      <th>RF</th>\n",
       "    </tr>\n",
       "    <tr>\n",
       "      <th>Date</th>\n",
       "      <th></th>\n",
       "      <th></th>\n",
       "      <th></th>\n",
       "      <th></th>\n",
       "    </tr>\n",
       "  </thead>\n",
       "  <tbody>\n",
       "    <tr>\n",
       "      <th>2000-01-03</th>\n",
       "      <td>-0.71</td>\n",
       "      <td>0.61</td>\n",
       "      <td>-1.40</td>\n",
       "      <td>0.021</td>\n",
       "    </tr>\n",
       "    <tr>\n",
       "      <th>2000-01-04</th>\n",
       "      <td>-4.06</td>\n",
       "      <td>0.01</td>\n",
       "      <td>2.06</td>\n",
       "      <td>0.021</td>\n",
       "    </tr>\n",
       "    <tr>\n",
       "      <th>2000-01-05</th>\n",
       "      <td>-0.09</td>\n",
       "      <td>0.18</td>\n",
       "      <td>0.19</td>\n",
       "      <td>0.021</td>\n",
       "    </tr>\n",
       "    <tr>\n",
       "      <th>2000-01-06</th>\n",
       "      <td>-0.73</td>\n",
       "      <td>-0.42</td>\n",
       "      <td>1.27</td>\n",
       "      <td>0.021</td>\n",
       "    </tr>\n",
       "    <tr>\n",
       "      <th>2000-01-07</th>\n",
       "      <td>3.21</td>\n",
       "      <td>-0.49</td>\n",
       "      <td>-1.42</td>\n",
       "      <td>0.021</td>\n",
       "    </tr>\n",
       "  </tbody>\n",
       "</table>\n",
       "</div>"
      ],
      "text/plain": [
       "            Mkt-RF   SMB   HML     RF\n",
       "Date                                 \n",
       "2000-01-03   -0.71  0.61 -1.40  0.021\n",
       "2000-01-04   -4.06  0.01  2.06  0.021\n",
       "2000-01-05   -0.09  0.18  0.19  0.021\n",
       "2000-01-06   -0.73 -0.42  1.27  0.021\n",
       "2000-01-07    3.21 -0.49 -1.42  0.021"
      ]
     },
     "execution_count": 6,
     "metadata": {},
     "output_type": "execute_result"
    }
   ],
   "source": [
    "ff_trim.head()"
   ]
  },
  {
   "cell_type": "markdown",
   "id": "44a4395d",
   "metadata": {},
   "source": [
    "# Selecting a stock-return\n",
    "<hr style = \"border:2px solid black\" ></hr>"
   ]
  },
  {
   "cell_type": "markdown",
   "id": "34568063",
   "metadata": {},
   "source": [
    "<div class=\"alert alert-info\">\n",
    "<font color=black>\n",
    "\n",
    "- ETF is a special type of investment fund and exchange-traded product that tracks industry, commodities, and so on. \n",
    "- SPDR S&P 500 ETF (**SPY**) is a very well-known example tracking the S&P 500 Index. \n",
    "\n",
    "</font>\n",
    "</div>"
   ]
  },
  {
   "cell_type": "code",
   "execution_count": 7,
   "id": "1acb838b",
   "metadata": {
    "ExecuteTime": {
     "end_time": "2022-09-19T09:05:13.477750Z",
     "start_time": "2022-09-19T09:05:13.109377Z"
    }
   },
   "outputs": [
    {
     "name": "stdout",
     "output_type": "stream",
     "text": [
      "[*********************100%***********************]  1 of 1 completed\n"
     ]
    }
   ],
   "source": [
    "ticker = 'SPY'\n",
    "start = datetime.datetime(2000, 1, 3)\n",
    "end = datetime.datetime(2021, 4, 30)\n",
    "SP_ETF = yf.download(ticker, start, end, interval='1d').Close"
   ]
  },
  {
   "cell_type": "code",
   "execution_count": 8,
   "id": "a4080d52",
   "metadata": {
    "ExecuteTime": {
     "end_time": "2022-09-19T09:05:13.487640Z",
     "start_time": "2022-09-19T09:05:13.480259Z"
    }
   },
   "outputs": [],
   "source": [
    "ff_merge = pd.merge(ff_trim, SP_ETF, how='inner', on='Date')"
   ]
  },
  {
   "cell_type": "code",
   "execution_count": 9,
   "id": "7740f0bd",
   "metadata": {
    "ExecuteTime": {
     "end_time": "2022-09-19T09:05:13.503015Z",
     "start_time": "2022-09-19T09:05:13.492498Z"
    }
   },
   "outputs": [],
   "source": [
    "SP = pd.DataFrame()\n",
    "SP['Close']= ff_merge['Close']"
   ]
  },
  {
   "cell_type": "code",
   "execution_count": 10,
   "id": "2edfb00b",
   "metadata": {
    "ExecuteTime": {
     "end_time": "2022-09-19T09:05:13.509979Z",
     "start_time": "2022-09-19T09:05:13.505341Z"
    },
    "scrolled": true
   },
   "outputs": [],
   "source": [
    "SP['return'] = (SP['Close'] / SP['Close'].shift(1))-1"
   ]
  },
  {
   "cell_type": "code",
   "execution_count": 11,
   "id": "fae90cb1",
   "metadata": {
    "ExecuteTime": {
     "end_time": "2022-09-19T09:05:13.526706Z",
     "start_time": "2022-09-19T09:05:13.512293Z"
    }
   },
   "outputs": [
    {
     "data": {
      "text/html": [
       "<div>\n",
       "<style scoped>\n",
       "    .dataframe tbody tr th:only-of-type {\n",
       "        vertical-align: middle;\n",
       "    }\n",
       "\n",
       "    .dataframe tbody tr th {\n",
       "        vertical-align: top;\n",
       "    }\n",
       "\n",
       "    .dataframe thead th {\n",
       "        text-align: right;\n",
       "    }\n",
       "</style>\n",
       "<table border=\"1\" class=\"dataframe\">\n",
       "  <thead>\n",
       "    <tr style=\"text-align: right;\">\n",
       "      <th></th>\n",
       "      <th>Mkt-RF</th>\n",
       "      <th>SMB</th>\n",
       "      <th>HML</th>\n",
       "      <th>RF</th>\n",
       "      <th>Close</th>\n",
       "    </tr>\n",
       "    <tr>\n",
       "      <th>Date</th>\n",
       "      <th></th>\n",
       "      <th></th>\n",
       "      <th></th>\n",
       "      <th></th>\n",
       "      <th></th>\n",
       "    </tr>\n",
       "  </thead>\n",
       "  <tbody>\n",
       "    <tr>\n",
       "      <th>2000-01-03</th>\n",
       "      <td>-0.71</td>\n",
       "      <td>0.61</td>\n",
       "      <td>-1.40</td>\n",
       "      <td>0.021</td>\n",
       "      <td>145.437500</td>\n",
       "    </tr>\n",
       "    <tr>\n",
       "      <th>2000-01-04</th>\n",
       "      <td>-4.06</td>\n",
       "      <td>0.01</td>\n",
       "      <td>2.06</td>\n",
       "      <td>0.021</td>\n",
       "      <td>139.750000</td>\n",
       "    </tr>\n",
       "    <tr>\n",
       "      <th>2000-01-05</th>\n",
       "      <td>-0.09</td>\n",
       "      <td>0.18</td>\n",
       "      <td>0.19</td>\n",
       "      <td>0.021</td>\n",
       "      <td>140.000000</td>\n",
       "    </tr>\n",
       "    <tr>\n",
       "      <th>2000-01-06</th>\n",
       "      <td>-0.73</td>\n",
       "      <td>-0.42</td>\n",
       "      <td>1.27</td>\n",
       "      <td>0.021</td>\n",
       "      <td>137.750000</td>\n",
       "    </tr>\n",
       "    <tr>\n",
       "      <th>2000-01-07</th>\n",
       "      <td>3.21</td>\n",
       "      <td>-0.49</td>\n",
       "      <td>-1.42</td>\n",
       "      <td>0.021</td>\n",
       "      <td>145.750000</td>\n",
       "    </tr>\n",
       "    <tr>\n",
       "      <th>...</th>\n",
       "      <td>...</td>\n",
       "      <td>...</td>\n",
       "      <td>...</td>\n",
       "      <td>...</td>\n",
       "      <td>...</td>\n",
       "    </tr>\n",
       "    <tr>\n",
       "      <th>2021-04-23</th>\n",
       "      <td>1.26</td>\n",
       "      <td>0.75</td>\n",
       "      <td>0.68</td>\n",
       "      <td>0.000</td>\n",
       "      <td>416.739990</td>\n",
       "    </tr>\n",
       "    <tr>\n",
       "      <th>2021-04-26</th>\n",
       "      <td>0.43</td>\n",
       "      <td>0.85</td>\n",
       "      <td>-0.48</td>\n",
       "      <td>0.000</td>\n",
       "      <td>417.609985</td>\n",
       "    </tr>\n",
       "    <tr>\n",
       "      <th>2021-04-27</th>\n",
       "      <td>-0.03</td>\n",
       "      <td>-0.17</td>\n",
       "      <td>0.85</td>\n",
       "      <td>0.000</td>\n",
       "      <td>417.519989</td>\n",
       "    </tr>\n",
       "    <tr>\n",
       "      <th>2021-04-28</th>\n",
       "      <td>-0.06</td>\n",
       "      <td>0.18</td>\n",
       "      <td>0.23</td>\n",
       "      <td>0.000</td>\n",
       "      <td>417.399994</td>\n",
       "    </tr>\n",
       "    <tr>\n",
       "      <th>2021-04-29</th>\n",
       "      <td>0.39</td>\n",
       "      <td>-1.12</td>\n",
       "      <td>1.11</td>\n",
       "      <td>0.000</td>\n",
       "      <td>420.059998</td>\n",
       "    </tr>\n",
       "  </tbody>\n",
       "</table>\n",
       "<p>5365 rows × 5 columns</p>\n",
       "</div>"
      ],
      "text/plain": [
       "            Mkt-RF   SMB   HML     RF       Close\n",
       "Date                                             \n",
       "2000-01-03   -0.71  0.61 -1.40  0.021  145.437500\n",
       "2000-01-04   -4.06  0.01  2.06  0.021  139.750000\n",
       "2000-01-05   -0.09  0.18  0.19  0.021  140.000000\n",
       "2000-01-06   -0.73 -0.42  1.27  0.021  137.750000\n",
       "2000-01-07    3.21 -0.49 -1.42  0.021  145.750000\n",
       "...            ...   ...   ...    ...         ...\n",
       "2021-04-23    1.26  0.75  0.68  0.000  416.739990\n",
       "2021-04-26    0.43  0.85 -0.48  0.000  417.609985\n",
       "2021-04-27   -0.03 -0.17  0.85  0.000  417.519989\n",
       "2021-04-28   -0.06  0.18  0.23  0.000  417.399994\n",
       "2021-04-29    0.39 -1.12  1.11  0.000  420.059998\n",
       "\n",
       "[5365 rows x 5 columns]"
      ]
     },
     "execution_count": 11,
     "metadata": {},
     "output_type": "execute_result"
    }
   ],
   "source": [
    "ff_merge"
   ]
  },
  {
   "cell_type": "markdown",
   "id": "781647c6",
   "metadata": {},
   "source": [
    "# Gaussian HMM\n",
    "<hr style = \"border:2px solid black\" ></hr>"
   ]
  },
  {
   "cell_type": "markdown",
   "id": "80e9e622",
   "metadata": {},
   "source": [
    "<div class=\"alert alert-info\">\n",
    "<font color=black>\n",
    "\n",
    "- The data including return and volatility are used to define the the hidden states.\n",
    "- It is assumed that there are three states in the economy: up, down, and constant. \n",
    "- With this in mind, we run the HMM with full covariance, indicating independent components and a number of iterations (n_iter) of 100. \n",
    "- The Gaussian HMM is used to predict the hidden state.\n",
    "        \n",
    "</font>\n",
    "</div>"
   ]
  },
  {
   "cell_type": "code",
   "execution_count": 12,
   "id": "06dfcf72",
   "metadata": {
    "ExecuteTime": {
     "end_time": "2022-09-19T09:05:13.531638Z",
     "start_time": "2022-09-19T09:05:13.529124Z"
    }
   },
   "outputs": [],
   "source": [
    "hmm_model = hmm.GaussianHMM(n_components=3,\n",
    "                            covariance_type=\"full\",\n",
    "                            n_iter=100)"
   ]
  },
  {
   "cell_type": "code",
   "execution_count": 13,
   "id": "652b909f",
   "metadata": {
    "ExecuteTime": {
     "end_time": "2022-09-19T09:05:13.986022Z",
     "start_time": "2022-09-19T09:05:13.534103Z"
    }
   },
   "outputs": [],
   "source": [
    "# Fitting the Gaussian HMM with return data\n",
    "hmm_model.fit(np.array(SP['return'].dropna()).reshape(-1, 1))\n",
    "\n",
    "# Given the return data, predicting the hidden states\n",
    "hmm_predict = hmm_model.predict(np.array(SP['return'].dropna())\n",
    "                                .reshape(-1, 1))\n",
    "\n",
    "df_hmm = pd.DataFrame(hmm_predict)"
   ]
  },
  {
   "cell_type": "code",
   "execution_count": 14,
   "id": "cf3f93fe",
   "metadata": {
    "ExecuteTime": {
     "end_time": "2022-09-19T09:05:14.002586Z",
     "start_time": "2022-09-19T09:05:13.988970Z"
    }
   },
   "outputs": [
    {
     "data": {
      "text/html": [
       "<div>\n",
       "<style scoped>\n",
       "    .dataframe tbody tr th:only-of-type {\n",
       "        vertical-align: middle;\n",
       "    }\n",
       "\n",
       "    .dataframe tbody tr th {\n",
       "        vertical-align: top;\n",
       "    }\n",
       "\n",
       "    .dataframe thead th {\n",
       "        text-align: right;\n",
       "    }\n",
       "</style>\n",
       "<table border=\"1\" class=\"dataframe\">\n",
       "  <thead>\n",
       "    <tr style=\"text-align: right;\">\n",
       "      <th></th>\n",
       "      <th>states</th>\n",
       "      <th>return</th>\n",
       "    </tr>\n",
       "  </thead>\n",
       "  <tbody>\n",
       "    <tr>\n",
       "      <th>0</th>\n",
       "      <td>2</td>\n",
       "      <td>-0.039106</td>\n",
       "    </tr>\n",
       "    <tr>\n",
       "      <th>1</th>\n",
       "      <td>2</td>\n",
       "      <td>0.001789</td>\n",
       "    </tr>\n",
       "    <tr>\n",
       "      <th>2</th>\n",
       "      <td>2</td>\n",
       "      <td>-0.016071</td>\n",
       "    </tr>\n",
       "    <tr>\n",
       "      <th>3</th>\n",
       "      <td>2</td>\n",
       "      <td>0.058076</td>\n",
       "    </tr>\n",
       "    <tr>\n",
       "      <th>4</th>\n",
       "      <td>1</td>\n",
       "      <td>0.003431</td>\n",
       "    </tr>\n",
       "  </tbody>\n",
       "</table>\n",
       "</div>"
      ],
      "text/plain": [
       "   states    return\n",
       "0       2 -0.039106\n",
       "1       2  0.001789\n",
       "2       2 -0.016071\n",
       "3       2  0.058076\n",
       "4       1  0.003431"
      ]
     },
     "execution_count": 14,
     "metadata": {},
     "output_type": "execute_result"
    }
   ],
   "source": [
    "ret_merged = pd.concat([df_hmm,SP['return'].dropna().reset_index()],\n",
    "                       axis=1)\n",
    "ret_merged.drop('Date',axis=1, inplace=True)\n",
    "ret_merged.rename(columns={0:'states'}, inplace=True)\n",
    "ret_merged.dropna().head()"
   ]
  },
  {
   "cell_type": "code",
   "execution_count": 15,
   "id": "b1c16930",
   "metadata": {
    "ExecuteTime": {
     "end_time": "2022-09-19T09:05:14.011935Z",
     "start_time": "2022-09-19T09:05:14.005498Z"
    }
   },
   "outputs": [
    {
     "data": {
      "text/plain": [
       "0    3014\n",
       "1    2092\n",
       "2     258\n",
       "Name: states, dtype: int64"
      ]
     },
     "execution_count": 15,
     "metadata": {},
     "output_type": "execute_result"
    }
   ],
   "source": [
    "ret_merged['states'].value_counts()"
   ]
  },
  {
   "cell_type": "code",
   "execution_count": 16,
   "id": "0338d6d6",
   "metadata": {
    "ExecuteTime": {
     "end_time": "2022-09-19T09:05:14.027092Z",
     "start_time": "2022-09-19T09:05:14.014826Z"
    }
   },
   "outputs": [
    {
     "name": "stdout",
     "output_type": "stream",
     "text": [
      "State Means are: [0.0009956956923795376, -0.0005000714110860053, -0.0018371952883552139]\n",
      "State Standard Deviations are: [0.006006540155737145, 0.01372712345328387, 0.03598912028897814]\n"
     ]
    }
   ],
   "source": [
    "state_means = []\n",
    "state_std = []\n",
    "\n",
    "for i in range(3):\n",
    "    state_means.append(ret_merged[ret_merged.states == i]['return']\n",
    "                       .mean())\n",
    "    state_std.append(ret_merged[ret_merged.states == i]['return']\n",
    "                     .std())\n",
    "print('State Means are: {}'.format(state_means))\n",
    "print('State Standard Deviations are: {}'.format(state_std))"
   ]
  },
  {
   "cell_type": "code",
   "execution_count": 17,
   "id": "bd141016",
   "metadata": {
    "ExecuteTime": {
     "end_time": "2022-09-19T09:05:14.036286Z",
     "start_time": "2022-09-19T09:05:14.030571Z"
    }
   },
   "outputs": [
    {
     "name": "stdout",
     "output_type": "stream",
     "text": [
      "HMM means\n",
      " [[ 0.00100461]\n",
      " [-0.00036638]\n",
      " [-0.0023154 ]]\n",
      "HMM covariances\n",
      " [[[3.84856800e-05]]\n",
      "\n",
      " [[1.82443149e-04]]\n",
      "\n",
      " [[1.26454102e-03]]]\n",
      "HMM transition matrix\n",
      " [[9.80338159e-01 1.96606689e-02 1.17258840e-06]\n",
      " [2.69263672e-02 9.67137359e-01 5.93627345e-03]\n",
      " [2.05460614e-08 4.89263565e-02 9.51073623e-01]]\n",
      "HMM initial probability\n",
      " [0.00000000e+000 1.14434993e-120 1.00000000e+000]\n"
     ]
    }
   ],
   "source": [
    "print(f'HMM means\\n {hmm_model.means_}')\n",
    "print(f'HMM covariances\\n {hmm_model.covars_}')\n",
    "print(f'HMM transition matrix\\n {hmm_model.transmat_}')\n",
    "print(f'HMM initial probability\\n {hmm_model.startprob_}')"
   ]
  },
  {
   "cell_type": "markdown",
   "id": "392b6ef2",
   "metadata": {},
   "source": [
    "# Optimal number of hidden states - elbow analysis\n",
    "<hr style = \"border:2px solid black\" ></hr>"
   ]
  },
  {
   "cell_type": "markdown",
   "id": "e368eddc",
   "metadata": {},
   "source": [
    "<div class=\"alert alert-info\">\n",
    "<font color=black>\n",
    " \n",
    "-  We assume that the economy has three states, but this assumption rests on theory. \n",
    "- However we never know if this is the case, so which is the optimal number of hidden states? \n",
    "- **Elbow Analysis** will help us understand the optimal number of hidden states. After running Gaussian HMM, we obtain the likelihood result, and if there is no room for improvement—that is, the likelihood value becomes relatively stagnant, then this is the point at which we can stop the analysis. \n",
    "- Given the following result it turns out that three components is a good choice.\n",
    "\n",
    "</font>\n",
    "</div>"
   ]
  },
  {
   "cell_type": "code",
   "execution_count": 18,
   "id": "4d3adf16",
   "metadata": {
    "ExecuteTime": {
     "end_time": "2022-09-19T09:05:16.745205Z",
     "start_time": "2022-09-19T09:05:14.039476Z"
    }
   },
   "outputs": [
    {
     "data": {
      "text/plain": [
       "Text(0, 0.5, 'Log Likelihood')"
      ]
     },
     "execution_count": 18,
     "metadata": {},
     "output_type": "execute_result"
    },
    {
     "data": {
      "image/png": "[encoded data removed]",
      "text/plain": [
       "<Figure size 432x288 with 1 Axes>"
      ]
     },
     "metadata": {
      "needs_background": "light"
     },
     "output_type": "display_data"
    }
   ],
   "source": [
    "sp_ret = SP['return'].dropna().values.reshape(-1,1)\n",
    "n_components = np.arange(1, 10)\n",
    "clusters = [hmm.GaussianHMM(n_components=n, \n",
    "                            covariance_type=\"full\").fit(sp_ret)\n",
    "           for n in n_components]\n",
    "plt.plot(n_components, [m.score(np.array(SP['return'].dropna())\\\n",
    "                                .reshape(-1,1)) for m in clusters])\n",
    "plt.title('Optimum Number of States')\n",
    "plt.xlabel('n_components')\n",
    "plt.ylabel('Log Likelihood')"
   ]
  },
  {
   "cell_type": "markdown",
   "id": "6b86cdc4",
   "metadata": {},
   "source": [
    "# Visualisation of the states\n",
    "<hr style = \"border:2px solid black\" ></hr>"
   ]
  },
  {
   "cell_type": "markdown",
   "id": "78744d2c",
   "metadata": {},
   "source": [
    "<div class=\"alert alert-info\">\n",
    "<font color=black>\n",
    " \n",
    "\n",
    "- We are going to plot the the hidden state distributions.\n",
    "- We can see how these are entirely different from each other, highlighting the importance of identifying the states.\n",
    "\n",
    "</font>\n",
    "</div>"
   ]
  },
  {
   "cell_type": "code",
   "execution_count": 19,
   "id": "1a6f7bcf",
   "metadata": {
    "ExecuteTime": {
     "end_time": "2022-09-19T09:05:16.922999Z",
     "start_time": "2022-09-19T09:05:16.747317Z"
    }
   },
   "outputs": [],
   "source": [
    "hmm_model = hmm.GaussianHMM(n_components=3, \n",
    "                        covariance_type=\"full\", \n",
    "                        random_state=123).fit(sp_ret)\n",
    "hidden_states = hmm_model.predict(sp_ret)"
   ]
  },
  {
   "cell_type": "code",
   "execution_count": 20,
   "id": "64648060",
   "metadata": {
    "ExecuteTime": {
     "end_time": "2022-09-19T09:05:21.419240Z",
     "start_time": "2022-09-19T09:05:16.928130Z"
    },
    "scrolled": false
   },
   "outputs": [
    {
     "data": {
      "image/png": "[encoded data removed]",
      "text/plain": [
       "<Figure size 864x648 with 3 Axes>"
      ]
     },
     "metadata": {
      "needs_background": "light"
     },
     "output_type": "display_data"
    }
   ],
   "source": [
    "df_sp_ret = SP['return'].dropna()\n",
    "\n",
    "hmm_model = hmm.GaussianHMM(n_components=3, \n",
    "                            covariance_type=\"full\", \n",
    "                            random_state=123).fit(sp_ret)\n",
    "\n",
    "hidden_states = hmm_model.predict(sp_ret)\n",
    "\n",
    "fig, axs = plt.subplots(hmm_model.n_components, sharex=True,\n",
    "                        sharey=True, figsize=(12, 9))\n",
    "colors = cm.gray(np.linspace(0, 0.7, hmm_model.n_components))\n",
    "\n",
    "for i, (ax, color) in enumerate(zip(axs, colors)):\n",
    "    mask = hidden_states == i\n",
    "    ax.plot_date(df_sp_ret.index.values[mask],\n",
    "                 df_sp_ret.values[mask],\n",
    "                 \".-\", c=color)\n",
    "    ax.set_title(\"Hidden state {}\".format(i + 1), fontsize=16)\n",
    "    ax.xaxis.set_minor_locator(MonthLocator())\n",
    "plt.tight_layout()"
   ]
  },
  {
   "cell_type": "code",
   "execution_count": 21,
   "id": "0f3bc462",
   "metadata": {
    "ExecuteTime": {
     "end_time": "2022-09-19T09:05:21.427441Z",
     "start_time": "2022-09-19T09:05:21.421320Z"
    }
   },
   "outputs": [
    {
     "data": {
      "text/plain": [
       "states\n",
       "0    0.000996\n",
       "1   -0.000500\n",
       "2   -0.001837\n",
       "Name: return, dtype: float64"
      ]
     },
     "execution_count": 21,
     "metadata": {},
     "output_type": "execute_result"
    }
   ],
   "source": [
    "ret_merged.groupby('states')['return'].mean()"
   ]
  },
  {
   "cell_type": "markdown",
   "id": "c1b52622",
   "metadata": {},
   "source": [
    "# Comparison\n",
    "<hr style = \"border:2px solid black\" ></hr>"
   ]
  },
  {
   "cell_type": "markdown",
   "id": "55b2ec6f",
   "metadata": {},
   "source": [
    "<div class=\"alert alert-info\">\n",
    "<font color=black>\n",
    " \n",
    "- We can move forward and run the Fama-Frech three-factor model with and without Gaussian HMM. \n",
    "- The Sharpe ratio, which we’ll calculate after modeling, will tell us which is the better risk-adjusted return. \n",
    "\n",
    "</font>\n",
    "</div>"
   ]
  },
  {
   "cell_type": "markdown",
   "id": "315b6180",
   "metadata": {},
   "source": [
    "## Fama-French Model vs. HMM"
   ]
  },
  {
   "cell_type": "code",
   "execution_count": 22,
   "id": "5f3574be",
   "metadata": {
    "ExecuteTime": {
     "end_time": "2022-09-19T09:05:21.435753Z",
     "start_time": "2022-09-19T09:05:21.429495Z"
    }
   },
   "outputs": [],
   "source": [
    "ff_merge['return'] = ff_merge['Close'].pct_change()\n",
    "ff_merge.dropna(inplace=True)"
   ]
  },
  {
   "cell_type": "code",
   "execution_count": 23,
   "id": "d2b35ffe",
   "metadata": {
    "ExecuteTime": {
     "end_time": "2022-09-19T09:05:21.444170Z",
     "start_time": "2022-09-19T09:05:21.438120Z"
    }
   },
   "outputs": [],
   "source": [
    "split = int(len(ff_merge) * 0.9)\n",
    "train_ff= ff_merge.iloc[:split].dropna()\n",
    "test_ff = ff_merge.iloc[split:].dropna()"
   ]
  },
  {
   "cell_type": "code",
   "execution_count": 24,
   "id": "b656a45f",
   "metadata": {
    "ExecuteTime": {
     "end_time": "2022-09-19T09:05:21.449117Z",
     "start_time": "2022-09-19T09:05:21.446238Z"
    }
   },
   "outputs": [],
   "source": [
    "hmm_model = hmm.GaussianHMM(n_components=3,\n",
    "                            covariance_type=\"full\",\n",
    "                            n_iter=100, init_params=\" \")"
   ]
  },
  {
   "cell_type": "code",
   "execution_count": 25,
   "id": "8cd9f8f5",
   "metadata": {
    "ExecuteTime": {
     "end_time": "2022-09-19T09:05:30.504971Z",
     "start_time": "2022-09-19T09:05:21.451360Z"
    }
   },
   "outputs": [],
   "source": [
    "predictions = []\n",
    "\n",
    "for i in range(len(test_ff)):\n",
    "    hmm_model.fit(train_ff)\n",
    "    adjustment = np.dot(hmm_model.transmat_, hmm_model.means_)\n",
    "    predictions.append(test_ff.iloc[i] + adjustment[0])\n",
    "predictions = pd.DataFrame(predictions)"
   ]
  },
  {
   "cell_type": "code",
   "execution_count": 26,
   "id": "3d0df7ea",
   "metadata": {
    "ExecuteTime": {
     "end_time": "2022-09-19T09:05:30.521830Z",
     "start_time": "2022-09-19T09:05:30.516919Z"
    }
   },
   "outputs": [
    {
     "name": "stdout",
     "output_type": "stream",
     "text": [
      "Sharpe ratio with HMM is 0.0438\n"
     ]
    }
   ],
   "source": [
    "std_dev = predictions['return'].std()\n",
    "sharpe = predictions['return'].mean() / std_dev\n",
    "print('Sharpe ratio with HMM is {:.4f}'.format(sharpe))"
   ]
  },
  {
   "cell_type": "markdown",
   "id": "82993b8a",
   "metadata": {},
   "source": [
    "## Fama-French Model with OLS"
   ]
  },
  {
   "cell_type": "markdown",
   "id": "08866dc5",
   "metadata": {},
   "source": [
    "<div class=\"alert alert-info\">\n",
    "<font color=black>\n",
    "\n",
    "- The traditional way to run Fama-Frech three-factor model is to apply linear regression.\n",
    "\n",
    "</font>\n",
    "</div>"
   ]
  },
  {
   "cell_type": "code",
   "execution_count": 27,
   "id": "a9c57902",
   "metadata": {
    "ExecuteTime": {
     "end_time": "2022-09-19T09:05:30.528793Z",
     "start_time": "2022-09-19T09:05:30.524199Z"
    }
   },
   "outputs": [],
   "source": [
    "Y = train_ff['return']\n",
    "X = train_ff[['Mkt-RF', 'SMB', 'HML']]"
   ]
  },
  {
   "cell_type": "code",
   "execution_count": 28,
   "id": "6bcec34d",
   "metadata": {
    "ExecuteTime": {
     "end_time": "2022-09-19T09:05:30.549453Z",
     "start_time": "2022-09-19T09:05:30.532167Z"
    }
   },
   "outputs": [
    {
     "name": "stdout",
     "output_type": "stream",
     "text": [
      "                                 OLS Regression Results                                \n",
      "=======================================================================================\n",
      "Dep. Variable:                 return   R-squared (uncentered):                   0.962\n",
      "Model:                            OLS   Adj. R-squared (uncentered):              0.962\n",
      "Method:                 Least Squares   F-statistic:                          4.072e+04\n",
      "Date:                Mon, 19 Sep 2022   Prob (F-statistic):                        0.00\n",
      "Time:                        10:05:30   Log-Likelihood:                          22347.\n",
      "No. Observations:                4827   AIC:                                 -4.469e+04\n",
      "Df Residuals:                    4824   BIC:                                 -4.467e+04\n",
      "Df Model:                           3                                                  \n",
      "Covariance Type:            nonrobust                                                  \n",
      "==============================================================================\n",
      "                 coef    std err          t      P>|t|      [0.025      0.975]\n",
      "------------------------------------------------------------------------------\n",
      "Mkt-RF         0.0098   2.82e-05    348.173      0.000       0.010       0.010\n",
      "SMB           -0.0017   5.71e-05    -29.005      0.000      -0.002      -0.002\n",
      "HML        -6.584e-05   5.21e-05     -1.264      0.206      -0.000    3.63e-05\n",
      "==============================================================================\n",
      "Omnibus:                     1326.960   Durbin-Watson:                   2.717\n",
      "Prob(Omnibus):                  0.000   Jarque-Bera (JB):            80241.345\n",
      "Skew:                           0.433   Prob(JB):                         0.00\n",
      "Kurtosis:                      22.955   Cond. No.                         2.16\n",
      "==============================================================================\n",
      "\n",
      "Notes:\n",
      "[1] R² is computed without centering (uncentered) since the model does not contain a constant.\n",
      "[2] Standard Errors assume that the covariance matrix of the errors is correctly specified.\n"
     ]
    }
   ],
   "source": [
    "model = sm.OLS(Y, X)\n",
    "ff_ols = model.fit()\n",
    "print(ff_ols.summary())"
   ]
  },
  {
   "cell_type": "code",
   "execution_count": 29,
   "id": "dc59afd3",
   "metadata": {
    "ExecuteTime": {
     "end_time": "2022-09-19T09:05:30.561154Z",
     "start_time": "2022-09-19T09:05:30.552618Z"
    }
   },
   "outputs": [
    {
     "data": {
      "text/plain": [
       "Date\n",
       "2019-03-14   -0.000340\n",
       "2019-03-15    0.005178\n",
       "2019-03-18    0.004273\n",
       "2019-03-19   -0.000194\n",
       "2019-03-20   -0.003795\n",
       "dtype: float64"
      ]
     },
     "execution_count": 29,
     "metadata": {},
     "output_type": "execute_result"
    }
   ],
   "source": [
    "ff_pred = ff_ols.predict(test_ff[[\"Mkt-RF\", \"SMB\", \"HML\"]])\n",
    "ff_pred.head()"
   ]
  },
  {
   "cell_type": "code",
   "execution_count": 30,
   "id": "70e91c46",
   "metadata": {
    "ExecuteTime": {
     "end_time": "2022-09-19T09:05:30.569357Z",
     "start_time": "2022-09-19T09:05:30.564454Z"
    }
   },
   "outputs": [
    {
     "name": "stdout",
     "output_type": "stream",
     "text": [
      "Sharpe ratio with FF 3 factor model is 0.0589\n"
     ]
    }
   ],
   "source": [
    "std_dev = ff_pred.std()\n",
    "sharpe = ff_pred.mean() / std_dev\n",
    "print('Sharpe ratio with FF 3 factor model is {:.4f}'.format(sharpe))"
   ]
  },
  {
   "cell_type": "markdown",
   "id": "5d7487ec",
   "metadata": {},
   "source": [
    "## Backtesting"
   ]
  },
  {
   "cell_type": "markdown",
   "id": "2497cf16",
   "metadata": {
    "ExecuteTime": {
     "end_time": "2022-09-19T09:05:31.175991Z",
     "start_time": "2022-09-19T09:05:30.572705Z"
    }
   },
   "source": [
    "\n",
    "<div class=\"alert alert-info\">\n",
    "<font color=black>\n",
    " \n",
    "- The following analysis tries to show what happens if the states of the index return need to be predicted based on the unseen data that can be used for backtesting for future analysis.\n",
    "\n",
    "</font>\n",
    "</div>\n"
   ]
  },
  {
   "cell_type": "code",
   "execution_count": 32,
   "id": "94dd1023",
   "metadata": {
    "ExecuteTime": {
     "end_time": "2022-09-19T09:06:50.030512Z",
     "start_time": "2022-09-19T09:06:50.026135Z"
    }
   },
   "outputs": [],
   "source": [
    "split = int(len(SP['return']) * 0.9)\n",
    "train_ret_SP = SP['return'].iloc[split:].dropna()\n",
    "test_ret_SP = SP['return'].iloc[:split].dropna()"
   ]
  },
  {
   "cell_type": "code",
   "execution_count": 33,
   "id": "afc83e38",
   "metadata": {
    "ExecuteTime": {
     "end_time": "2022-09-19T09:06:50.528706Z",
     "start_time": "2022-09-19T09:06:50.447965Z"
    }
   },
   "outputs": [
    {
     "data": {
      "text/plain": [
       "0    4447\n",
       "1     282\n",
       "2      98\n",
       "dtype: int64"
      ]
     },
     "execution_count": 33,
     "metadata": {},
     "output_type": "execute_result"
    }
   ],
   "source": [
    "hmm_model = hmm.GaussianHMM(n_components=3,\n",
    "                            covariance_type=\"full\",\n",
    "                            n_iter=100)\n",
    "hmm_model.fit(np.array(train_ret_SP).reshape(-1, 1))\n",
    "hmm_predict_vol = hmm_model.predict(np.array(test_ret_SP)\n",
    "                                    .reshape(-1, 1))\n",
    "pd.DataFrame(hmm_predict_vol).value_counts()"
   ]
  },
  {
   "cell_type": "markdown",
   "id": "41a110d6",
   "metadata": {},
   "source": [
    "## Synthetic Data Generation and Hidden Markov"
   ]
  },
  {
   "cell_type": "markdown",
   "id": "5538f9e7",
   "metadata": {},
   "source": [
    "<div class=\"alert alert-info\">\n",
    "<font color=black>\n",
    "\n",
    "- HMM provides a helpful and strong way for further expanding our analysis to get more reliable and accurate results.\n",
    "\n",
    "- Gaussina HHM can be used as a synthetic data generation process using Gaussian HMM. To do that, we should first define our initial parameters. These parameters are: initial probability (startprob), transition matrix (transmat), mean (means), and covariance (covars). \n",
    "\n",
    "- We can then run Gaussian HMM and apply a random sampling procedure to end up with a desired number of observations, which is 1,000 in our case.\n",
    "\n",
    "</font>\n",
    "</div>"
   ]
  },
  {
   "cell_type": "code",
   "execution_count": 34,
   "id": "24aed2a5",
   "metadata": {
    "ExecuteTime": {
     "end_time": "2022-09-19T09:06:51.423470Z",
     "start_time": "2022-09-19T09:06:51.420667Z"
    }
   },
   "outputs": [],
   "source": [
    "startprob = hmm_model.startprob_\n",
    "transmat = hmm_model.transmat_\n",
    "means = hmm_model.means_ \n",
    "covars = hmm_model.covars_"
   ]
  },
  {
   "cell_type": "code",
   "execution_count": 35,
   "id": "81f550c3",
   "metadata": {
    "ExecuteTime": {
     "end_time": "2022-09-19T09:06:51.831735Z",
     "start_time": "2022-09-19T09:06:51.828688Z"
    }
   },
   "outputs": [],
   "source": [
    "syn_hmm = hmm.GaussianHMM(n_components=3, covariance_type=\"full\")"
   ]
  },
  {
   "cell_type": "code",
   "execution_count": 36,
   "id": "2b28defb",
   "metadata": {
    "ExecuteTime": {
     "end_time": "2022-09-19T09:06:52.275439Z",
     "start_time": "2022-09-19T09:06:52.272000Z"
    }
   },
   "outputs": [],
   "source": [
    "syn_hmm.startprob_ = startprob\n",
    "syn_hmm.transmat_ = transmat \n",
    "syn_hmm.means_ = means \n",
    "syn_hmm.covars_ = covars"
   ]
  },
  {
   "cell_type": "code",
   "execution_count": 37,
   "id": "6a7992d1",
   "metadata": {
    "ExecuteTime": {
     "end_time": "2022-09-19T09:06:52.802070Z",
     "start_time": "2022-09-19T09:06:52.672726Z"
    }
   },
   "outputs": [],
   "source": [
    "syn_data, _ = syn_hmm.sample(n_samples=1000)"
   ]
  },
  {
   "cell_type": "code",
   "execution_count": 38,
   "id": "772ca78a",
   "metadata": {
    "ExecuteTime": {
     "end_time": "2022-09-19T09:06:53.383645Z",
     "start_time": "2022-09-19T09:06:53.240342Z"
    }
   },
   "outputs": [
    {
     "data": {
      "image/png": "[encoded data removed]",
      "text/plain": [
       "<Figure size 432x288 with 1 Axes>"
      ]
     },
     "metadata": {
      "needs_background": "light"
     },
     "output_type": "display_data"
    }
   ],
   "source": [
    "plt.hist(syn_data)\n",
    "plt.title('Histogram of Synthetic Data')\n",
    "plt.show()"
   ]
  },
  {
   "cell_type": "code",
   "execution_count": 39,
   "id": "f59b8002",
   "metadata": {
    "ExecuteTime": {
     "end_time": "2022-09-19T09:06:53.949647Z",
     "start_time": "2022-09-19T09:06:53.815748Z"
    }
   },
   "outputs": [
    {
     "data": {
      "image/png": "[encoded data removed]",
      "text/plain": [
       "<Figure size 432x288 with 1 Axes>"
      ]
     },
     "metadata": {
      "needs_background": "light"
     },
     "output_type": "display_data"
    }
   ],
   "source": [
    "plt.plot(syn_data, \"--\")\n",
    "plt.title('Line Plot of Synthetic Data')\n",
    "plt.show()"
   ]
  },
  {
   "cell_type": "markdown",
   "id": "eb2af5b9",
   "metadata": {},
   "source": [
    "# References\n",
    "<hr style = \"border:2px solid black\" ></hr>"
   ]
  },
  {
   "cell_type": "markdown",
   "id": "a08092be",
   "metadata": {},
   "source": [
    "<div class=\"alert alert-warning\">\n",
    "<font color=black>\n",
    "\n",
    "- https://github.com/abdullahkarasan/mlfrm/blob/main/codes/chp_10.ipynb\n",
    "- Machine Learning for Financial Risk Management with Python Abdullah Karasan\n",
    "- [FF3 dataset](https://mba.tuck.dartmouth.edu/pages/faculty/ken.french/data_library.html)\n",
    "\n",
    "</font>\n",
    "</div>"
   ]
  },
  {
   "cell_type": "code",
   "execution_count": null,
   "id": "db8801f2",
   "metadata": {},
   "outputs": [],
   "source": []
  }
 ],
 "metadata": {
  "kernelspec": {
   "display_name": "ML4T",
   "language": "python",
   "name": "ml4t"
  },
  "language_info": {
   "codemirror_mode": {
    "name": "ipython",
    "version": 3
   },
   "file_extension": ".py",
   "mimetype": "text/x-python",
   "name": "python",
   "nbconvert_exporter": "python",
   "pygments_lexer": "ipython3",
   "version": "3.10.4"
  },
  "latex_envs": {
   "LaTeX_envs_menu_present": true,
   "autoclose": false,
   "autocomplete": true,
   "bibliofile": "biblio.bib",
   "cite_by": "apalike",
   "current_citInitial": 1,
   "eqLabelWithNumbers": true,
   "eqNumInitial": 1,
   "hotkeys": {
    "equation": "Ctrl-E",
    "itemize": "Ctrl-I"
   },
   "labels_anchors": false,
   "latex_user_defs": false,
   "report_style_numbering": false,
   "user_envs_cfg": false
  },
  "toc": {
   "base_numbering": 1,
   "nav_menu": {},
   "number_sections": false,
   "sideBar": true,
   "skip_h1_title": false,
   "title_cell": "Table of Contents",
   "title_sidebar": "Contents",
   "toc_cell": true,
   "toc_position": {},
   "toc_section_display": true,
   "toc_window_display": true
  },
  "varInspector": {
   "cols": {
    "lenName": 16,
    "lenType": 16,
    "lenVar": 40
   },
   "kernels_config": {
    "python": {
     "delete_cmd_postfix": "",
     "delete_cmd_prefix": "del ",
     "library": "var_list.py",
     "varRefreshCmd": "print(var_dic_list())"
    },
    "r": {
     "delete_cmd_postfix": ") ",
     "delete_cmd_prefix": "rm(",
     "library": "var_list.r",
     "varRefreshCmd": "cat(var_dic_list()) "
    }
   },
   "types_to_exclude": [
    "module",
    "function",
    "builtin_function_or_method",
    "instance",
    "_Feature"
   ],
   "window_display": false
  }
 },
 "nbformat": 4,
 "nbformat_minor": 5
}
