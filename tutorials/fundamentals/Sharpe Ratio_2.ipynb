{
 "cells": [
  {
   "cell_type": "markdown",
   "id": "25413c13",
   "metadata": {
    "toc": true
   },
   "source": [
    "<h1>Table of Contents<span class=\"tocSkip\"></span></h1>\n",
    "<div class=\"toc\"><ul class=\"toc-item\"><li><span><a href=\"#Introduction\" data-toc-modified-id=\"Introduction-1\"><span class=\"toc-item-num\">1&nbsp;&nbsp;</span>Introduction</a></span></li><li><span><a href=\"#Imports\" data-toc-modified-id=\"Imports-2\"><span class=\"toc-item-num\">2&nbsp;&nbsp;</span>Imports</a></span></li><li><span><a href=\"#Import-data\" data-toc-modified-id=\"Import-data-3\"><span class=\"toc-item-num\">3&nbsp;&nbsp;</span>Import data</a></span></li><li><span><a href=\"#Annualised-Sharpe-ratio\" data-toc-modified-id=\"Annualised-Sharpe-ratio-4\"><span class=\"toc-item-num\">4&nbsp;&nbsp;</span>Annualised Sharpe ratio</a></span></li><li><span><a href=\"#Equity-Sharpe-ratio\" data-toc-modified-id=\"Equity-Sharpe-ratio-5\"><span class=\"toc-item-num\">5&nbsp;&nbsp;</span>Equity Sharpe ratio</a></span></li><li><span><a href=\"#Maket-neutral-Sharpe-ratio\" data-toc-modified-id=\"Maket-neutral-Sharpe-ratio-6\"><span class=\"toc-item-num\">6&nbsp;&nbsp;</span>Maket neutral Sharpe ratio</a></span></li><li><span><a href=\"#References\" data-toc-modified-id=\"References-7\"><span class=\"toc-item-num\">7&nbsp;&nbsp;</span>References</a></span></li></ul></div>"
   ]
  },
  {
   "cell_type": "markdown",
   "id": "847648a3",
   "metadata": {},
   "source": [
    "# Introduction\n",
    "<hr style = \"border:2px solid black\" ></hr>"
   ]
  },
  {
   "cell_type": "markdown",
   "id": "2b9b9cb4",
   "metadata": {},
   "source": [
    "<div class=\"alert alert-warning\">\n",
    "<font color=black>\n",
    "\n",
    "**What?** Sharpe Ratio\n",
    "\n",
    "</font>\n",
    "</div>"
   ]
  },
  {
   "cell_type": "markdown",
   "id": "712c1ac2",
   "metadata": {},
   "source": [
    "# Imports\n",
    "<hr style = \"border:2px solid black\" ></hr>"
   ]
  },
  {
   "cell_type": "code",
   "execution_count": 8,
   "id": "9676a771",
   "metadata": {
    "ExecuteTime": {
     "end_time": "2022-09-19T11:43:54.871662Z",
     "start_time": "2022-09-19T11:43:54.869026Z"
    }
   },
   "outputs": [],
   "source": [
    "import datetime\n",
    "import numpy as np\n",
    "import pandas as pd\n",
    "import urllib\n",
    "import pandas_datareader as pdr\n",
    "import datetime as dt"
   ]
  },
  {
   "cell_type": "markdown",
   "id": "10e5656d",
   "metadata": {},
   "source": [
    "# Import data\n",
    "<hr style = \"border:2px solid black\" ></hr>"
   ]
  },
  {
   "cell_type": "markdown",
   "id": "d46fa4f2",
   "metadata": {
    "ExecuteTime": {
     "end_time": "2022-09-17T07:57:33.238605Z",
     "start_time": "2022-09-17T07:57:33.234205Z"
    }
   },
   "source": [
    "<div class=\"alert alert-info\">\n",
    "<font color=black>\n",
    "\n",
    "- Where our portfolio will consist of the tickers for Apple, Microsoft, Twitter and IBM (AAPL, MSFT, TWTR, IBM). We read the data from start 2020 from the Yahoo! Finance API using Pandas Datareader.\n",
    "\n",
    "- Finally, we only keep the Adjusted Close price.\n",
    "\n",
    "</font>\n",
    "</div>"
   ]
  },
  {
   "cell_type": "code",
   "execution_count": 9,
   "id": "f1b21899",
   "metadata": {
    "ExecuteTime": {
     "end_time": "2022-09-19T11:43:55.554924Z",
     "start_time": "2022-09-19T11:43:55.550744Z"
    }
   },
   "outputs": [],
   "source": [
    "def get_historic_data(ticker,\n",
    "                      start_date,\n",
    "                      end_date):\n",
    "    \"\"\"\n",
    "    Obtains data from Yahoo Finance and adds it to a pandas DataFrame object.\n",
    "\n",
    "    ticker: Yahoo Finance ticker symbol, e.g. \"GOOG\" for Google, Inc.\n",
    "    start_date: Start date in (YYYY, M, D) format\n",
    "    end_date: End date in (YYYY, M, D) format\n",
    "    \"\"\"\n",
    "\n",
    "\n",
    "\n",
    "    pdf = pdr.get_data_yahoo(\"AAPL\", start, end)\n",
    "\n",
    "    return pdf\n",
    "\n"
   ]
  },
  {
   "cell_type": "markdown",
   "id": "4885a000",
   "metadata": {},
   "source": [
    "# Annualised Sharpe ratio\n",
    "<hr style = \"border:2px solid black\" ></hr>"
   ]
  },
  {
   "cell_type": "code",
   "execution_count": 10,
   "id": "83ab3cb5",
   "metadata": {
    "ExecuteTime": {
     "end_time": "2022-09-19T11:43:56.266886Z",
     "start_time": "2022-09-19T11:43:56.263953Z"
    }
   },
   "outputs": [],
   "source": [
    "def annualised_sharpe(returns, N=252):\n",
    "    \"\"\"\n",
    "    Calculate the annualised Sharpe ratio of a returns stream \n",
    "    based on a number of trading periods, N. N defaults to 252,\n",
    "    which then assumes a stream of daily returns.\n",
    "\n",
    "    The function assumes that the returns are the excess of \n",
    "    those compared to a benchmark.\n",
    "    \"\"\"\n",
    "    return np.sqrt(N) * returns.mean() / returns.std()"
   ]
  },
  {
   "cell_type": "markdown",
   "id": "e9fe43c5",
   "metadata": {},
   "source": [
    "# Equity Sharpe ratio\n",
    "<hr style = \"border:2px solid black\" ></hr>"
   ]
  },
  {
   "cell_type": "code",
   "execution_count": 23,
   "id": "cfdbe2b5",
   "metadata": {
    "ExecuteTime": {
     "end_time": "2022-09-19T11:48:41.199701Z",
     "start_time": "2022-09-19T11:48:41.196246Z"
    }
   },
   "outputs": [],
   "source": [
    "def equity_sharpe(ticker, start, end):\n",
    "    \"\"\"\n",
    "    Calculates the annualised Sharpe ratio based on the daily\n",
    "    returns of an equity ticker symbol listed in Yahoo Finance.\n",
    "\n",
    "    The dates have been hardcoded here for the QuantStart article \n",
    "    on Sharpe ratios.\n",
    "    \"\"\"\n",
    "\n",
    "    # Obtain the equities daily historic data for the desired time period\n",
    "    # and add to a pandas DataFrame\n",
    "\n",
    "    pdf = get_historic_data(ticker, start, end)\n",
    "    # Use the percentage change method to easily calculate daily returns\n",
    "    pdf['daily_ret'] = pdf['Adj Close'].pct_change()\n",
    "\n",
    "    # Assume an average annual risk-free rate over the period of 5%\n",
    "    pdf['excess_daily_ret'] = pdf['daily_ret'] - 0.05/252\n",
    "\n",
    "    # Return the annualised Sharpe ratio based on the excess daily returns\n",
    "    return annualised_sharpe(pdf['excess_daily_ret'])"
   ]
  },
  {
   "cell_type": "code",
   "execution_count": 24,
   "id": "0b27d616",
   "metadata": {
    "ExecuteTime": {
     "end_time": "2022-09-19T11:48:42.830677Z",
     "start_time": "2022-09-19T11:48:42.035987Z"
    }
   },
   "outputs": [
    {
     "data": {
      "text/plain": [
       "0.6276583015882687"
      ]
     },
     "execution_count": 24,
     "metadata": {},
     "output_type": "execute_result"
    }
   ],
   "source": [
    "start = dt.datetime(2000, 1, 1)\n",
    "end = dt.datetime(2013, 1, 1)\n",
    "\n",
    "equity_sharpe('GOOG', start, end)"
   ]
  },
  {
   "cell_type": "markdown",
   "id": "8e75dbcc",
   "metadata": {},
   "source": [
    "# Maket neutral Sharpe ratio\n",
    "<hr style = \"border:2px solid black\" ></hr>"
   ]
  },
  {
   "cell_type": "markdown",
   "id": "ac8848db",
   "metadata": {},
   "source": [
    "<div class=\"alert alert-info\">\n",
    "<font color=black>\n",
    "\n",
    "- Now we can try the same calculation for a market-neutral strategy. The goal of this strategy is to fully isolate a particular equity’s performance from the market in general. \n",
    "\n",
    "- The simplest way to achieve this is to go short an equal amount (in dollars) of an Exchange Traded Fund (ETF) that is designed to track such a market. The most obvious choice for the US large-cap equities market is the S&P500 index, which is tracked by the SPDR ETF, with the ticker of SPY.\n",
    "\n",
    "- To calculate the annualised Sharpe ratio of such a strategy we will obtain the historical prices for SPY and calculate the percentage returns in a similar manner to the previous stocks, with the exception that we will not use the risk-free benchmark. We will calculate the net daily returns which requires subtracting the difference between the long and the short returns and then dividing by 2, as we now have twice as much trading capital.\n",
    "    \n",
    "</font>\n",
    "</div>"
   ]
  },
  {
   "cell_type": "code",
   "execution_count": 28,
   "id": "b5231bde",
   "metadata": {
    "ExecuteTime": {
     "end_time": "2022-09-19T11:49:19.490866Z",
     "start_time": "2022-09-19T11:49:19.486480Z"
    }
   },
   "outputs": [],
   "source": [
    "def market_neutral_sharpe(ticker, benchmark, start, end):\n",
    "    \"\"\"\n",
    "    Calculates the annualised Sharpe ratio of a market\n",
    "    neutral long/short strategy inolving the long of 'ticker'\n",
    "    with a corresponding short of the 'benchmark'.\n",
    "    \"\"\"\n",
    "\n",
    "    # Get historic data for both a symbol/ticker and a benchmark ticker\n",
    "    # The dates have been hardcoded, but you can modify them as you see fit!\n",
    "    \n",
    "    tick = get_historic_data(ticker, start, end)\n",
    "    bench = get_historic_data(benchmark, start, end)\n",
    "    \n",
    "    # Calculate the percentage returns on each of the time series\n",
    "    tick['daily_ret'] = tick['Adj Close'].pct_change()\n",
    "    bench['daily_ret'] = bench['Adj Close'].pct_change()\n",
    "\n",
    "    # Create a new DataFrame to store the strategy information\n",
    "    # The net returns are (long - short)/2, since there is twice\n",
    "    # trading capital for this strategy\n",
    "    strat = pd.DataFrame(index=tick.index)\n",
    "    strat['net_ret'] = (tick['daily_ret'] - bench['daily_ret'])/2.0\n",
    "\n",
    "    # Return the annualised Sharpe ratio for this strategy\n",
    "    return annualised_sharpe(strat['net_ret'])"
   ]
  },
  {
   "cell_type": "code",
   "execution_count": 30,
   "id": "7abc3d7b",
   "metadata": {
    "ExecuteTime": {
     "end_time": "2022-09-19T11:49:44.024865Z",
     "start_time": "2022-09-19T11:49:42.388231Z"
    }
   },
   "outputs": [
    {
     "data": {
      "text/plain": [
       "0.005943359423478166"
      ]
     },
     "execution_count": 30,
     "metadata": {},
     "output_type": "execute_result"
    }
   ],
   "source": [
    "market_neutral_sharpe('GOOG', \"SPY\", start, end)"
   ]
  },
  {
   "cell_type": "markdown",
   "id": "2992d076",
   "metadata": {},
   "source": [
    "# References\n",
    "<hr style = \"border:2px solid black\" ></hr>"
   ]
  },
  {
   "cell_type": "markdown",
   "id": "38fd4f22",
   "metadata": {},
   "source": [
    "<div class=\"alert alert-warning\">\n",
    "<font color=black>\n",
    "\n",
    "- https://www.quantstart.com/articles/Sharpe-Ratio-for-Algorithmic-Trading-Performance-Measurement/\n",
    "\n",
    "</font>\n",
    "</div>"
   ]
  },
  {
   "cell_type": "code",
   "execution_count": null,
   "id": "20e80d8b",
   "metadata": {},
   "outputs": [],
   "source": []
  }
 ],
 "metadata": {
  "kernelspec": {
   "display_name": "ML4T",
   "language": "python",
   "name": "ml4t"
  },
  "language_info": {
   "codemirror_mode": {
    "name": "ipython",
    "version": 3
   },
   "file_extension": ".py",
   "mimetype": "text/x-python",
   "name": "python",
   "nbconvert_exporter": "python",
   "pygments_lexer": "ipython3",
   "version": "3.10.4"
  },
  "toc": {
   "base_numbering": 1,
   "nav_menu": {},
   "number_sections": true,
   "sideBar": true,
   "skip_h1_title": false,
   "title_cell": "Table of Contents",
   "title_sidebar": "Contents",
   "toc_cell": true,
   "toc_position": {},
   "toc_section_display": true,
   "toc_window_display": true
  },
  "varInspector": {
   "cols": {
    "lenName": 16,
    "lenType": 16,
    "lenVar": 40
   },
   "kernels_config": {
    "python": {
     "delete_cmd_postfix": "",
     "delete_cmd_prefix": "del ",
     "library": "var_list.py",
     "varRefreshCmd": "print(var_dic_list())"
    },
    "r": {
     "delete_cmd_postfix": ") ",
     "delete_cmd_prefix": "rm(",
     "library": "var_list.r",
     "varRefreshCmd": "cat(var_dic_list()) "
    }
   },
   "types_to_exclude": [
    "module",
    "function",
    "builtin_function_or_method",
    "instance",
    "_Feature"
   ],
   "window_display": false
  }
 },
 "nbformat": 4,
 "nbformat_minor": 5
}
