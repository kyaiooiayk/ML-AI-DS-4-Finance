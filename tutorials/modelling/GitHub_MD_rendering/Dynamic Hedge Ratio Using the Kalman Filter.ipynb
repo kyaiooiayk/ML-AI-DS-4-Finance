{
 "cells": [
  {
   "cell_type": "markdown",
   "id": "0b24cf77",
   "metadata": {
    "toc": true
   },
   "source": [
    "<h1>Table of Contents<span class=\"tocSkip\"></span></h1>\n",
""   ]
  },
  {
   "cell_type": "markdown",
   "id": "325b79cb",
   "metadata": {},
   "source": [
    "# Introduction\n",
    "<hr style = \"border:2px solid black\" ></hr>"
   ]
  },
  {
   "cell_type": "markdown",
   "id": "483e20d0",
   "metadata": {},
   "source": [
    "\n",
    "**What?** Dynamic Hedge Ratio Using the Kalman Filter\n",
    "\n",
""   ]
  },
  {
   "cell_type": "markdown",
   "id": "b7704d2d",
   "metadata": {},
   "source": [
    "# Imports\n",
    "<hr style = \"border:2px solid black\" ></hr>"
   ]
  },
  {
   "cell_type": "code",
   "execution_count": 1,
   "id": "98c82628",
   "metadata": {
    "ExecuteTime": {
     "end_time": "2022-09-19T10:37:57.498121Z",
     "start_time": "2022-09-19T10:37:55.701056Z"
    }
   },
   "outputs": [],
   "source": [
    "import pandas as pd\n",
    "import statsmodels.tsa.stattools as ts\n",
    "import pandas_datareader as pdr\n",
    "import datetime as dt\n",
    "from numpy import cumsum, log, polyfit, sqrt, std, subtract\n",
    "from numpy.random import randn\n",
    "import matplotlib.pyplot as plt\n",
    "import matplotlib.dates as mdates\n",
    "import statsmodels.api as sm\n",
    "from matplotlib import rcParams\n",
    "\n",
    "rcParams['figure.figsize'] = 17, 8\n",
    "rcParams['font.size'] = 20"
   ]
  },
  {
   "cell_type": "markdown",
   "id": "30f4c8c8",
   "metadata": {},
   "source": [
    "# Cointegration\n",
    "<hr style = \"border:2px solid black\" ></hr>"
   ]
  },
  {
   "cell_type": "markdown",
   "id": "10a532cd",
   "metadata": {},
   "source": [
    " \n",
    "- It is difficult to find mean-reverting asset as equities broadly behave like GBMs and hence render the mean-reverting trade strategies relatively useless. \n",
    "- However, we can still create a portfolio of price series that is stationary so we can apply a mean-reverting trading strategies.\n",
    "- The **pairs trade** does exactly this. Two companies in the same sector are likely to be exposed to similar market factors, which affect their businesses. Occasionally their relative stock prices will diverge due to certain events, but will revert to the long-running mean.\n",
    "\n",
""   ]
  },
  {
   "cell_type": "markdown",
   "id": "48e63861",
   "metadata": {},
   "source": [
    "# Dynamic Hedge Ratio \n",
    "<hr style = \"border:2px solid black\" ></hr>"
   ]
  },
  {
   "cell_type": "markdown",
   "id": "f6825b7c",
   "metadata": {},
   "source": [
    " \n",
    "- A common quant trading technique involves taking two assets that form a cointegrating relationship and utilising a mean-reverting approach to construct a trading strategy. This can be carried out by performing a linear regression between the two assets.\n",
    "\n",
    "- Any parameters introduced via this structural relationship such as the hedging ratio between the two assets are likely to be time-varying, thus we need to find a way for adjusting the hedging ratio over time.\n",
    "\n",
    "- One approach to this problem is to utilise a rolling linear regression with a lookback window for which the lookback window length must be found often via cross-validation.\n",
    "\n",
    "- A more sophisticated approach is to utilise a state space model that treats the \"true\" hedge ratio as an unobserved hidden variable and attempts to estimate it with \"noisy\" observations. In our case this means the pricing data of each asset. The **Kalman filter** performs exactly this task. \n",
    "\n",
""   ]
  },
  {
   "cell_type": "markdown",
   "id": "a09b7ac1",
   "metadata": {},
   "source": [
    "# Imports\n",
    "<hr style = \"border:2px solid black\" ></hr>"
   ]
  },
  {
   "cell_type": "code",
   "execution_count": 2,
   "id": "dea69580",
   "metadata": {
    "ExecuteTime": {
     "end_time": "2022-09-19T10:37:57.506055Z",
     "start_time": "2022-09-19T10:37:57.500594Z"
    }
   },
   "outputs": [],
   "source": [
    "import matplotlib.pyplot as plt \n",
    "import numpy as np\n",
    "import pandas as pd\n",
    "import pandas_datareader as pdr \n",
    "from pykalman import KalmanFilter"
   ]
  },
  {
   "cell_type": "markdown",
   "id": "4bdfe88b",
   "metadata": {},
   "source": [
    "# Get the data\n",
    "<hr style = \"border:2px solid black\" ></hr>"
   ]
  },
  {
   "cell_type": "markdown",
   "id": "668a5d22",
   "metadata": {},
   "source": [
    " \n",
    "- We are going to consider two fixed income ETFs, namely the iShares 20+ Year Treasury Bond ETF (TLT) and the iShares 3-7 Year Treasury Bond ETF (IEI). \n",
    "- Both ETFs track the performance of varying duration US Treasury bonds and as such are both exposed to similar market factors.\n",
    "\n",
""   ]
  },
  {
   "cell_type": "code",
   "execution_count": 3,
   "id": "b83c9c6e",
   "metadata": {
    "ExecuteTime": {
     "end_time": "2022-09-19T10:37:57.512554Z",
     "start_time": "2022-09-19T10:37:57.509802Z"
    }
   },
   "outputs": [],
   "source": [
    "# Choose the ETF symbols to work with along with \n",
    "# start and end dates for the price histories \n",
    "etfs = [\"TLT\", \"IEI\"]\n",
    "start_date = \"2010-8-01\"\n",
    "end_date = \"2016-08-01\""
   ]
  },
  {
   "cell_type": "code",
   "execution_count": 4,
   "id": "9395faed",
   "metadata": {
    "ExecuteTime": {
     "end_time": "2022-09-19T10:37:59.101123Z",
     "start_time": "2022-09-19T10:37:57.514726Z"
    }
   },
   "outputs": [],
   "source": [
    "# Obtain the adjusted closing prices from Yahoo finance\n",
    "etf_df1 = pdr.get_data_yahoo(etfs[0], start_date, end_date) \n",
    "etf_df2 = pdr.get_data_yahoo(etfs[1], start_date, end_date)"
   ]
  },
  {
   "cell_type": "code",
   "execution_count": 5,
   "id": "38c090d4",
   "metadata": {
    "ExecuteTime": {
     "end_time": "2022-09-19T10:37:59.109405Z",
     "start_time": "2022-09-19T10:37:59.103294Z"
    }
   },
   "outputs": [],
   "source": [
    "prices = pd.DataFrame(index=etf_df1.index)\n",
    "prices[etfs[0]] = etf_df1[\"Adj Close\"]\n",
    "prices[etfs[1]] = etf_df2[\"Adj Close\"]"
   ]
  },
  {
   "cell_type": "code",
   "execution_count": 9,
   "id": "f094ca08",
   "metadata": {
    "ExecuteTime": {
     "end_time": "2022-09-19T10:38:14.701243Z",
     "start_time": "2022-09-19T10:38:14.688055Z"
    }
   },
   "outputs": [
    {
     "data": {
      "text/html": [
       "<style scoped>\n",
       "    .dataframe tbody tr th:only-of-type {\n",
       "        vertical-align: middle;\n",
       "    }\n",
       "\n",
       "    .dataframe tbody tr th {\n",
       "        vertical-align: top;\n",
       "    }\n",
       "\n",
       "    .dataframe thead th {\n",
       "        text-align: right;\n",
       "    }\n",
       "</style>\n",
       "<table border=\"1\" class=\"dataframe\">\n",
       "  <thead>\n",
       "    <tr style=\"text-align: right;\">\n",
       "      <th></th>\n",
       "      <th>TLT</th>\n",
       "      <th>IEI</th>\n",
       "    </tr>\n",
       "    <tr>\n",
       "      <th>Date</th>\n",
       "      <th></th>\n",
       "      <th></th>\n",
       "    </tr>\n",
       "  </thead>\n",
       "  <tbody>\n",
       "    <tr>\n",
       "      <th>2010-08-02</th>\n",
       "      <td>72.597519</td>\n",
       "      <td>98.718422</td>\n",
       "    </tr>\n",
       "    <tr>\n",
       "      <th>2010-08-03</th>\n",
       "      <td>73.016525</td>\n",
       "      <td>99.144135</td>\n",
       "    </tr>\n",
       "    <tr>\n",
       "      <th>2010-08-04</th>\n",
       "      <td>72.457840</td>\n",
       "      <td>98.820641</td>\n",
       "    </tr>\n",
       "    <tr>\n",
       "      <th>2010-08-05</th>\n",
       "      <td>72.795990</td>\n",
       "      <td>99.084572</td>\n",
       "    </tr>\n",
       "    <tr>\n",
       "      <th>2010-08-06</th>\n",
       "      <td>73.589989</td>\n",
       "      <td>99.391045</td>\n",
       "    </tr>\n",
       "    <tr>\n",
       "      <th>...</th>\n",
       "      <td>...</td>\n",
       "      <td>...</td>\n",
       "    </tr>\n",
       "    <tr>\n",
       "      <th>2016-07-26</th>\n",
       "      <td>121.896927</td>\n",
       "      <td>116.036224</td>\n",
       "    </tr>\n",
       "    <tr>\n",
       "      <th>2016-07-27</th>\n",
       "      <td>123.414886</td>\n",
       "      <td>116.320435</td>\n",
       "    </tr>\n",
       "    <tr>\n",
       "      <th>2016-07-28</th>\n",
       "      <td>123.186821</td>\n",
       "      <td>116.393776</td>\n",
       "    </tr>\n",
       "    <tr>\n",
       "      <th>2016-07-29</th>\n",
       "      <td>124.213463</td>\n",
       "      <td>116.687126</td>\n",
       "    </tr>\n",
       "    <tr>\n",
       "      <th>2016-08-01</th>\n",
       "      <td>122.866669</td>\n",
       "      <td>116.508125</td>\n",
       "    </tr>\n",
       "  </tbody>\n",
       "</table>\n",
       "<p>1511 rows × 2 columns</p>\n",
""      ],
      "text/plain": [
       "                   TLT         IEI\n",
       "Date                              \n",
       "2010-08-02   72.597519   98.718422\n",
       "2010-08-03   73.016525   99.144135\n",
       "2010-08-04   72.457840   98.820641\n",
       "2010-08-05   72.795990   99.084572\n",
       "2010-08-06   73.589989   99.391045\n",
       "...                ...         ...\n",
       "2016-07-26  121.896927  116.036224\n",
       "2016-07-27  123.414886  116.320435\n",
       "2016-07-28  123.186821  116.393776\n",
       "2016-07-29  124.213463  116.687126\n",
       "2016-08-01  122.866669  116.508125\n",
       "\n",
       "[1511 rows x 2 columns]"
      ]
     },
     "execution_count": 9,
     "metadata": {},
     "output_type": "execute_result"
    }
   ],
   "source": [
    "prices"
   ]
  },
  {
   "cell_type": "markdown",
   "id": "453accf4",
   "metadata": {},
   "source": [
    "# EDA\n",
    "<hr style = \"border:2px solid black\" ></hr>"
   ]
  },
  {
   "cell_type": "code",
   "execution_count": 6,
   "id": "41b2991a",
   "metadata": {
    "ExecuteTime": {
     "end_time": "2022-09-19T10:37:59.398825Z",
     "start_time": "2022-09-19T10:37:59.111876Z"
    }
   },
   "outputs": [
    {
     "name": "stderr",
     "output_type": "stream",
     "text": [
      "/var/folders/5x/lyqr8wv507n43bnwpsz4dq_c0000gn/T/ipykernel_45171/3649621298.py:20: UserWarning: FixedFormatter should only be used together with FixedLocator\n",
      "  colourbar.ax.set_yticklabels(\n"
     ]
    },
    {
     "data": {
      "image/png": "[encoded data removed]",
      "text/plain": [
       "<Figure size 432x288 with 2 Axes>"
      ]
     },
     "metadata": {
      "needs_background": "light"
     },
     "output_type": "display_data"
    }
   ],
   "source": [
    "\"\"\"\n",
    "Create a scatterplot of the two ETF prices, which is\n",
    "coloured by the date of the price to indicate the\n",
    "changing relationship between the sets of prices\n",
    "\"\"\"\n",
    "\n",
    "# Create a yellow-to-red colourmap where yellow indicates\n",
    "# early dates and red indicates later dates\n",
    "plen = len(prices)\n",
    "colour_map = plt.cm.get_cmap(\"YlOrRd\")\n",
    "colours = np.linspace(0.1, 1, plen)\n",
    "# Create the scatterplot object\n",
    "scatterplot = plt.scatter(\n",
    "    prices[etfs[0]], prices[etfs[1]],\n",
    "    s=30, c=colours, cmap=colour_map,\n",
    "    edgecolor=\"k\", alpha=0.8\n",
    ")\n",
    "# Add a colour bar for the date colouring and set the\n",
    "# corresponding axis tick labels to equal string-formatted dates\n",
    "colourbar = plt.colorbar(scatterplot)\n",
    "colourbar.ax.set_yticklabels(\n",
    "    [str(p.date()) for p in prices[::plen//9].index])\n",
    "plt.xlabel(prices.columns[0])\n",
    "plt.ylabel(prices.columns[1])\n",
    "plt.show()"
   ]
  },
  {
   "cell_type": "markdown",
   "id": "cad5676c",
   "metadata": {},
   "source": [
    "# Kalman filter\n",
    "<hr style = \"border:2px solid black\" ></hr>"
   ]
  },
  {
   "cell_type": "code",
   "execution_count": 7,
   "id": "c57baea2",
   "metadata": {
    "ExecuteTime": {
     "end_time": "2022-09-19T10:37:59.836853Z",
     "start_time": "2022-09-19T10:37:59.401041Z"
    }
   },
   "outputs": [],
   "source": [
    "\"\"\"\n",
    "Utilise the Kalman Filter from the PyKalman package\n",
    "to calculate the slope and intercept of the regressed\n",
    "ETF prices.\n",
    "\"\"\"\n",
    "\n",
    "delta = 1e-5\n",
    "trans_cov = delta / (1 - delta) * np.eye(2)\n",
    "obs_mat = np.vstack(\n",
    "    [prices[etfs[0]], np.ones(prices[etfs[0]].shape)]).T[:, np.newaxis]\n",
    "kf = KalmanFilter(\n",
    "    n_dim_obs=1,\n",
    "    n_dim_state=2,\n",
    "    initial_state_mean=np.zeros(2),\n",
    "    initial_state_covariance=np.ones((2, 2)),\n",
    "    transition_matrices=np.eye(2),\n",
    "    observation_matrices=obs_mat,\n",
    "    observation_covariance=1.0,\n",
    "    transition_covariance=trans_cov\n",
    ")\n",
    "state_means, state_covs = kf.filter(prices[etfs[1]].values)"
   ]
  },
  {
   "cell_type": "markdown",
   "id": "537b0bf9",
   "metadata": {},
   "source": [
    "# Post-processing\n",
    "<hr style = \"border:2px solid black\" ></hr>"
   ]
  },
  {
   "cell_type": "code",
   "execution_count": 8,
   "id": "47815795",
   "metadata": {
    "ExecuteTime": {
     "end_time": "2022-09-19T10:38:00.218331Z",
     "start_time": "2022-09-19T10:37:59.839530Z"
    }
   },
   "outputs": [
    {
     "data": {
      "image/png": "[encoded data removed]",
      "text/plain": [
       "<Figure size 432x288 with 2 Axes>"
      ]
     },
     "metadata": {
      "needs_background": "light"
     },
     "output_type": "display_data"
    }
   ],
   "source": [
    "# Plot the slope and intercept changes from the Kalman Filter calculated values.\n",
    "\n",
    "pd.DataFrame(\n",
    "    dict(\n",
    "        slope=state_means[:, 0], intercept=state_means[:, 1]\n",
    "    ), index=prices.index\n",
    ").plot(subplots=True)\n",
    "plt.show()\n"
   ]
  },
  {
   "cell_type": "markdown",
   "id": "03706119",
   "metadata": {},
   "source": [
    "# Conclusions\n",
    "<hr style = \"border:2px solid black\" ></hr>"
   ]
  },
  {
   "cell_type": "markdown",
   "id": "1ccca678",
   "metadata": {},
   "source": [
    "\n",
    "- We have mentioned how using a rolling mean would have required to perform a cross-validated procedure to find the window.\n",
    "- **Be aware that**, if this was to be put into production as a live trading strategy it would be necessary to\n",
    "optimise the delta parameter across baskets of pairs of ETFs utilising cross-validation.\n",
    "\n",
""   ]
  },
  {
   "cell_type": "markdown",
   "id": "cbd63d15",
   "metadata": {},
   "source": [
    "# References\n",
    "<hr style = \"border:2px solid black\" ></hr>"
   ]
  },
  {
   "cell_type": "markdown",
   "id": "ce0d1f83",
   "metadata": {},
   "source": [
    "\n",
    "- https://www.quantstart.com/articles/Basics-of-Statistical-Mean-Reversion-Testing/\n",
    "- https://www.quantstart.com/articles/Basics-of-Statistical-Mean-Reversion-Testing-Part-II/\n",
    "- https://www.quantstart.com/advanced-algorithmic-trading-ebook/ \n",
    "\n",
""   ]
  },
  {
   "cell_type": "code",
   "execution_count": null,
   "id": "8e3ff1af",
   "metadata": {},
   "outputs": [],
   "source": []
  }
 ],
 "metadata": {
  "kernelspec": {
   "display_name": "ML4T",
   "language": "python",
   "name": "ml4t"
  },
  "language_info": {
   "codemirror_mode": {
    "name": "ipython",
    "version": 3
   },
   "file_extension": ".py",
   "mimetype": "text/x-python",
   "name": "python",
   "nbconvert_exporter": "python",
   "pygments_lexer": "ipython3",
   "version": "3.10.4"
  },
  "toc": {
   "base_numbering": 1,
   "nav_menu": {},
   "number_sections": true,
   "sideBar": true,
   "skip_h1_title": false,
   "title_cell": "Table of Contents",
   "title_sidebar": "Contents",
   "toc_cell": true,
   "toc_position": {
    "height": "calc(100% - 180px)",
    "left": "10px",
    "top": "150px",
    "width": "165px"
   },
   "toc_section_display": true,
   "toc_window_display": true
  },
  "varInspector": {
   "cols": {
    "lenName": 16,
    "lenType": 16,
    "lenVar": 40
   },
   "kernels_config": {
    "python": {
     "delete_cmd_postfix": "",
     "delete_cmd_prefix": "del ",
     "library": "var_list.py",
     "varRefreshCmd": "print(var_dic_list())"
    },
    "r": {
     "delete_cmd_postfix": ") ",
     "delete_cmd_prefix": "rm(",
     "library": "var_list.r",
     "varRefreshCmd": "cat(var_dic_list()) "
    }
   },
   "types_to_exclude": [
    "module",
    "function",
    "builtin_function_or_method",
    "instance",
    "_Feature"
   ],
   "window_display": false
  }
 },
 "nbformat": 4,
 "nbformat_minor": 5
}
