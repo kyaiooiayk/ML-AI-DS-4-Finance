{
 "cells": [
  {
   "cell_type": "markdown",
   "id": "774a2873",
   "metadata": {
    "toc": true
   },
   "source": [
    "<h1>Table of Contents<span class=\"tocSkip\"></span></h1>\n",
""   ]
  },
  {
   "cell_type": "markdown",
   "id": "fe23b394",
   "metadata": {},
   "source": [
    "# Introduction\n",
    "<hr style = \"border:2px solid black\" ></hr>"
   ]
  },
  {
   "cell_type": "markdown",
   "id": "ee062530",
   "metadata": {},
   "source": [
    "\n",
    "**What?** Capital Asset Pricing Model (CAPM)\n",
    "\n",
""   ]
  },
  {
   "cell_type": "markdown",
   "id": "03921c8f",
   "metadata": {},
   "source": [
    "# What is CAPM?\n",
    "<hr style = \"border:2px solid black\" ></hr>"
   ]
  },
  {
   "cell_type": "markdown",
   "id": "cd801df2",
   "metadata": {},
   "source": [
    "\n",
    "- Relationship between systematic risk and expected return\n",
    "- There are several assumptions behind the CAPM formula that have been shown not to hold in reality.\n",
    "- CAPM formula is still widely used:\n",
    "\n",
    " $ER_i = R_f + \\beta_i(ER_m - R_f)$\n",
    "\n",
    "\n",
    "* $ER_i$: Expected return from investment\n",
    "* $R_f$: Risk free return\n",
    "* $\\beta_i$: The beta of the investment\n",
    "* $(ER_m - R_f)$: Market risk premium   \n",
""    "\n",
    "    "
   ]
  },
  {
   "cell_type": "markdown",
   "id": "3ac9b3b9",
   "metadata": {},
   "source": [
    "# Imports\n",
    "<hr style = \"border:2px solid black\" ></hr>"
   ]
  },
  {
   "cell_type": "code",
   "execution_count": 1,
   "id": "64e18223",
   "metadata": {
    "ExecuteTime": {
     "end_time": "2022-09-03T12:30:09.607043Z",
     "start_time": "2022-09-03T12:30:08.831562Z"
    }
   },
   "outputs": [],
   "source": [
    "import numpy as np\n",
    "import pandas_datareader as pdr\n",
    "import datetime as dt\n",
    "import pandas as pd"
   ]
  },
  {
   "cell_type": "markdown",
   "id": "d44bb2c5",
   "metadata": {},
   "source": [
    "# Load data\n",
    "<hr style = \"border:2px solid black\" ></hr>"
   ]
  },
  {
   "cell_type": "code",
   "execution_count": 2,
   "id": "4cf080c1",
   "metadata": {
    "ExecuteTime": {
     "end_time": "2022-09-03T12:30:12.911041Z",
     "start_time": "2022-09-03T12:30:09.609349Z"
    }
   },
   "outputs": [],
   "source": [
    "tickers = ['AAPL', 'MSFT', 'TWTR', 'IBM', '^GSPC']\n",
    "start = dt.datetime(2015, 12, 1)\n",
    "end = dt.datetime(2021, 1, 1)\n",
    "\n",
    "data = pdr.get_data_yahoo(tickers, start, end, interval=\"m\")"
   ]
  },
  {
   "cell_type": "code",
   "execution_count": 3,
   "id": "2ebe3df2",
   "metadata": {
    "ExecuteTime": {
     "end_time": "2022-09-03T12:30:12.919274Z",
     "start_time": "2022-09-03T12:30:12.914208Z"
    }
   },
   "outputs": [],
   "source": [
    "data = data['Adj Close']"
   ]
  },
  {
   "cell_type": "code",
   "execution_count": 4,
   "id": "21ff9507",
   "metadata": {
    "ExecuteTime": {
     "end_time": "2022-09-03T12:30:12.925309Z",
     "start_time": "2022-09-03T12:30:12.921398Z"
    }
   },
   "outputs": [],
   "source": [
    "log_returns = np.log(data/data.shift())"
   ]
  },
  {
   "cell_type": "code",
   "execution_count": 5,
   "id": "81a2d3f2",
   "metadata": {
    "ExecuteTime": {
     "end_time": "2022-09-03T12:30:12.930951Z",
     "start_time": "2022-09-03T12:30:12.927511Z"
    }
   },
   "outputs": [],
   "source": [
    "cov = log_returns.cov()\n",
    "var = log_returns['^GSPC'].var()"
   ]
  },
  {
   "cell_type": "code",
   "execution_count": 6,
   "id": "2ae90541",
   "metadata": {
    "ExecuteTime": {
     "end_time": "2022-09-03T12:30:12.936009Z",
     "start_time": "2022-09-03T12:30:12.933380Z"
    }
   },
   "outputs": [],
   "source": [
    "beta = cov.loc['AAPL', '^GSPC']/var"
   ]
  },
  {
   "cell_type": "markdown",
   "id": "27e0d5e2",
   "metadata": {},
   "source": [
    "# CAPM\n",
    "<hr style = \"border:2px solid black\" ></hr>"
   ]
  },
  {
   "cell_type": "markdown",
   "id": "75083ffc",
   "metadata": {},
   "source": [
    "\n",
    "- The risk free return is often set to 0. Otherwise, the [10 years treasury note is used](https://www.treasury.gov/resource-center/data-chart-center/interest-rates/pages/textview.aspx?data=yield). Here, we use 1.38%. You can update it for more up to date value with the link.\n",
    "\n",
""   ]
  },
  {
   "cell_type": "code",
   "execution_count": 7,
   "id": "02463d92",
   "metadata": {
    "ExecuteTime": {
     "end_time": "2022-09-03T12:30:12.941118Z",
     "start_time": "2022-09-03T12:30:12.938030Z"
    }
   },
   "outputs": [],
   "source": [
    "risk_free_return = 0.0138\n",
    "market_return = .105\n",
    "expected_return = risk_free_return + beta*(market_return - risk_free_return)"
   ]
  },
  {
   "cell_type": "code",
   "execution_count": 8,
   "id": "2a4216f0",
   "metadata": {
    "ExecuteTime": {
     "end_time": "2022-09-03T12:30:12.953684Z",
     "start_time": "2022-09-03T12:30:12.943633Z"
    }
   },
   "outputs": [
    {
     "data": {
      "text/plain": [
       "0.128215657589675"
      ]
     },
     "execution_count": 8,
     "metadata": {},
     "output_type": "execute_result"
    }
   ],
   "source": [
    "expected_return"
   ]
  },
  {
   "cell_type": "code",
   "execution_count": 9,
   "id": "29c63c8b",
   "metadata": {
    "ExecuteTime": {
     "end_time": "2022-09-03T12:30:12.962655Z",
     "start_time": "2022-09-03T12:30:12.959058Z"
    }
   },
   "outputs": [
    {
     "data": {
      "text/plain": [
       "0.1317285531460074"
      ]
     },
     "execution_count": 9,
     "metadata": {},
     "output_type": "execute_result"
    }
   ],
   "source": [
    "beta*market_return"
   ]
  },
  {
   "cell_type": "code",
   "execution_count": 10,
   "id": "6c3febc5",
   "metadata": {
    "ExecuteTime": {
     "end_time": "2022-09-03T12:30:12.967297Z",
     "start_time": "2022-09-03T12:30:12.964633Z"
    }
   },
   "outputs": [],
   "source": [
    "beta = cov.loc['^GSPC']/var"
   ]
  },
  {
   "cell_type": "code",
   "execution_count": 11,
   "id": "924ecd38",
   "metadata": {
    "ExecuteTime": {
     "end_time": "2022-09-03T12:30:12.974644Z",
     "start_time": "2022-09-03T12:30:12.969564Z"
    }
   },
   "outputs": [
    {
     "data": {
      "text/plain": [
       "Symbols\n",
       "AAPL     1.254558\n",
       "MSFT     0.797270\n",
       "TWTR     0.933242\n",
       "IBM      1.249102\n",
       "^GSPC    1.000000\n",
       "Name: ^GSPC, dtype: float64"
      ]
     },
     "execution_count": 11,
     "metadata": {},
     "output_type": "execute_result"
    }
   ],
   "source": [
    "beta"
   ]
  },
  {
   "cell_type": "code",
   "execution_count": 12,
   "id": "1aebb5d8",
   "metadata": {
    "ExecuteTime": {
     "end_time": "2022-09-03T12:30:12.979234Z",
     "start_time": "2022-09-03T12:30:12.976560Z"
    }
   },
   "outputs": [],
   "source": [
    "market_return = risk_free_return + beta*(market_return - risk_free_return)"
   ]
  },
  {
   "cell_type": "code",
   "execution_count": 13,
   "id": "31dadaa0",
   "metadata": {
    "ExecuteTime": {
     "end_time": "2022-09-03T12:30:12.986045Z",
     "start_time": "2022-09-03T12:30:12.981790Z"
    }
   },
   "outputs": [
    {
     "data": {
      "text/plain": [
       "Symbols\n",
       "AAPL     0.128216\n",
       "MSFT     0.086511\n",
       "TWTR     0.098912\n",
       "IBM      0.127718\n",
       "^GSPC    0.105000\n",
       "Name: ^GSPC, dtype: float64"
      ]
     },
     "execution_count": 13,
     "metadata": {},
     "output_type": "execute_result"
    }
   ],
   "source": [
    "market_return"
   ]
  },
  {
   "cell_type": "markdown",
   "id": "d8dbf5ca",
   "metadata": {},
   "source": [
    "# References\n",
    "<hr style = \"border:2px solid black\" ></hr>"
   ]
  },
  {
   "cell_type": "markdown",
   "id": "a891b0be",
   "metadata": {
    "ExecuteTime": {
     "end_time": "2022-09-03T12:30:12.992456Z",
     "start_time": "2022-09-03T12:30:12.988531Z"
    }
   },
   "source": [
    "\n",
    "- https://github.com/LearnPythonWithRune/PythonForFinanceRiskAndReturn/blob/main/08%20-%20CAPM.ipynb\n",
    "- [Market risk premium](https://www.investopedia.com/terms/m/marketriskpremium.asp)\n",
    "    \n",
""   ]
  },
  {
   "cell_type": "code",
   "execution_count": null,
   "id": "dc5d880b",
   "metadata": {},
   "outputs": [],
   "source": []
  }
 ],
 "metadata": {
  "kernelspec": {
   "display_name": "Python 3 (ipykernel)",
   "language": "python",
   "name": "python3"
  },
  "language_info": {
   "codemirror_mode": {
    "name": "ipython",
    "version": 3
   },
   "file_extension": ".py",
   "mimetype": "text/x-python",
   "name": "python",
   "nbconvert_exporter": "python",
   "pygments_lexer": "ipython3",
   "version": "3.9.7"
  },
  "toc": {
   "base_numbering": 1,
   "nav_menu": {},
   "number_sections": true,
   "sideBar": true,
   "skip_h1_title": false,
   "title_cell": "Table of Contents",
   "title_sidebar": "Contents",
   "toc_cell": true,
   "toc_position": {},
   "toc_section_display": true,
   "toc_window_display": true
  },
  "varInspector": {
   "cols": {
    "lenName": 16,
    "lenType": 16,
    "lenVar": 40
   },
   "kernels_config": {
    "python": {
     "delete_cmd_postfix": "",
     "delete_cmd_prefix": "del ",
     "library": "var_list.py",
     "varRefreshCmd": "print(var_dic_list())"
    },
    "r": {
     "delete_cmd_postfix": ") ",
     "delete_cmd_prefix": "rm(",
     "library": "var_list.r",
     "varRefreshCmd": "cat(var_dic_list()) "
    }
   },
   "types_to_exclude": [
    "module",
    "function",
    "builtin_function_or_method",
    "instance",
    "_Feature"
   ],
   "window_display": false
  }
 },
 "nbformat": 4,
 "nbformat_minor": 5
}
